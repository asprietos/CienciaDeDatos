{
 "cells": [
  {
   "cell_type": "markdown",
   "id": "cdb65dbd",
   "metadata": {},
   "source": [
    "# Proyecto precios casas (continuación)\n",
    "## Segunda parte"
   ]
  },
  {
   "cell_type": "code",
   "execution_count": 66,
   "id": "141121c8",
   "metadata": {
    "ExecuteTime": {
     "end_time": "2022-04-30T17:23:47.210034Z",
     "start_time": "2022-04-30T17:23:47.184025Z"
    }
   },
   "outputs": [],
   "source": [
    "import pandas as pd\n",
    "import seaborn as sns\n",
    "from plotly import express as px\n",
    "from matplotlib import pyplot as plt\n",
    "from matplotlib import gridspec \n",
    "from pandas_profiling import ProfileReport\n",
    "# import geocoder\n",
    "import time\n",
    "\n",
    "pd.set_option('display.float_format', lambda x: '%.2f' % x )"
   ]
  },
  {
   "cell_type": "code",
   "execution_count": 2,
   "id": "deca6a07",
   "metadata": {
    "ExecuteTime": {
     "end_time": "2022-04-30T16:37:26.119806Z",
     "start_time": "2022-04-30T16:37:24.131375Z"
    }
   },
   "outputs": [
    {
     "ename": "NameError",
     "evalue": "name 'Extract' is not defined",
     "output_type": "error",
     "traceback": [
      "\u001b[1;31m---------------------------------------------------------------------------\u001b[0m",
      "\u001b[1;31mNameError\u001b[0m                                 Traceback (most recent call last)",
      "\u001b[1;32m~\\AppData\\Local\\Temp/ipykernel_18256/1237273659.py\u001b[0m in \u001b[0;36m<module>\u001b[1;34m\u001b[0m\n\u001b[0;32m      1\u001b[0m \u001b[1;31m## ETL\u001b[0m\u001b[1;33m\u001b[0m\u001b[1;33m\u001b[0m\u001b[0m\n\u001b[1;32m----> 2\u001b[1;33m \u001b[0mExtract\u001b[0m\u001b[1;33m\u001b[0m\u001b[1;33m\u001b[0m\u001b[0m\n\u001b[0m\u001b[0;32m      3\u001b[0m \u001b[0mTransform\u001b[0m\u001b[1;33m\u001b[0m\u001b[1;33m\u001b[0m\u001b[0m\n\u001b[0;32m      4\u001b[0m \u001b[0mLoad\u001b[0m\u001b[1;33m\u001b[0m\u001b[1;33m\u001b[0m\u001b[0m\n",
      "\u001b[1;31mNameError\u001b[0m: name 'Extract' is not defined"
     ]
    }
   ],
   "source": [
    "## ETL \n",
    "Extract\n",
    "Transform\n",
    "Load"
   ]
  },
  {
   "cell_type": "markdown",
   "id": "e88ec5fb",
   "metadata": {
    "ExecuteTime": {
     "end_time": "2022-04-30T13:58:45.647120Z",
     "start_time": "2022-04-30T13:58:45.629115Z"
    }
   },
   "source": [
    "### Extraction"
   ]
  },
  {
   "cell_type": "code",
   "execution_count": 67,
   "id": "107e9008",
   "metadata": {
    "ExecuteTime": {
     "end_time": "2022-04-30T17:23:50.626109Z",
     "start_time": "2022-04-30T17:23:50.446111Z"
    }
   },
   "outputs": [],
   "source": [
    "data = pd.read_csv('../data/kc_house_data.csv')"
   ]
  },
  {
   "cell_type": "code",
   "execution_count": 68,
   "id": "7b27471e",
   "metadata": {
    "ExecuteTime": {
     "end_time": "2022-04-30T17:23:52.826317Z",
     "start_time": "2022-04-30T17:23:52.817303Z"
    }
   },
   "outputs": [
    {
     "name": "stdout",
     "output_type": "stream",
     "text": [
      "La base de datos tiene 21613 filas y 21 columnas\n"
     ]
    }
   ],
   "source": [
    "print('La base de datos tiene {} filas y {} columnas'.format(data.shape[0],data.shape[1]))"
   ]
  },
  {
   "cell_type": "markdown",
   "id": "cef2c378",
   "metadata": {
    "ExecuteTime": {
     "end_time": "2022-04-30T13:59:05.953889Z",
     "start_time": "2022-04-30T13:59:05.946889Z"
    }
   },
   "source": [
    "### Transformation"
   ]
  },
  {
   "cell_type": "code",
   "execution_count": 69,
   "id": "e49445aa",
   "metadata": {
    "ExecuteTime": {
     "end_time": "2022-04-30T17:23:53.325306Z",
     "start_time": "2022-04-30T17:23:53.284306Z"
    }
   },
   "outputs": [
    {
     "data": {
      "text/plain": [
       "id                 int64\n",
       "date              object\n",
       "price            float64\n",
       "bedrooms           int64\n",
       "bathrooms        float64\n",
       "sqft_living        int64\n",
       "sqft_lot           int64\n",
       "floors           float64\n",
       "waterfront         int64\n",
       "view               int64\n",
       "condition          int64\n",
       "grade              int64\n",
       "sqft_above         int64\n",
       "sqft_basement      int64\n",
       "yr_built           int64\n",
       "yr_renovated       int64\n",
       "zipcode            int64\n",
       "lat              float64\n",
       "long             float64\n",
       "sqft_living15      int64\n",
       "sqft_lot15         int64\n",
       "dtype: object"
      ]
     },
     "execution_count": 69,
     "metadata": {},
     "output_type": "execute_result"
    }
   ],
   "source": [
    "data.dtypes"
   ]
  },
  {
   "cell_type": "code",
   "execution_count": 70,
   "id": "afe7dfa6",
   "metadata": {
    "ExecuteTime": {
     "end_time": "2022-04-30T17:23:54.254019Z",
     "start_time": "2022-04-30T17:23:53.698408Z"
    }
   },
   "outputs": [],
   "source": [
    "data['date'] = pd.to_datetime(data['date'], format = '%Y-%m-%d').dt.date\n",
    "data['yr_built']= pd.to_datetime(data['yr_built'], format = '%Y').dt.year\n",
    "data['yr_renovated'] = data['yr_renovated'].apply(lambda x: pd.to_datetime(x, format ='%Y') if x >0 else x )"
   ]
  },
  {
   "cell_type": "code",
   "execution_count": 71,
   "id": "4c142ccb",
   "metadata": {
    "ExecuteTime": {
     "end_time": "2022-04-30T17:23:54.688143Z",
     "start_time": "2022-04-30T17:23:54.569161Z"
    }
   },
   "outputs": [],
   "source": [
    "data['id'] = data['id'].astype(str)\n",
    "data['zipcode'] = data['zipcode'].astype(str)"
   ]
  },
  {
   "cell_type": "code",
   "execution_count": 72,
   "id": "8872819a",
   "metadata": {
    "ExecuteTime": {
     "end_time": "2022-04-30T17:23:55.059678Z",
     "start_time": "2022-04-30T17:23:55.033673Z"
    }
   },
   "outputs": [
    {
     "data": {
      "text/plain": [
       "id                object\n",
       "date              object\n",
       "price            float64\n",
       "bedrooms           int64\n",
       "bathrooms        float64\n",
       "sqft_living        int64\n",
       "sqft_lot           int64\n",
       "floors           float64\n",
       "waterfront         int64\n",
       "view               int64\n",
       "condition          int64\n",
       "grade              int64\n",
       "sqft_above         int64\n",
       "sqft_basement      int64\n",
       "yr_built           int64\n",
       "yr_renovated      object\n",
       "zipcode           object\n",
       "lat              float64\n",
       "long             float64\n",
       "sqft_living15      int64\n",
       "sqft_lot15         int64\n",
       "dtype: object"
      ]
     },
     "execution_count": 72,
     "metadata": {},
     "output_type": "execute_result"
    }
   ],
   "source": [
    "data.dtypes"
   ]
  },
  {
   "cell_type": "markdown",
   "id": "0d427689",
   "metadata": {
    "ExecuteTime": {
     "end_time": "2022-04-30T14:23:21.217969Z",
     "start_time": "2022-04-30T14:23:21.212971Z"
    }
   },
   "source": [
    "### Creando nuevas columnas"
   ]
  },
  {
   "cell_type": "markdown",
   "id": "cff2ac64",
   "metadata": {},
   "source": [
    "#### House_age"
   ]
  },
  {
   "cell_type": "code",
   "execution_count": 73,
   "id": "dbeadf4e",
   "metadata": {
    "ExecuteTime": {
     "end_time": "2022-04-30T17:23:55.420668Z",
     "start_time": "2022-04-30T17:23:55.379673Z"
    }
   },
   "outputs": [],
   "source": [
    "data.loc[data['yr_built']>=1990,'house_age'] = 'new_house' \n",
    "data.loc[data['yr_built']<1990,'house_age'] = 'old_house'"
   ]
  },
  {
   "cell_type": "markdown",
   "id": "88e0ad7f",
   "metadata": {},
   "source": [
    "#### Dormitory_type"
   ]
  },
  {
   "cell_type": "code",
   "execution_count": 74,
   "id": "4c3e47e3",
   "metadata": {
    "ExecuteTime": {
     "end_time": "2022-04-30T17:23:55.745194Z",
     "start_time": "2022-04-30T17:23:55.703192Z"
    }
   },
   "outputs": [],
   "source": [
    "data.loc[data['bedrooms']<=1, 'dormitory_type'] = 'studio'\n",
    "data.loc[data['bedrooms']==2, 'dormitory_type'] = 'apartment'\n",
    "data.loc[data['bedrooms']>2, 'dormitory_type'] = 'house'"
   ]
  },
  {
   "cell_type": "markdown",
   "id": "e1039f8a",
   "metadata": {},
   "source": [
    "#### Condition_type"
   ]
  },
  {
   "cell_type": "code",
   "execution_count": 75,
   "id": "41fdfb28",
   "metadata": {
    "ExecuteTime": {
     "end_time": "2022-04-30T17:23:56.276899Z",
     "start_time": "2022-04-30T17:23:56.224901Z"
    }
   },
   "outputs": [],
   "source": [
    "data.loc[data['condition']<=2, 'condition_type'] = 'bad'\n",
    "data.loc[data['condition'].isin([3,4]), 'condition_type'] = 'regular'\n",
    "data.loc[data['condition']== 5, 'condition_type'] = 'good'"
   ]
  },
  {
   "cell_type": "markdown",
   "id": "c40ac732",
   "metadata": {},
   "source": [
    "#### Price_tier"
   ]
  },
  {
   "cell_type": "code",
   "execution_count": 76,
   "id": "fd4982a6",
   "metadata": {
    "ExecuteTime": {
     "end_time": "2022-04-30T17:23:56.664968Z",
     "start_time": "2022-04-30T17:23:56.625969Z"
    }
   },
   "outputs": [],
   "source": [
    "\n",
    "data['price_tier'] = data['price'].apply(lambda x: 'tier 1' if x <= 321950 else\n",
    "                                                      'tier 2' if (x > 321950) & (x <= 450000) else\n",
    "                                                      'tier 3' if (x > 450000) & (x <= 645000) else\n",
    "                                                      'tier 4')"
   ]
  },
  {
   "cell_type": "markdown",
   "id": "430c21c7",
   "metadata": {},
   "source": [
    "#### Precio por pie cuadrado"
   ]
  },
  {
   "cell_type": "code",
   "execution_count": 77,
   "id": "c5129de5",
   "metadata": {
    "ExecuteTime": {
     "end_time": "2022-04-30T17:23:57.058065Z",
     "start_time": "2022-04-30T17:23:57.046050Z"
    }
   },
   "outputs": [],
   "source": [
    "data['price/sqft'] = data['price']/data['sqft_living']"
   ]
  },
  {
   "cell_type": "markdown",
   "id": "2d571e84",
   "metadata": {
    "ExecuteTime": {
     "end_time": "2022-04-30T14:31:25.050244Z",
     "start_time": "2022-04-30T14:31:25.041276Z"
    }
   },
   "source": [
    "#### Address, neighbourhood and city (API)"
   ]
  },
  {
   "cell_type": "code",
   "execution_count": 13,
   "id": "aef918d2",
   "metadata": {
    "ExecuteTime": {
     "end_time": "2022-04-30T16:37:41.422588Z",
     "start_time": "2022-04-30T16:37:41.403594Z"
    }
   },
   "outputs": [],
   "source": [
    "# for i in range(df_test.shape[0]):\n",
    "# #     geolocator = Nominatim(user_agent='ErnestoPerez'+str(i))\n",
    "# #     df_test.loc[i,'lat'], df_test.loc[i,'long']\n",
    "#     geoloc = geocoder.osm([df_test.loc[i,'lat'], df_test.loc[i,'long']], method='reverse')\n",
    "#     try:\n",
    "#         df_test.loc[i,'house_number'] = geoloc.raw['address']['house_number']\n",
    "#     except:\n",
    "#         None\n",
    "#     try:\n",
    "#         df_test.loc[i,'road'] = geoloc.raw['address']['road']\n",
    "#     except:\n",
    "#         None\n",
    "#     try:\n",
    "#         df_test.loc[i,'neighbourhood'] = geoloc.raw['address']['neighbourhood']\n",
    "#     except:\n",
    "#         None\n",
    "#     try:\n",
    "#          df_test.loc[i,'city'] =geoloc.raw['address']['city']\n",
    "#     except:\n",
    "#         None\n",
    "#     time.sleep(2)\n",
    "#     if i % 150 == 0: \n",
    "#         print('Voy en la {}-ésima iteración'.format(i))"
   ]
  },
  {
   "cell_type": "markdown",
   "id": "32d0e4c7",
   "metadata": {},
   "source": [
    "# Exploratory Descriptive Analysis (EDA)"
   ]
  },
  {
   "cell_type": "code",
   "execution_count": 14,
   "id": "3d301b15",
   "metadata": {
    "ExecuteTime": {
     "end_time": "2022-04-30T16:39:09.614175Z",
     "start_time": "2022-04-30T16:37:41.756657Z"
    },
    "scrolled": true
   },
   "outputs": [
    {
     "data": {
      "application/vnd.jupyter.widget-view+json": {
       "model_id": "0896b446528a446eb079fd67eb627711",
       "version_major": 2,
       "version_minor": 0
      },
      "text/plain": [
       "Summarize dataset:   0%|          | 0/5 [00:00<?, ?it/s]"
      ]
     },
     "metadata": {},
     "output_type": "display_data"
    },
    {
     "data": {
      "application/vnd.jupyter.widget-view+json": {
       "model_id": "d40df86a482f4ec0a6dc46e16ba247bb",
       "version_major": 2,
       "version_minor": 0
      },
      "text/plain": [
       "Generate report structure:   0%|          | 0/1 [00:00<?, ?it/s]"
      ]
     },
     "metadata": {},
     "output_type": "display_data"
    },
    {
     "data": {
      "application/vnd.jupyter.widget-view+json": {
       "model_id": "0b1c88acec874ef0b82504374a2b65f8",
       "version_major": 2,
       "version_minor": 0
      },
      "text/plain": [
       "Render HTML:   0%|          | 0/1 [00:00<?, ?it/s]"
      ]
     },
     "metadata": {},
     "output_type": "display_data"
    },
    {
     "data": {
      "application/vnd.jupyter.widget-view+json": {
       "model_id": "270e66f50b014d79bca891e41ece0fee",
       "version_major": 2,
       "version_minor": 0
      },
      "text/plain": [
       "Export report to file:   0%|          | 0/1 [00:00<?, ?it/s]"
      ]
     },
     "metadata": {},
     "output_type": "display_data"
    }
   ],
   "source": [
    "prof = ProfileReport(data.drop(columns =['id','zipcode','yr_renovated']))\n",
    "prof.to_file(output_file='data-EDA.html')"
   ]
  },
  {
   "cell_type": "markdown",
   "id": "46f8f73d",
   "metadata": {},
   "source": [
    "### Validación de hipótesis"
   ]
  },
  {
   "cell_type": "code",
   "execution_count": 118,
   "id": "0ffeeb90",
   "metadata": {
    "ExecuteTime": {
     "end_time": "2022-04-30T14:59:41.838369Z",
     "start_time": "2022-04-30T14:59:41.821369Z"
    }
   },
   "outputs": [
    {
     "data": {
      "text/html": [
       "<img src=\"Precios_Casas.png\" width=\"700\" height=\"700\"/>"
      ],
      "text/plain": [
       "<IPython.core.display.Image object>"
      ]
     },
     "execution_count": 118,
     "metadata": {},
     "output_type": "execute_result"
    }
   ],
   "source": [
    "from IPython.display import Image\n",
    "Image(url= \"Precios_Casas.png\", width=700, height=700)"
   ]
  },
  {
   "cell_type": "code",
   "execution_count": 130,
   "id": "3745b735",
   "metadata": {
    "ExecuteTime": {
     "end_time": "2022-04-30T16:04:12.237778Z",
     "start_time": "2022-04-30T16:04:12.188792Z"
    }
   },
   "outputs": [],
   "source": [
    "att_num = data.select_dtypes(include = ['int64','float64'])"
   ]
  },
  {
   "cell_type": "code",
   "execution_count": 138,
   "id": "02d2cb67",
   "metadata": {
    "ExecuteTime": {
     "end_time": "2022-04-30T16:07:55.490384Z",
     "start_time": "2022-04-30T16:07:55.380365Z"
    }
   },
   "outputs": [],
   "source": [
    "media = pd.DataFrame(att_num.apply(np.mean))\n",
    "mediana = pd.DataFrame(att_num.apply(np.median))\n",
    "std = pd.DataFrame(att_num.apply(np.std))\n",
    "maximo = pd.DataFrame(att_num.apply(np.max))\n",
    "minimo = pd.DataFrame(att_num.apply(np.min))"
   ]
  },
  {
   "cell_type": "code",
   "execution_count": 147,
   "id": "574099c5",
   "metadata": {
    "ExecuteTime": {
     "end_time": "2022-04-30T16:10:13.893290Z",
     "start_time": "2022-04-30T16:10:13.853270Z"
    }
   },
   "outputs": [],
   "source": [
    "df_EDA = pd.concat([minimo,media,mediana,maximo,std], axis = 1)"
   ]
  },
  {
   "cell_type": "code",
   "execution_count": 148,
   "id": "2bcaf073",
   "metadata": {
    "ExecuteTime": {
     "end_time": "2022-04-30T16:10:26.316234Z",
     "start_time": "2022-04-30T16:10:26.301241Z"
    }
   },
   "outputs": [
    {
     "data": {
      "text/html": [
       "<div>\n",
       "<style scoped>\n",
       "    .dataframe tbody tr th:only-of-type {\n",
       "        vertical-align: middle;\n",
       "    }\n",
       "\n",
       "    .dataframe tbody tr th {\n",
       "        vertical-align: top;\n",
       "    }\n",
       "\n",
       "    .dataframe thead th {\n",
       "        text-align: right;\n",
       "    }\n",
       "</style>\n",
       "<table border=\"1\" class=\"dataframe\">\n",
       "  <thead>\n",
       "    <tr style=\"text-align: right;\">\n",
       "      <th></th>\n",
       "      <th>0</th>\n",
       "      <th>0</th>\n",
       "      <th>0</th>\n",
       "      <th>0</th>\n",
       "      <th>0</th>\n",
       "    </tr>\n",
       "  </thead>\n",
       "  <tbody>\n",
       "    <tr>\n",
       "      <th>price</th>\n",
       "      <td>75000.00</td>\n",
       "      <td>540088.14</td>\n",
       "      <td>450000.00</td>\n",
       "      <td>7700000.00</td>\n",
       "      <td>367118.70</td>\n",
       "    </tr>\n",
       "    <tr>\n",
       "      <th>bedrooms</th>\n",
       "      <td>0.00</td>\n",
       "      <td>3.37</td>\n",
       "      <td>3.00</td>\n",
       "      <td>33.00</td>\n",
       "      <td>0.93</td>\n",
       "    </tr>\n",
       "    <tr>\n",
       "      <th>bathrooms</th>\n",
       "      <td>0.00</td>\n",
       "      <td>2.11</td>\n",
       "      <td>2.25</td>\n",
       "      <td>8.00</td>\n",
       "      <td>0.77</td>\n",
       "    </tr>\n",
       "    <tr>\n",
       "      <th>sqft_living</th>\n",
       "      <td>290.00</td>\n",
       "      <td>2079.90</td>\n",
       "      <td>1910.00</td>\n",
       "      <td>13540.00</td>\n",
       "      <td>918.42</td>\n",
       "    </tr>\n",
       "    <tr>\n",
       "      <th>sqft_lot</th>\n",
       "      <td>520.00</td>\n",
       "      <td>15106.97</td>\n",
       "      <td>7618.00</td>\n",
       "      <td>1651359.00</td>\n",
       "      <td>41419.55</td>\n",
       "    </tr>\n",
       "    <tr>\n",
       "      <th>floors</th>\n",
       "      <td>1.00</td>\n",
       "      <td>1.49</td>\n",
       "      <td>1.50</td>\n",
       "      <td>3.50</td>\n",
       "      <td>0.54</td>\n",
       "    </tr>\n",
       "    <tr>\n",
       "      <th>waterfront</th>\n",
       "      <td>0.00</td>\n",
       "      <td>0.01</td>\n",
       "      <td>0.00</td>\n",
       "      <td>1.00</td>\n",
       "      <td>0.09</td>\n",
       "    </tr>\n",
       "    <tr>\n",
       "      <th>view</th>\n",
       "      <td>0.00</td>\n",
       "      <td>0.23</td>\n",
       "      <td>0.00</td>\n",
       "      <td>4.00</td>\n",
       "      <td>0.77</td>\n",
       "    </tr>\n",
       "    <tr>\n",
       "      <th>condition</th>\n",
       "      <td>1.00</td>\n",
       "      <td>3.41</td>\n",
       "      <td>3.00</td>\n",
       "      <td>5.00</td>\n",
       "      <td>0.65</td>\n",
       "    </tr>\n",
       "    <tr>\n",
       "      <th>grade</th>\n",
       "      <td>1.00</td>\n",
       "      <td>7.66</td>\n",
       "      <td>7.00</td>\n",
       "      <td>13.00</td>\n",
       "      <td>1.18</td>\n",
       "    </tr>\n",
       "    <tr>\n",
       "      <th>sqft_above</th>\n",
       "      <td>290.00</td>\n",
       "      <td>1788.39</td>\n",
       "      <td>1560.00</td>\n",
       "      <td>9410.00</td>\n",
       "      <td>828.07</td>\n",
       "    </tr>\n",
       "    <tr>\n",
       "      <th>sqft_basement</th>\n",
       "      <td>0.00</td>\n",
       "      <td>291.51</td>\n",
       "      <td>0.00</td>\n",
       "      <td>4820.00</td>\n",
       "      <td>442.56</td>\n",
       "    </tr>\n",
       "    <tr>\n",
       "      <th>yr_built</th>\n",
       "      <td>1900.00</td>\n",
       "      <td>1971.01</td>\n",
       "      <td>1975.00</td>\n",
       "      <td>2015.00</td>\n",
       "      <td>29.37</td>\n",
       "    </tr>\n",
       "    <tr>\n",
       "      <th>lat</th>\n",
       "      <td>47.16</td>\n",
       "      <td>47.56</td>\n",
       "      <td>47.57</td>\n",
       "      <td>47.78</td>\n",
       "      <td>0.14</td>\n",
       "    </tr>\n",
       "    <tr>\n",
       "      <th>long</th>\n",
       "      <td>-122.52</td>\n",
       "      <td>-122.21</td>\n",
       "      <td>-122.23</td>\n",
       "      <td>-121.31</td>\n",
       "      <td>0.14</td>\n",
       "    </tr>\n",
       "    <tr>\n",
       "      <th>sqft_living15</th>\n",
       "      <td>399.00</td>\n",
       "      <td>1986.55</td>\n",
       "      <td>1840.00</td>\n",
       "      <td>6210.00</td>\n",
       "      <td>685.38</td>\n",
       "    </tr>\n",
       "    <tr>\n",
       "      <th>sqft_lot15</th>\n",
       "      <td>651.00</td>\n",
       "      <td>12768.46</td>\n",
       "      <td>7620.00</td>\n",
       "      <td>871200.00</td>\n",
       "      <td>27303.55</td>\n",
       "    </tr>\n",
       "  </tbody>\n",
       "</table>\n",
       "</div>"
      ],
      "text/plain": [
       "                     0         0         0          0         0\n",
       "price         75000.00 540088.14 450000.00 7700000.00 367118.70\n",
       "bedrooms          0.00      3.37      3.00      33.00      0.93\n",
       "bathrooms         0.00      2.11      2.25       8.00      0.77\n",
       "sqft_living     290.00   2079.90   1910.00   13540.00    918.42\n",
       "sqft_lot        520.00  15106.97   7618.00 1651359.00  41419.55\n",
       "floors            1.00      1.49      1.50       3.50      0.54\n",
       "waterfront        0.00      0.01      0.00       1.00      0.09\n",
       "view              0.00      0.23      0.00       4.00      0.77\n",
       "condition         1.00      3.41      3.00       5.00      0.65\n",
       "grade             1.00      7.66      7.00      13.00      1.18\n",
       "sqft_above      290.00   1788.39   1560.00    9410.00    828.07\n",
       "sqft_basement     0.00    291.51      0.00    4820.00    442.56\n",
       "yr_built       1900.00   1971.01   1975.00    2015.00     29.37\n",
       "lat              47.16     47.56     47.57      47.78      0.14\n",
       "long           -122.52   -122.21   -122.23    -121.31      0.14\n",
       "sqft_living15   399.00   1986.55   1840.00    6210.00    685.38\n",
       "sqft_lot15      651.00  12768.46   7620.00  871200.00  27303.55"
      ]
     },
     "execution_count": 148,
     "metadata": {},
     "output_type": "execute_result"
    }
   ],
   "source": [
    "df_EDA"
   ]
  },
  {
   "cell_type": "code",
   "execution_count": 149,
   "id": "ef6c9b95",
   "metadata": {
    "ExecuteTime": {
     "end_time": "2022-04-30T16:11:08.478675Z",
     "start_time": "2022-04-30T16:11:08.448670Z"
    }
   },
   "outputs": [],
   "source": [
    "df_EDA.columns = ['Mínimo','Media','Mediana','Máximo','std']"
   ]
  },
  {
   "cell_type": "code",
   "execution_count": 150,
   "id": "884677b9",
   "metadata": {
    "ExecuteTime": {
     "end_time": "2022-04-30T16:11:12.001816Z",
     "start_time": "2022-04-30T16:11:11.970817Z"
    },
    "scrolled": true
   },
   "outputs": [
    {
     "data": {
      "text/html": [
       "<div>\n",
       "<style scoped>\n",
       "    .dataframe tbody tr th:only-of-type {\n",
       "        vertical-align: middle;\n",
       "    }\n",
       "\n",
       "    .dataframe tbody tr th {\n",
       "        vertical-align: top;\n",
       "    }\n",
       "\n",
       "    .dataframe thead th {\n",
       "        text-align: right;\n",
       "    }\n",
       "</style>\n",
       "<table border=\"1\" class=\"dataframe\">\n",
       "  <thead>\n",
       "    <tr style=\"text-align: right;\">\n",
       "      <th></th>\n",
       "      <th>Mínimo</th>\n",
       "      <th>Media</th>\n",
       "      <th>Mediana</th>\n",
       "      <th>Máximo</th>\n",
       "      <th>std</th>\n",
       "    </tr>\n",
       "  </thead>\n",
       "  <tbody>\n",
       "    <tr>\n",
       "      <th>price</th>\n",
       "      <td>75000.00</td>\n",
       "      <td>540088.14</td>\n",
       "      <td>450000.00</td>\n",
       "      <td>7700000.00</td>\n",
       "      <td>367118.70</td>\n",
       "    </tr>\n",
       "    <tr>\n",
       "      <th>bedrooms</th>\n",
       "      <td>0.00</td>\n",
       "      <td>3.37</td>\n",
       "      <td>3.00</td>\n",
       "      <td>33.00</td>\n",
       "      <td>0.93</td>\n",
       "    </tr>\n",
       "    <tr>\n",
       "      <th>bathrooms</th>\n",
       "      <td>0.00</td>\n",
       "      <td>2.11</td>\n",
       "      <td>2.25</td>\n",
       "      <td>8.00</td>\n",
       "      <td>0.77</td>\n",
       "    </tr>\n",
       "    <tr>\n",
       "      <th>sqft_living</th>\n",
       "      <td>290.00</td>\n",
       "      <td>2079.90</td>\n",
       "      <td>1910.00</td>\n",
       "      <td>13540.00</td>\n",
       "      <td>918.42</td>\n",
       "    </tr>\n",
       "    <tr>\n",
       "      <th>sqft_lot</th>\n",
       "      <td>520.00</td>\n",
       "      <td>15106.97</td>\n",
       "      <td>7618.00</td>\n",
       "      <td>1651359.00</td>\n",
       "      <td>41419.55</td>\n",
       "    </tr>\n",
       "    <tr>\n",
       "      <th>floors</th>\n",
       "      <td>1.00</td>\n",
       "      <td>1.49</td>\n",
       "      <td>1.50</td>\n",
       "      <td>3.50</td>\n",
       "      <td>0.54</td>\n",
       "    </tr>\n",
       "    <tr>\n",
       "      <th>waterfront</th>\n",
       "      <td>0.00</td>\n",
       "      <td>0.01</td>\n",
       "      <td>0.00</td>\n",
       "      <td>1.00</td>\n",
       "      <td>0.09</td>\n",
       "    </tr>\n",
       "    <tr>\n",
       "      <th>view</th>\n",
       "      <td>0.00</td>\n",
       "      <td>0.23</td>\n",
       "      <td>0.00</td>\n",
       "      <td>4.00</td>\n",
       "      <td>0.77</td>\n",
       "    </tr>\n",
       "    <tr>\n",
       "      <th>condition</th>\n",
       "      <td>1.00</td>\n",
       "      <td>3.41</td>\n",
       "      <td>3.00</td>\n",
       "      <td>5.00</td>\n",
       "      <td>0.65</td>\n",
       "    </tr>\n",
       "    <tr>\n",
       "      <th>grade</th>\n",
       "      <td>1.00</td>\n",
       "      <td>7.66</td>\n",
       "      <td>7.00</td>\n",
       "      <td>13.00</td>\n",
       "      <td>1.18</td>\n",
       "    </tr>\n",
       "    <tr>\n",
       "      <th>sqft_above</th>\n",
       "      <td>290.00</td>\n",
       "      <td>1788.39</td>\n",
       "      <td>1560.00</td>\n",
       "      <td>9410.00</td>\n",
       "      <td>828.07</td>\n",
       "    </tr>\n",
       "    <tr>\n",
       "      <th>sqft_basement</th>\n",
       "      <td>0.00</td>\n",
       "      <td>291.51</td>\n",
       "      <td>0.00</td>\n",
       "      <td>4820.00</td>\n",
       "      <td>442.56</td>\n",
       "    </tr>\n",
       "    <tr>\n",
       "      <th>yr_built</th>\n",
       "      <td>1900.00</td>\n",
       "      <td>1971.01</td>\n",
       "      <td>1975.00</td>\n",
       "      <td>2015.00</td>\n",
       "      <td>29.37</td>\n",
       "    </tr>\n",
       "    <tr>\n",
       "      <th>lat</th>\n",
       "      <td>47.16</td>\n",
       "      <td>47.56</td>\n",
       "      <td>47.57</td>\n",
       "      <td>47.78</td>\n",
       "      <td>0.14</td>\n",
       "    </tr>\n",
       "    <tr>\n",
       "      <th>long</th>\n",
       "      <td>-122.52</td>\n",
       "      <td>-122.21</td>\n",
       "      <td>-122.23</td>\n",
       "      <td>-121.31</td>\n",
       "      <td>0.14</td>\n",
       "    </tr>\n",
       "    <tr>\n",
       "      <th>sqft_living15</th>\n",
       "      <td>399.00</td>\n",
       "      <td>1986.55</td>\n",
       "      <td>1840.00</td>\n",
       "      <td>6210.00</td>\n",
       "      <td>685.38</td>\n",
       "    </tr>\n",
       "    <tr>\n",
       "      <th>sqft_lot15</th>\n",
       "      <td>651.00</td>\n",
       "      <td>12768.46</td>\n",
       "      <td>7620.00</td>\n",
       "      <td>871200.00</td>\n",
       "      <td>27303.55</td>\n",
       "    </tr>\n",
       "  </tbody>\n",
       "</table>\n",
       "</div>"
      ],
      "text/plain": [
       "                Mínimo     Media   Mediana     Máximo       std\n",
       "price         75000.00 540088.14 450000.00 7700000.00 367118.70\n",
       "bedrooms          0.00      3.37      3.00      33.00      0.93\n",
       "bathrooms         0.00      2.11      2.25       8.00      0.77\n",
       "sqft_living     290.00   2079.90   1910.00   13540.00    918.42\n",
       "sqft_lot        520.00  15106.97   7618.00 1651359.00  41419.55\n",
       "floors            1.00      1.49      1.50       3.50      0.54\n",
       "waterfront        0.00      0.01      0.00       1.00      0.09\n",
       "view              0.00      0.23      0.00       4.00      0.77\n",
       "condition         1.00      3.41      3.00       5.00      0.65\n",
       "grade             1.00      7.66      7.00      13.00      1.18\n",
       "sqft_above      290.00   1788.39   1560.00    9410.00    828.07\n",
       "sqft_basement     0.00    291.51      0.00    4820.00    442.56\n",
       "yr_built       1900.00   1971.01   1975.00    2015.00     29.37\n",
       "lat              47.16     47.56     47.57      47.78      0.14\n",
       "long           -122.52   -122.21   -122.23    -121.31      0.14\n",
       "sqft_living15   399.00   1986.55   1840.00    6210.00    685.38\n",
       "sqft_lot15      651.00  12768.46   7620.00  871200.00  27303.55"
      ]
     },
     "execution_count": 150,
     "metadata": {},
     "output_type": "execute_result"
    }
   ],
   "source": [
    "df_EDA"
   ]
  },
  {
   "cell_type": "code",
   "execution_count": 157,
   "id": "6f129395",
   "metadata": {
    "ExecuteTime": {
     "end_time": "2022-04-30T16:16:39.090242Z",
     "start_time": "2022-04-30T16:16:39.077242Z"
    }
   },
   "outputs": [
    {
     "data": {
      "text/plain": [
       "47.56005251931704"
      ]
     },
     "execution_count": 157,
     "metadata": {},
     "output_type": "execute_result"
    }
   ],
   "source": [
    "data['lat'].mean()"
   ]
  },
  {
   "cell_type": "code",
   "execution_count": 55,
   "id": "3e862d63",
   "metadata": {
    "ExecuteTime": {
     "end_time": "2022-04-30T16:58:03.844668Z",
     "start_time": "2022-04-30T16:58:03.839680Z"
    }
   },
   "outputs": [],
   "source": [
    "df_test = data.head(100)"
   ]
  },
  {
   "cell_type": "code",
   "execution_count": 60,
   "id": "49175686",
   "metadata": {
    "ExecuteTime": {
     "end_time": "2022-04-30T17:10:17.562685Z",
     "start_time": "2022-04-30T17:10:17.446688Z"
    }
   },
   "outputs": [],
   "source": [
    "import folium\n",
    "from folium.plugins import MarkerCluster\n",
    "\n",
    "mapa = folium.Map(location=[df_test['lat'].mean(), df_test['long'].mean()], zoom_start=9)\n",
    "marker_cluster = MarkerCluster().add_to(mapa)"
   ]
  },
  {
   "cell_type": "code",
   "execution_count": 61,
   "id": "3639e503",
   "metadata": {
    "ExecuteTime": {
     "end_time": "2022-04-30T17:10:18.234531Z",
     "start_time": "2022-04-30T17:10:18.105532Z"
    }
   },
   "outputs": [],
   "source": [
    "for nombre, fila in df_test.iterrows():\n",
    "    folium.Marker([fila['lat'],fila['long']],\n",
    "                 popup = 'Propiedad Vendida en ${}, en {}.Características: {} habitaciones, {} baños, constuida en {}, área de {} pies cuadrados. Precio por pie cuadrado: {}'.format(\n",
    "                 fila['price'],\n",
    "                 fila['date'],\n",
    "                 fila['bedrooms'],\n",
    "                 fila['bathrooms'],\n",
    "                 fila['yr_built'], \n",
    "                 fila['sqft_living'], \n",
    "                 fila['price/sqft'])\n",
    ").add_to(marker_cluster)\n",
    " "
   ]
  },
  {
   "cell_type": "code",
   "execution_count": 62,
   "id": "f39c2f62",
   "metadata": {
    "ExecuteTime": {
     "end_time": "2022-04-30T17:10:19.138234Z",
     "start_time": "2022-04-30T17:10:18.869235Z"
    }
   },
   "outputs": [
    {
     "data": {
      "text/html": [
       "<div style=\"width:100%;\"><div style=\"position:relative;width:100%;height:0;padding-bottom:60%;\"><span style=\"color:#565656\">Make this Notebook Trusted to load map: File -> Trust Notebook</span><iframe src=\"about:blank\" style=\"position:absolute;width:100%;height:100%;left:0;top:0;border:none !important;\" data-html=%3C%21DOCTYPE%20html%3E%0A%3Chead%3E%20%20%20%20%0A%20%20%20%20%3Cmeta%20http-equiv%3D%22content-type%22%20content%3D%22text/html%3B%20charset%3DUTF-8%22%20/%3E%0A%20%20%20%20%0A%20%20%20%20%20%20%20%20%3Cscript%3E%0A%20%20%20%20%20%20%20%20%20%20%20%20L_NO_TOUCH%20%3D%20false%3B%0A%20%20%20%20%20%20%20%20%20%20%20%20L_DISABLE_3D%20%3D%20false%3B%0A%20%20%20%20%20%20%20%20%3C/script%3E%0A%20%20%20%20%0A%20%20%20%20%3Cstyle%3Ehtml%2C%20body%20%7Bwidth%3A%20100%25%3Bheight%3A%20100%25%3Bmargin%3A%200%3Bpadding%3A%200%3B%7D%3C/style%3E%0A%20%20%20%20%3Cstyle%3E%23map%20%7Bposition%3Aabsolute%3Btop%3A0%3Bbottom%3A0%3Bright%3A0%3Bleft%3A0%3B%7D%3C/style%3E%0A%20%20%20%20%3Cscript%20src%3D%22https%3A//cdn.jsdelivr.net/npm/leaflet%401.6.0/dist/leaflet.js%22%3E%3C/script%3E%0A%20%20%20%20%3Cscript%20src%3D%22https%3A//code.jquery.com/jquery-1.12.4.min.js%22%3E%3C/script%3E%0A%20%20%20%20%3Cscript%20src%3D%22https%3A//maxcdn.bootstrapcdn.com/bootstrap/3.2.0/js/bootstrap.min.js%22%3E%3C/script%3E%0A%20%20%20%20%3Cscript%20src%3D%22https%3A//cdnjs.cloudflare.com/ajax/libs/Leaflet.awesome-markers/2.0.2/leaflet.awesome-markers.js%22%3E%3C/script%3E%0A%20%20%20%20%3Clink%20rel%3D%22stylesheet%22%20href%3D%22https%3A//cdn.jsdelivr.net/npm/leaflet%401.6.0/dist/leaflet.css%22/%3E%0A%20%20%20%20%3Clink%20rel%3D%22stylesheet%22%20href%3D%22https%3A//maxcdn.bootstrapcdn.com/bootstrap/3.2.0/css/bootstrap.min.css%22/%3E%0A%20%20%20%20%3Clink%20rel%3D%22stylesheet%22%20href%3D%22https%3A//maxcdn.bootstrapcdn.com/bootstrap/3.2.0/css/bootstrap-theme.min.css%22/%3E%0A%20%20%20%20%3Clink%20rel%3D%22stylesheet%22%20href%3D%22https%3A//maxcdn.bootstrapcdn.com/font-awesome/4.6.3/css/font-awesome.min.css%22/%3E%0A%20%20%20%20%3Clink%20rel%3D%22stylesheet%22%20href%3D%22https%3A//cdnjs.cloudflare.com/ajax/libs/Leaflet.awesome-markers/2.0.2/leaflet.awesome-markers.css%22/%3E%0A%20%20%20%20%3Clink%20rel%3D%22stylesheet%22%20href%3D%22https%3A//cdn.jsdelivr.net/gh/python-visualization/folium/folium/templates/leaflet.awesome.rotate.min.css%22/%3E%0A%20%20%20%20%0A%20%20%20%20%20%20%20%20%20%20%20%20%3Cmeta%20name%3D%22viewport%22%20content%3D%22width%3Ddevice-width%2C%0A%20%20%20%20%20%20%20%20%20%20%20%20%20%20%20%20initial-scale%3D1.0%2C%20maximum-scale%3D1.0%2C%20user-scalable%3Dno%22%20/%3E%0A%20%20%20%20%20%20%20%20%20%20%20%20%3Cstyle%3E%0A%20%20%20%20%20%20%20%20%20%20%20%20%20%20%20%20%23map_529389187e97425381304ba4fed61038%20%7B%0A%20%20%20%20%20%20%20%20%20%20%20%20%20%20%20%20%20%20%20%20position%3A%20relative%3B%0A%20%20%20%20%20%20%20%20%20%20%20%20%20%20%20%20%20%20%20%20width%3A%20100.0%25%3B%0A%20%20%20%20%20%20%20%20%20%20%20%20%20%20%20%20%20%20%20%20height%3A%20100.0%25%3B%0A%20%20%20%20%20%20%20%20%20%20%20%20%20%20%20%20%20%20%20%20left%3A%200.0%25%3B%0A%20%20%20%20%20%20%20%20%20%20%20%20%20%20%20%20%20%20%20%20top%3A%200.0%25%3B%0A%20%20%20%20%20%20%20%20%20%20%20%20%20%20%20%20%7D%0A%20%20%20%20%20%20%20%20%20%20%20%20%3C/style%3E%0A%20%20%20%20%20%20%20%20%0A%20%20%20%20%3Cscript%20src%3D%22https%3A//cdnjs.cloudflare.com/ajax/libs/leaflet.markercluster/1.1.0/leaflet.markercluster.js%22%3E%3C/script%3E%0A%20%20%20%20%3Clink%20rel%3D%22stylesheet%22%20href%3D%22https%3A//cdnjs.cloudflare.com/ajax/libs/leaflet.markercluster/1.1.0/MarkerCluster.css%22/%3E%0A%20%20%20%20%3Clink%20rel%3D%22stylesheet%22%20href%3D%22https%3A//cdnjs.cloudflare.com/ajax/libs/leaflet.markercluster/1.1.0/MarkerCluster.Default.css%22/%3E%0A%3C/head%3E%0A%3Cbody%3E%20%20%20%20%0A%20%20%20%20%0A%20%20%20%20%20%20%20%20%20%20%20%20%3Cdiv%20class%3D%22folium-map%22%20id%3D%22map_529389187e97425381304ba4fed61038%22%20%3E%3C/div%3E%0A%20%20%20%20%20%20%20%20%0A%3C/body%3E%0A%3Cscript%3E%20%20%20%20%0A%20%20%20%20%0A%20%20%20%20%20%20%20%20%20%20%20%20var%20map_529389187e97425381304ba4fed61038%20%3D%20L.map%28%0A%20%20%20%20%20%20%20%20%20%20%20%20%20%20%20%20%22map_529389187e97425381304ba4fed61038%22%2C%0A%20%20%20%20%20%20%20%20%20%20%20%20%20%20%20%20%7B%0A%20%20%20%20%20%20%20%20%20%20%20%20%20%20%20%20%20%20%20%20center%3A%20%5B47.53972999999999%2C%20-122.22963000000001%5D%2C%0A%20%20%20%20%20%20%20%20%20%20%20%20%20%20%20%20%20%20%20%20crs%3A%20L.CRS.EPSG3857%2C%0A%20%20%20%20%20%20%20%20%20%20%20%20%20%20%20%20%20%20%20%20zoom%3A%209%2C%0A%20%20%20%20%20%20%20%20%20%20%20%20%20%20%20%20%20%20%20%20zoomControl%3A%20true%2C%0A%20%20%20%20%20%20%20%20%20%20%20%20%20%20%20%20%20%20%20%20preferCanvas%3A%20false%2C%0A%20%20%20%20%20%20%20%20%20%20%20%20%20%20%20%20%7D%0A%20%20%20%20%20%20%20%20%20%20%20%20%29%3B%0A%0A%20%20%20%20%20%20%20%20%20%20%20%20%0A%0A%20%20%20%20%20%20%20%20%0A%20%20%20%20%0A%20%20%20%20%20%20%20%20%20%20%20%20var%20tile_layer_990b55adb1604a7ead63ee92fe84b579%20%3D%20L.tileLayer%28%0A%20%20%20%20%20%20%20%20%20%20%20%20%20%20%20%20%22https%3A//%7Bs%7D.tile.openstreetmap.org/%7Bz%7D/%7Bx%7D/%7By%7D.png%22%2C%0A%20%20%20%20%20%20%20%20%20%20%20%20%20%20%20%20%7B%22attribution%22%3A%20%22Data%20by%20%5Cu0026copy%3B%20%5Cu003ca%20href%3D%5C%22http%3A//openstreetmap.org%5C%22%5Cu003eOpenStreetMap%5Cu003c/a%5Cu003e%2C%20under%20%5Cu003ca%20href%3D%5C%22http%3A//www.openstreetmap.org/copyright%5C%22%5Cu003eODbL%5Cu003c/a%5Cu003e.%22%2C%20%22detectRetina%22%3A%20false%2C%20%22maxNativeZoom%22%3A%2018%2C%20%22maxZoom%22%3A%2018%2C%20%22minZoom%22%3A%200%2C%20%22noWrap%22%3A%20false%2C%20%22opacity%22%3A%201%2C%20%22subdomains%22%3A%20%22abc%22%2C%20%22tms%22%3A%20false%7D%0A%20%20%20%20%20%20%20%20%20%20%20%20%29.addTo%28map_529389187e97425381304ba4fed61038%29%3B%0A%20%20%20%20%20%20%20%20%0A%20%20%20%20%0A%20%20%20%20%20%20%20%20%20%20%20%20var%20marker_cluster_c55f5a73f08f48a0b55a048c760b3034%20%3D%20L.markerClusterGroup%28%0A%20%20%20%20%20%20%20%20%20%20%20%20%20%20%20%20%7B%7D%0A%20%20%20%20%20%20%20%20%20%20%20%20%29%3B%0A%20%20%20%20%20%20%20%20%20%20%20%20map_529389187e97425381304ba4fed61038.addLayer%28marker_cluster_c55f5a73f08f48a0b55a048c760b3034%29%3B%0A%20%20%20%20%20%20%20%20%0A%20%20%20%20%0A%20%20%20%20%20%20%20%20%20%20%20%20var%20marker_fe7b8cac2615420082f7e92a35eaf4b6%20%3D%20L.marker%28%0A%20%20%20%20%20%20%20%20%20%20%20%20%20%20%20%20%5B47.5112%2C%20-122.257%5D%2C%0A%20%20%20%20%20%20%20%20%20%20%20%20%20%20%20%20%7B%7D%0A%20%20%20%20%20%20%20%20%20%20%20%20%29.addTo%28marker_cluster_c55f5a73f08f48a0b55a048c760b3034%29%3B%0A%20%20%20%20%20%20%20%20%0A%20%20%20%20%0A%20%20%20%20%20%20%20%20var%20popup_a95476978efa457286bcbaa216a9bc32%20%3D%20L.popup%28%7B%22maxWidth%22%3A%20%22100%25%22%7D%29%3B%0A%0A%20%20%20%20%20%20%20%20%0A%20%20%20%20%20%20%20%20%20%20%20%20var%20html_52fe8477ddcf4a7faa9d004adbca8ae1%20%3D%20%24%28%60%3Cdiv%20id%3D%22html_52fe8477ddcf4a7faa9d004adbca8ae1%22%20style%3D%22width%3A%20100.0%25%3B%20height%3A%20100.0%25%3B%22%3EPropiedad%20Vendida%20en%20%24221900.0%2C%20en%202014-10-13.Caracter%C3%ADsticas%3A%203%20habitaciones%2C%201.0%20ba%C3%B1os%2C%20constuida%20en%201955%2C%20%C3%A1rea%20de%201180%20pies%20cuadrados.%20Precio%20por%20pie%20cuadrado%3A%20188.05084745762713%3C/div%3E%60%29%5B0%5D%3B%0A%20%20%20%20%20%20%20%20%20%20%20%20popup_a95476978efa457286bcbaa216a9bc32.setContent%28html_52fe8477ddcf4a7faa9d004adbca8ae1%29%3B%0A%20%20%20%20%20%20%20%20%0A%0A%20%20%20%20%20%20%20%20marker_fe7b8cac2615420082f7e92a35eaf4b6.bindPopup%28popup_a95476978efa457286bcbaa216a9bc32%29%0A%20%20%20%20%20%20%20%20%3B%0A%0A%20%20%20%20%20%20%20%20%0A%20%20%20%20%0A%20%20%20%20%0A%20%20%20%20%20%20%20%20%20%20%20%20var%20marker_57815f8fc6a74ee799cd5211793b7d39%20%3D%20L.marker%28%0A%20%20%20%20%20%20%20%20%20%20%20%20%20%20%20%20%5B47.721%2C%20-122.319%5D%2C%0A%20%20%20%20%20%20%20%20%20%20%20%20%20%20%20%20%7B%7D%0A%20%20%20%20%20%20%20%20%20%20%20%20%29.addTo%28marker_cluster_c55f5a73f08f48a0b55a048c760b3034%29%3B%0A%20%20%20%20%20%20%20%20%0A%20%20%20%20%0A%20%20%20%20%20%20%20%20var%20popup_1baa989e6b0b49a59c8867889e64ea5b%20%3D%20L.popup%28%7B%22maxWidth%22%3A%20%22100%25%22%7D%29%3B%0A%0A%20%20%20%20%20%20%20%20%0A%20%20%20%20%20%20%20%20%20%20%20%20var%20html_6d419c83171b49beb61f484dec51cdfc%20%3D%20%24%28%60%3Cdiv%20id%3D%22html_6d419c83171b49beb61f484dec51cdfc%22%20style%3D%22width%3A%20100.0%25%3B%20height%3A%20100.0%25%3B%22%3EPropiedad%20Vendida%20en%20%24538000.0%2C%20en%202014-12-09.Caracter%C3%ADsticas%3A%203%20habitaciones%2C%202.25%20ba%C3%B1os%2C%20constuida%20en%201951%2C%20%C3%A1rea%20de%202570%20pies%20cuadrados.%20Precio%20por%20pie%20cuadrado%3A%20209.3385214007782%3C/div%3E%60%29%5B0%5D%3B%0A%20%20%20%20%20%20%20%20%20%20%20%20popup_1baa989e6b0b49a59c8867889e64ea5b.setContent%28html_6d419c83171b49beb61f484dec51cdfc%29%3B%0A%20%20%20%20%20%20%20%20%0A%0A%20%20%20%20%20%20%20%20marker_57815f8fc6a74ee799cd5211793b7d39.bindPopup%28popup_1baa989e6b0b49a59c8867889e64ea5b%29%0A%20%20%20%20%20%20%20%20%3B%0A%0A%20%20%20%20%20%20%20%20%0A%20%20%20%20%0A%20%20%20%20%0A%20%20%20%20%20%20%20%20%20%20%20%20var%20marker_0b65d8eb40cc411f842351a76383b544%20%3D%20L.marker%28%0A%20%20%20%20%20%20%20%20%20%20%20%20%20%20%20%20%5B47.7379%2C%20-122.233%5D%2C%0A%20%20%20%20%20%20%20%20%20%20%20%20%20%20%20%20%7B%7D%0A%20%20%20%20%20%20%20%20%20%20%20%20%29.addTo%28marker_cluster_c55f5a73f08f48a0b55a048c760b3034%29%3B%0A%20%20%20%20%20%20%20%20%0A%20%20%20%20%0A%20%20%20%20%20%20%20%20var%20popup_25f2bbb8c2dd448b89438da76f42c4e3%20%3D%20L.popup%28%7B%22maxWidth%22%3A%20%22100%25%22%7D%29%3B%0A%0A%20%20%20%20%20%20%20%20%0A%20%20%20%20%20%20%20%20%20%20%20%20var%20html_09a8417409784148a88d860748ed64ec%20%3D%20%24%28%60%3Cdiv%20id%3D%22html_09a8417409784148a88d860748ed64ec%22%20style%3D%22width%3A%20100.0%25%3B%20height%3A%20100.0%25%3B%22%3EPropiedad%20Vendida%20en%20%24180000.0%2C%20en%202015-02-25.Caracter%C3%ADsticas%3A%202%20habitaciones%2C%201.0%20ba%C3%B1os%2C%20constuida%20en%201933%2C%20%C3%A1rea%20de%20770%20pies%20cuadrados.%20Precio%20por%20pie%20cuadrado%3A%20233.76623376623377%3C/div%3E%60%29%5B0%5D%3B%0A%20%20%20%20%20%20%20%20%20%20%20%20popup_25f2bbb8c2dd448b89438da76f42c4e3.setContent%28html_09a8417409784148a88d860748ed64ec%29%3B%0A%20%20%20%20%20%20%20%20%0A%0A%20%20%20%20%20%20%20%20marker_0b65d8eb40cc411f842351a76383b544.bindPopup%28popup_25f2bbb8c2dd448b89438da76f42c4e3%29%0A%20%20%20%20%20%20%20%20%3B%0A%0A%20%20%20%20%20%20%20%20%0A%20%20%20%20%0A%20%20%20%20%0A%20%20%20%20%20%20%20%20%20%20%20%20var%20marker_853c78b7747d4d1a8543dfea565047aa%20%3D%20L.marker%28%0A%20%20%20%20%20%20%20%20%20%20%20%20%20%20%20%20%5B47.5208%2C%20-122.393%5D%2C%0A%20%20%20%20%20%20%20%20%20%20%20%20%20%20%20%20%7B%7D%0A%20%20%20%20%20%20%20%20%20%20%20%20%29.addTo%28marker_cluster_c55f5a73f08f48a0b55a048c760b3034%29%3B%0A%20%20%20%20%20%20%20%20%0A%20%20%20%20%0A%20%20%20%20%20%20%20%20var%20popup_5054dcf263c24b408f271ea56ee82b84%20%3D%20L.popup%28%7B%22maxWidth%22%3A%20%22100%25%22%7D%29%3B%0A%0A%20%20%20%20%20%20%20%20%0A%20%20%20%20%20%20%20%20%20%20%20%20var%20html_952756a3925b4adca8fe0f68e193713a%20%3D%20%24%28%60%3Cdiv%20id%3D%22html_952756a3925b4adca8fe0f68e193713a%22%20style%3D%22width%3A%20100.0%25%3B%20height%3A%20100.0%25%3B%22%3EPropiedad%20Vendida%20en%20%24604000.0%2C%20en%202014-12-09.Caracter%C3%ADsticas%3A%204%20habitaciones%2C%203.0%20ba%C3%B1os%2C%20constuida%20en%201965%2C%20%C3%A1rea%20de%201960%20pies%20cuadrados.%20Precio%20por%20pie%20cuadrado%3A%20308.16326530612247%3C/div%3E%60%29%5B0%5D%3B%0A%20%20%20%20%20%20%20%20%20%20%20%20popup_5054dcf263c24b408f271ea56ee82b84.setContent%28html_952756a3925b4adca8fe0f68e193713a%29%3B%0A%20%20%20%20%20%20%20%20%0A%0A%20%20%20%20%20%20%20%20marker_853c78b7747d4d1a8543dfea565047aa.bindPopup%28popup_5054dcf263c24b408f271ea56ee82b84%29%0A%20%20%20%20%20%20%20%20%3B%0A%0A%20%20%20%20%20%20%20%20%0A%20%20%20%20%0A%20%20%20%20%0A%20%20%20%20%20%20%20%20%20%20%20%20var%20marker_154ad3a47c7b4dd288ca6592a1bf3043%20%3D%20L.marker%28%0A%20%20%20%20%20%20%20%20%20%20%20%20%20%20%20%20%5B47.6168%2C%20-122.045%5D%2C%0A%20%20%20%20%20%20%20%20%20%20%20%20%20%20%20%20%7B%7D%0A%20%20%20%20%20%20%20%20%20%20%20%20%29.addTo%28marker_cluster_c55f5a73f08f48a0b55a048c760b3034%29%3B%0A%20%20%20%20%20%20%20%20%0A%20%20%20%20%0A%20%20%20%20%20%20%20%20var%20popup_3e94b43215f146f4bb2717a66619adc3%20%3D%20L.popup%28%7B%22maxWidth%22%3A%20%22100%25%22%7D%29%3B%0A%0A%20%20%20%20%20%20%20%20%0A%20%20%20%20%20%20%20%20%20%20%20%20var%20html_c9ce52b3944640e3932048f994d0c6d8%20%3D%20%24%28%60%3Cdiv%20id%3D%22html_c9ce52b3944640e3932048f994d0c6d8%22%20style%3D%22width%3A%20100.0%25%3B%20height%3A%20100.0%25%3B%22%3EPropiedad%20Vendida%20en%20%24510000.0%2C%20en%202015-02-18.Caracter%C3%ADsticas%3A%203%20habitaciones%2C%202.0%20ba%C3%B1os%2C%20constuida%20en%201987%2C%20%C3%A1rea%20de%201680%20pies%20cuadrados.%20Precio%20por%20pie%20cuadrado%3A%20303.57142857142856%3C/div%3E%60%29%5B0%5D%3B%0A%20%20%20%20%20%20%20%20%20%20%20%20popup_3e94b43215f146f4bb2717a66619adc3.setContent%28html_c9ce52b3944640e3932048f994d0c6d8%29%3B%0A%20%20%20%20%20%20%20%20%0A%0A%20%20%20%20%20%20%20%20marker_154ad3a47c7b4dd288ca6592a1bf3043.bindPopup%28popup_3e94b43215f146f4bb2717a66619adc3%29%0A%20%20%20%20%20%20%20%20%3B%0A%0A%20%20%20%20%20%20%20%20%0A%20%20%20%20%0A%20%20%20%20%0A%20%20%20%20%20%20%20%20%20%20%20%20var%20marker_d10c71c66a0344b496686b734afe3dd7%20%3D%20L.marker%28%0A%20%20%20%20%20%20%20%20%20%20%20%20%20%20%20%20%5B47.6561%2C%20-122.005%5D%2C%0A%20%20%20%20%20%20%20%20%20%20%20%20%20%20%20%20%7B%7D%0A%20%20%20%20%20%20%20%20%20%20%20%20%29.addTo%28marker_cluster_c55f5a73f08f48a0b55a048c760b3034%29%3B%0A%20%20%20%20%20%20%20%20%0A%20%20%20%20%0A%20%20%20%20%20%20%20%20var%20popup_6113c9f5f0df4c17aafc69436f72abec%20%3D%20L.popup%28%7B%22maxWidth%22%3A%20%22100%25%22%7D%29%3B%0A%0A%20%20%20%20%20%20%20%20%0A%20%20%20%20%20%20%20%20%20%20%20%20var%20html_29f9e7555bb547a384f8e096516a8098%20%3D%20%24%28%60%3Cdiv%20id%3D%22html_29f9e7555bb547a384f8e096516a8098%22%20style%3D%22width%3A%20100.0%25%3B%20height%3A%20100.0%25%3B%22%3EPropiedad%20Vendida%20en%20%241225000.0%2C%20en%202014-05-12.Caracter%C3%ADsticas%3A%204%20habitaciones%2C%204.5%20ba%C3%B1os%2C%20constuida%20en%202001%2C%20%C3%A1rea%20de%205420%20pies%20cuadrados.%20Precio%20por%20pie%20cuadrado%3A%20226.01476014760146%3C/div%3E%60%29%5B0%5D%3B%0A%20%20%20%20%20%20%20%20%20%20%20%20popup_6113c9f5f0df4c17aafc69436f72abec.setContent%28html_29f9e7555bb547a384f8e096516a8098%29%3B%0A%20%20%20%20%20%20%20%20%0A%0A%20%20%20%20%20%20%20%20marker_d10c71c66a0344b496686b734afe3dd7.bindPopup%28popup_6113c9f5f0df4c17aafc69436f72abec%29%0A%20%20%20%20%20%20%20%20%3B%0A%0A%20%20%20%20%20%20%20%20%0A%20%20%20%20%0A%20%20%20%20%0A%20%20%20%20%20%20%20%20%20%20%20%20var%20marker_ba92ef58f4114369810f03a9d720f0ad%20%3D%20L.marker%28%0A%20%20%20%20%20%20%20%20%20%20%20%20%20%20%20%20%5B47.3097%2C%20-122.327%5D%2C%0A%20%20%20%20%20%20%20%20%20%20%20%20%20%20%20%20%7B%7D%0A%20%20%20%20%20%20%20%20%20%20%20%20%29.addTo%28marker_cluster_c55f5a73f08f48a0b55a048c760b3034%29%3B%0A%20%20%20%20%20%20%20%20%0A%20%20%20%20%0A%20%20%20%20%20%20%20%20var%20popup_c102f0e0bde548a5aeba2ccc563bea51%20%3D%20L.popup%28%7B%22maxWidth%22%3A%20%22100%25%22%7D%29%3B%0A%0A%20%20%20%20%20%20%20%20%0A%20%20%20%20%20%20%20%20%20%20%20%20var%20html_df748ea57aa9478a9ce297d60b029547%20%3D%20%24%28%60%3Cdiv%20id%3D%22html_df748ea57aa9478a9ce297d60b029547%22%20style%3D%22width%3A%20100.0%25%3B%20height%3A%20100.0%25%3B%22%3EPropiedad%20Vendida%20en%20%24257500.0%2C%20en%202014-06-27.Caracter%C3%ADsticas%3A%203%20habitaciones%2C%202.25%20ba%C3%B1os%2C%20constuida%20en%201995%2C%20%C3%A1rea%20de%201715%20pies%20cuadrados.%20Precio%20por%20pie%20cuadrado%3A%20150.14577259475217%3C/div%3E%60%29%5B0%5D%3B%0A%20%20%20%20%20%20%20%20%20%20%20%20popup_c102f0e0bde548a5aeba2ccc563bea51.setContent%28html_df748ea57aa9478a9ce297d60b029547%29%3B%0A%20%20%20%20%20%20%20%20%0A%0A%20%20%20%20%20%20%20%20marker_ba92ef58f4114369810f03a9d720f0ad.bindPopup%28popup_c102f0e0bde548a5aeba2ccc563bea51%29%0A%20%20%20%20%20%20%20%20%3B%0A%0A%20%20%20%20%20%20%20%20%0A%20%20%20%20%0A%20%20%20%20%0A%20%20%20%20%20%20%20%20%20%20%20%20var%20marker_7de90e6a3c064ff1b3899afd55e64fc0%20%3D%20L.marker%28%0A%20%20%20%20%20%20%20%20%20%20%20%20%20%20%20%20%5B47.4095%2C%20-122.315%5D%2C%0A%20%20%20%20%20%20%20%20%20%20%20%20%20%20%20%20%7B%7D%0A%20%20%20%20%20%20%20%20%20%20%20%20%29.addTo%28marker_cluster_c55f5a73f08f48a0b55a048c760b3034%29%3B%0A%20%20%20%20%20%20%20%20%0A%20%20%20%20%0A%20%20%20%20%20%20%20%20var%20popup_0a6fd2c22930497585377506d076b8f5%20%3D%20L.popup%28%7B%22maxWidth%22%3A%20%22100%25%22%7D%29%3B%0A%0A%20%20%20%20%20%20%20%20%0A%20%20%20%20%20%20%20%20%20%20%20%20var%20html_d71d2c9049fb426b8d12dc4e66f1b795%20%3D%20%24%28%60%3Cdiv%20id%3D%22html_d71d2c9049fb426b8d12dc4e66f1b795%22%20style%3D%22width%3A%20100.0%25%3B%20height%3A%20100.0%25%3B%22%3EPropiedad%20Vendida%20en%20%24291850.0%2C%20en%202015-01-15.Caracter%C3%ADsticas%3A%203%20habitaciones%2C%201.5%20ba%C3%B1os%2C%20constuida%20en%201963%2C%20%C3%A1rea%20de%201060%20pies%20cuadrados.%20Precio%20por%20pie%20cuadrado%3A%20275.3301886792453%3C/div%3E%60%29%5B0%5D%3B%0A%20%20%20%20%20%20%20%20%20%20%20%20popup_0a6fd2c22930497585377506d076b8f5.setContent%28html_d71d2c9049fb426b8d12dc4e66f1b795%29%3B%0A%20%20%20%20%20%20%20%20%0A%0A%20%20%20%20%20%20%20%20marker_7de90e6a3c064ff1b3899afd55e64fc0.bindPopup%28popup_0a6fd2c22930497585377506d076b8f5%29%0A%20%20%20%20%20%20%20%20%3B%0A%0A%20%20%20%20%20%20%20%20%0A%20%20%20%20%0A%20%20%20%20%0A%20%20%20%20%20%20%20%20%20%20%20%20var%20marker_2e326263c091441ebe223d6bfe0a4bd3%20%3D%20L.marker%28%0A%20%20%20%20%20%20%20%20%20%20%20%20%20%20%20%20%5B47.5123%2C%20-122.337%5D%2C%0A%20%20%20%20%20%20%20%20%20%20%20%20%20%20%20%20%7B%7D%0A%20%20%20%20%20%20%20%20%20%20%20%20%29.addTo%28marker_cluster_c55f5a73f08f48a0b55a048c760b3034%29%3B%0A%20%20%20%20%20%20%20%20%0A%20%20%20%20%0A%20%20%20%20%20%20%20%20var%20popup_19f6a43c80eb4f9e83e21882a25842ee%20%3D%20L.popup%28%7B%22maxWidth%22%3A%20%22100%25%22%7D%29%3B%0A%0A%20%20%20%20%20%20%20%20%0A%20%20%20%20%20%20%20%20%20%20%20%20var%20html_6403f3aab6134d5291095b5572add575%20%3D%20%24%28%60%3Cdiv%20id%3D%22html_6403f3aab6134d5291095b5572add575%22%20style%3D%22width%3A%20100.0%25%3B%20height%3A%20100.0%25%3B%22%3EPropiedad%20Vendida%20en%20%24229500.0%2C%20en%202015-04-15.Caracter%C3%ADsticas%3A%203%20habitaciones%2C%201.0%20ba%C3%B1os%2C%20constuida%20en%201960%2C%20%C3%A1rea%20de%201780%20pies%20cuadrados.%20Precio%20por%20pie%20cuadrado%3A%20128.93258426966293%3C/div%3E%60%29%5B0%5D%3B%0A%20%20%20%20%20%20%20%20%20%20%20%20popup_19f6a43c80eb4f9e83e21882a25842ee.setContent%28html_6403f3aab6134d5291095b5572add575%29%3B%0A%20%20%20%20%20%20%20%20%0A%0A%20%20%20%20%20%20%20%20marker_2e326263c091441ebe223d6bfe0a4bd3.bindPopup%28popup_19f6a43c80eb4f9e83e21882a25842ee%29%0A%20%20%20%20%20%20%20%20%3B%0A%0A%20%20%20%20%20%20%20%20%0A%20%20%20%20%0A%20%20%20%20%0A%20%20%20%20%20%20%20%20%20%20%20%20var%20marker_74e3b77b235148e7b26b1fcfac1696a9%20%3D%20L.marker%28%0A%20%20%20%20%20%20%20%20%20%20%20%20%20%20%20%20%5B47.3684%2C%20-122.031%5D%2C%0A%20%20%20%20%20%20%20%20%20%20%20%20%20%20%20%20%7B%7D%0A%20%20%20%20%20%20%20%20%20%20%20%20%29.addTo%28marker_cluster_c55f5a73f08f48a0b55a048c760b3034%29%3B%0A%20%20%20%20%20%20%20%20%0A%20%20%20%20%0A%20%20%20%20%20%20%20%20var%20popup_bd15cfdffb8c455cb7e0aa5e1262f203%20%3D%20L.popup%28%7B%22maxWidth%22%3A%20%22100%25%22%7D%29%3B%0A%0A%20%20%20%20%20%20%20%20%0A%20%20%20%20%20%20%20%20%20%20%20%20var%20html_954682a755db4a2092f08393680c45f6%20%3D%20%24%28%60%3Cdiv%20id%3D%22html_954682a755db4a2092f08393680c45f6%22%20style%3D%22width%3A%20100.0%25%3B%20height%3A%20100.0%25%3B%22%3EPropiedad%20Vendida%20en%20%24323000.0%2C%20en%202015-03-12.Caracter%C3%ADsticas%3A%203%20habitaciones%2C%202.5%20ba%C3%B1os%2C%20constuida%20en%202003%2C%20%C3%A1rea%20de%201890%20pies%20cuadrados.%20Precio%20por%20pie%20cuadrado%3A%20170.8994708994709%3C/div%3E%60%29%5B0%5D%3B%0A%20%20%20%20%20%20%20%20%20%20%20%20popup_bd15cfdffb8c455cb7e0aa5e1262f203.setContent%28html_954682a755db4a2092f08393680c45f6%29%3B%0A%20%20%20%20%20%20%20%20%0A%0A%20%20%20%20%20%20%20%20marker_74e3b77b235148e7b26b1fcfac1696a9.bindPopup%28popup_bd15cfdffb8c455cb7e0aa5e1262f203%29%0A%20%20%20%20%20%20%20%20%3B%0A%0A%20%20%20%20%20%20%20%20%0A%20%20%20%20%0A%20%20%20%20%0A%20%20%20%20%20%20%20%20%20%20%20%20var%20marker_b97cf50d84bb41cdba9f6ee0d2c74c1f%20%3D%20L.marker%28%0A%20%20%20%20%20%20%20%20%20%20%20%20%20%20%20%20%5B47.6007%2C%20-122.145%5D%2C%0A%20%20%20%20%20%20%20%20%20%20%20%20%20%20%20%20%7B%7D%0A%20%20%20%20%20%20%20%20%20%20%20%20%29.addTo%28marker_cluster_c55f5a73f08f48a0b55a048c760b3034%29%3B%0A%20%20%20%20%20%20%20%20%0A%20%20%20%20%0A%20%20%20%20%20%20%20%20var%20popup_de96a05f4a3a45f5898f9e9116434014%20%3D%20L.popup%28%7B%22maxWidth%22%3A%20%22100%25%22%7D%29%3B%0A%0A%20%20%20%20%20%20%20%20%0A%20%20%20%20%20%20%20%20%20%20%20%20var%20html_ba3c1c2b68384037a516e4e820c9dcb0%20%3D%20%24%28%60%3Cdiv%20id%3D%22html_ba3c1c2b68384037a516e4e820c9dcb0%22%20style%3D%22width%3A%20100.0%25%3B%20height%3A%20100.0%25%3B%22%3EPropiedad%20Vendida%20en%20%24662500.0%2C%20en%202015-04-03.Caracter%C3%ADsticas%3A%203%20habitaciones%2C%202.5%20ba%C3%B1os%2C%20constuida%20en%201965%2C%20%C3%A1rea%20de%203560%20pies%20cuadrados.%20Precio%20por%20pie%20cuadrado%3A%20186.09550561797752%3C/div%3E%60%29%5B0%5D%3B%0A%20%20%20%20%20%20%20%20%20%20%20%20popup_de96a05f4a3a45f5898f9e9116434014.setContent%28html_ba3c1c2b68384037a516e4e820c9dcb0%29%3B%0A%20%20%20%20%20%20%20%20%0A%0A%20%20%20%20%20%20%20%20marker_b97cf50d84bb41cdba9f6ee0d2c74c1f.bindPopup%28popup_de96a05f4a3a45f5898f9e9116434014%29%0A%20%20%20%20%20%20%20%20%3B%0A%0A%20%20%20%20%20%20%20%20%0A%20%20%20%20%0A%20%20%20%20%0A%20%20%20%20%20%20%20%20%20%20%20%20var%20marker_682e7403d29a4a05af620ac18ab67382%20%3D%20L.marker%28%0A%20%20%20%20%20%20%20%20%20%20%20%20%20%20%20%20%5B47.69%2C%20-122.292%5D%2C%0A%20%20%20%20%20%20%20%20%20%20%20%20%20%20%20%20%7B%7D%0A%20%20%20%20%20%20%20%20%20%20%20%20%29.addTo%28marker_cluster_c55f5a73f08f48a0b55a048c760b3034%29%3B%0A%20%20%20%20%20%20%20%20%0A%20%20%20%20%0A%20%20%20%20%20%20%20%20var%20popup_eb6f5ac978c54b52bba4361064e2651c%20%3D%20L.popup%28%7B%22maxWidth%22%3A%20%22100%25%22%7D%29%3B%0A%0A%20%20%20%20%20%20%20%20%0A%20%20%20%20%20%20%20%20%20%20%20%20var%20html_6dcf763095a64a45a4750c39f22ec0cc%20%3D%20%24%28%60%3Cdiv%20id%3D%22html_6dcf763095a64a45a4750c39f22ec0cc%22%20style%3D%22width%3A%20100.0%25%3B%20height%3A%20100.0%25%3B%22%3EPropiedad%20Vendida%20en%20%24468000.0%2C%20en%202014-05-27.Caracter%C3%ADsticas%3A%202%20habitaciones%2C%201.0%20ba%C3%B1os%2C%20constuida%20en%201942%2C%20%C3%A1rea%20de%201160%20pies%20cuadrados.%20Precio%20por%20pie%20cuadrado%3A%20403.44827586206895%3C/div%3E%60%29%5B0%5D%3B%0A%20%20%20%20%20%20%20%20%20%20%20%20popup_eb6f5ac978c54b52bba4361064e2651c.setContent%28html_6dcf763095a64a45a4750c39f22ec0cc%29%3B%0A%20%20%20%20%20%20%20%20%0A%0A%20%20%20%20%20%20%20%20marker_682e7403d29a4a05af620ac18ab67382.bindPopup%28popup_eb6f5ac978c54b52bba4361064e2651c%29%0A%20%20%20%20%20%20%20%20%3B%0A%0A%20%20%20%20%20%20%20%20%0A%20%20%20%20%0A%20%20%20%20%0A%20%20%20%20%20%20%20%20%20%20%20%20var%20marker_50bf41be3ef249f58a051fd7a96883ff%20%3D%20L.marker%28%0A%20%20%20%20%20%20%20%20%20%20%20%20%20%20%20%20%5B47.7558%2C%20-122.229%5D%2C%0A%20%20%20%20%20%20%20%20%20%20%20%20%20%20%20%20%7B%7D%0A%20%20%20%20%20%20%20%20%20%20%20%20%29.addTo%28marker_cluster_c55f5a73f08f48a0b55a048c760b3034%29%3B%0A%20%20%20%20%20%20%20%20%0A%20%20%20%20%0A%20%20%20%20%20%20%20%20var%20popup_54e9b715e890483490358b7d088e7853%20%3D%20L.popup%28%7B%22maxWidth%22%3A%20%22100%25%22%7D%29%3B%0A%0A%20%20%20%20%20%20%20%20%0A%20%20%20%20%20%20%20%20%20%20%20%20var%20html_ab81f02871f64a5186df466a17094a5e%20%3D%20%24%28%60%3Cdiv%20id%3D%22html_ab81f02871f64a5186df466a17094a5e%22%20style%3D%22width%3A%20100.0%25%3B%20height%3A%20100.0%25%3B%22%3EPropiedad%20Vendida%20en%20%24310000.0%2C%20en%202014-05-28.Caracter%C3%ADsticas%3A%203%20habitaciones%2C%201.0%20ba%C3%B1os%2C%20constuida%20en%201927%2C%20%C3%A1rea%20de%201430%20pies%20cuadrados.%20Precio%20por%20pie%20cuadrado%3A%20216.78321678321677%3C/div%3E%60%29%5B0%5D%3B%0A%20%20%20%20%20%20%20%20%20%20%20%20popup_54e9b715e890483490358b7d088e7853.setContent%28html_ab81f02871f64a5186df466a17094a5e%29%3B%0A%20%20%20%20%20%20%20%20%0A%0A%20%20%20%20%20%20%20%20marker_50bf41be3ef249f58a051fd7a96883ff.bindPopup%28popup_54e9b715e890483490358b7d088e7853%29%0A%20%20%20%20%20%20%20%20%3B%0A%0A%20%20%20%20%20%20%20%20%0A%20%20%20%20%0A%20%20%20%20%0A%20%20%20%20%20%20%20%20%20%20%20%20var%20marker_98c21ab76f994940a334c23572ea9510%20%3D%20L.marker%28%0A%20%20%20%20%20%20%20%20%20%20%20%20%20%20%20%20%5B47.6127%2C%20-122.045%5D%2C%0A%20%20%20%20%20%20%20%20%20%20%20%20%20%20%20%20%7B%7D%0A%20%20%20%20%20%20%20%20%20%20%20%20%29.addTo%28marker_cluster_c55f5a73f08f48a0b55a048c760b3034%29%3B%0A%20%20%20%20%20%20%20%20%0A%20%20%20%20%0A%20%20%20%20%20%20%20%20var%20popup_01457486f8b8416b93de4ac0e290c1cd%20%3D%20L.popup%28%7B%22maxWidth%22%3A%20%22100%25%22%7D%29%3B%0A%0A%20%20%20%20%20%20%20%20%0A%20%20%20%20%20%20%20%20%20%20%20%20var%20html_d2050bfe93a5431a986a55c56d2c203d%20%3D%20%24%28%60%3Cdiv%20id%3D%22html_d2050bfe93a5431a986a55c56d2c203d%22%20style%3D%22width%3A%20100.0%25%3B%20height%3A%20100.0%25%3B%22%3EPropiedad%20Vendida%20en%20%24400000.0%2C%20en%202014-10-07.Caracter%C3%ADsticas%3A%203%20habitaciones%2C%201.75%20ba%C3%B1os%2C%20constuida%20en%201977%2C%20%C3%A1rea%20de%201370%20pies%20cuadrados.%20Precio%20por%20pie%20cuadrado%3A%20291.97080291970804%3C/div%3E%60%29%5B0%5D%3B%0A%20%20%20%20%20%20%20%20%20%20%20%20popup_01457486f8b8416b93de4ac0e290c1cd.setContent%28html_d2050bfe93a5431a986a55c56d2c203d%29%3B%0A%20%20%20%20%20%20%20%20%0A%0A%20%20%20%20%20%20%20%20marker_98c21ab76f994940a334c23572ea9510.bindPopup%28popup_01457486f8b8416b93de4ac0e290c1cd%29%0A%20%20%20%20%20%20%20%20%3B%0A%0A%20%20%20%20%20%20%20%20%0A%20%20%20%20%0A%20%20%20%20%0A%20%20%20%20%20%20%20%20%20%20%20%20var%20marker_6158a6e42c2c4c80a8c9b83e76f5afac%20%3D%20L.marker%28%0A%20%20%20%20%20%20%20%20%20%20%20%20%20%20%20%20%5B47.67%2C%20-122.394%5D%2C%0A%20%20%20%20%20%20%20%20%20%20%20%20%20%20%20%20%7B%7D%0A%20%20%20%20%20%20%20%20%20%20%20%20%29.addTo%28marker_cluster_c55f5a73f08f48a0b55a048c760b3034%29%3B%0A%20%20%20%20%20%20%20%20%0A%20%20%20%20%0A%20%20%20%20%20%20%20%20var%20popup_13f066695a5543e4ac39d8f1ad3a5809%20%3D%20L.popup%28%7B%22maxWidth%22%3A%20%22100%25%22%7D%29%3B%0A%0A%20%20%20%20%20%20%20%20%0A%20%20%20%20%20%20%20%20%20%20%20%20var%20html_a70033f5a1d845d584d2b8800842c01b%20%3D%20%24%28%60%3Cdiv%20id%3D%22html_a70033f5a1d845d584d2b8800842c01b%22%20style%3D%22width%3A%20100.0%25%3B%20height%3A%20100.0%25%3B%22%3EPropiedad%20Vendida%20en%20%24530000.0%2C%20en%202015-03-12.Caracter%C3%ADsticas%3A%205%20habitaciones%2C%202.0%20ba%C3%B1os%2C%20constuida%20en%201900%2C%20%C3%A1rea%20de%201810%20pies%20cuadrados.%20Precio%20por%20pie%20cuadrado%3A%20292.81767955801104%3C/div%3E%60%29%5B0%5D%3B%0A%20%20%20%20%20%20%20%20%20%20%20%20popup_13f066695a5543e4ac39d8f1ad3a5809.setContent%28html_a70033f5a1d845d584d2b8800842c01b%29%3B%0A%20%20%20%20%20%20%20%20%0A%0A%20%20%20%20%20%20%20%20marker_6158a6e42c2c4c80a8c9b83e76f5afac.bindPopup%28popup_13f066695a5543e4ac39d8f1ad3a5809%29%0A%20%20%20%20%20%20%20%20%3B%0A%0A%20%20%20%20%20%20%20%20%0A%20%20%20%20%0A%20%20%20%20%0A%20%20%20%20%20%20%20%20%20%20%20%20var%20marker_1d583159b68b411295310eed16fadb4d%20%3D%20L.marker%28%0A%20%20%20%20%20%20%20%20%20%20%20%20%20%20%20%20%5B47.5714%2C%20-122.375%5D%2C%0A%20%20%20%20%20%20%20%20%20%20%20%20%20%20%20%20%7B%7D%0A%20%20%20%20%20%20%20%20%20%20%20%20%29.addTo%28marker_cluster_c55f5a73f08f48a0b55a048c760b3034%29%3B%0A%20%20%20%20%20%20%20%20%0A%20%20%20%20%0A%20%20%20%20%20%20%20%20var%20popup_bc0eab6e89d144118728369be2b32403%20%3D%20L.popup%28%7B%22maxWidth%22%3A%20%22100%25%22%7D%29%3B%0A%0A%20%20%20%20%20%20%20%20%0A%20%20%20%20%20%20%20%20%20%20%20%20var%20html_0a4a4d87649249d38c3c4475c33cd692%20%3D%20%24%28%60%3Cdiv%20id%3D%22html_0a4a4d87649249d38c3c4475c33cd692%22%20style%3D%22width%3A%20100.0%25%3B%20height%3A%20100.0%25%3B%22%3EPropiedad%20Vendida%20en%20%24650000.0%2C%20en%202015-01-24.Caracter%C3%ADsticas%3A%204%20habitaciones%2C%203.0%20ba%C3%B1os%2C%20constuida%20en%201979%2C%20%C3%A1rea%20de%202950%20pies%20cuadrados.%20Precio%20por%20pie%20cuadrado%3A%20220.33898305084745%3C/div%3E%60%29%5B0%5D%3B%0A%20%20%20%20%20%20%20%20%20%20%20%20popup_bc0eab6e89d144118728369be2b32403.setContent%28html_0a4a4d87649249d38c3c4475c33cd692%29%3B%0A%20%20%20%20%20%20%20%20%0A%0A%20%20%20%20%20%20%20%20marker_1d583159b68b411295310eed16fadb4d.bindPopup%28popup_bc0eab6e89d144118728369be2b32403%29%0A%20%20%20%20%20%20%20%20%3B%0A%0A%20%20%20%20%20%20%20%20%0A%20%20%20%20%0A%20%20%20%20%0A%20%20%20%20%20%20%20%20%20%20%20%20var%20marker_cf3bbbe9b91c429386b0962a4c56321f%20%3D%20L.marker%28%0A%20%20%20%20%20%20%20%20%20%20%20%20%20%20%20%20%5B47.7277%2C%20-121.962%5D%2C%0A%20%20%20%20%20%20%20%20%20%20%20%20%20%20%20%20%7B%7D%0A%20%20%20%20%20%20%20%20%20%20%20%20%29.addTo%28marker_cluster_c55f5a73f08f48a0b55a048c760b3034%29%3B%0A%20%20%20%20%20%20%20%20%0A%20%20%20%20%0A%20%20%20%20%20%20%20%20var%20popup_edfaa763f4554f9c8e3efce5c32b4855%20%3D%20L.popup%28%7B%22maxWidth%22%3A%20%22100%25%22%7D%29%3B%0A%0A%20%20%20%20%20%20%20%20%0A%20%20%20%20%20%20%20%20%20%20%20%20var%20html_a7d115cb67924a3d926a896263e68375%20%3D%20%24%28%60%3Cdiv%20id%3D%22html_a7d115cb67924a3d926a896263e68375%22%20style%3D%22width%3A%20100.0%25%3B%20height%3A%20100.0%25%3B%22%3EPropiedad%20Vendida%20en%20%24395000.0%2C%20en%202014-07-31.Caracter%C3%ADsticas%3A%203%20habitaciones%2C%202.0%20ba%C3%B1os%2C%20constuida%20en%201994%2C%20%C3%A1rea%20de%201890%20pies%20cuadrados.%20Precio%20por%20pie%20cuadrado%3A%20208.994708994709%3C/div%3E%60%29%5B0%5D%3B%0A%20%20%20%20%20%20%20%20%20%20%20%20popup_edfaa763f4554f9c8e3efce5c32b4855.setContent%28html_a7d115cb67924a3d926a896263e68375%29%3B%0A%20%20%20%20%20%20%20%20%0A%0A%20%20%20%20%20%20%20%20marker_cf3bbbe9b91c429386b0962a4c56321f.bindPopup%28popup_edfaa763f4554f9c8e3efce5c32b4855%29%0A%20%20%20%20%20%20%20%20%3B%0A%0A%20%20%20%20%20%20%20%20%0A%20%20%20%20%0A%20%20%20%20%0A%20%20%20%20%20%20%20%20%20%20%20%20var%20marker_34dcadebdfd04e6d958ed357d8d8bedd%20%3D%20L.marker%28%0A%20%20%20%20%20%20%20%20%20%20%20%20%20%20%20%20%5B47.6648%2C%20-122.343%5D%2C%0A%20%20%20%20%20%20%20%20%20%20%20%20%20%20%20%20%7B%7D%0A%20%20%20%20%20%20%20%20%20%20%20%20%29.addTo%28marker_cluster_c55f5a73f08f48a0b55a048c760b3034%29%3B%0A%20%20%20%20%20%20%20%20%0A%20%20%20%20%0A%20%20%20%20%20%20%20%20var%20popup_e9816527d5364c91886386e11df7e7e2%20%3D%20L.popup%28%7B%22maxWidth%22%3A%20%22100%25%22%7D%29%3B%0A%0A%20%20%20%20%20%20%20%20%0A%20%20%20%20%20%20%20%20%20%20%20%20var%20html_baf3869da2fc4b11a858e9e4b9a4b978%20%3D%20%24%28%60%3Cdiv%20id%3D%22html_baf3869da2fc4b11a858e9e4b9a4b978%22%20style%3D%22width%3A%20100.0%25%3B%20height%3A%20100.0%25%3B%22%3EPropiedad%20Vendida%20en%20%24485000.0%2C%20en%202014-05-29.Caracter%C3%ADsticas%3A%204%20habitaciones%2C%201.0%20ba%C3%B1os%2C%20constuida%20en%201916%2C%20%C3%A1rea%20de%201600%20pies%20cuadrados.%20Precio%20por%20pie%20cuadrado%3A%20303.125%3C/div%3E%60%29%5B0%5D%3B%0A%20%20%20%20%20%20%20%20%20%20%20%20popup_e9816527d5364c91886386e11df7e7e2.setContent%28html_baf3869da2fc4b11a858e9e4b9a4b978%29%3B%0A%20%20%20%20%20%20%20%20%0A%0A%20%20%20%20%20%20%20%20marker_34dcadebdfd04e6d958ed357d8d8bedd.bindPopup%28popup_e9816527d5364c91886386e11df7e7e2%29%0A%20%20%20%20%20%20%20%20%3B%0A%0A%20%20%20%20%20%20%20%20%0A%20%20%20%20%0A%20%20%20%20%0A%20%20%20%20%20%20%20%20%20%20%20%20var%20marker_37a27a2a23764a98a90686b28c5cdb74%20%3D%20L.marker%28%0A%20%20%20%20%20%20%20%20%20%20%20%20%20%20%20%20%5B47.3089%2C%20-122.21%5D%2C%0A%20%20%20%20%20%20%20%20%20%20%20%20%20%20%20%20%7B%7D%0A%20%20%20%20%20%20%20%20%20%20%20%20%29.addTo%28marker_cluster_c55f5a73f08f48a0b55a048c760b3034%29%3B%0A%20%20%20%20%20%20%20%20%0A%20%20%20%20%0A%20%20%20%20%20%20%20%20var%20popup_f3dfb2d5c4aa41889dd53aa64e8e495e%20%3D%20L.popup%28%7B%22maxWidth%22%3A%20%22100%25%22%7D%29%3B%0A%0A%20%20%20%20%20%20%20%20%0A%20%20%20%20%20%20%20%20%20%20%20%20var%20html_52e76bcbf00440798fa780c25d36b9c4%20%3D%20%24%28%60%3Cdiv%20id%3D%22html_52e76bcbf00440798fa780c25d36b9c4%22%20style%3D%22width%3A%20100.0%25%3B%20height%3A%20100.0%25%3B%22%3EPropiedad%20Vendida%20en%20%24189000.0%2C%20en%202014-12-05.Caracter%C3%ADsticas%3A%202%20habitaciones%2C%201.0%20ba%C3%B1os%2C%20constuida%20en%201921%2C%20%C3%A1rea%20de%201200%20pies%20cuadrados.%20Precio%20por%20pie%20cuadrado%3A%20157.5%3C/div%3E%60%29%5B0%5D%3B%0A%20%20%20%20%20%20%20%20%20%20%20%20popup_f3dfb2d5c4aa41889dd53aa64e8e495e.setContent%28html_52e76bcbf00440798fa780c25d36b9c4%29%3B%0A%20%20%20%20%20%20%20%20%0A%0A%20%20%20%20%20%20%20%20marker_37a27a2a23764a98a90686b28c5cdb74.bindPopup%28popup_f3dfb2d5c4aa41889dd53aa64e8e495e%29%0A%20%20%20%20%20%20%20%20%3B%0A%0A%20%20%20%20%20%20%20%20%0A%20%20%20%20%0A%20%20%20%20%0A%20%20%20%20%20%20%20%20%20%20%20%20var%20marker_237fd54a99e144b78cb66db882508180%20%3D%20L.marker%28%0A%20%20%20%20%20%20%20%20%20%20%20%20%20%20%20%20%5B47.3343%2C%20-122.306%5D%2C%0A%20%20%20%20%20%20%20%20%20%20%20%20%20%20%20%20%7B%7D%0A%20%20%20%20%20%20%20%20%20%20%20%20%29.addTo%28marker_cluster_c55f5a73f08f48a0b55a048c760b3034%29%3B%0A%20%20%20%20%20%20%20%20%0A%20%20%20%20%0A%20%20%20%20%20%20%20%20var%20popup_2b0cb44c8ec2400a8f7936dcbbbd3484%20%3D%20L.popup%28%7B%22maxWidth%22%3A%20%22100%25%22%7D%29%3B%0A%0A%20%20%20%20%20%20%20%20%0A%20%20%20%20%20%20%20%20%20%20%20%20var%20html_cb9de82d464b4946ab80319457d1ca51%20%3D%20%24%28%60%3Cdiv%20id%3D%22html_cb9de82d464b4946ab80319457d1ca51%22%20style%3D%22width%3A%20100.0%25%3B%20height%3A%20100.0%25%3B%22%3EPropiedad%20Vendida%20en%20%24230000.0%2C%20en%202015-04-24.Caracter%C3%ADsticas%3A%203%20habitaciones%2C%201.0%20ba%C3%B1os%2C%20constuida%20en%201969%2C%20%C3%A1rea%20de%201250%20pies%20cuadrados.%20Precio%20por%20pie%20cuadrado%3A%20184.0%3C/div%3E%60%29%5B0%5D%3B%0A%20%20%20%20%20%20%20%20%20%20%20%20popup_2b0cb44c8ec2400a8f7936dcbbbd3484.setContent%28html_cb9de82d464b4946ab80319457d1ca51%29%3B%0A%20%20%20%20%20%20%20%20%0A%0A%20%20%20%20%20%20%20%20marker_237fd54a99e144b78cb66db882508180.bindPopup%28popup_2b0cb44c8ec2400a8f7936dcbbbd3484%29%0A%20%20%20%20%20%20%20%20%3B%0A%0A%20%20%20%20%20%20%20%20%0A%20%20%20%20%0A%20%20%20%20%0A%20%20%20%20%20%20%20%20%20%20%20%20var%20marker_b0bf62229a7548cd9986fe664c1e2fa9%20%3D%20L.marker%28%0A%20%20%20%20%20%20%20%20%20%20%20%20%20%20%20%20%5B47.7025%2C%20-122.341%5D%2C%0A%20%20%20%20%20%20%20%20%20%20%20%20%20%20%20%20%7B%7D%0A%20%20%20%20%20%20%20%20%20%20%20%20%29.addTo%28marker_cluster_c55f5a73f08f48a0b55a048c760b3034%29%3B%0A%20%20%20%20%20%20%20%20%0A%20%20%20%20%0A%20%20%20%20%20%20%20%20var%20popup_1a1e4fc0854441cb9e6635cc83a63f0f%20%3D%20L.popup%28%7B%22maxWidth%22%3A%20%22100%25%22%7D%29%3B%0A%0A%20%20%20%20%20%20%20%20%0A%20%20%20%20%20%20%20%20%20%20%20%20var%20html_dde22a6fef5b4dd6950ee509d50a136c%20%3D%20%24%28%60%3Cdiv%20id%3D%22html_dde22a6fef5b4dd6950ee509d50a136c%22%20style%3D%22width%3A%20100.0%25%3B%20height%3A%20100.0%25%3B%22%3EPropiedad%20Vendida%20en%20%24385000.0%2C%20en%202014-05-14.Caracter%C3%ADsticas%3A%204%20habitaciones%2C%201.75%20ba%C3%B1os%2C%20constuida%20en%201947%2C%20%C3%A1rea%20de%201620%20pies%20cuadrados.%20Precio%20por%20pie%20cuadrado%3A%20237.65432098765433%3C/div%3E%60%29%5B0%5D%3B%0A%20%20%20%20%20%20%20%20%20%20%20%20popup_1a1e4fc0854441cb9e6635cc83a63f0f.setContent%28html_dde22a6fef5b4dd6950ee509d50a136c%29%3B%0A%20%20%20%20%20%20%20%20%0A%0A%20%20%20%20%20%20%20%20marker_b0bf62229a7548cd9986fe664c1e2fa9.bindPopup%28popup_1a1e4fc0854441cb9e6635cc83a63f0f%29%0A%20%20%20%20%20%20%20%20%3B%0A%0A%20%20%20%20%20%20%20%20%0A%20%20%20%20%0A%20%20%20%20%0A%20%20%20%20%20%20%20%20%20%20%20%20var%20marker_98b9a1721a504a99bb92cdc12a7824f9%20%3D%20L.marker%28%0A%20%20%20%20%20%20%20%20%20%20%20%20%20%20%20%20%5B47.5316%2C%20-122.233%5D%2C%0A%20%20%20%20%20%20%20%20%20%20%20%20%20%20%20%20%7B%7D%0A%20%20%20%20%20%20%20%20%20%20%20%20%29.addTo%28marker_cluster_c55f5a73f08f48a0b55a048c760b3034%29%3B%0A%20%20%20%20%20%20%20%20%0A%20%20%20%20%0A%20%20%20%20%20%20%20%20var%20popup_8c45b56257114a59b1a5e2e26578ba0b%20%3D%20L.popup%28%7B%22maxWidth%22%3A%20%22100%25%22%7D%29%3B%0A%0A%20%20%20%20%20%20%20%20%0A%20%20%20%20%20%20%20%20%20%20%20%20var%20html_8b4c0981fc5a4061a97a490e278b414c%20%3D%20%24%28%60%3Cdiv%20id%3D%22html_8b4c0981fc5a4061a97a490e278b414c%22%20style%3D%22width%3A%20100.0%25%3B%20height%3A%20100.0%25%3B%22%3EPropiedad%20Vendida%20en%20%242000000.0%2C%20en%202014-08-26.Caracter%C3%ADsticas%3A%203%20habitaciones%2C%202.75%20ba%C3%B1os%2C%20constuida%20en%201968%2C%20%C3%A1rea%20de%203050%20pies%20cuadrados.%20Precio%20por%20pie%20cuadrado%3A%20655.7377049180328%3C/div%3E%60%29%5B0%5D%3B%0A%20%20%20%20%20%20%20%20%20%20%20%20popup_8c45b56257114a59b1a5e2e26578ba0b.setContent%28html_8b4c0981fc5a4061a97a490e278b414c%29%3B%0A%20%20%20%20%20%20%20%20%0A%0A%20%20%20%20%20%20%20%20marker_98b9a1721a504a99bb92cdc12a7824f9.bindPopup%28popup_8c45b56257114a59b1a5e2e26578ba0b%29%0A%20%20%20%20%20%20%20%20%3B%0A%0A%20%20%20%20%20%20%20%20%0A%20%20%20%20%0A%20%20%20%20%0A%20%20%20%20%20%20%20%20%20%20%20%20var%20marker_8abed69143e44d609e082092be213fba%20%3D%20L.marker%28%0A%20%20%20%20%20%20%20%20%20%20%20%20%20%20%20%20%5B47.3266%2C%20-122.169%5D%2C%0A%20%20%20%20%20%20%20%20%20%20%20%20%20%20%20%20%7B%7D%0A%20%20%20%20%20%20%20%20%20%20%20%20%29.addTo%28marker_cluster_c55f5a73f08f48a0b55a048c760b3034%29%3B%0A%20%20%20%20%20%20%20%20%0A%20%20%20%20%0A%20%20%20%20%20%20%20%20var%20popup_c1d074d456a5478ba5d95a51facda8fb%20%3D%20L.popup%28%7B%22maxWidth%22%3A%20%22100%25%22%7D%29%3B%0A%0A%20%20%20%20%20%20%20%20%0A%20%20%20%20%20%20%20%20%20%20%20%20var%20html_5e9be69ce7854ea0a4ec90f9964f6b4f%20%3D%20%24%28%60%3Cdiv%20id%3D%22html_5e9be69ce7854ea0a4ec90f9964f6b4f%22%20style%3D%22width%3A%20100.0%25%3B%20height%3A%20100.0%25%3B%22%3EPropiedad%20Vendida%20en%20%24285000.0%2C%20en%202014-07-03.Caracter%C3%ADsticas%3A%205%20habitaciones%2C%202.5%20ba%C3%B1os%2C%20constuida%20en%201995%2C%20%C3%A1rea%20de%202270%20pies%20cuadrados.%20Precio%20por%20pie%20cuadrado%3A%20125.55066079295155%3C/div%3E%60%29%5B0%5D%3B%0A%20%20%20%20%20%20%20%20%20%20%20%20popup_c1d074d456a5478ba5d95a51facda8fb.setContent%28html_5e9be69ce7854ea0a4ec90f9964f6b4f%29%3B%0A%20%20%20%20%20%20%20%20%0A%0A%20%20%20%20%20%20%20%20marker_8abed69143e44d609e082092be213fba.bindPopup%28popup_c1d074d456a5478ba5d95a51facda8fb%29%0A%20%20%20%20%20%20%20%20%3B%0A%0A%20%20%20%20%20%20%20%20%0A%20%20%20%20%0A%20%20%20%20%0A%20%20%20%20%20%20%20%20%20%20%20%20var%20marker_73636bea5a834b4986d8ee5fca765ef1%20%3D%20L.marker%28%0A%20%20%20%20%20%20%20%20%20%20%20%20%20%20%20%20%5B47.3533%2C%20-122.166%5D%2C%0A%20%20%20%20%20%20%20%20%20%20%20%20%20%20%20%20%7B%7D%0A%20%20%20%20%20%20%20%20%20%20%20%20%29.addTo%28marker_cluster_c55f5a73f08f48a0b55a048c760b3034%29%3B%0A%20%20%20%20%20%20%20%20%0A%20%20%20%20%0A%20%20%20%20%20%20%20%20var%20popup_e728610d53674cbd84853b9221cf5cd4%20%3D%20L.popup%28%7B%22maxWidth%22%3A%20%22100%25%22%7D%29%3B%0A%0A%20%20%20%20%20%20%20%20%0A%20%20%20%20%20%20%20%20%20%20%20%20var%20html_c5db42dafb4e4aed97b54bc55982dbdd%20%3D%20%24%28%60%3Cdiv%20id%3D%22html_c5db42dafb4e4aed97b54bc55982dbdd%22%20style%3D%22width%3A%20100.0%25%3B%20height%3A%20100.0%25%3B%22%3EPropiedad%20Vendida%20en%20%24252700.0%2C%20en%202014-05-16.Caracter%C3%ADsticas%3A%202%20habitaciones%2C%201.5%20ba%C3%B1os%2C%20constuida%20en%201985%2C%20%C3%A1rea%20de%201070%20pies%20cuadrados.%20Precio%20por%20pie%20cuadrado%3A%20236.16822429906543%3C/div%3E%60%29%5B0%5D%3B%0A%20%20%20%20%20%20%20%20%20%20%20%20popup_e728610d53674cbd84853b9221cf5cd4.setContent%28html_c5db42dafb4e4aed97b54bc55982dbdd%29%3B%0A%20%20%20%20%20%20%20%20%0A%0A%20%20%20%20%20%20%20%20marker_73636bea5a834b4986d8ee5fca765ef1.bindPopup%28popup_e728610d53674cbd84853b9221cf5cd4%29%0A%20%20%20%20%20%20%20%20%3B%0A%0A%20%20%20%20%20%20%20%20%0A%20%20%20%20%0A%20%20%20%20%0A%20%20%20%20%20%20%20%20%20%20%20%20var%20marker_2781b9cae48449ca9395f8d8528f8b5a%20%3D%20L.marker%28%0A%20%20%20%20%20%20%20%20%20%20%20%20%20%20%20%20%5B47.3739%2C%20-122.172%5D%2C%0A%20%20%20%20%20%20%20%20%20%20%20%20%20%20%20%20%7B%7D%0A%20%20%20%20%20%20%20%20%20%20%20%20%29.addTo%28marker_cluster_c55f5a73f08f48a0b55a048c760b3034%29%3B%0A%20%20%20%20%20%20%20%20%0A%20%20%20%20%0A%20%20%20%20%20%20%20%20var%20popup_7cbae9eb2bf043739f6b151af5eddced%20%3D%20L.popup%28%7B%22maxWidth%22%3A%20%22100%25%22%7D%29%3B%0A%0A%20%20%20%20%20%20%20%20%0A%20%20%20%20%20%20%20%20%20%20%20%20var%20html_a028d45f910743978ee156798a620f50%20%3D%20%24%28%60%3Cdiv%20id%3D%22html_a028d45f910743978ee156798a620f50%22%20style%3D%22width%3A%20100.0%25%3B%20height%3A%20100.0%25%3B%22%3EPropiedad%20Vendida%20en%20%24329000.0%2C%20en%202014-11-20.Caracter%C3%ADsticas%3A%203%20habitaciones%2C%202.25%20ba%C3%B1os%2C%20constuida%20en%201985%2C%20%C3%A1rea%20de%202450%20pies%20cuadrados.%20Precio%20por%20pie%20cuadrado%3A%20134.28571428571428%3C/div%3E%60%29%5B0%5D%3B%0A%20%20%20%20%20%20%20%20%20%20%20%20popup_7cbae9eb2bf043739f6b151af5eddced.setContent%28html_a028d45f910743978ee156798a620f50%29%3B%0A%20%20%20%20%20%20%20%20%0A%0A%20%20%20%20%20%20%20%20marker_2781b9cae48449ca9395f8d8528f8b5a.bindPopup%28popup_7cbae9eb2bf043739f6b151af5eddced%29%0A%20%20%20%20%20%20%20%20%3B%0A%0A%20%20%20%20%20%20%20%20%0A%20%20%20%20%0A%20%20%20%20%0A%20%20%20%20%20%20%20%20%20%20%20%20var%20marker_397895707c244348b3b6a82e2fa2f05f%20%3D%20L.marker%28%0A%20%20%20%20%20%20%20%20%20%20%20%20%20%20%20%20%5B47.3048%2C%20-122.218%5D%2C%0A%20%20%20%20%20%20%20%20%20%20%20%20%20%20%20%20%7B%7D%0A%20%20%20%20%20%20%20%20%20%20%20%20%29.addTo%28marker_cluster_c55f5a73f08f48a0b55a048c760b3034%29%3B%0A%20%20%20%20%20%20%20%20%0A%20%20%20%20%0A%20%20%20%20%20%20%20%20var%20popup_6677ea7d088749a794ad782763c3737d%20%3D%20L.popup%28%7B%22maxWidth%22%3A%20%22100%25%22%7D%29%3B%0A%0A%20%20%20%20%20%20%20%20%0A%20%20%20%20%20%20%20%20%20%20%20%20var%20html_c4717134ee784b3288a82860a3f0e90f%20%3D%20%24%28%60%3Cdiv%20id%3D%22html_c4717134ee784b3288a82860a3f0e90f%22%20style%3D%22width%3A%20100.0%25%3B%20height%3A%20100.0%25%3B%22%3EPropiedad%20Vendida%20en%20%24233000.0%2C%20en%202014-11-03.Caracter%C3%ADsticas%3A%203%20habitaciones%2C%202.0%20ba%C3%B1os%2C%20constuida%20en%201941%2C%20%C3%A1rea%20de%201710%20pies%20cuadrados.%20Precio%20por%20pie%20cuadrado%3A%20136.25730994152048%3C/div%3E%60%29%5B0%5D%3B%0A%20%20%20%20%20%20%20%20%20%20%20%20popup_6677ea7d088749a794ad782763c3737d.setContent%28html_c4717134ee784b3288a82860a3f0e90f%29%3B%0A%20%20%20%20%20%20%20%20%0A%0A%20%20%20%20%20%20%20%20marker_397895707c244348b3b6a82e2fa2f05f.bindPopup%28popup_6677ea7d088749a794ad782763c3737d%29%0A%20%20%20%20%20%20%20%20%3B%0A%0A%20%20%20%20%20%20%20%20%0A%20%20%20%20%0A%20%20%20%20%0A%20%20%20%20%20%20%20%20%20%20%20%20var%20marker_0a6219bfa83c48df956afb89413dbca7%20%3D%20L.marker%28%0A%20%20%20%20%20%20%20%20%20%20%20%20%20%20%20%20%5B47.6386%2C%20-122.36%5D%2C%0A%20%20%20%20%20%20%20%20%20%20%20%20%20%20%20%20%7B%7D%0A%20%20%20%20%20%20%20%20%20%20%20%20%29.addTo%28marker_cluster_c55f5a73f08f48a0b55a048c760b3034%29%3B%0A%20%20%20%20%20%20%20%20%0A%20%20%20%20%0A%20%20%20%20%20%20%20%20var%20popup_c97a884b79174ebe86068971c58be203%20%3D%20L.popup%28%7B%22maxWidth%22%3A%20%22100%25%22%7D%29%3B%0A%0A%20%20%20%20%20%20%20%20%0A%20%20%20%20%20%20%20%20%20%20%20%20var%20html_afe8d6797ded46d3b6fa4fd53fecf236%20%3D%20%24%28%60%3Cdiv%20id%3D%22html_afe8d6797ded46d3b6fa4fd53fecf236%22%20style%3D%22width%3A%20100.0%25%3B%20height%3A%20100.0%25%3B%22%3EPropiedad%20Vendida%20en%20%24937000.0%2C%20en%202014-06-26.Caracter%C3%ADsticas%3A%203%20habitaciones%2C%201.75%20ba%C3%B1os%2C%20constuida%20en%201915%2C%20%C3%A1rea%20de%202450%20pies%20cuadrados.%20Precio%20por%20pie%20cuadrado%3A%20382.44897959183675%3C/div%3E%60%29%5B0%5D%3B%0A%20%20%20%20%20%20%20%20%20%20%20%20popup_c97a884b79174ebe86068971c58be203.setContent%28html_afe8d6797ded46d3b6fa4fd53fecf236%29%3B%0A%20%20%20%20%20%20%20%20%0A%0A%20%20%20%20%20%20%20%20marker_0a6219bfa83c48df956afb89413dbca7.bindPopup%28popup_c97a884b79174ebe86068971c58be203%29%0A%20%20%20%20%20%20%20%20%3B%0A%0A%20%20%20%20%20%20%20%20%0A%20%20%20%20%0A%20%20%20%20%0A%20%20%20%20%20%20%20%20%20%20%20%20var%20marker_1fe5aaa0c49840c3a4efa6232b9b93dd%20%3D%20L.marker%28%0A%20%20%20%20%20%20%20%20%20%20%20%20%20%20%20%20%5B47.6221%2C%20-122.314%5D%2C%0A%20%20%20%20%20%20%20%20%20%20%20%20%20%20%20%20%7B%7D%0A%20%20%20%20%20%20%20%20%20%20%20%20%29.addTo%28marker_cluster_c55f5a73f08f48a0b55a048c760b3034%29%3B%0A%20%20%20%20%20%20%20%20%0A%20%20%20%20%0A%20%20%20%20%20%20%20%20var%20popup_bd5fd0ee953a4550acdaccfa519316b6%20%3D%20L.popup%28%7B%22maxWidth%22%3A%20%22100%25%22%7D%29%3B%0A%0A%20%20%20%20%20%20%20%20%0A%20%20%20%20%20%20%20%20%20%20%20%20var%20html_a76199eba74f4fbaac5c38b9d4da86ea%20%3D%20%24%28%60%3Cdiv%20id%3D%22html_a76199eba74f4fbaac5c38b9d4da86ea%22%20style%3D%22width%3A%20100.0%25%3B%20height%3A%20100.0%25%3B%22%3EPropiedad%20Vendida%20en%20%24667000.0%2C%20en%202014-12-01.Caracter%C3%ADsticas%3A%203%20habitaciones%2C%201.0%20ba%C3%B1os%2C%20constuida%20en%201909%2C%20%C3%A1rea%20de%201400%20pies%20cuadrados.%20Precio%20por%20pie%20cuadrado%3A%20476.42857142857144%3C/div%3E%60%29%5B0%5D%3B%0A%20%20%20%20%20%20%20%20%20%20%20%20popup_bd5fd0ee953a4550acdaccfa519316b6.setContent%28html_a76199eba74f4fbaac5c38b9d4da86ea%29%3B%0A%20%20%20%20%20%20%20%20%0A%0A%20%20%20%20%20%20%20%20marker_1fe5aaa0c49840c3a4efa6232b9b93dd.bindPopup%28popup_bd5fd0ee953a4550acdaccfa519316b6%29%0A%20%20%20%20%20%20%20%20%3B%0A%0A%20%20%20%20%20%20%20%20%0A%20%20%20%20%0A%20%20%20%20%0A%20%20%20%20%20%20%20%20%20%20%20%20var%20marker_c9e00c2dcbb842c8aecb258bdd007333%20%3D%20L.marker%28%0A%20%20%20%20%20%20%20%20%20%20%20%20%20%20%20%20%5B47.695%2C%20-122.304%5D%2C%0A%20%20%20%20%20%20%20%20%20%20%20%20%20%20%20%20%7B%7D%0A%20%20%20%20%20%20%20%20%20%20%20%20%29.addTo%28marker_cluster_c55f5a73f08f48a0b55a048c760b3034%29%3B%0A%20%20%20%20%20%20%20%20%0A%20%20%20%20%0A%20%20%20%20%20%20%20%20var%20popup_c55724639a87436d94e231b364e2fddb%20%3D%20L.popup%28%7B%22maxWidth%22%3A%20%22100%25%22%7D%29%3B%0A%0A%20%20%20%20%20%20%20%20%0A%20%20%20%20%20%20%20%20%20%20%20%20var%20html_cdc4c5de8c6941758c8a8d3546a65ff6%20%3D%20%24%28%60%3Cdiv%20id%3D%22html_cdc4c5de8c6941758c8a8d3546a65ff6%22%20style%3D%22width%3A%20100.0%25%3B%20height%3A%20100.0%25%3B%22%3EPropiedad%20Vendida%20en%20%24438000.0%2C%20en%202014-06-24.Caracter%C3%ADsticas%3A%203%20habitaciones%2C%201.75%20ba%C3%B1os%2C%20constuida%20en%201948%2C%20%C3%A1rea%20de%201520%20pies%20cuadrados.%20Precio%20por%20pie%20cuadrado%3A%20288.1578947368421%3C/div%3E%60%29%5B0%5D%3B%0A%20%20%20%20%20%20%20%20%20%20%20%20popup_c55724639a87436d94e231b364e2fddb.setContent%28html_cdc4c5de8c6941758c8a8d3546a65ff6%29%3B%0A%20%20%20%20%20%20%20%20%0A%0A%20%20%20%20%20%20%20%20marker_c9e00c2dcbb842c8aecb258bdd007333.bindPopup%28popup_c55724639a87436d94e231b364e2fddb%29%0A%20%20%20%20%20%20%20%20%3B%0A%0A%20%20%20%20%20%20%20%20%0A%20%20%20%20%0A%20%20%20%20%0A%20%20%20%20%20%20%20%20%20%20%20%20var%20marker_52cc13793b8b457c92ca8bf38fa388cf%20%3D%20L.marker%28%0A%20%20%20%20%20%20%20%20%20%20%20%20%20%20%20%20%5B47.7073%2C%20-122.11%5D%2C%0A%20%20%20%20%20%20%20%20%20%20%20%20%20%20%20%20%7B%7D%0A%20%20%20%20%20%20%20%20%20%20%20%20%29.addTo%28marker_cluster_c55f5a73f08f48a0b55a048c760b3034%29%3B%0A%20%20%20%20%20%20%20%20%0A%20%20%20%20%0A%20%20%20%20%20%20%20%20var%20popup_5a02f83807c148dab72570c3b5d0740d%20%3D%20L.popup%28%7B%22maxWidth%22%3A%20%22100%25%22%7D%29%3B%0A%0A%20%20%20%20%20%20%20%20%0A%20%20%20%20%20%20%20%20%20%20%20%20var%20html_2ebe9ada0252450b9de60a9fda6d539d%20%3D%20%24%28%60%3Cdiv%20id%3D%22html_2ebe9ada0252450b9de60a9fda6d539d%22%20style%3D%22width%3A%20100.0%25%3B%20height%3A%20100.0%25%3B%22%3EPropiedad%20Vendida%20en%20%24719000.0%2C%20en%202015-03-02.Caracter%C3%ADsticas%3A%204%20habitaciones%2C%202.5%20ba%C3%B1os%2C%20constuida%20en%202005%2C%20%C3%A1rea%20de%202570%20pies%20cuadrados.%20Precio%20por%20pie%20cuadrado%3A%20279.76653696498056%3C/div%3E%60%29%5B0%5D%3B%0A%20%20%20%20%20%20%20%20%20%20%20%20popup_5a02f83807c148dab72570c3b5d0740d.setContent%28html_2ebe9ada0252450b9de60a9fda6d539d%29%3B%0A%20%20%20%20%20%20%20%20%0A%0A%20%20%20%20%20%20%20%20marker_52cc13793b8b457c92ca8bf38fa388cf.bindPopup%28popup_5a02f83807c148dab72570c3b5d0740d%29%0A%20%20%20%20%20%20%20%20%3B%0A%0A%20%20%20%20%20%20%20%20%0A%20%20%20%20%0A%20%20%20%20%0A%20%20%20%20%20%20%20%20%20%20%20%20var%20marker_ec7afb7acf454294b1b3b4f5c981a70d%20%3D%20L.marker%28%0A%20%20%20%20%20%20%20%20%20%20%20%20%20%20%20%20%5B47.5391%2C%20-122.07%5D%2C%0A%20%20%20%20%20%20%20%20%20%20%20%20%20%20%20%20%7B%7D%0A%20%20%20%20%20%20%20%20%20%20%20%20%29.addTo%28marker_cluster_c55f5a73f08f48a0b55a048c760b3034%29%3B%0A%20%20%20%20%20%20%20%20%0A%20%20%20%20%0A%20%20%20%20%20%20%20%20var%20popup_56031c412d9b4b4db4ee364f51733f3c%20%3D%20L.popup%28%7B%22maxWidth%22%3A%20%22100%25%22%7D%29%3B%0A%0A%20%20%20%20%20%20%20%20%0A%20%20%20%20%20%20%20%20%20%20%20%20var%20html_a6c87f88a3a24b63970d67161f64254e%20%3D%20%24%28%60%3Cdiv%20id%3D%22html_a6c87f88a3a24b63970d67161f64254e%22%20style%3D%22width%3A%20100.0%25%3B%20height%3A%20100.0%25%3B%22%3EPropiedad%20Vendida%20en%20%24580500.0%2C%20en%202014-11-10.Caracter%C3%ADsticas%3A%203%20habitaciones%2C%202.5%20ba%C3%B1os%2C%20constuida%20en%202003%2C%20%C3%A1rea%20de%202320%20pies%20cuadrados.%20Precio%20por%20pie%20cuadrado%3A%20250.2155172413793%3C/div%3E%60%29%5B0%5D%3B%0A%20%20%20%20%20%20%20%20%20%20%20%20popup_56031c412d9b4b4db4ee364f51733f3c.setContent%28html_a6c87f88a3a24b63970d67161f64254e%29%3B%0A%20%20%20%20%20%20%20%20%0A%0A%20%20%20%20%20%20%20%20marker_ec7afb7acf454294b1b3b4f5c981a70d.bindPopup%28popup_56031c412d9b4b4db4ee364f51733f3c%29%0A%20%20%20%20%20%20%20%20%3B%0A%0A%20%20%20%20%20%20%20%20%0A%20%20%20%20%0A%20%20%20%20%0A%20%20%20%20%20%20%20%20%20%20%20%20var%20marker_14341440c67c4531a55d490edab7bcd5%20%3D%20L.marker%28%0A%20%20%20%20%20%20%20%20%20%20%20%20%20%20%20%20%5B47.7274%2C%20-122.357%5D%2C%0A%20%20%20%20%20%20%20%20%20%20%20%20%20%20%20%20%7B%7D%0A%20%20%20%20%20%20%20%20%20%20%20%20%29.addTo%28marker_cluster_c55f5a73f08f48a0b55a048c760b3034%29%3B%0A%20%20%20%20%20%20%20%20%0A%20%20%20%20%0A%20%20%20%20%20%20%20%20var%20popup_04c972b917974d35b73e14f8f4bc7a9e%20%3D%20L.popup%28%7B%22maxWidth%22%3A%20%22100%25%22%7D%29%3B%0A%0A%20%20%20%20%20%20%20%20%0A%20%20%20%20%20%20%20%20%20%20%20%20var%20html_3a1589e27a67418783b58013364b996d%20%3D%20%24%28%60%3Cdiv%20id%3D%22html_3a1589e27a67418783b58013364b996d%22%20style%3D%22width%3A%20100.0%25%3B%20height%3A%20100.0%25%3B%22%3EPropiedad%20Vendida%20en%20%24280000.0%2C%20en%202014-12-01.Caracter%C3%ADsticas%3A%202%20habitaciones%2C%201.5%20ba%C3%B1os%2C%20constuida%20en%202005%2C%20%C3%A1rea%20de%201190%20pies%20cuadrados.%20Precio%20por%20pie%20cuadrado%3A%20235.2941176470588%3C/div%3E%60%29%5B0%5D%3B%0A%20%20%20%20%20%20%20%20%20%20%20%20popup_04c972b917974d35b73e14f8f4bc7a9e.setContent%28html_3a1589e27a67418783b58013364b996d%29%3B%0A%20%20%20%20%20%20%20%20%0A%0A%20%20%20%20%20%20%20%20marker_14341440c67c4531a55d490edab7bcd5.bindPopup%28popup_04c972b917974d35b73e14f8f4bc7a9e%29%0A%20%20%20%20%20%20%20%20%3B%0A%0A%20%20%20%20%20%20%20%20%0A%20%20%20%20%0A%20%20%20%20%0A%20%20%20%20%20%20%20%20%20%20%20%20var%20marker_cf8c4824e417460484729fcdc5d2b055%20%3D%20L.marker%28%0A%20%20%20%20%20%20%20%20%20%20%20%20%20%20%20%20%5B47.6823%2C%20-122.368%5D%2C%0A%20%20%20%20%20%20%20%20%20%20%20%20%20%20%20%20%7B%7D%0A%20%20%20%20%20%20%20%20%20%20%20%20%29.addTo%28marker_cluster_c55f5a73f08f48a0b55a048c760b3034%29%3B%0A%20%20%20%20%20%20%20%20%0A%20%20%20%20%0A%20%20%20%20%20%20%20%20var%20popup_3c874bb1fbd043c2afa8b15690d91e36%20%3D%20L.popup%28%7B%22maxWidth%22%3A%20%22100%25%22%7D%29%3B%0A%0A%20%20%20%20%20%20%20%20%0A%20%20%20%20%20%20%20%20%20%20%20%20var%20html_26a2381130e74a148b3535c552f0c247%20%3D%20%24%28%60%3Cdiv%20id%3D%22html_26a2381130e74a148b3535c552f0c247%22%20style%3D%22width%3A%20100.0%25%3B%20height%3A%20100.0%25%3B%22%3EPropiedad%20Vendida%20en%20%24687500.0%2C%20en%202014-06-24.Caracter%C3%ADsticas%3A%204%20habitaciones%2C%201.75%20ba%C3%B1os%2C%20constuida%20en%201929%2C%20%C3%A1rea%20de%202330%20pies%20cuadrados.%20Precio%20por%20pie%20cuadrado%3A%20295.06437768240346%3C/div%3E%60%29%5B0%5D%3B%0A%20%20%20%20%20%20%20%20%20%20%20%20popup_3c874bb1fbd043c2afa8b15690d91e36.setContent%28html_26a2381130e74a148b3535c552f0c247%29%3B%0A%20%20%20%20%20%20%20%20%0A%0A%20%20%20%20%20%20%20%20marker_cf8c4824e417460484729fcdc5d2b055.bindPopup%28popup_3c874bb1fbd043c2afa8b15690d91e36%29%0A%20%20%20%20%20%20%20%20%3B%0A%0A%20%20%20%20%20%20%20%20%0A%20%20%20%20%0A%20%20%20%20%0A%20%20%20%20%20%20%20%20%20%20%20%20var%20marker_f60f7505769d41ac8f7dd4cb06f6f5fa%20%3D%20L.marker%28%0A%20%20%20%20%20%20%20%20%20%20%20%20%20%20%20%20%5B47.6889%2C%20-122.375%5D%2C%0A%20%20%20%20%20%20%20%20%20%20%20%20%20%20%20%20%7B%7D%0A%20%20%20%20%20%20%20%20%20%20%20%20%29.addTo%28marker_cluster_c55f5a73f08f48a0b55a048c760b3034%29%3B%0A%20%20%20%20%20%20%20%20%0A%20%20%20%20%0A%20%20%20%20%20%20%20%20var%20popup_0a77a75e182a4b6da98a2cc9f3f7dc6c%20%3D%20L.popup%28%7B%22maxWidth%22%3A%20%22100%25%22%7D%29%3B%0A%0A%20%20%20%20%20%20%20%20%0A%20%20%20%20%20%20%20%20%20%20%20%20var%20html_611f771c02c144b19eacb074a36c28f5%20%3D%20%24%28%60%3Cdiv%20id%3D%22html_611f771c02c144b19eacb074a36c28f5%22%20style%3D%22width%3A%20100.0%25%3B%20height%3A%20100.0%25%3B%22%3EPropiedad%20Vendida%20en%20%24535000.0%2C%20en%202014-11-10.Caracter%C3%ADsticas%3A%203%20habitaciones%2C%201.0%20ba%C3%B1os%2C%20constuida%20en%201929%2C%20%C3%A1rea%20de%201090%20pies%20cuadrados.%20Precio%20por%20pie%20cuadrado%3A%20490.8256880733945%3C/div%3E%60%29%5B0%5D%3B%0A%20%20%20%20%20%20%20%20%20%20%20%20popup_0a77a75e182a4b6da98a2cc9f3f7dc6c.setContent%28html_611f771c02c144b19eacb074a36c28f5%29%3B%0A%20%20%20%20%20%20%20%20%0A%0A%20%20%20%20%20%20%20%20marker_f60f7505769d41ac8f7dd4cb06f6f5fa.bindPopup%28popup_0a77a75e182a4b6da98a2cc9f3f7dc6c%29%0A%20%20%20%20%20%20%20%20%3B%0A%0A%20%20%20%20%20%20%20%20%0A%20%20%20%20%0A%20%20%20%20%0A%20%20%20%20%20%20%20%20%20%20%20%20var%20marker_65a9709ed450416c8fa2ecf085cacbbf%20%3D%20L.marker%28%0A%20%20%20%20%20%20%20%20%20%20%20%20%20%20%20%20%5B47.4276%2C%20-122.157%5D%2C%0A%20%20%20%20%20%20%20%20%20%20%20%20%20%20%20%20%7B%7D%0A%20%20%20%20%20%20%20%20%20%20%20%20%29.addTo%28marker_cluster_c55f5a73f08f48a0b55a048c760b3034%29%3B%0A%20%20%20%20%20%20%20%20%0A%20%20%20%20%0A%20%20%20%20%20%20%20%20var%20popup_017924f786e14c7e8bf97d264c364d1c%20%3D%20L.popup%28%7B%22maxWidth%22%3A%20%22100%25%22%7D%29%3B%0A%0A%20%20%20%20%20%20%20%20%0A%20%20%20%20%20%20%20%20%20%20%20%20var%20html_b935c4d305014dc4889b75643a6ab1a1%20%3D%20%24%28%60%3Cdiv%20id%3D%22html_b935c4d305014dc4889b75643a6ab1a1%22%20style%3D%22width%3A%20100.0%25%3B%20height%3A%20100.0%25%3B%22%3EPropiedad%20Vendida%20en%20%24322500.0%2C%20en%202014-12-03.Caracter%C3%ADsticas%3A%204%20habitaciones%2C%202.75%20ba%C3%B1os%2C%20constuida%20en%201981%2C%20%C3%A1rea%20de%202060%20pies%20cuadrados.%20Precio%20por%20pie%20cuadrado%3A%20156.55339805825244%3C/div%3E%60%29%5B0%5D%3B%0A%20%20%20%20%20%20%20%20%20%20%20%20popup_017924f786e14c7e8bf97d264c364d1c.setContent%28html_b935c4d305014dc4889b75643a6ab1a1%29%3B%0A%20%20%20%20%20%20%20%20%0A%0A%20%20%20%20%20%20%20%20marker_65a9709ed450416c8fa2ecf085cacbbf.bindPopup%28popup_017924f786e14c7e8bf97d264c364d1c%29%0A%20%20%20%20%20%20%20%20%3B%0A%0A%20%20%20%20%20%20%20%20%0A%20%20%20%20%0A%20%20%20%20%0A%20%20%20%20%20%20%20%20%20%20%20%20var%20marker_719c79ec4c7a4f27979b59578d4955a2%20%3D%20L.marker%28%0A%20%20%20%20%20%20%20%20%20%20%20%20%20%20%20%20%5B47.6827%2C%20-122.31%5D%2C%0A%20%20%20%20%20%20%20%20%20%20%20%20%20%20%20%20%7B%7D%0A%20%20%20%20%20%20%20%20%20%20%20%20%29.addTo%28marker_cluster_c55f5a73f08f48a0b55a048c760b3034%29%3B%0A%20%20%20%20%20%20%20%20%0A%20%20%20%20%0A%20%20%20%20%20%20%20%20var%20popup_2528345f2e6243b4b686d3f2406e737a%20%3D%20L.popup%28%7B%22maxWidth%22%3A%20%22100%25%22%7D%29%3B%0A%0A%20%20%20%20%20%20%20%20%0A%20%20%20%20%20%20%20%20%20%20%20%20var%20html_c96a77c5d01a49e18e1ffce2ad0471d3%20%3D%20%24%28%60%3Cdiv%20id%3D%22html_c96a77c5d01a49e18e1ffce2ad0471d3%22%20style%3D%22width%3A%20100.0%25%3B%20height%3A%20100.0%25%3B%22%3EPropiedad%20Vendida%20en%20%24696000.0%2C%20en%202014-06-13.Caracter%C3%ADsticas%3A%203%20habitaciones%2C%202.5%20ba%C3%B1os%2C%20constuida%20en%201930%2C%20%C3%A1rea%20de%202300%20pies%20cuadrados.%20Precio%20por%20pie%20cuadrado%3A%20302.60869565217394%3C/div%3E%60%29%5B0%5D%3B%0A%20%20%20%20%20%20%20%20%20%20%20%20popup_2528345f2e6243b4b686d3f2406e737a.setContent%28html_c96a77c5d01a49e18e1ffce2ad0471d3%29%3B%0A%20%20%20%20%20%20%20%20%0A%0A%20%20%20%20%20%20%20%20marker_719c79ec4c7a4f27979b59578d4955a2.bindPopup%28popup_2528345f2e6243b4b686d3f2406e737a%29%0A%20%20%20%20%20%20%20%20%3B%0A%0A%20%20%20%20%20%20%20%20%0A%20%20%20%20%0A%20%20%20%20%0A%20%20%20%20%20%20%20%20%20%20%20%20var%20marker_022afbfdcfb14aeda742fb551e654f31%20%3D%20L.marker%28%0A%20%20%20%20%20%20%20%20%20%20%20%20%20%20%20%20%5B47.6621%2C%20-122.132%5D%2C%0A%20%20%20%20%20%20%20%20%20%20%20%20%20%20%20%20%7B%7D%0A%20%20%20%20%20%20%20%20%20%20%20%20%29.addTo%28marker_cluster_c55f5a73f08f48a0b55a048c760b3034%29%3B%0A%20%20%20%20%20%20%20%20%0A%20%20%20%20%0A%20%20%20%20%20%20%20%20var%20popup_d77da3c431034454876b54e247f64d27%20%3D%20L.popup%28%7B%22maxWidth%22%3A%20%22100%25%22%7D%29%3B%0A%0A%20%20%20%20%20%20%20%20%0A%20%20%20%20%20%20%20%20%20%20%20%20var%20html_fa7e1d008955492bb9a6a4c488cdbaab%20%3D%20%24%28%60%3Cdiv%20id%3D%22html_fa7e1d008955492bb9a6a4c488cdbaab%22%20style%3D%22width%3A%20100.0%25%3B%20height%3A%20100.0%25%3B%22%3EPropiedad%20Vendida%20en%20%24550000.0%2C%20en%202014-05-28.Caracter%C3%ADsticas%3A%204%20habitaciones%2C%201.0%20ba%C3%B1os%2C%20constuida%20en%201933%2C%20%C3%A1rea%20de%201660%20pies%20cuadrados.%20Precio%20por%20pie%20cuadrado%3A%20331.32530120481925%3C/div%3E%60%29%5B0%5D%3B%0A%20%20%20%20%20%20%20%20%20%20%20%20popup_d77da3c431034454876b54e247f64d27.setContent%28html_fa7e1d008955492bb9a6a4c488cdbaab%29%3B%0A%20%20%20%20%20%20%20%20%0A%0A%20%20%20%20%20%20%20%20marker_022afbfdcfb14aeda742fb551e654f31.bindPopup%28popup_d77da3c431034454876b54e247f64d27%29%0A%20%20%20%20%20%20%20%20%3B%0A%0A%20%20%20%20%20%20%20%20%0A%20%20%20%20%0A%20%20%20%20%0A%20%20%20%20%20%20%20%20%20%20%20%20var%20marker_a182986caa9745e19dd02405bd6057cb%20%3D%20L.marker%28%0A%20%20%20%20%20%20%20%20%20%20%20%20%20%20%20%20%5B47.6702%2C%20-122.362%5D%2C%0A%20%20%20%20%20%20%20%20%20%20%20%20%20%20%20%20%7B%7D%0A%20%20%20%20%20%20%20%20%20%20%20%20%29.addTo%28marker_cluster_c55f5a73f08f48a0b55a048c760b3034%29%3B%0A%20%20%20%20%20%20%20%20%0A%20%20%20%20%0A%20%20%20%20%20%20%20%20var%20popup_4202f4bde36a40e781a115510f2f02a7%20%3D%20L.popup%28%7B%22maxWidth%22%3A%20%22100%25%22%7D%29%3B%0A%0A%20%20%20%20%20%20%20%20%0A%20%20%20%20%20%20%20%20%20%20%20%20var%20html_b450803f6d854c63801bdad41fa0bf02%20%3D%20%24%28%60%3Cdiv%20id%3D%22html_b450803f6d854c63801bdad41fa0bf02%22%20style%3D%22width%3A%20100.0%25%3B%20height%3A%20100.0%25%3B%22%3EPropiedad%20Vendida%20en%20%24640000.0%2C%20en%202014-12-30.Caracter%C3%ADsticas%3A%204%20habitaciones%2C%202.0%20ba%C3%B1os%2C%20constuida%20en%201904%2C%20%C3%A1rea%20de%202360%20pies%20cuadrados.%20Precio%20por%20pie%20cuadrado%3A%20271.1864406779661%3C/div%3E%60%29%5B0%5D%3B%0A%20%20%20%20%20%20%20%20%20%20%20%20popup_4202f4bde36a40e781a115510f2f02a7.setContent%28html_b450803f6d854c63801bdad41fa0bf02%29%3B%0A%20%20%20%20%20%20%20%20%0A%0A%20%20%20%20%20%20%20%20marker_a182986caa9745e19dd02405bd6057cb.bindPopup%28popup_4202f4bde36a40e781a115510f2f02a7%29%0A%20%20%20%20%20%20%20%20%3B%0A%0A%20%20%20%20%20%20%20%20%0A%20%20%20%20%0A%20%20%20%20%0A%20%20%20%20%20%20%20%20%20%20%20%20var%20marker_5c0219d5d70d4db3a1cf2ddbf84347bd%20%3D%20L.marker%28%0A%20%20%20%20%20%20%20%20%20%20%20%20%20%20%20%20%5B47.3341%2C%20-122.282%5D%2C%0A%20%20%20%20%20%20%20%20%20%20%20%20%20%20%20%20%7B%7D%0A%20%20%20%20%20%20%20%20%20%20%20%20%29.addTo%28marker_cluster_c55f5a73f08f48a0b55a048c760b3034%29%3B%0A%20%20%20%20%20%20%20%20%0A%20%20%20%20%0A%20%20%20%20%20%20%20%20var%20popup_575bde68bfb84d569c677635e66a6a2b%20%3D%20L.popup%28%7B%22maxWidth%22%3A%20%22100%25%22%7D%29%3B%0A%0A%20%20%20%20%20%20%20%20%0A%20%20%20%20%20%20%20%20%20%20%20%20var%20html_e40bce57e9e04ea69f9e5255372a874e%20%3D%20%24%28%60%3Cdiv%20id%3D%22html_e40bce57e9e04ea69f9e5255372a874e%22%20style%3D%22width%3A%20100.0%25%3B%20height%3A%20100.0%25%3B%22%3EPropiedad%20Vendida%20en%20%24240000.0%2C%20en%202015-02-13.Caracter%C3%ADsticas%3A%204%20habitaciones%2C%201.0%20ba%C3%B1os%2C%20constuida%20en%201969%2C%20%C3%A1rea%20de%201220%20pies%20cuadrados.%20Precio%20por%20pie%20cuadrado%3A%20196.72131147540983%3C/div%3E%60%29%5B0%5D%3B%0A%20%20%20%20%20%20%20%20%20%20%20%20popup_575bde68bfb84d569c677635e66a6a2b.setContent%28html_e40bce57e9e04ea69f9e5255372a874e%29%3B%0A%20%20%20%20%20%20%20%20%0A%0A%20%20%20%20%20%20%20%20marker_5c0219d5d70d4db3a1cf2ddbf84347bd.bindPopup%28popup_575bde68bfb84d569c677635e66a6a2b%29%0A%20%20%20%20%20%20%20%20%3B%0A%0A%20%20%20%20%20%20%20%20%0A%20%20%20%20%0A%20%20%20%20%0A%20%20%20%20%20%20%20%20%20%20%20%20var%20marker_f64e8a31630c497cbeaea0153c20b2a7%20%3D%20L.marker%28%0A%20%20%20%20%20%20%20%20%20%20%20%20%20%20%20%20%5B47.5301%2C%20-122.18%5D%2C%0A%20%20%20%20%20%20%20%20%20%20%20%20%20%20%20%20%7B%7D%0A%20%20%20%20%20%20%20%20%20%20%20%20%29.addTo%28marker_cluster_c55f5a73f08f48a0b55a048c760b3034%29%3B%0A%20%20%20%20%20%20%20%20%0A%20%20%20%20%0A%20%20%20%20%20%20%20%20var%20popup_5effe0d0a5fd4a35b0ed354bb2dc115d%20%3D%20L.popup%28%7B%22maxWidth%22%3A%20%22100%25%22%7D%29%3B%0A%0A%20%20%20%20%20%20%20%20%0A%20%20%20%20%20%20%20%20%20%20%20%20var%20html_f00e08034e6c43c79cb1fa289808e6a1%20%3D%20%24%28%60%3Cdiv%20id%3D%22html_f00e08034e6c43c79cb1fa289808e6a1%22%20style%3D%22width%3A%20100.0%25%3B%20height%3A%20100.0%25%3B%22%3EPropiedad%20Vendida%20en%20%24605000.0%2C%20en%202014-06-20.Caracter%C3%ADsticas%3A%204%20habitaciones%2C%202.5%20ba%C3%B1os%2C%20constuida%20en%201996%2C%20%C3%A1rea%20de%202620%20pies%20cuadrados.%20Precio%20por%20pie%20cuadrado%3A%20230.91603053435114%3C/div%3E%60%29%5B0%5D%3B%0A%20%20%20%20%20%20%20%20%20%20%20%20popup_5effe0d0a5fd4a35b0ed354bb2dc115d.setContent%28html_f00e08034e6c43c79cb1fa289808e6a1%29%3B%0A%20%20%20%20%20%20%20%20%0A%0A%20%20%20%20%20%20%20%20marker_f64e8a31630c497cbeaea0153c20b2a7.bindPopup%28popup_5effe0d0a5fd4a35b0ed354bb2dc115d%29%0A%20%20%20%20%20%20%20%20%3B%0A%0A%20%20%20%20%20%20%20%20%0A%20%20%20%20%0A%20%20%20%20%0A%20%20%20%20%20%20%20%20%20%20%20%20var%20marker_d7f0bf36f2fe41279791ae1829fb77b5%20%3D%20L.marker%28%0A%20%20%20%20%20%20%20%20%20%20%20%20%20%20%20%20%5B47.6145%2C%20-122.027%5D%2C%0A%20%20%20%20%20%20%20%20%20%20%20%20%20%20%20%20%7B%7D%0A%20%20%20%20%20%20%20%20%20%20%20%20%29.addTo%28marker_cluster_c55f5a73f08f48a0b55a048c760b3034%29%3B%0A%20%20%20%20%20%20%20%20%0A%20%20%20%20%0A%20%20%20%20%20%20%20%20var%20popup_02062a06c60b4ab0a8b1fe3403114a38%20%3D%20L.popup%28%7B%22maxWidth%22%3A%20%22100%25%22%7D%29%3B%0A%0A%20%20%20%20%20%20%20%20%0A%20%20%20%20%20%20%20%20%20%20%20%20var%20html_ea727d8a5a9746a2a728a096e6192f70%20%3D%20%24%28%60%3Cdiv%20id%3D%22html_ea727d8a5a9746a2a728a096e6192f70%22%20style%3D%22width%3A%20100.0%25%3B%20height%3A%20100.0%25%3B%22%3EPropiedad%20Vendida%20en%20%24625000.0%2C%20en%202014-07-15.Caracter%C3%ADsticas%3A%204%20habitaciones%2C%202.5%20ba%C3%B1os%2C%20constuida%20en%202000%2C%20%C3%A1rea%20de%202570%20pies%20cuadrados.%20Precio%20por%20pie%20cuadrado%3A%20243.19066147859922%3C/div%3E%60%29%5B0%5D%3B%0A%20%20%20%20%20%20%20%20%20%20%20%20popup_02062a06c60b4ab0a8b1fe3403114a38.setContent%28html_ea727d8a5a9746a2a728a096e6192f70%29%3B%0A%20%20%20%20%20%20%20%20%0A%0A%20%20%20%20%20%20%20%20marker_d7f0bf36f2fe41279791ae1829fb77b5.bindPopup%28popup_02062a06c60b4ab0a8b1fe3403114a38%29%0A%20%20%20%20%20%20%20%20%3B%0A%0A%20%20%20%20%20%20%20%20%0A%20%20%20%20%0A%20%20%20%20%0A%20%20%20%20%20%20%20%20%20%20%20%20var%20marker_7175318b52b1429ab1ff6e78b1e0fe2c%20%3D%20L.marker%28%0A%20%20%20%20%20%20%20%20%20%20%20%20%20%20%20%20%5B47.445%2C%20-122.347%5D%2C%0A%20%20%20%20%20%20%20%20%20%20%20%20%20%20%20%20%7B%7D%0A%20%20%20%20%20%20%20%20%20%20%20%20%29.addTo%28marker_cluster_c55f5a73f08f48a0b55a048c760b3034%29%3B%0A%20%20%20%20%20%20%20%20%0A%20%20%20%20%0A%20%20%20%20%20%20%20%20var%20popup_f47a55d4c4a34a4fb47800a6e730c32e%20%3D%20L.popup%28%7B%22maxWidth%22%3A%20%22100%25%22%7D%29%3B%0A%0A%20%20%20%20%20%20%20%20%0A%20%20%20%20%20%20%20%20%20%20%20%20var%20html_0a74559f94cb414ab95230ec34d2818d%20%3D%20%24%28%60%3Cdiv%20id%3D%22html_0a74559f94cb414ab95230ec34d2818d%22%20style%3D%22width%3A%20100.0%25%3B%20height%3A%20100.0%25%3B%22%3EPropiedad%20Vendida%20en%20%24775000.0%2C%20en%202014-08-11.Caracter%C3%ADsticas%3A%204%20habitaciones%2C%202.25%20ba%C3%B1os%2C%20constuida%20en%201984%2C%20%C3%A1rea%20de%204220%20pies%20cuadrados.%20Precio%20por%20pie%20cuadrado%3A%20183.64928909952607%3C/div%3E%60%29%5B0%5D%3B%0A%20%20%20%20%20%20%20%20%20%20%20%20popup_f47a55d4c4a34a4fb47800a6e730c32e.setContent%28html_0a74559f94cb414ab95230ec34d2818d%29%3B%0A%20%20%20%20%20%20%20%20%0A%0A%20%20%20%20%20%20%20%20marker_7175318b52b1429ab1ff6e78b1e0fe2c.bindPopup%28popup_f47a55d4c4a34a4fb47800a6e730c32e%29%0A%20%20%20%20%20%20%20%20%3B%0A%0A%20%20%20%20%20%20%20%20%0A%20%20%20%20%0A%20%20%20%20%0A%20%20%20%20%20%20%20%20%20%20%20%20var%20marker_088a559f3be74a5991e41d21ef6a7c1a%20%3D%20L.marker%28%0A%20%20%20%20%20%20%20%20%20%20%20%20%20%20%20%20%5B47.6848%2C%20-122.016%5D%2C%0A%20%20%20%20%20%20%20%20%20%20%20%20%20%20%20%20%7B%7D%0A%20%20%20%20%20%20%20%20%20%20%20%20%29.addTo%28marker_cluster_c55f5a73f08f48a0b55a048c760b3034%29%3B%0A%20%20%20%20%20%20%20%20%0A%20%20%20%20%0A%20%20%20%20%20%20%20%20var%20popup_3f023a35075d4dbbb3f9a8c4d36489a3%20%3D%20L.popup%28%7B%22maxWidth%22%3A%20%22100%25%22%7D%29%3B%0A%0A%20%20%20%20%20%20%20%20%0A%20%20%20%20%20%20%20%20%20%20%20%20var%20html_ad72bdb7ad774fae953340cfbfbfac7e%20%3D%20%24%28%60%3Cdiv%20id%3D%22html_ad72bdb7ad774fae953340cfbfbfac7e%22%20style%3D%22width%3A%20100.0%25%3B%20height%3A%20100.0%25%3B%22%3EPropiedad%20Vendida%20en%20%24861990.0%2C%20en%202014-07-07.Caracter%C3%ADsticas%3A%205%20habitaciones%2C%202.75%20ba%C3%B1os%2C%20constuida%20en%202014%2C%20%C3%A1rea%20de%203595%20pies%20cuadrados.%20Precio%20por%20pie%20cuadrado%3A%20239.77468706536857%3C/div%3E%60%29%5B0%5D%3B%0A%20%20%20%20%20%20%20%20%20%20%20%20popup_3f023a35075d4dbbb3f9a8c4d36489a3.setContent%28html_ad72bdb7ad774fae953340cfbfbfac7e%29%3B%0A%20%20%20%20%20%20%20%20%0A%0A%20%20%20%20%20%20%20%20marker_088a559f3be74a5991e41d21ef6a7c1a.bindPopup%28popup_3f023a35075d4dbbb3f9a8c4d36489a3%29%0A%20%20%20%20%20%20%20%20%3B%0A%0A%20%20%20%20%20%20%20%20%0A%20%20%20%20%0A%20%20%20%20%0A%20%20%20%20%20%20%20%20%20%20%20%20var%20marker_9dedf5b10a0b45918b0c97ae823d9307%20%3D%20L.marker%28%0A%20%20%20%20%20%20%20%20%20%20%20%20%20%20%20%20%5B47.6413%2C%20-122.364%5D%2C%0A%20%20%20%20%20%20%20%20%20%20%20%20%20%20%20%20%7B%7D%0A%20%20%20%20%20%20%20%20%20%20%20%20%29.addTo%28marker_cluster_c55f5a73f08f48a0b55a048c760b3034%29%3B%0A%20%20%20%20%20%20%20%20%0A%20%20%20%20%0A%20%20%20%20%20%20%20%20var%20popup_e205203e858e4dfe807b2953060e5c2d%20%3D%20L.popup%28%7B%22maxWidth%22%3A%20%22100%25%22%7D%29%3B%0A%0A%20%20%20%20%20%20%20%20%0A%20%20%20%20%20%20%20%20%20%20%20%20var%20html_13ceabef9184446cbc6f256a014ab4c2%20%3D%20%24%28%60%3Cdiv%20id%3D%22html_13ceabef9184446cbc6f256a014ab4c2%22%20style%3D%22width%3A%20100.0%25%3B%20height%3A%20100.0%25%3B%22%3EPropiedad%20Vendida%20en%20%24685000.0%2C%20en%202014-10-28.Caracter%C3%ADsticas%3A%203%20habitaciones%2C%201.0%20ba%C3%B1os%2C%20constuida%20en%201922%2C%20%C3%A1rea%20de%201570%20pies%20cuadrados.%20Precio%20por%20pie%20cuadrado%3A%20436.30573248407643%3C/div%3E%60%29%5B0%5D%3B%0A%20%20%20%20%20%20%20%20%20%20%20%20popup_e205203e858e4dfe807b2953060e5c2d.setContent%28html_13ceabef9184446cbc6f256a014ab4c2%29%3B%0A%20%20%20%20%20%20%20%20%0A%0A%20%20%20%20%20%20%20%20marker_9dedf5b10a0b45918b0c97ae823d9307.bindPopup%28popup_e205203e858e4dfe807b2953060e5c2d%29%0A%20%20%20%20%20%20%20%20%3B%0A%0A%20%20%20%20%20%20%20%20%0A%20%20%20%20%0A%20%20%20%20%0A%20%20%20%20%20%20%20%20%20%20%20%20var%20marker_497df251fe064f63b058f635fd80727b%20%3D%20L.marker%28%0A%20%20%20%20%20%20%20%20%20%20%20%20%20%20%20%20%5B47.4485%2C%20-122.175%5D%2C%0A%20%20%20%20%20%20%20%20%20%20%20%20%20%20%20%20%7B%7D%0A%20%20%20%20%20%20%20%20%20%20%20%20%29.addTo%28marker_cluster_c55f5a73f08f48a0b55a048c760b3034%29%3B%0A%20%20%20%20%20%20%20%20%0A%20%20%20%20%0A%20%20%20%20%20%20%20%20var%20popup_80ce962551c245a3a0006c2a858e3a12%20%3D%20L.popup%28%7B%22maxWidth%22%3A%20%22100%25%22%7D%29%3B%0A%0A%20%20%20%20%20%20%20%20%0A%20%20%20%20%20%20%20%20%20%20%20%20var%20html_5134ac54b6de453b8d18b9b3463591bc%20%3D%20%24%28%60%3Cdiv%20id%3D%22html_5134ac54b6de453b8d18b9b3463591bc%22%20style%3D%22width%3A%20100.0%25%3B%20height%3A%20100.0%25%3B%22%3EPropiedad%20Vendida%20en%20%24309000.0%2C%20en%202014-07-29.Caracter%C3%ADsticas%3A%203%20habitaciones%2C%201.0%20ba%C3%B1os%2C%20constuida%20en%201959%2C%20%C3%A1rea%20de%201280%20pies%20cuadrados.%20Precio%20por%20pie%20cuadrado%3A%20241.40625%3C/div%3E%60%29%5B0%5D%3B%0A%20%20%20%20%20%20%20%20%20%20%20%20popup_80ce962551c245a3a0006c2a858e3a12.setContent%28html_5134ac54b6de453b8d18b9b3463591bc%29%3B%0A%20%20%20%20%20%20%20%20%0A%0A%20%20%20%20%20%20%20%20marker_497df251fe064f63b058f635fd80727b.bindPopup%28popup_80ce962551c245a3a0006c2a858e3a12%29%0A%20%20%20%20%20%20%20%20%3B%0A%0A%20%20%20%20%20%20%20%20%0A%20%20%20%20%0A%20%20%20%20%0A%20%20%20%20%20%20%20%20%20%20%20%20var%20marker_1e314ee36d3e48d4a28c37ccaf1d6fd1%20%3D%20L.marker%28%0A%20%20%20%20%20%20%20%20%20%20%20%20%20%20%20%20%5B47.7443%2C%20-121.977%5D%2C%0A%20%20%20%20%20%20%20%20%20%20%20%20%20%20%20%20%7B%7D%0A%20%20%20%20%20%20%20%20%20%20%20%20%29.addTo%28marker_cluster_c55f5a73f08f48a0b55a048c760b3034%29%3B%0A%20%20%20%20%20%20%20%20%0A%20%20%20%20%0A%20%20%20%20%20%20%20%20var%20popup_76df6348f1594bd68b88ce5e420adf29%20%3D%20L.popup%28%7B%22maxWidth%22%3A%20%22100%25%22%7D%29%3B%0A%0A%20%20%20%20%20%20%20%20%0A%20%20%20%20%20%20%20%20%20%20%20%20var%20html_8a215a524af34af0914f093595d09f27%20%3D%20%24%28%60%3Cdiv%20id%3D%22html_8a215a524af34af0914f093595d09f27%22%20style%3D%22width%3A%20100.0%25%3B%20height%3A%20100.0%25%3B%22%3EPropiedad%20Vendida%20en%20%24488000.0%2C%20en%202014-07-18.Caracter%C3%ADsticas%3A%203%20habitaciones%2C%202.5%20ba%C3%B1os%2C%20constuida%20en%202003%2C%20%C3%A1rea%20de%203160%20pies%20cuadrados.%20Precio%20por%20pie%20cuadrado%3A%20154.43037974683546%3C/div%3E%60%29%5B0%5D%3B%0A%20%20%20%20%20%20%20%20%20%20%20%20popup_76df6348f1594bd68b88ce5e420adf29.setContent%28html_8a215a524af34af0914f093595d09f27%29%3B%0A%20%20%20%20%20%20%20%20%0A%0A%20%20%20%20%20%20%20%20marker_1e314ee36d3e48d4a28c37ccaf1d6fd1.bindPopup%28popup_76df6348f1594bd68b88ce5e420adf29%29%0A%20%20%20%20%20%20%20%20%3B%0A%0A%20%20%20%20%20%20%20%20%0A%20%20%20%20%0A%20%20%20%20%0A%20%20%20%20%20%20%20%20%20%20%20%20var%20marker_f18bdd594e0f4ec39afa0155bc05c223%20%3D%20L.marker%28%0A%20%20%20%20%20%20%20%20%20%20%20%20%20%20%20%20%5B47.3066%2C%20-122.371%5D%2C%0A%20%20%20%20%20%20%20%20%20%20%20%20%20%20%20%20%7B%7D%0A%20%20%20%20%20%20%20%20%20%20%20%20%29.addTo%28marker_cluster_c55f5a73f08f48a0b55a048c760b3034%29%3B%0A%20%20%20%20%20%20%20%20%0A%20%20%20%20%0A%20%20%20%20%20%20%20%20var%20popup_6b2aaf39b46646c3848f0bec19e4a54d%20%3D%20L.popup%28%7B%22maxWidth%22%3A%20%22100%25%22%7D%29%3B%0A%0A%20%20%20%20%20%20%20%20%0A%20%20%20%20%20%20%20%20%20%20%20%20var%20html_b261c294d85b4cf29bceffc4a9f397a9%20%3D%20%24%28%60%3Cdiv%20id%3D%22html_b261c294d85b4cf29bceffc4a9f397a9%22%20style%3D%22width%3A%20100.0%25%3B%20height%3A%20100.0%25%3B%22%3EPropiedad%20Vendida%20en%20%24210490.0%2C%20en%202015-03-25.Caracter%C3%ADsticas%3A%203%20habitaciones%2C%201.0%20ba%C3%B1os%2C%20constuida%20en%201966%2C%20%C3%A1rea%20de%20990%20pies%20cuadrados.%20Precio%20por%20pie%20cuadrado%3A%20212.6161616161616%3C/div%3E%60%29%5B0%5D%3B%0A%20%20%20%20%20%20%20%20%20%20%20%20popup_6b2aaf39b46646c3848f0bec19e4a54d.setContent%28html_b261c294d85b4cf29bceffc4a9f397a9%29%3B%0A%20%20%20%20%20%20%20%20%0A%0A%20%20%20%20%20%20%20%20marker_f18bdd594e0f4ec39afa0155bc05c223.bindPopup%28popup_6b2aaf39b46646c3848f0bec19e4a54d%29%0A%20%20%20%20%20%20%20%20%3B%0A%0A%20%20%20%20%20%20%20%20%0A%20%20%20%20%0A%20%20%20%20%0A%20%20%20%20%20%20%20%20%20%20%20%20var%20marker_83d8653c5467469abc64327fc316332d%20%3D%20L.marker%28%0A%20%20%20%20%20%20%20%20%20%20%20%20%20%20%20%20%5B47.6194%2C%20-122.151%5D%2C%0A%20%20%20%20%20%20%20%20%20%20%20%20%20%20%20%20%7B%7D%0A%20%20%20%20%20%20%20%20%20%20%20%20%29.addTo%28marker_cluster_c55f5a73f08f48a0b55a048c760b3034%29%3B%0A%20%20%20%20%20%20%20%20%0A%20%20%20%20%0A%20%20%20%20%20%20%20%20var%20popup_6bcf93ce856f466fad4cbb2fd71dda77%20%3D%20L.popup%28%7B%22maxWidth%22%3A%20%22100%25%22%7D%29%3B%0A%0A%20%20%20%20%20%20%20%20%0A%20%20%20%20%20%20%20%20%20%20%20%20var%20html_f15d4dbdfd074618b47b0c883807ed88%20%3D%20%24%28%60%3Cdiv%20id%3D%22html_f15d4dbdfd074618b47b0c883807ed88%22%20style%3D%22width%3A%20100.0%25%3B%20height%3A%20100.0%25%3B%22%3EPropiedad%20Vendida%20en%20%24785000.0%2C%20en%202014-07-16.Caracter%C3%ADsticas%3A%204%20habitaciones%2C%202.5%20ba%C3%B1os%2C%20constuida%20en%201981%2C%20%C3%A1rea%20de%202290%20pies%20cuadrados.%20Precio%20por%20pie%20cuadrado%3A%20342.7947598253275%3C/div%3E%60%29%5B0%5D%3B%0A%20%20%20%20%20%20%20%20%20%20%20%20popup_6bcf93ce856f466fad4cbb2fd71dda77.setContent%28html_f15d4dbdfd074618b47b0c883807ed88%29%3B%0A%20%20%20%20%20%20%20%20%0A%0A%20%20%20%20%20%20%20%20marker_83d8653c5467469abc64327fc316332d.bindPopup%28popup_6bcf93ce856f466fad4cbb2fd71dda77%29%0A%20%20%20%20%20%20%20%20%3B%0A%0A%20%20%20%20%20%20%20%20%0A%20%20%20%20%0A%20%20%20%20%0A%20%20%20%20%20%20%20%20%20%20%20%20var%20marker_37dccb65ddef44e68d0c1071f5261ea1%20%3D%20L.marker%28%0A%20%20%20%20%20%20%20%20%20%20%20%20%20%20%20%20%5B47.6796%2C%20-122.301%5D%2C%0A%20%20%20%20%20%20%20%20%20%20%20%20%20%20%20%20%7B%7D%0A%20%20%20%20%20%20%20%20%20%20%20%20%29.addTo%28marker_cluster_c55f5a73f08f48a0b55a048c760b3034%29%3B%0A%20%20%20%20%20%20%20%20%0A%20%20%20%20%0A%20%20%20%20%20%20%20%20var%20popup_b1f785c647904e79b94daf2e69569181%20%3D%20L.popup%28%7B%22maxWidth%22%3A%20%22100%25%22%7D%29%3B%0A%0A%20%20%20%20%20%20%20%20%0A%20%20%20%20%20%20%20%20%20%20%20%20var%20html_4ee1c3a3941f4501ab0aa66c4887085c%20%3D%20%24%28%60%3Cdiv%20id%3D%22html_4ee1c3a3941f4501ab0aa66c4887085c%22%20style%3D%22width%3A%20100.0%25%3B%20height%3A%20100.0%25%3B%22%3EPropiedad%20Vendida%20en%20%24450000.0%2C%20en%202015-04-28.Caracter%C3%ADsticas%3A%203%20habitaciones%2C%201.75%20ba%C3%B1os%2C%20constuida%20en%201953%2C%20%C3%A1rea%20de%201250%20pies%20cuadrados.%20Precio%20por%20pie%20cuadrado%3A%20360.0%3C/div%3E%60%29%5B0%5D%3B%0A%20%20%20%20%20%20%20%20%20%20%20%20popup_b1f785c647904e79b94daf2e69569181.setContent%28html_4ee1c3a3941f4501ab0aa66c4887085c%29%3B%0A%20%20%20%20%20%20%20%20%0A%0A%20%20%20%20%20%20%20%20marker_37dccb65ddef44e68d0c1071f5261ea1.bindPopup%28popup_b1f785c647904e79b94daf2e69569181%29%0A%20%20%20%20%20%20%20%20%3B%0A%0A%20%20%20%20%20%20%20%20%0A%20%20%20%20%0A%20%20%20%20%0A%20%20%20%20%20%20%20%20%20%20%20%20var%20marker_d2e313f065294f66a688e1792fdc0532%20%3D%20L.marker%28%0A%20%20%20%20%20%20%20%20%20%20%20%20%20%20%20%20%5B47.4041%2C%20-122.451%5D%2C%0A%20%20%20%20%20%20%20%20%20%20%20%20%20%20%20%20%7B%7D%0A%20%20%20%20%20%20%20%20%20%20%20%20%29.addTo%28marker_cluster_c55f5a73f08f48a0b55a048c760b3034%29%3B%0A%20%20%20%20%20%20%20%20%0A%20%20%20%20%0A%20%20%20%20%20%20%20%20var%20popup_af15ac6b4c584c888f342c025ecd5269%20%3D%20L.popup%28%7B%22maxWidth%22%3A%20%22100%25%22%7D%29%3B%0A%0A%20%20%20%20%20%20%20%20%0A%20%20%20%20%20%20%20%20%20%20%20%20var%20html_e7b7b822639a4fdd861289ad713151b5%20%3D%20%24%28%60%3Cdiv%20id%3D%22html_e7b7b822639a4fdd861289ad713151b5%22%20style%3D%22width%3A%20100.0%25%3B%20height%3A%20100.0%25%3B%22%3EPropiedad%20Vendida%20en%20%241350000.0%2C%20en%202015-03-11.Caracter%C3%ADsticas%3A%203%20habitaciones%2C%202.5%20ba%C3%B1os%2C%20constuida%20en%201953%2C%20%C3%A1rea%20de%202753%20pies%20cuadrados.%20Precio%20por%20pie%20cuadrado%3A%20490.37413730475845%3C/div%3E%60%29%5B0%5D%3B%0A%20%20%20%20%20%20%20%20%20%20%20%20popup_af15ac6b4c584c888f342c025ecd5269.setContent%28html_e7b7b822639a4fdd861289ad713151b5%29%3B%0A%20%20%20%20%20%20%20%20%0A%0A%20%20%20%20%20%20%20%20marker_d2e313f065294f66a688e1792fdc0532.bindPopup%28popup_af15ac6b4c584c888f342c025ecd5269%29%0A%20%20%20%20%20%20%20%20%3B%0A%0A%20%20%20%20%20%20%20%20%0A%20%20%20%20%0A%20%20%20%20%0A%20%20%20%20%20%20%20%20%20%20%20%20var%20marker_9a57e49d88c240f3a1942de50cd726c5%20%3D%20L.marker%28%0A%20%20%20%20%20%20%20%20%20%20%20%20%20%20%20%20%5B47.4258%2C%20-122.322%5D%2C%0A%20%20%20%20%20%20%20%20%20%20%20%20%20%20%20%20%7B%7D%0A%20%20%20%20%20%20%20%20%20%20%20%20%29.addTo%28marker_cluster_c55f5a73f08f48a0b55a048c760b3034%29%3B%0A%20%20%20%20%20%20%20%20%0A%20%20%20%20%0A%20%20%20%20%20%20%20%20var%20popup_ed657468fdb646c0b8c3dfda24cc9226%20%3D%20L.popup%28%7B%22maxWidth%22%3A%20%22100%25%22%7D%29%3B%0A%0A%20%20%20%20%20%20%20%20%0A%20%20%20%20%20%20%20%20%20%20%20%20var%20html_8a387190738b4f57b532901cab67910c%20%3D%20%24%28%60%3Cdiv%20id%3D%22html_8a387190738b4f57b532901cab67910c%22%20style%3D%22width%3A%20100.0%25%3B%20height%3A%20100.0%25%3B%22%3EPropiedad%20Vendida%20en%20%24228000.0%2C%20en%202014-09-16.Caracter%C3%ADsticas%3A%203%20habitaciones%2C%201.0%20ba%C3%B1os%2C%20constuida%20en%201955%2C%20%C3%A1rea%20de%201190%20pies%20cuadrados.%20Precio%20por%20pie%20cuadrado%3A%20191.5966386554622%3C/div%3E%60%29%5B0%5D%3B%0A%20%20%20%20%20%20%20%20%20%20%20%20popup_ed657468fdb646c0b8c3dfda24cc9226.setContent%28html_8a387190738b4f57b532901cab67910c%29%3B%0A%20%20%20%20%20%20%20%20%0A%0A%20%20%20%20%20%20%20%20marker_9a57e49d88c240f3a1942de50cd726c5.bindPopup%28popup_ed657468fdb646c0b8c3dfda24cc9226%29%0A%20%20%20%20%20%20%20%20%3B%0A%0A%20%20%20%20%20%20%20%20%0A%20%20%20%20%0A%20%20%20%20%0A%20%20%20%20%20%20%20%20%20%20%20%20var%20marker_bc8bdf1ed70b49b088ef6e0f75b89423%20%3D%20L.marker%28%0A%20%20%20%20%20%20%20%20%20%20%20%20%20%20%20%20%5B47.4934%2C%20-122.189%5D%2C%0A%20%20%20%20%20%20%20%20%20%20%20%20%20%20%20%20%7B%7D%0A%20%20%20%20%20%20%20%20%20%20%20%20%29.addTo%28marker_cluster_c55f5a73f08f48a0b55a048c760b3034%29%3B%0A%20%20%20%20%20%20%20%20%0A%20%20%20%20%0A%20%20%20%20%20%20%20%20var%20popup_5b9517ccde794a08b89bbdc27c078c10%20%3D%20L.popup%28%7B%22maxWidth%22%3A%20%22100%25%22%7D%29%3B%0A%0A%20%20%20%20%20%20%20%20%0A%20%20%20%20%20%20%20%20%20%20%20%20var%20html_db73d20553804429b8f932cb7cf8c5fb%20%3D%20%24%28%60%3Cdiv%20id%3D%22html_db73d20553804429b8f932cb7cf8c5fb%22%20style%3D%22width%3A%20100.0%25%3B%20height%3A%20100.0%25%3B%22%3EPropiedad%20Vendida%20en%20%24345000.0%2C%20en%202015-02-17.Caracter%C3%ADsticas%3A%205%20habitaciones%2C%202.5%20ba%C3%B1os%2C%20constuida%20en%201966%2C%20%C3%A1rea%20de%203150%20pies%20cuadrados.%20Precio%20por%20pie%20cuadrado%3A%20109.52380952380952%3C/div%3E%60%29%5B0%5D%3B%0A%20%20%20%20%20%20%20%20%20%20%20%20popup_5b9517ccde794a08b89bbdc27c078c10.setContent%28html_db73d20553804429b8f932cb7cf8c5fb%29%3B%0A%20%20%20%20%20%20%20%20%0A%0A%20%20%20%20%20%20%20%20marker_bc8bdf1ed70b49b088ef6e0f75b89423.bindPopup%28popup_5b9517ccde794a08b89bbdc27c078c10%29%0A%20%20%20%20%20%20%20%20%3B%0A%0A%20%20%20%20%20%20%20%20%0A%20%20%20%20%0A%20%20%20%20%0A%20%20%20%20%20%20%20%20%20%20%20%20var%20marker_2015d66f90654f0ca9dd324dc0b20b7d%20%3D%20L.marker%28%0A%20%20%20%20%20%20%20%20%20%20%20%20%20%20%20%20%5B47.6808%2C%20-122.384%5D%2C%0A%20%20%20%20%20%20%20%20%20%20%20%20%20%20%20%20%7B%7D%0A%20%20%20%20%20%20%20%20%20%20%20%20%29.addTo%28marker_cluster_c55f5a73f08f48a0b55a048c760b3034%29%3B%0A%20%20%20%20%20%20%20%20%0A%20%20%20%20%0A%20%20%20%20%20%20%20%20var%20popup_8a3e6209f11d4950abf195cc57851ce2%20%3D%20L.popup%28%7B%22maxWidth%22%3A%20%22100%25%22%7D%29%3B%0A%0A%20%20%20%20%20%20%20%20%0A%20%20%20%20%20%20%20%20%20%20%20%20var%20html_f3fb107e058c49bba67c59246b3a424e%20%3D%20%24%28%60%3Cdiv%20id%3D%22html_f3fb107e058c49bba67c59246b3a424e%22%20style%3D%22width%3A%20100.0%25%3B%20height%3A%20100.0%25%3B%22%3EPropiedad%20Vendida%20en%20%24600000.0%2C%20en%202014-12-31.Caracter%C3%ADsticas%3A%203%20habitaciones%2C%201.75%20ba%C3%B1os%2C%20constuida%20en%201950%2C%20%C3%A1rea%20de%201410%20pies%20cuadrados.%20Precio%20por%20pie%20cuadrado%3A%20425.531914893617%3C/div%3E%60%29%5B0%5D%3B%0A%20%20%20%20%20%20%20%20%20%20%20%20popup_8a3e6209f11d4950abf195cc57851ce2.setContent%28html_f3fb107e058c49bba67c59246b3a424e%29%3B%0A%20%20%20%20%20%20%20%20%0A%0A%20%20%20%20%20%20%20%20marker_2015d66f90654f0ca9dd324dc0b20b7d.bindPopup%28popup_8a3e6209f11d4950abf195cc57851ce2%29%0A%20%20%20%20%20%20%20%20%3B%0A%0A%20%20%20%20%20%20%20%20%0A%20%20%20%20%0A%20%20%20%20%0A%20%20%20%20%20%20%20%20%20%20%20%20var%20marker_5a697e8874ab44d98d113c902d71988d%20%3D%20L.marker%28%0A%20%20%20%20%20%20%20%20%20%20%20%20%20%20%20%20%5B47.6989%2C%20-122.369%5D%2C%0A%20%20%20%20%20%20%20%20%20%20%20%20%20%20%20%20%7B%7D%0A%20%20%20%20%20%20%20%20%20%20%20%20%29.addTo%28marker_cluster_c55f5a73f08f48a0b55a048c760b3034%29%3B%0A%20%20%20%20%20%20%20%20%0A%20%20%20%20%0A%20%20%20%20%20%20%20%20var%20popup_2d283e7188a748d89cd643216a4db391%20%3D%20L.popup%28%7B%22maxWidth%22%3A%20%22100%25%22%7D%29%3B%0A%0A%20%20%20%20%20%20%20%20%0A%20%20%20%20%20%20%20%20%20%20%20%20var%20html_3cc5a20dba7042c99236270d1a328478%20%3D%20%24%28%60%3Cdiv%20id%3D%22html_3cc5a20dba7042c99236270d1a328478%22%20style%3D%22width%3A%20100.0%25%3B%20height%3A%20100.0%25%3B%22%3EPropiedad%20Vendida%20en%20%24585000.0%2C%20en%202015-02-05.Caracter%C3%ADsticas%3A%202%20habitaciones%2C%201.75%20ba%C3%B1os%2C%20constuida%20en%201981%2C%20%C3%A1rea%20de%201980%20pies%20cuadrados.%20Precio%20por%20pie%20cuadrado%3A%20295.45454545454544%3C/div%3E%60%29%5B0%5D%3B%0A%20%20%20%20%20%20%20%20%20%20%20%20popup_2d283e7188a748d89cd643216a4db391.setContent%28html_3cc5a20dba7042c99236270d1a328478%29%3B%0A%20%20%20%20%20%20%20%20%0A%0A%20%20%20%20%20%20%20%20marker_5a697e8874ab44d98d113c902d71988d.bindPopup%28popup_2d283e7188a748d89cd643216a4db391%29%0A%20%20%20%20%20%20%20%20%3B%0A%0A%20%20%20%20%20%20%20%20%0A%20%20%20%20%0A%20%20%20%20%0A%20%20%20%20%20%20%20%20%20%20%20%20var%20marker_2022051f39384d6eb23ab3e5a30a4e74%20%3D%20L.marker%28%0A%20%20%20%20%20%20%20%20%20%20%20%20%20%20%20%20%5B47.6571%2C%20-122.281%5D%2C%0A%20%20%20%20%20%20%20%20%20%20%20%20%20%20%20%20%7B%7D%0A%20%20%20%20%20%20%20%20%20%20%20%20%29.addTo%28marker_cluster_c55f5a73f08f48a0b55a048c760b3034%29%3B%0A%20%20%20%20%20%20%20%20%0A%20%20%20%20%0A%20%20%20%20%20%20%20%20var%20popup_6d840ee79c9a4da2b5d6fc485a4cb1b5%20%3D%20L.popup%28%7B%22maxWidth%22%3A%20%22100%25%22%7D%29%3B%0A%0A%20%20%20%20%20%20%20%20%0A%20%20%20%20%20%20%20%20%20%20%20%20var%20html_04e98bf3354a455ca71e16489ff52ec1%20%3D%20%24%28%60%3Cdiv%20id%3D%22html_04e98bf3354a455ca71e16489ff52ec1%22%20style%3D%22width%3A%20100.0%25%3B%20height%3A%20100.0%25%3B%22%3EPropiedad%20Vendida%20en%20%24920000.0%2C%20en%202015-03-03.Caracter%C3%ADsticas%3A%205%20habitaciones%2C%202.25%20ba%C3%B1os%2C%20constuida%20en%201927%2C%20%C3%A1rea%20de%202730%20pies%20cuadrados.%20Precio%20por%20pie%20cuadrado%3A%20336.996336996337%3C/div%3E%60%29%5B0%5D%3B%0A%20%20%20%20%20%20%20%20%20%20%20%20popup_6d840ee79c9a4da2b5d6fc485a4cb1b5.setContent%28html_04e98bf3354a455ca71e16489ff52ec1%29%3B%0A%20%20%20%20%20%20%20%20%0A%0A%20%20%20%20%20%20%20%20marker_2022051f39384d6eb23ab3e5a30a4e74.bindPopup%28popup_6d840ee79c9a4da2b5d6fc485a4cb1b5%29%0A%20%20%20%20%20%20%20%20%3B%0A%0A%20%20%20%20%20%20%20%20%0A%20%20%20%20%0A%20%20%20%20%0A%20%20%20%20%20%20%20%20%20%20%20%20var%20marker_d4ea3a5dc3594b90a6c4cf845cd59f76%20%3D%20L.marker%28%0A%20%20%20%20%20%20%20%20%20%20%20%20%20%20%20%20%5B47.6597%2C%20-122.29%5D%2C%0A%20%20%20%20%20%20%20%20%20%20%20%20%20%20%20%20%7B%7D%0A%20%20%20%20%20%20%20%20%20%20%20%20%29.addTo%28marker_cluster_c55f5a73f08f48a0b55a048c760b3034%29%3B%0A%20%20%20%20%20%20%20%20%0A%20%20%20%20%0A%20%20%20%20%20%20%20%20var%20popup_7b91a05b40e044b08e5c22e5ef61e39e%20%3D%20L.popup%28%7B%22maxWidth%22%3A%20%22100%25%22%7D%29%3B%0A%0A%20%20%20%20%20%20%20%20%0A%20%20%20%20%20%20%20%20%20%20%20%20var%20html_b77f8a7f9a4b4db7b2bfa5dcaeeed8bd%20%3D%20%24%28%60%3Cdiv%20id%3D%22html_b77f8a7f9a4b4db7b2bfa5dcaeeed8bd%22%20style%3D%22width%3A%20100.0%25%3B%20height%3A%20100.0%25%3B%22%3EPropiedad%20Vendida%20en%20%24885000.0%2C%20en%202014-05-12.Caracter%C3%ADsticas%3A%204%20habitaciones%2C%202.5%20ba%C3%B1os%2C%20constuida%20en%201995%2C%20%C3%A1rea%20de%202830%20pies%20cuadrados.%20Precio%20por%20pie%20cuadrado%3A%20312.7208480565371%3C/div%3E%60%29%5B0%5D%3B%0A%20%20%20%20%20%20%20%20%20%20%20%20popup_7b91a05b40e044b08e5c22e5ef61e39e.setContent%28html_b77f8a7f9a4b4db7b2bfa5dcaeeed8bd%29%3B%0A%20%20%20%20%20%20%20%20%0A%0A%20%20%20%20%20%20%20%20marker_d4ea3a5dc3594b90a6c4cf845cd59f76.bindPopup%28popup_7b91a05b40e044b08e5c22e5ef61e39e%29%0A%20%20%20%20%20%20%20%20%3B%0A%0A%20%20%20%20%20%20%20%20%0A%20%20%20%20%0A%20%20%20%20%0A%20%20%20%20%20%20%20%20%20%20%20%20var%20marker_915e842480a345b0a4648a5717946504%20%3D%20L.marker%28%0A%20%20%20%20%20%20%20%20%20%20%20%20%20%20%20%20%5B47.3663%2C%20-122.114%5D%2C%0A%20%20%20%20%20%20%20%20%20%20%20%20%20%20%20%20%7B%7D%0A%20%20%20%20%20%20%20%20%20%20%20%20%29.addTo%28marker_cluster_c55f5a73f08f48a0b55a048c760b3034%29%3B%0A%20%20%20%20%20%20%20%20%0A%20%20%20%20%0A%20%20%20%20%20%20%20%20var%20popup_d45e5746c0554e30bee23cc32160a899%20%3D%20L.popup%28%7B%22maxWidth%22%3A%20%22100%25%22%7D%29%3B%0A%0A%20%20%20%20%20%20%20%20%0A%20%20%20%20%20%20%20%20%20%20%20%20var%20html_f3df2010266e49ddba20c86a89cb80fe%20%3D%20%24%28%60%3Cdiv%20id%3D%22html_f3df2010266e49ddba20c86a89cb80fe%22%20style%3D%22width%3A%20100.0%25%3B%20height%3A%20100.0%25%3B%22%3EPropiedad%20Vendida%20en%20%24292500.0%2C%20en%202014-08-19.Caracter%C3%ADsticas%3A%204%20habitaciones%2C%202.5%20ba%C3%B1os%2C%20constuida%20en%202008%2C%20%C3%A1rea%20de%202250%20pies%20cuadrados.%20Precio%20por%20pie%20cuadrado%3A%20130.0%3C/div%3E%60%29%5B0%5D%3B%0A%20%20%20%20%20%20%20%20%20%20%20%20popup_d45e5746c0554e30bee23cc32160a899.setContent%28html_f3df2010266e49ddba20c86a89cb80fe%29%3B%0A%20%20%20%20%20%20%20%20%0A%0A%20%20%20%20%20%20%20%20marker_915e842480a345b0a4648a5717946504.bindPopup%28popup_d45e5746c0554e30bee23cc32160a899%29%0A%20%20%20%20%20%20%20%20%3B%0A%0A%20%20%20%20%20%20%20%20%0A%20%20%20%20%0A%20%20%20%20%0A%20%20%20%20%20%20%20%20%20%20%20%20var%20marker_715bce7f23fc49d8bd9d47657127a5a9%20%3D%20L.marker%28%0A%20%20%20%20%20%20%20%20%20%20%20%20%20%20%20%20%5B47.3663%2C%20-122.122%5D%2C%0A%20%20%20%20%20%20%20%20%20%20%20%20%20%20%20%20%7B%7D%0A%20%20%20%20%20%20%20%20%20%20%20%20%29.addTo%28marker_cluster_c55f5a73f08f48a0b55a048c760b3034%29%3B%0A%20%20%20%20%20%20%20%20%0A%20%20%20%20%0A%20%20%20%20%20%20%20%20var%20popup_75661285a8bb43748057fb8a4dd36d30%20%3D%20L.popup%28%7B%22maxWidth%22%3A%20%22100%25%22%7D%29%3B%0A%0A%20%20%20%20%20%20%20%20%0A%20%20%20%20%20%20%20%20%20%20%20%20var%20html_6badc8694678410ea74eb14c90c3ea5e%20%3D%20%24%28%60%3Cdiv%20id%3D%22html_6badc8694678410ea74eb14c90c3ea5e%22%20style%3D%22width%3A%20100.0%25%3B%20height%3A%20100.0%25%3B%22%3EPropiedad%20Vendida%20en%20%24301000.0%2C%20en%202015-04-07.Caracter%C3%ADsticas%3A%203%20habitaciones%2C%202.5%20ba%C3%B1os%2C%20constuida%20en%202003%2C%20%C3%A1rea%20de%202420%20pies%20cuadrados.%20Precio%20por%20pie%20cuadrado%3A%20124.3801652892562%3C/div%3E%60%29%5B0%5D%3B%0A%20%20%20%20%20%20%20%20%20%20%20%20popup_75661285a8bb43748057fb8a4dd36d30.setContent%28html_6badc8694678410ea74eb14c90c3ea5e%29%3B%0A%20%20%20%20%20%20%20%20%0A%0A%20%20%20%20%20%20%20%20marker_715bce7f23fc49d8bd9d47657127a5a9.bindPopup%28popup_75661285a8bb43748057fb8a4dd36d30%29%0A%20%20%20%20%20%20%20%20%3B%0A%0A%20%20%20%20%20%20%20%20%0A%20%20%20%20%0A%20%20%20%20%0A%20%20%20%20%20%20%20%20%20%20%20%20var%20marker_e41179ab2baa48558418b6ca8e93c07b%20%3D%20L.marker%28%0A%20%20%20%20%20%20%20%20%20%20%20%20%20%20%20%20%5B47.588%2C%20-122.116%5D%2C%0A%20%20%20%20%20%20%20%20%20%20%20%20%20%20%20%20%7B%7D%0A%20%20%20%20%20%20%20%20%20%20%20%20%29.addTo%28marker_cluster_c55f5a73f08f48a0b55a048c760b3034%29%3B%0A%20%20%20%20%20%20%20%20%0A%20%20%20%20%0A%20%20%20%20%20%20%20%20var%20popup_346dec510c8e429482cac19914892b4c%20%3D%20L.popup%28%7B%22maxWidth%22%3A%20%22100%25%22%7D%29%3B%0A%0A%20%20%20%20%20%20%20%20%0A%20%20%20%20%20%20%20%20%20%20%20%20var%20html_bf79fc255d3e4d36b155557a8346efe4%20%3D%20%24%28%60%3Cdiv%20id%3D%22html_bf79fc255d3e4d36b155557a8346efe4%22%20style%3D%22width%3A%20100.0%25%3B%20height%3A%20100.0%25%3B%22%3EPropiedad%20Vendida%20en%20%24951000.0%2C%20en%202014-08-27.Caracter%C3%ADsticas%3A%205%20habitaciones%2C%203.25%20ba%C3%B1os%2C%20constuida%20en%201968%2C%20%C3%A1rea%20de%203250%20pies%20cuadrados.%20Precio%20por%20pie%20cuadrado%3A%20292.61538461538464%3C/div%3E%60%29%5B0%5D%3B%0A%20%20%20%20%20%20%20%20%20%20%20%20popup_346dec510c8e429482cac19914892b4c.setContent%28html_bf79fc255d3e4d36b155557a8346efe4%29%3B%0A%20%20%20%20%20%20%20%20%0A%0A%20%20%20%20%20%20%20%20marker_e41179ab2baa48558418b6ca8e93c07b.bindPopup%28popup_346dec510c8e429482cac19914892b4c%29%0A%20%20%20%20%20%20%20%20%3B%0A%0A%20%20%20%20%20%20%20%20%0A%20%20%20%20%0A%20%20%20%20%0A%20%20%20%20%20%20%20%20%20%20%20%20var%20marker_9b2192f2829646138abd79cb9a857fc1%20%3D%20L.marker%28%0A%20%20%20%20%20%20%20%20%20%20%20%20%20%20%20%20%5B47.5059%2C%20-122.149%5D%2C%0A%20%20%20%20%20%20%20%20%20%20%20%20%20%20%20%20%7B%7D%0A%20%20%20%20%20%20%20%20%20%20%20%20%29.addTo%28marker_cluster_c55f5a73f08f48a0b55a048c760b3034%29%3B%0A%20%20%20%20%20%20%20%20%0A%20%20%20%20%0A%20%20%20%20%20%20%20%20var%20popup_9a8175a5c1f24dabb19eb96ea4fffe64%20%3D%20L.popup%28%7B%22maxWidth%22%3A%20%22100%25%22%7D%29%3B%0A%0A%20%20%20%20%20%20%20%20%0A%20%20%20%20%20%20%20%20%20%20%20%20var%20html_fa32faf1a547435294351eb84b6f8ab1%20%3D%20%24%28%60%3Cdiv%20id%3D%22html_fa32faf1a547435294351eb84b6f8ab1%22%20style%3D%22width%3A%20100.0%25%3B%20height%3A%20100.0%25%3B%22%3EPropiedad%20Vendida%20en%20%24430000.0%2C%20en%202015-02-23.Caracter%C3%ADsticas%3A%204%20habitaciones%2C%203.0%20ba%C3%B1os%2C%20constuida%20en%201991%2C%20%C3%A1rea%20de%201850%20pies%20cuadrados.%20Precio%20por%20pie%20cuadrado%3A%20232.43243243243242%3C/div%3E%60%29%5B0%5D%3B%0A%20%20%20%20%20%20%20%20%20%20%20%20popup_9a8175a5c1f24dabb19eb96ea4fffe64.setContent%28html_fa32faf1a547435294351eb84b6f8ab1%29%3B%0A%20%20%20%20%20%20%20%20%0A%0A%20%20%20%20%20%20%20%20marker_9b2192f2829646138abd79cb9a857fc1.bindPopup%28popup_9a8175a5c1f24dabb19eb96ea4fffe64%29%0A%20%20%20%20%20%20%20%20%3B%0A%0A%20%20%20%20%20%20%20%20%0A%20%20%20%20%0A%20%20%20%20%0A%20%20%20%20%20%20%20%20%20%20%20%20var%20marker_4565cb07d0514092b02fd3749a08663f%20%3D%20L.marker%28%0A%20%20%20%20%20%20%20%20%20%20%20%20%20%20%20%20%5B47.4336%2C%20-122.339%5D%2C%0A%20%20%20%20%20%20%20%20%20%20%20%20%20%20%20%20%7B%7D%0A%20%20%20%20%20%20%20%20%20%20%20%20%29.addTo%28marker_cluster_c55f5a73f08f48a0b55a048c760b3034%29%3B%0A%20%20%20%20%20%20%20%20%0A%20%20%20%20%0A%20%20%20%20%20%20%20%20var%20popup_7fdbe50e02ad446b9041ad3ce7c9ca91%20%3D%20L.popup%28%7B%22maxWidth%22%3A%20%22100%25%22%7D%29%3B%0A%0A%20%20%20%20%20%20%20%20%0A%20%20%20%20%20%20%20%20%20%20%20%20var%20html_33795e75c6d848e0983600bc994696af%20%3D%20%24%28%60%3Cdiv%20id%3D%22html_33795e75c6d848e0983600bc994696af%22%20style%3D%22width%3A%20100.0%25%3B%20height%3A%20100.0%25%3B%22%3EPropiedad%20Vendida%20en%20%24650000.0%2C%20en%202014-12-10.Caracter%C3%ADsticas%3A%203%20habitaciones%2C%202.25%20ba%C3%B1os%2C%20constuida%20en%201959%2C%20%C3%A1rea%20de%202150%20pies%20cuadrados.%20Precio%20por%20pie%20cuadrado%3A%20302.3255813953488%3C/div%3E%60%29%5B0%5D%3B%0A%20%20%20%20%20%20%20%20%20%20%20%20popup_7fdbe50e02ad446b9041ad3ce7c9ca91.setContent%28html_33795e75c6d848e0983600bc994696af%29%3B%0A%20%20%20%20%20%20%20%20%0A%0A%20%20%20%20%20%20%20%20marker_4565cb07d0514092b02fd3749a08663f.bindPopup%28popup_7fdbe50e02ad446b9041ad3ce7c9ca91%29%0A%20%20%20%20%20%20%20%20%3B%0A%0A%20%20%20%20%20%20%20%20%0A%20%20%20%20%0A%20%20%20%20%0A%20%20%20%20%20%20%20%20%20%20%20%20var%20marker_31a10167cbff412fb5e725976ae5c881%20%3D%20L.marker%28%0A%20%20%20%20%20%20%20%20%20%20%20%20%20%20%20%20%5B47.4366%2C%20-122.335%5D%2C%0A%20%20%20%20%20%20%20%20%20%20%20%20%20%20%20%20%7B%7D%0A%20%20%20%20%20%20%20%20%20%20%20%20%29.addTo%28marker_cluster_c55f5a73f08f48a0b55a048c760b3034%29%3B%0A%20%20%20%20%20%20%20%20%0A%20%20%20%20%0A%20%20%20%20%20%20%20%20var%20popup_4f8ec31532ac4fd3be5983f3244e770d%20%3D%20L.popup%28%7B%22maxWidth%22%3A%20%22100%25%22%7D%29%3B%0A%0A%20%20%20%20%20%20%20%20%0A%20%20%20%20%20%20%20%20%20%20%20%20var%20html_a64d4723702f40e58ba3bd2e728ab273%20%3D%20%24%28%60%3Cdiv%20id%3D%22html_a64d4723702f40e58ba3bd2e728ab273%22%20style%3D%22width%3A%20100.0%25%3B%20height%3A%20100.0%25%3B%22%3EPropiedad%20Vendida%20en%20%24289000.0%2C%20en%202014-08-28.Caracter%C3%ADsticas%3A%203%20habitaciones%2C%201.75%20ba%C3%B1os%2C%20constuida%20en%201954%2C%20%C3%A1rea%20de%201260%20pies%20cuadrados.%20Precio%20por%20pie%20cuadrado%3A%20229.36507936507937%3C/div%3E%60%29%5B0%5D%3B%0A%20%20%20%20%20%20%20%20%20%20%20%20popup_4f8ec31532ac4fd3be5983f3244e770d.setContent%28html_a64d4723702f40e58ba3bd2e728ab273%29%3B%0A%20%20%20%20%20%20%20%20%0A%0A%20%20%20%20%20%20%20%20marker_31a10167cbff412fb5e725976ae5c881.bindPopup%28popup_4f8ec31532ac4fd3be5983f3244e770d%29%0A%20%20%20%20%20%20%20%20%3B%0A%0A%20%20%20%20%20%20%20%20%0A%20%20%20%20%0A%20%20%20%20%0A%20%20%20%20%20%20%20%20%20%20%20%20var%20marker_6267ee7875bd44e3a424f0ddf58c1079%20%3D%20L.marker%28%0A%20%20%20%20%20%20%20%20%20%20%20%20%20%20%20%20%5B47.4428%2C%20-122.344%5D%2C%0A%20%20%20%20%20%20%20%20%20%20%20%20%20%20%20%20%7B%7D%0A%20%20%20%20%20%20%20%20%20%20%20%20%29.addTo%28marker_cluster_c55f5a73f08f48a0b55a048c760b3034%29%3B%0A%20%20%20%20%20%20%20%20%0A%20%20%20%20%0A%20%20%20%20%20%20%20%20var%20popup_338c17dc00be4d74b7d64b98f7d263c6%20%3D%20L.popup%28%7B%22maxWidth%22%3A%20%22100%25%22%7D%29%3B%0A%0A%20%20%20%20%20%20%20%20%0A%20%20%20%20%20%20%20%20%20%20%20%20var%20html_90b4910d155b4a0081073f0c3a823f8d%20%3D%20%24%28%60%3Cdiv%20id%3D%22html_90b4910d155b4a0081073f0c3a823f8d%22%20style%3D%22width%3A%20100.0%25%3B%20height%3A%20100.0%25%3B%22%3EPropiedad%20Vendida%20en%20%24505000.0%2C%20en%202014-10-21.Caracter%C3%ADsticas%3A%203%20habitaciones%2C%201.75%20ba%C3%B1os%2C%20constuida%20en%201973%2C%20%C3%A1rea%20de%202519%20pies%20cuadrados.%20Precio%20por%20pie%20cuadrado%3A%20200.47637951568083%3C/div%3E%60%29%5B0%5D%3B%0A%20%20%20%20%20%20%20%20%20%20%20%20popup_338c17dc00be4d74b7d64b98f7d263c6.setContent%28html_90b4910d155b4a0081073f0c3a823f8d%29%3B%0A%20%20%20%20%20%20%20%20%0A%0A%20%20%20%20%20%20%20%20marker_6267ee7875bd44e3a424f0ddf58c1079.bindPopup%28popup_338c17dc00be4d74b7d64b98f7d263c6%29%0A%20%20%20%20%20%20%20%20%3B%0A%0A%20%20%20%20%20%20%20%20%0A%20%20%20%20%0A%20%20%20%20%0A%20%20%20%20%20%20%20%20%20%20%20%20var%20marker_7cc39c88e63a4051b90b3499d720eac1%20%3D%20L.marker%28%0A%20%20%20%20%20%20%20%20%20%20%20%20%20%20%20%20%5B47.6765%2C%20-122.32%5D%2C%0A%20%20%20%20%20%20%20%20%20%20%20%20%20%20%20%20%7B%7D%0A%20%20%20%20%20%20%20%20%20%20%20%20%29.addTo%28marker_cluster_c55f5a73f08f48a0b55a048c760b3034%29%3B%0A%20%20%20%20%20%20%20%20%0A%20%20%20%20%0A%20%20%20%20%20%20%20%20var%20popup_39e31c08fe57425f989506c7f1ad01b1%20%3D%20L.popup%28%7B%22maxWidth%22%3A%20%22100%25%22%7D%29%3B%0A%0A%20%20%20%20%20%20%20%20%0A%20%20%20%20%20%20%20%20%20%20%20%20var%20html_f42576bfb4a64663965ca1133bf6bebe%20%3D%20%24%28%60%3Cdiv%20id%3D%22html_f42576bfb4a64663965ca1133bf6bebe%22%20style%3D%22width%3A%20100.0%25%3B%20height%3A%20100.0%25%3B%22%3EPropiedad%20Vendida%20en%20%24549000.0%2C%20en%202014-12-07.Caracter%C3%ADsticas%3A%203%20habitaciones%2C%201.75%20ba%C3%B1os%2C%20constuida%20en%202014%2C%20%C3%A1rea%20de%201540%20pies%20cuadrados.%20Precio%20por%20pie%20cuadrado%3A%20356.4935064935065%3C/div%3E%60%29%5B0%5D%3B%0A%20%20%20%20%20%20%20%20%20%20%20%20popup_39e31c08fe57425f989506c7f1ad01b1.setContent%28html_f42576bfb4a64663965ca1133bf6bebe%29%3B%0A%20%20%20%20%20%20%20%20%0A%0A%20%20%20%20%20%20%20%20marker_7cc39c88e63a4051b90b3499d720eac1.bindPopup%28popup_39e31c08fe57425f989506c7f1ad01b1%29%0A%20%20%20%20%20%20%20%20%3B%0A%0A%20%20%20%20%20%20%20%20%0A%20%20%20%20%0A%20%20%20%20%0A%20%20%20%20%20%20%20%20%20%20%20%20var%20marker_09844290bdc74db4b3947d0ce33ee58f%20%3D%20L.marker%28%0A%20%20%20%20%20%20%20%20%20%20%20%20%20%20%20%20%5B47.6113%2C%20-122.297%5D%2C%0A%20%20%20%20%20%20%20%20%20%20%20%20%20%20%20%20%7B%7D%0A%20%20%20%20%20%20%20%20%20%20%20%20%29.addTo%28marker_cluster_c55f5a73f08f48a0b55a048c760b3034%29%3B%0A%20%20%20%20%20%20%20%20%0A%20%20%20%20%0A%20%20%20%20%20%20%20%20var%20popup_cc8a2828b2d1488eb1dd172d120d5d80%20%3D%20L.popup%28%7B%22maxWidth%22%3A%20%22100%25%22%7D%29%3B%0A%0A%20%20%20%20%20%20%20%20%0A%20%20%20%20%20%20%20%20%20%20%20%20var%20html_c159a65176bb48f8a9f77bbf9e36b6a6%20%3D%20%24%28%60%3Cdiv%20id%3D%22html_c159a65176bb48f8a9f77bbf9e36b6a6%22%20style%3D%22width%3A%20100.0%25%3B%20height%3A%20100.0%25%3B%22%3EPropiedad%20Vendida%20en%20%24425000.0%2C%20en%202014-06-03.Caracter%C3%ADsticas%3A%203%20habitaciones%2C%202.25%20ba%C3%B1os%2C%20constuida%20en%201979%2C%20%C3%A1rea%20de%201660%20pies%20cuadrados.%20Precio%20por%20pie%20cuadrado%3A%20256.0240963855422%3C/div%3E%60%29%5B0%5D%3B%0A%20%20%20%20%20%20%20%20%20%20%20%20popup_cc8a2828b2d1488eb1dd172d120d5d80.setContent%28html_c159a65176bb48f8a9f77bbf9e36b6a6%29%3B%0A%20%20%20%20%20%20%20%20%0A%0A%20%20%20%20%20%20%20%20marker_09844290bdc74db4b3947d0ce33ee58f.bindPopup%28popup_cc8a2828b2d1488eb1dd172d120d5d80%29%0A%20%20%20%20%20%20%20%20%3B%0A%0A%20%20%20%20%20%20%20%20%0A%20%20%20%20%0A%20%20%20%20%0A%20%20%20%20%20%20%20%20%20%20%20%20var%20marker_ecf990a10ff34dd683d972c519d7ec21%20%3D%20L.marker%28%0A%20%20%20%20%20%20%20%20%20%20%20%20%20%20%20%20%5B47.5747%2C%20-122.304%5D%2C%0A%20%20%20%20%20%20%20%20%20%20%20%20%20%20%20%20%7B%7D%0A%20%20%20%20%20%20%20%20%20%20%20%20%29.addTo%28marker_cluster_c55f5a73f08f48a0b55a048c760b3034%29%3B%0A%20%20%20%20%20%20%20%20%0A%20%20%20%20%0A%20%20%20%20%20%20%20%20var%20popup_d856a497bc964cc5b6731b9aa07c9dab%20%3D%20L.popup%28%7B%22maxWidth%22%3A%20%22100%25%22%7D%29%3B%0A%0A%20%20%20%20%20%20%20%20%0A%20%20%20%20%20%20%20%20%20%20%20%20var%20html_9bb92f21d7d345c7a3dc5e145550cf48%20%3D%20%24%28%60%3Cdiv%20id%3D%22html_9bb92f21d7d345c7a3dc5e145550cf48%22%20style%3D%22width%3A%20100.0%25%3B%20height%3A%20100.0%25%3B%22%3EPropiedad%20Vendida%20en%20%24317625.0%2C%20en%202014-11-20.Caracter%C3%ADsticas%3A%203%20habitaciones%2C%202.75%20ba%C3%B1os%2C%20constuida%20en%201925%2C%20%C3%A1rea%20de%202770%20pies%20cuadrados.%20Precio%20por%20pie%20cuadrado%3A%20114.66606498194946%3C/div%3E%60%29%5B0%5D%3B%0A%20%20%20%20%20%20%20%20%20%20%20%20popup_d856a497bc964cc5b6731b9aa07c9dab.setContent%28html_9bb92f21d7d345c7a3dc5e145550cf48%29%3B%0A%20%20%20%20%20%20%20%20%0A%0A%20%20%20%20%20%20%20%20marker_ecf990a10ff34dd683d972c519d7ec21.bindPopup%28popup_d856a497bc964cc5b6731b9aa07c9dab%29%0A%20%20%20%20%20%20%20%20%3B%0A%0A%20%20%20%20%20%20%20%20%0A%20%20%20%20%0A%20%20%20%20%0A%20%20%20%20%20%20%20%20%20%20%20%20var%20marker_84516f6651ec45fc82512744fdd9483c%20%3D%20L.marker%28%0A%20%20%20%20%20%20%20%20%20%20%20%20%20%20%20%20%5B47.5815%2C%20-122.192%5D%2C%0A%20%20%20%20%20%20%20%20%20%20%20%20%20%20%20%20%7B%7D%0A%20%20%20%20%20%20%20%20%20%20%20%20%29.addTo%28marker_cluster_c55f5a73f08f48a0b55a048c760b3034%29%3B%0A%20%20%20%20%20%20%20%20%0A%20%20%20%20%0A%20%20%20%20%20%20%20%20var%20popup_a655ee6fde734ff1af1ae9b972b21e6c%20%3D%20L.popup%28%7B%22maxWidth%22%3A%20%22100%25%22%7D%29%3B%0A%0A%20%20%20%20%20%20%20%20%0A%20%20%20%20%20%20%20%20%20%20%20%20var%20html_86504c303a9d4313920ff564ef6e0900%20%3D%20%24%28%60%3Cdiv%20id%3D%22html_86504c303a9d4313920ff564ef6e0900%22%20style%3D%22width%3A%20100.0%25%3B%20height%3A%20100.0%25%3B%22%3EPropiedad%20Vendida%20en%20%24975000.0%2C%20en%202014-09-09.Caracter%C3%ADsticas%3A%204%20habitaciones%2C%202.5%20ba%C3%B1os%2C%20constuida%20en%201989%2C%20%C3%A1rea%20de%202720%20pies%20cuadrados.%20Precio%20por%20pie%20cuadrado%3A%20358.45588235294116%3C/div%3E%60%29%5B0%5D%3B%0A%20%20%20%20%20%20%20%20%20%20%20%20popup_a655ee6fde734ff1af1ae9b972b21e6c.setContent%28html_86504c303a9d4313920ff564ef6e0900%29%3B%0A%20%20%20%20%20%20%20%20%0A%0A%20%20%20%20%20%20%20%20marker_84516f6651ec45fc82512744fdd9483c.bindPopup%28popup_a655ee6fde734ff1af1ae9b972b21e6c%29%0A%20%20%20%20%20%20%20%20%3B%0A%0A%20%20%20%20%20%20%20%20%0A%20%20%20%20%0A%20%20%20%20%0A%20%20%20%20%20%20%20%20%20%20%20%20var%20marker_8c60f932f19647c6a812be337cace9fd%20%3D%20L.marker%28%0A%20%20%20%20%20%20%20%20%20%20%20%20%20%20%20%20%5B47.3378%2C%20-122.257%5D%2C%0A%20%20%20%20%20%20%20%20%20%20%20%20%20%20%20%20%7B%7D%0A%20%20%20%20%20%20%20%20%20%20%20%20%29.addTo%28marker_cluster_c55f5a73f08f48a0b55a048c760b3034%29%3B%0A%20%20%20%20%20%20%20%20%0A%20%20%20%20%0A%20%20%20%20%20%20%20%20var%20popup_cdb7f990c6b943de8991285eaad43de3%20%3D%20L.popup%28%7B%22maxWidth%22%3A%20%22100%25%22%7D%29%3B%0A%0A%20%20%20%20%20%20%20%20%0A%20%20%20%20%20%20%20%20%20%20%20%20var%20html_1732fbd8d01c4e96925b41903ddcb758%20%3D%20%24%28%60%3Cdiv%20id%3D%22html_1732fbd8d01c4e96925b41903ddcb758%22%20style%3D%22width%3A%20100.0%25%3B%20height%3A%20100.0%25%3B%22%3EPropiedad%20Vendida%20en%20%24287000.0%2C%20en%202014-10-09.Caracter%C3%ADsticas%3A%204%20habitaciones%2C%202.5%20ba%C3%B1os%2C%20constuida%20en%202005%2C%20%C3%A1rea%20de%202240%20pies%20cuadrados.%20Precio%20por%20pie%20cuadrado%3A%20128.125%3C/div%3E%60%29%5B0%5D%3B%0A%20%20%20%20%20%20%20%20%20%20%20%20popup_cdb7f990c6b943de8991285eaad43de3.setContent%28html_1732fbd8d01c4e96925b41903ddcb758%29%3B%0A%20%20%20%20%20%20%20%20%0A%0A%20%20%20%20%20%20%20%20marker_8c60f932f19647c6a812be337cace9fd.bindPopup%28popup_cdb7f990c6b943de8991285eaad43de3%29%0A%20%20%20%20%20%20%20%20%3B%0A%0A%20%20%20%20%20%20%20%20%0A%20%20%20%20%0A%20%20%20%20%0A%20%20%20%20%20%20%20%20%20%20%20%20var%20marker_8d77aa2ab5c6428f92a3343238ac6a21%20%3D%20L.marker%28%0A%20%20%20%20%20%20%20%20%20%20%20%20%20%20%20%20%5B47.3621%2C%20-122.11%5D%2C%0A%20%20%20%20%20%20%20%20%20%20%20%20%20%20%20%20%7B%7D%0A%20%20%20%20%20%20%20%20%20%20%20%20%29.addTo%28marker_cluster_c55f5a73f08f48a0b55a048c760b3034%29%3B%0A%20%20%20%20%20%20%20%20%0A%20%20%20%20%0A%20%20%20%20%20%20%20%20var%20popup_2e8b04bd710341b9a156b05f47dfc927%20%3D%20L.popup%28%7B%22maxWidth%22%3A%20%22100%25%22%7D%29%3B%0A%0A%20%20%20%20%20%20%20%20%0A%20%20%20%20%20%20%20%20%20%20%20%20var%20html_3ac5611bd19045d49400443e5660684d%20%3D%20%24%28%60%3Cdiv%20id%3D%22html_3ac5611bd19045d49400443e5660684d%22%20style%3D%22width%3A%20100.0%25%3B%20height%3A%20100.0%25%3B%22%3EPropiedad%20Vendida%20en%20%24204000.0%2C%20en%202014-08-25.Caracter%C3%ADsticas%3A%203%20habitaciones%2C%201.0%20ba%C3%B1os%2C%20constuida%20en%201968%2C%20%C3%A1rea%20de%201000%20pies%20cuadrados.%20Precio%20por%20pie%20cuadrado%3A%20204.0%3C/div%3E%60%29%5B0%5D%3B%0A%20%20%20%20%20%20%20%20%20%20%20%20popup_2e8b04bd710341b9a156b05f47dfc927.setContent%28html_3ac5611bd19045d49400443e5660684d%29%3B%0A%20%20%20%20%20%20%20%20%0A%0A%20%20%20%20%20%20%20%20marker_8d77aa2ab5c6428f92a3343238ac6a21.bindPopup%28popup_2e8b04bd710341b9a156b05f47dfc927%29%0A%20%20%20%20%20%20%20%20%3B%0A%0A%20%20%20%20%20%20%20%20%0A%20%20%20%20%0A%20%20%20%20%0A%20%20%20%20%20%20%20%20%20%20%20%20var%20marker_8faaf33f2acf44c2825ac556e26226ed%20%3D%20L.marker%28%0A%20%20%20%20%20%20%20%20%20%20%20%20%20%20%20%20%5B47.6303%2C%20-122.215%5D%2C%0A%20%20%20%20%20%20%20%20%20%20%20%20%20%20%20%20%7B%7D%0A%20%20%20%20%20%20%20%20%20%20%20%20%29.addTo%28marker_cluster_c55f5a73f08f48a0b55a048c760b3034%29%3B%0A%20%20%20%20%20%20%20%20%0A%20%20%20%20%0A%20%20%20%20%20%20%20%20var%20popup_757b8db199724673978d69a81f4e52f4%20%3D%20L.popup%28%7B%22maxWidth%22%3A%20%22100%25%22%7D%29%3B%0A%0A%20%20%20%20%20%20%20%20%0A%20%20%20%20%20%20%20%20%20%20%20%20var%20html_799bf82599d34d5691b86a97fd649899%20%3D%20%24%28%60%3Cdiv%20id%3D%22html_799bf82599d34d5691b86a97fd649899%22%20style%3D%22width%3A%20100.0%25%3B%20height%3A%20100.0%25%3B%22%3EPropiedad%20Vendida%20en%20%241325000.0%2C%20en%202014-06-12.Caracter%C3%ADsticas%3A%205%20habitaciones%2C%202.25%20ba%C3%B1os%2C%20constuida%20en%201965%2C%20%C3%A1rea%20de%203200%20pies%20cuadrados.%20Precio%20por%20pie%20cuadrado%3A%20414.0625%3C/div%3E%60%29%5B0%5D%3B%0A%20%20%20%20%20%20%20%20%20%20%20%20popup_757b8db199724673978d69a81f4e52f4.setContent%28html_799bf82599d34d5691b86a97fd649899%29%3B%0A%20%20%20%20%20%20%20%20%0A%0A%20%20%20%20%20%20%20%20marker_8faaf33f2acf44c2825ac556e26226ed.bindPopup%28popup_757b8db199724673978d69a81f4e52f4%29%0A%20%20%20%20%20%20%20%20%3B%0A%0A%20%20%20%20%20%20%20%20%0A%20%20%20%20%0A%20%20%20%20%0A%20%20%20%20%20%20%20%20%20%20%20%20var%20marker_4decbdbd481547ba9b2c8be5e43c46bd%20%3D%20L.marker%28%0A%20%20%20%20%20%20%20%20%20%20%20%20%20%20%20%20%5B47.6525%2C%20-122.16%5D%2C%0A%20%20%20%20%20%20%20%20%20%20%20%20%20%20%20%20%7B%7D%0A%20%20%20%20%20%20%20%20%20%20%20%20%29.addTo%28marker_cluster_c55f5a73f08f48a0b55a048c760b3034%29%3B%0A%20%20%20%20%20%20%20%20%0A%20%20%20%20%0A%20%20%20%20%20%20%20%20var%20popup_fb3e76093af04c2fbec6de37f546e018%20%3D%20L.popup%28%7B%22maxWidth%22%3A%20%22100%25%22%7D%29%3B%0A%0A%20%20%20%20%20%20%20%20%0A%20%20%20%20%20%20%20%20%20%20%20%20var%20html_9fe7ea3e7c4b4cd1b13ab031081ba94f%20%3D%20%24%28%60%3Cdiv%20id%3D%22html_9fe7ea3e7c4b4cd1b13ab031081ba94f%22%20style%3D%22width%3A%20100.0%25%3B%20height%3A%20100.0%25%3B%22%3EPropiedad%20Vendida%20en%20%241040000.0%2C%20en%202014-09-12.Caracter%C3%ADsticas%3A%205%20habitaciones%2C%203.25%20ba%C3%B1os%2C%20constuida%20en%201973%2C%20%C3%A1rea%20de%204770%20pies%20cuadrados.%20Precio%20por%20pie%20cuadrado%3A%20218.02935010482182%3C/div%3E%60%29%5B0%5D%3B%0A%20%20%20%20%20%20%20%20%20%20%20%20popup_fb3e76093af04c2fbec6de37f546e018.setContent%28html_9fe7ea3e7c4b4cd1b13ab031081ba94f%29%3B%0A%20%20%20%20%20%20%20%20%0A%0A%20%20%20%20%20%20%20%20marker_4decbdbd481547ba9b2c8be5e43c46bd.bindPopup%28popup_fb3e76093af04c2fbec6de37f546e018%29%0A%20%20%20%20%20%20%20%20%3B%0A%0A%20%20%20%20%20%20%20%20%0A%20%20%20%20%0A%20%20%20%20%0A%20%20%20%20%20%20%20%20%20%20%20%20var%20marker_ca705d1ad8564f48ab313cc1cfce1fa8%20%3D%20L.marker%28%0A%20%20%20%20%20%20%20%20%20%20%20%20%20%20%20%20%5B47.7362%2C%20-122.179%5D%2C%0A%20%20%20%20%20%20%20%20%20%20%20%20%20%20%20%20%7B%7D%0A%20%20%20%20%20%20%20%20%20%20%20%20%29.addTo%28marker_cluster_c55f5a73f08f48a0b55a048c760b3034%29%3B%0A%20%20%20%20%20%20%20%20%0A%20%20%20%20%0A%20%20%20%20%20%20%20%20var%20popup_dcd9be34479f4cf5b42fa11716f6f4d2%20%3D%20L.popup%28%7B%22maxWidth%22%3A%20%22100%25%22%7D%29%3B%0A%0A%20%20%20%20%20%20%20%20%0A%20%20%20%20%20%20%20%20%20%20%20%20var%20html_6af1b2c3653b4ae183b371ea08b3afea%20%3D%20%24%28%60%3Cdiv%20id%3D%22html_6af1b2c3653b4ae183b371ea08b3afea%22%20style%3D%22width%3A%20100.0%25%3B%20height%3A%20100.0%25%3B%22%3EPropiedad%20Vendida%20en%20%24325000.0%2C%20en%202015-01-05.Caracter%C3%ADsticas%3A%203%20habitaciones%2C%202.0%20ba%C3%B1os%2C%20constuida%20en%201972%2C%20%C3%A1rea%20de%201260%20pies%20cuadrados.%20Precio%20por%20pie%20cuadrado%3A%20257.93650793650795%3C/div%3E%60%29%5B0%5D%3B%0A%20%20%20%20%20%20%20%20%20%20%20%20popup_dcd9be34479f4cf5b42fa11716f6f4d2.setContent%28html_6af1b2c3653b4ae183b371ea08b3afea%29%3B%0A%20%20%20%20%20%20%20%20%0A%0A%20%20%20%20%20%20%20%20marker_ca705d1ad8564f48ab313cc1cfce1fa8.bindPopup%28popup_dcd9be34479f4cf5b42fa11716f6f4d2%29%0A%20%20%20%20%20%20%20%20%3B%0A%0A%20%20%20%20%20%20%20%20%0A%20%20%20%20%0A%20%20%20%20%0A%20%20%20%20%20%20%20%20%20%20%20%20var%20marker_cea8c738c5a74fe2aa103e77802a7342%20%3D%20L.marker%28%0A%20%20%20%20%20%20%20%20%20%20%20%20%20%20%20%20%5B47.7168%2C%20-122.287%5D%2C%0A%20%20%20%20%20%20%20%20%20%20%20%20%20%20%20%20%7B%7D%0A%20%20%20%20%20%20%20%20%20%20%20%20%29.addTo%28marker_cluster_c55f5a73f08f48a0b55a048c760b3034%29%3B%0A%20%20%20%20%20%20%20%20%0A%20%20%20%20%0A%20%20%20%20%20%20%20%20var%20popup_4595005108274ca5893b48ec136acf16%20%3D%20L.popup%28%7B%22maxWidth%22%3A%20%22100%25%22%7D%29%3B%0A%0A%20%20%20%20%20%20%20%20%0A%20%20%20%20%20%20%20%20%20%20%20%20var%20html_56486c80483e4bc597ea249b2d06bcad%20%3D%20%24%28%60%3Cdiv%20id%3D%22html_56486c80483e4bc597ea249b2d06bcad%22%20style%3D%22width%3A%20100.0%25%3B%20height%3A%20100.0%25%3B%22%3EPropiedad%20Vendida%20en%20%24571000.0%2C%20en%202014-06-10.Caracter%C3%ADsticas%3A%204%20habitaciones%2C%202.0%20ba%C3%B1os%2C%20constuida%20en%201916%2C%20%C3%A1rea%20de%202750%20pies%20cuadrados.%20Precio%20por%20pie%20cuadrado%3A%20207.63636363636363%3C/div%3E%60%29%5B0%5D%3B%0A%20%20%20%20%20%20%20%20%20%20%20%20popup_4595005108274ca5893b48ec136acf16.setContent%28html_56486c80483e4bc597ea249b2d06bcad%29%3B%0A%20%20%20%20%20%20%20%20%0A%0A%20%20%20%20%20%20%20%20marker_cea8c738c5a74fe2aa103e77802a7342.bindPopup%28popup_4595005108274ca5893b48ec136acf16%29%0A%20%20%20%20%20%20%20%20%3B%0A%0A%20%20%20%20%20%20%20%20%0A%20%20%20%20%0A%20%20%20%20%0A%20%20%20%20%20%20%20%20%20%20%20%20var%20marker_0170f5862c6545148c87c688c4b8fa95%20%3D%20L.marker%28%0A%20%20%20%20%20%20%20%20%20%20%20%20%20%20%20%20%5B47.3608%2C%20-122.036%5D%2C%0A%20%20%20%20%20%20%20%20%20%20%20%20%20%20%20%20%7B%7D%0A%20%20%20%20%20%20%20%20%20%20%20%20%29.addTo%28marker_cluster_c55f5a73f08f48a0b55a048c760b3034%29%3B%0A%20%20%20%20%20%20%20%20%0A%20%20%20%20%0A%20%20%20%20%20%20%20%20var%20popup_7342138c81e54c528cdb697f62be2444%20%3D%20L.popup%28%7B%22maxWidth%22%3A%20%22100%25%22%7D%29%3B%0A%0A%20%20%20%20%20%20%20%20%0A%20%20%20%20%20%20%20%20%20%20%20%20var%20html_a6f8cf1726af46de8615f2b3ea644b8f%20%3D%20%24%28%60%3Cdiv%20id%3D%22html_a6f8cf1726af46de8615f2b3ea644b8f%22%20style%3D%22width%3A%20100.0%25%3B%20height%3A%20100.0%25%3B%22%3EPropiedad%20Vendida%20en%20%24360000.0%2C%20en%202014-07-10.Caracter%C3%ADsticas%3A%204%20habitaciones%2C%202.5%20ba%C3%B1os%2C%20constuida%20en%202005%2C%20%C3%A1rea%20de%202380%20pies%20cuadrados.%20Precio%20por%20pie%20cuadrado%3A%20151.26050420168067%3C/div%3E%60%29%5B0%5D%3B%0A%20%20%20%20%20%20%20%20%20%20%20%20popup_7342138c81e54c528cdb697f62be2444.setContent%28html_a6f8cf1726af46de8615f2b3ea644b8f%29%3B%0A%20%20%20%20%20%20%20%20%0A%0A%20%20%20%20%20%20%20%20marker_0170f5862c6545148c87c688c4b8fa95.bindPopup%28popup_7342138c81e54c528cdb697f62be2444%29%0A%20%20%20%20%20%20%20%20%3B%0A%0A%20%20%20%20%20%20%20%20%0A%20%20%20%20%0A%20%20%20%20%0A%20%20%20%20%20%20%20%20%20%20%20%20var%20marker_5251a7c78ef642b99137dd1e3542d81d%20%3D%20L.marker%28%0A%20%20%20%20%20%20%20%20%20%20%20%20%20%20%20%20%5B47.3511%2C%20-122.073%5D%2C%0A%20%20%20%20%20%20%20%20%20%20%20%20%20%20%20%20%7B%7D%0A%20%20%20%20%20%20%20%20%20%20%20%20%29.addTo%28marker_cluster_c55f5a73f08f48a0b55a048c760b3034%29%3B%0A%20%20%20%20%20%20%20%20%0A%20%20%20%20%0A%20%20%20%20%20%20%20%20var%20popup_2104a8a9f4ac4ef9b4635fab8b666000%20%3D%20L.popup%28%7B%22maxWidth%22%3A%20%22100%25%22%7D%29%3B%0A%0A%20%20%20%20%20%20%20%20%0A%20%20%20%20%20%20%20%20%20%20%20%20var%20html_cab5b4bb59e043679384dafe580784ba%20%3D%20%24%28%60%3Cdiv%20id%3D%22html_cab5b4bb59e043679384dafe580784ba%22%20style%3D%22width%3A%20100.0%25%3B%20height%3A%20100.0%25%3B%22%3EPropiedad%20Vendida%20en%20%24349000.0%2C%20en%202015-03-16.Caracter%C3%ADsticas%3A%203%20habitaciones%2C%201.75%20ba%C3%B1os%2C%20constuida%20en%201965%2C%20%C3%A1rea%20de%201790%20pies%20cuadrados.%20Precio%20por%20pie%20cuadrado%3A%20194.97206703910615%3C/div%3E%60%29%5B0%5D%3B%0A%20%20%20%20%20%20%20%20%20%20%20%20popup_2104a8a9f4ac4ef9b4635fab8b666000.setContent%28html_cab5b4bb59e043679384dafe580784ba%29%3B%0A%20%20%20%20%20%20%20%20%0A%0A%20%20%20%20%20%20%20%20marker_5251a7c78ef642b99137dd1e3542d81d.bindPopup%28popup_2104a8a9f4ac4ef9b4635fab8b666000%29%0A%20%20%20%20%20%20%20%20%3B%0A%0A%20%20%20%20%20%20%20%20%0A%20%20%20%20%0A%20%20%20%20%0A%20%20%20%20%20%20%20%20%20%20%20%20var%20marker_53147e0558b245cebc8d2a4b44be070e%20%3D%20L.marker%28%0A%20%20%20%20%20%20%20%20%20%20%20%20%20%20%20%20%5B47.5822%2C%20-121.987%5D%2C%0A%20%20%20%20%20%20%20%20%20%20%20%20%20%20%20%20%7B%7D%0A%20%20%20%20%20%20%20%20%20%20%20%20%29.addTo%28marker_cluster_c55f5a73f08f48a0b55a048c760b3034%29%3B%0A%20%20%20%20%20%20%20%20%0A%20%20%20%20%0A%20%20%20%20%20%20%20%20var%20popup_0a7684752fd5454692a3028ac4483fe3%20%3D%20L.popup%28%7B%22maxWidth%22%3A%20%22100%25%22%7D%29%3B%0A%0A%20%20%20%20%20%20%20%20%0A%20%20%20%20%20%20%20%20%20%20%20%20var%20html_909042b4bdd443cf9d32f0b5d894e77d%20%3D%20%24%28%60%3Cdiv%20id%3D%22html_909042b4bdd443cf9d32f0b5d894e77d%22%20style%3D%22width%3A%20100.0%25%3B%20height%3A%20100.0%25%3B%22%3EPropiedad%20Vendida%20en%20%24832500.0%2C%20en%202014-11-05.Caracter%C3%ADsticas%3A%204%20habitaciones%2C%204.0%20ba%C3%B1os%2C%20constuida%20en%201986%2C%20%C3%A1rea%20de%203430%20pies%20cuadrados.%20Precio%20por%20pie%20cuadrado%3A%20242.71137026239066%3C/div%3E%60%29%5B0%5D%3B%0A%20%20%20%20%20%20%20%20%20%20%20%20popup_0a7684752fd5454692a3028ac4483fe3.setContent%28html_909042b4bdd443cf9d32f0b5d894e77d%29%3B%0A%20%20%20%20%20%20%20%20%0A%0A%20%20%20%20%20%20%20%20marker_53147e0558b245cebc8d2a4b44be070e.bindPopup%28popup_0a7684752fd5454692a3028ac4483fe3%29%0A%20%20%20%20%20%20%20%20%3B%0A%0A%20%20%20%20%20%20%20%20%0A%20%20%20%20%0A%20%20%20%20%0A%20%20%20%20%20%20%20%20%20%20%20%20var%20marker_90ef39b67d77424fa9b646137a8e721e%20%3D%20L.marker%28%0A%20%20%20%20%20%20%20%20%20%20%20%20%20%20%20%20%5B47.6034%2C%20-122.125%5D%2C%0A%20%20%20%20%20%20%20%20%20%20%20%20%20%20%20%20%7B%7D%0A%20%20%20%20%20%20%20%20%20%20%20%20%29.addTo%28marker_cluster_c55f5a73f08f48a0b55a048c760b3034%29%3B%0A%20%20%20%20%20%20%20%20%0A%20%20%20%20%0A%20%20%20%20%20%20%20%20var%20popup_26b8f05749d545cab59da176894f59f0%20%3D%20L.popup%28%7B%22maxWidth%22%3A%20%22100%25%22%7D%29%3B%0A%0A%20%20%20%20%20%20%20%20%0A%20%20%20%20%20%20%20%20%20%20%20%20var%20html_e2e7e7c2a2f143e3b2b7d072fede2839%20%3D%20%24%28%60%3Cdiv%20id%3D%22html_e2e7e7c2a2f143e3b2b7d072fede2839%22%20style%3D%22width%3A%20100.0%25%3B%20height%3A%20100.0%25%3B%22%3EPropiedad%20Vendida%20en%20%24380000.0%2C%20en%202014-10-13.Caracter%C3%ADsticas%3A%204%20habitaciones%2C%201.75%20ba%C3%B1os%2C%20constuida%20en%201956%2C%20%C3%A1rea%20de%201760%20pies%20cuadrados.%20Precio%20por%20pie%20cuadrado%3A%20215.9090909090909%3C/div%3E%60%29%5B0%5D%3B%0A%20%20%20%20%20%20%20%20%20%20%20%20popup_26b8f05749d545cab59da176894f59f0.setContent%28html_e2e7e7c2a2f143e3b2b7d072fede2839%29%3B%0A%20%20%20%20%20%20%20%20%0A%0A%20%20%20%20%20%20%20%20marker_90ef39b67d77424fa9b646137a8e721e.bindPopup%28popup_26b8f05749d545cab59da176894f59f0%29%0A%20%20%20%20%20%20%20%20%3B%0A%0A%20%20%20%20%20%20%20%20%0A%20%20%20%20%0A%20%20%20%20%0A%20%20%20%20%20%20%20%20%20%20%20%20var%20marker_5f1591b1685c4fdd87a96f2d5a634367%20%3D%20L.marker%28%0A%20%20%20%20%20%20%20%20%20%20%20%20%20%20%20%20%5B47.5636%2C%20-122.394%5D%2C%0A%20%20%20%20%20%20%20%20%20%20%20%20%20%20%20%20%7B%7D%0A%20%20%20%20%20%20%20%20%20%20%20%20%29.addTo%28marker_cluster_c55f5a73f08f48a0b55a048c760b3034%29%3B%0A%20%20%20%20%20%20%20%20%0A%20%20%20%20%0A%20%20%20%20%20%20%20%20var%20popup_bd8d85c1d51d4ba9b209acf9490c480a%20%3D%20L.popup%28%7B%22maxWidth%22%3A%20%22100%25%22%7D%29%3B%0A%0A%20%20%20%20%20%20%20%20%0A%20%20%20%20%20%20%20%20%20%20%20%20var%20html_f91efff876b04503b753326c7788d359%20%3D%20%24%28%60%3Cdiv%20id%3D%22html_f91efff876b04503b753326c7788d359%22%20style%3D%22width%3A%20100.0%25%3B%20height%3A%20100.0%25%3B%22%3EPropiedad%20Vendida%20en%20%24480000.0%2C%20en%202015-04-20.Caracter%C3%ADsticas%3A%203%20habitaciones%2C%201.0%20ba%C3%B1os%2C%20constuida%20en%201941%2C%20%C3%A1rea%20de%201040%20pies%20cuadrados.%20Precio%20por%20pie%20cuadrado%3A%20461.53846153846155%3C/div%3E%60%29%5B0%5D%3B%0A%20%20%20%20%20%20%20%20%20%20%20%20popup_bd8d85c1d51d4ba9b209acf9490c480a.setContent%28html_f91efff876b04503b753326c7788d359%29%3B%0A%20%20%20%20%20%20%20%20%0A%0A%20%20%20%20%20%20%20%20marker_5f1591b1685c4fdd87a96f2d5a634367.bindPopup%28popup_bd8d85c1d51d4ba9b209acf9490c480a%29%0A%20%20%20%20%20%20%20%20%3B%0A%0A%20%20%20%20%20%20%20%20%0A%20%20%20%20%0A%20%20%20%20%0A%20%20%20%20%20%20%20%20%20%20%20%20var%20marker_dfad8c3909ec433eae00a98f607f5f57%20%3D%20L.marker%28%0A%20%20%20%20%20%20%20%20%20%20%20%20%20%20%20%20%5B47.7073%2C%20-122.34%5D%2C%0A%20%20%20%20%20%20%20%20%20%20%20%20%20%20%20%20%7B%7D%0A%20%20%20%20%20%20%20%20%20%20%20%20%29.addTo%28marker_cluster_c55f5a73f08f48a0b55a048c760b3034%29%3B%0A%20%20%20%20%20%20%20%20%0A%20%20%20%20%0A%20%20%20%20%20%20%20%20var%20popup_a811f68173dc4b748b82c6aad9e51cac%20%3D%20L.popup%28%7B%22maxWidth%22%3A%20%22100%25%22%7D%29%3B%0A%0A%20%20%20%20%20%20%20%20%0A%20%20%20%20%20%20%20%20%20%20%20%20var%20html_32dc4042756c4930af7c65d6e1affbb6%20%3D%20%24%28%60%3Cdiv%20id%3D%22html_32dc4042756c4930af7c65d6e1affbb6%22%20style%3D%22width%3A%20100.0%25%3B%20height%3A%20100.0%25%3B%22%3EPropiedad%20Vendida%20en%20%24410000.0%2C%20en%202014-06-09.Caracter%C3%ADsticas%3A%203%20habitaciones%2C%201.0%20ba%C3%B1os%2C%20constuida%20en%201956%2C%20%C3%A1rea%20de%201410%20pies%20cuadrados.%20Precio%20por%20pie%20cuadrado%3A%20290.78014184397165%3C/div%3E%60%29%5B0%5D%3B%0A%20%20%20%20%20%20%20%20%20%20%20%20popup_a811f68173dc4b748b82c6aad9e51cac.setContent%28html_32dc4042756c4930af7c65d6e1affbb6%29%3B%0A%20%20%20%20%20%20%20%20%0A%0A%20%20%20%20%20%20%20%20marker_dfad8c3909ec433eae00a98f607f5f57.bindPopup%28popup_a811f68173dc4b748b82c6aad9e51cac%29%0A%20%20%20%20%20%20%20%20%3B%0A%0A%20%20%20%20%20%20%20%20%0A%20%20%20%20%0A%20%20%20%20%0A%20%20%20%20%20%20%20%20%20%20%20%20var%20marker_e5917fd6d5944fd584f89532f26aaa4f%20%3D%20L.marker%28%0A%20%20%20%20%20%20%20%20%20%20%20%20%20%20%20%20%5B47.342%2C%20-122.025%5D%2C%0A%20%20%20%20%20%20%20%20%20%20%20%20%20%20%20%20%7B%7D%0A%20%20%20%20%20%20%20%20%20%20%20%20%29.addTo%28marker_cluster_c55f5a73f08f48a0b55a048c760b3034%29%3B%0A%20%20%20%20%20%20%20%20%0A%20%20%20%20%0A%20%20%20%20%20%20%20%20var%20popup_7288ae62d81c46cc896d8e35d2366395%20%3D%20L.popup%28%7B%22maxWidth%22%3A%20%22100%25%22%7D%29%3B%0A%0A%20%20%20%20%20%20%20%20%0A%20%20%20%20%20%20%20%20%20%20%20%20var%20html_40053322cc7e406389501236da62176d%20%3D%20%24%28%60%3Cdiv%20id%3D%22html_40053322cc7e406389501236da62176d%22%20style%3D%22width%3A%20100.0%25%3B%20height%3A%20100.0%25%3B%22%3EPropiedad%20Vendida%20en%20%24720000.0%2C%20en%202015-03-23.Caracter%C3%ADsticas%3A%204%20habitaciones%2C%202.5%20ba%C3%B1os%2C%20constuida%20en%202002%2C%20%C3%A1rea%20de%203450%20pies%20cuadrados.%20Precio%20por%20pie%20cuadrado%3A%20208.69565217391303%3C/div%3E%60%29%5B0%5D%3B%0A%20%20%20%20%20%20%20%20%20%20%20%20popup_7288ae62d81c46cc896d8e35d2366395.setContent%28html_40053322cc7e406389501236da62176d%29%3B%0A%20%20%20%20%20%20%20%20%0A%0A%20%20%20%20%20%20%20%20marker_e5917fd6d5944fd584f89532f26aaa4f.bindPopup%28popup_7288ae62d81c46cc896d8e35d2366395%29%0A%20%20%20%20%20%20%20%20%3B%0A%0A%20%20%20%20%20%20%20%20%0A%20%20%20%20%0A%20%20%20%20%0A%20%20%20%20%20%20%20%20%20%20%20%20var%20marker_bc2c7fa029dc4382875e92ec50bd33eb%20%3D%20L.marker%28%0A%20%20%20%20%20%20%20%20%20%20%20%20%20%20%20%20%5B47.3512%2C%20-122.008%5D%2C%0A%20%20%20%20%20%20%20%20%20%20%20%20%20%20%20%20%7B%7D%0A%20%20%20%20%20%20%20%20%20%20%20%20%29.addTo%28marker_cluster_c55f5a73f08f48a0b55a048c760b3034%29%3B%0A%20%20%20%20%20%20%20%20%0A%20%20%20%20%0A%20%20%20%20%20%20%20%20var%20popup_2b6a23d01f3d4dbda712140bfc1fb4a6%20%3D%20L.popup%28%7B%22maxWidth%22%3A%20%22100%25%22%7D%29%3B%0A%0A%20%20%20%20%20%20%20%20%0A%20%20%20%20%20%20%20%20%20%20%20%20var%20html_a8946966464b47788e727d1551740335%20%3D%20%24%28%60%3Cdiv%20id%3D%22html_a8946966464b47788e727d1551740335%22%20style%3D%22width%3A%20100.0%25%3B%20height%3A%20100.0%25%3B%22%3EPropiedad%20Vendida%20en%20%24390000.0%2C%20en%202014-12-02.Caracter%C3%ADsticas%3A%203%20habitaciones%2C%202.5%20ba%C3%B1os%2C%20constuida%20en%202003%2C%20%C3%A1rea%20de%202350%20pies%20cuadrados.%20Precio%20por%20pie%20cuadrado%3A%20165.95744680851064%3C/div%3E%60%29%5B0%5D%3B%0A%20%20%20%20%20%20%20%20%20%20%20%20popup_2b6a23d01f3d4dbda712140bfc1fb4a6.setContent%28html_a8946966464b47788e727d1551740335%29%3B%0A%20%20%20%20%20%20%20%20%0A%0A%20%20%20%20%20%20%20%20marker_bc2c7fa029dc4382875e92ec50bd33eb.bindPopup%28popup_2b6a23d01f3d4dbda712140bfc1fb4a6%29%0A%20%20%20%20%20%20%20%20%3B%0A%0A%20%20%20%20%20%20%20%20%0A%20%20%20%20%0A%20%20%20%20%0A%20%20%20%20%20%20%20%20%20%20%20%20var%20marker_f33d24531e9b4bb3ada48e2f51af6f53%20%3D%20L.marker%28%0A%20%20%20%20%20%20%20%20%20%20%20%20%20%20%20%20%5B47.349%2C%20-122.031%5D%2C%0A%20%20%20%20%20%20%20%20%20%20%20%20%20%20%20%20%7B%7D%0A%20%20%20%20%20%20%20%20%20%20%20%20%29.addTo%28marker_cluster_c55f5a73f08f48a0b55a048c760b3034%29%3B%0A%20%20%20%20%20%20%20%20%0A%20%20%20%20%0A%20%20%20%20%20%20%20%20var%20popup_fe53cb41a23944da97a42ff8bae69ddb%20%3D%20L.popup%28%7B%22maxWidth%22%3A%20%22100%25%22%7D%29%3B%0A%0A%20%20%20%20%20%20%20%20%0A%20%20%20%20%20%20%20%20%20%20%20%20var%20html_2334711b62e84e0c858a832a08b6d841%20%3D%20%24%28%60%3Cdiv%20id%3D%22html_2334711b62e84e0c858a832a08b6d841%22%20style%3D%22width%3A%20100.0%25%3B%20height%3A%20100.0%25%3B%22%3EPropiedad%20Vendida%20en%20%24360000.0%2C%20en%202014-12-22.Caracter%C3%ADsticas%3A%204%20habitaciones%2C%202.5%20ba%C3%B1os%2C%20constuida%20en%201992%2C%20%C3%A1rea%20de%201900%20pies%20cuadrados.%20Precio%20por%20pie%20cuadrado%3A%20189.47368421052633%3C/div%3E%60%29%5B0%5D%3B%0A%20%20%20%20%20%20%20%20%20%20%20%20popup_fe53cb41a23944da97a42ff8bae69ddb.setContent%28html_2334711b62e84e0c858a832a08b6d841%29%3B%0A%20%20%20%20%20%20%20%20%0A%0A%20%20%20%20%20%20%20%20marker_f33d24531e9b4bb3ada48e2f51af6f53.bindPopup%28popup_fe53cb41a23944da97a42ff8bae69ddb%29%0A%20%20%20%20%20%20%20%20%3B%0A%0A%20%20%20%20%20%20%20%20%0A%20%20%20%20%0A%20%20%20%20%0A%20%20%20%20%20%20%20%20%20%20%20%20var%20marker_1e3cffb81dbd44cb966f0cc19533b895%20%3D%20L.marker%28%0A%20%20%20%20%20%20%20%20%20%20%20%20%20%20%20%20%5B47.5474%2C%20-122.291%5D%2C%0A%20%20%20%20%20%20%20%20%20%20%20%20%20%20%20%20%7B%7D%0A%20%20%20%20%20%20%20%20%20%20%20%20%29.addTo%28marker_cluster_c55f5a73f08f48a0b55a048c760b3034%29%3B%0A%20%20%20%20%20%20%20%20%0A%20%20%20%20%0A%20%20%20%20%20%20%20%20var%20popup_1d7f8f5240b04f62b6d042381674511a%20%3D%20L.popup%28%7B%22maxWidth%22%3A%20%22100%25%22%7D%29%3B%0A%0A%20%20%20%20%20%20%20%20%0A%20%20%20%20%20%20%20%20%20%20%20%20var%20html_29b3f540c1d5457a8e24c09c060cc39d%20%3D%20%24%28%60%3Cdiv%20id%3D%22html_29b3f540c1d5457a8e24c09c060cc39d%22%20style%3D%22width%3A%20100.0%25%3B%20height%3A%20100.0%25%3B%22%3EPropiedad%20Vendida%20en%20%24355000.0%2C%20en%202014-10-28.Caracter%C3%ADsticas%3A%202%20habitaciones%2C%201.0%20ba%C3%B1os%2C%20constuida%20en%201948%2C%20%C3%A1rea%20de%202020%20pies%20cuadrados.%20Precio%20por%20pie%20cuadrado%3A%20175.74257425742573%3C/div%3E%60%29%5B0%5D%3B%0A%20%20%20%20%20%20%20%20%20%20%20%20popup_1d7f8f5240b04f62b6d042381674511a.setContent%28html_29b3f540c1d5457a8e24c09c060cc39d%29%3B%0A%20%20%20%20%20%20%20%20%0A%0A%20%20%20%20%20%20%20%20marker_1e3cffb81dbd44cb966f0cc19533b895.bindPopup%28popup_1d7f8f5240b04f62b6d042381674511a%29%0A%20%20%20%20%20%20%20%20%3B%0A%0A%20%20%20%20%20%20%20%20%0A%20%20%20%20%0A%20%20%20%20%0A%20%20%20%20%20%20%20%20%20%20%20%20var%20marker_00704621583441f985e27064301b1dfc%20%3D%20L.marker%28%0A%20%20%20%20%20%20%20%20%20%20%20%20%20%20%20%20%5B47.4811%2C%20-122.149%5D%2C%0A%20%20%20%20%20%20%20%20%20%20%20%20%20%20%20%20%7B%7D%0A%20%20%20%20%20%20%20%20%20%20%20%20%29.addTo%28marker_cluster_c55f5a73f08f48a0b55a048c760b3034%29%3B%0A%20%20%20%20%20%20%20%20%0A%20%20%20%20%0A%20%20%20%20%20%20%20%20var%20popup_2be26b6eb71f4c688bb8c4733c64d1b8%20%3D%20L.popup%28%7B%22maxWidth%22%3A%20%22100%25%22%7D%29%3B%0A%0A%20%20%20%20%20%20%20%20%0A%20%20%20%20%20%20%20%20%20%20%20%20var%20html_b42d62a25ed2424fa248c93fa5e6ddcf%20%3D%20%24%28%60%3Cdiv%20id%3D%22html_b42d62a25ed2424fa248c93fa5e6ddcf%22%20style%3D%22width%3A%20100.0%25%3B%20height%3A%20100.0%25%3B%22%3EPropiedad%20Vendida%20en%20%24356000.0%2C%20en%202015-01-28.Caracter%C3%ADsticas%3A%203%20habitaciones%2C%201.5%20ba%C3%B1os%2C%20constuida%20en%201964%2C%20%C3%A1rea%20de%201680%20pies%20cuadrados.%20Precio%20por%20pie%20cuadrado%3A%20211.9047619047619%3C/div%3E%60%29%5B0%5D%3B%0A%20%20%20%20%20%20%20%20%20%20%20%20popup_2be26b6eb71f4c688bb8c4733c64d1b8.setContent%28html_b42d62a25ed2424fa248c93fa5e6ddcf%29%3B%0A%20%20%20%20%20%20%20%20%0A%0A%20%20%20%20%20%20%20%20marker_00704621583441f985e27064301b1dfc.bindPopup%28popup_2be26b6eb71f4c688bb8c4733c64d1b8%29%0A%20%20%20%20%20%20%20%20%3B%0A%0A%20%20%20%20%20%20%20%20%0A%20%20%20%20%0A%20%20%20%20%0A%20%20%20%20%20%20%20%20%20%20%20%20var%20marker_4706a1561ad84daf90d78fcc8e9addd6%20%3D%20L.marker%28%0A%20%20%20%20%20%20%20%20%20%20%20%20%20%20%20%20%5B47.7264%2C%20-122.31%5D%2C%0A%20%20%20%20%20%20%20%20%20%20%20%20%20%20%20%20%7B%7D%0A%20%20%20%20%20%20%20%20%20%20%20%20%29.addTo%28marker_cluster_c55f5a73f08f48a0b55a048c760b3034%29%3B%0A%20%20%20%20%20%20%20%20%0A%20%20%20%20%0A%20%20%20%20%20%20%20%20var%20popup_acfba5c3624946f781ed772b87700857%20%3D%20L.popup%28%7B%22maxWidth%22%3A%20%22100%25%22%7D%29%3B%0A%0A%20%20%20%20%20%20%20%20%0A%20%20%20%20%20%20%20%20%20%20%20%20var%20html_164cf6caa4264d558f2c9eb9feee86c9%20%3D%20%24%28%60%3Cdiv%20id%3D%22html_164cf6caa4264d558f2c9eb9feee86c9%22%20style%3D%22width%3A%20100.0%25%3B%20height%3A%20100.0%25%3B%22%3EPropiedad%20Vendida%20en%20%24315000.0%2C%20en%202014-06-02.Caracter%C3%ADsticas%3A%203%20habitaciones%2C%201.0%20ba%C3%B1os%2C%20constuida%20en%201952%2C%20%C3%A1rea%20de%20960%20pies%20cuadrados.%20Precio%20por%20pie%20cuadrado%3A%20328.125%3C/div%3E%60%29%5B0%5D%3B%0A%20%20%20%20%20%20%20%20%20%20%20%20popup_acfba5c3624946f781ed772b87700857.setContent%28html_164cf6caa4264d558f2c9eb9feee86c9%29%3B%0A%20%20%20%20%20%20%20%20%0A%0A%20%20%20%20%20%20%20%20marker_4706a1561ad84daf90d78fcc8e9addd6.bindPopup%28popup_acfba5c3624946f781ed772b87700857%29%0A%20%20%20%20%20%20%20%20%3B%0A%0A%20%20%20%20%20%20%20%20%0A%20%20%20%20%0A%20%20%20%20%0A%20%20%20%20%20%20%20%20%20%20%20%20var%20marker_37105492a9f046bfaec7a65ddedadf29%20%3D%20L.marker%28%0A%20%20%20%20%20%20%20%20%20%20%20%20%20%20%20%20%5B47.6337%2C%20-122.365%5D%2C%0A%20%20%20%20%20%20%20%20%20%20%20%20%20%20%20%20%7B%7D%0A%20%20%20%20%20%20%20%20%20%20%20%20%29.addTo%28marker_cluster_c55f5a73f08f48a0b55a048c760b3034%29%3B%0A%20%20%20%20%20%20%20%20%0A%20%20%20%20%0A%20%20%20%20%20%20%20%20var%20popup_edd58db9b8b94cf3a84f693b5ea2b4b0%20%3D%20L.popup%28%7B%22maxWidth%22%3A%20%22100%25%22%7D%29%3B%0A%0A%20%20%20%20%20%20%20%20%0A%20%20%20%20%20%20%20%20%20%20%20%20var%20html_dd5bee965b5a4081992e802aedf228d7%20%3D%20%24%28%60%3Cdiv%20id%3D%22html_dd5bee965b5a4081992e802aedf228d7%22%20style%3D%22width%3A%20100.0%25%3B%20height%3A%20100.0%25%3B%22%3EPropiedad%20Vendida%20en%20%24940000.0%2C%20en%202014-11-14.Caracter%C3%ADsticas%3A%203%20habitaciones%2C%201.5%20ba%C3%B1os%2C%20constuida%20en%201925%2C%20%C3%A1rea%20de%202140%20pies%20cuadrados.%20Precio%20por%20pie%20cuadrado%3A%20439.25233644859816%3C/div%3E%60%29%5B0%5D%3B%0A%20%20%20%20%20%20%20%20%20%20%20%20popup_edd58db9b8b94cf3a84f693b5ea2b4b0.setContent%28html_dd5bee965b5a4081992e802aedf228d7%29%3B%0A%20%20%20%20%20%20%20%20%0A%0A%20%20%20%20%20%20%20%20marker_37105492a9f046bfaec7a65ddedadf29.bindPopup%28popup_edd58db9b8b94cf3a84f693b5ea2b4b0%29%0A%20%20%20%20%20%20%20%20%3B%0A%0A%20%20%20%20%20%20%20%20%0A%20%20%20%20%0A%20%20%20%20%0A%20%20%20%20%20%20%20%20%20%20%20%20var%20marker_190520055b9c4451a256fd22fbd4bda2%20%3D%20L.marker%28%0A%20%20%20%20%20%20%20%20%20%20%20%20%20%20%20%20%5B47.2909%2C%20-122.189%5D%2C%0A%20%20%20%20%20%20%20%20%20%20%20%20%20%20%20%20%7B%7D%0A%20%20%20%20%20%20%20%20%20%20%20%20%29.addTo%28marker_cluster_c55f5a73f08f48a0b55a048c760b3034%29%3B%0A%20%20%20%20%20%20%20%20%0A%20%20%20%20%0A%20%20%20%20%20%20%20%20var%20popup_e0f66fa412514e1badc1706eeac68b8f%20%3D%20L.popup%28%7B%22maxWidth%22%3A%20%22100%25%22%7D%29%3B%0A%0A%20%20%20%20%20%20%20%20%0A%20%20%20%20%20%20%20%20%20%20%20%20var%20html_583e805aa1a84550a0a0f23f3c546e2a%20%3D%20%24%28%60%3Cdiv%20id%3D%22html_583e805aa1a84550a0a0f23f3c546e2a%22%20style%3D%22width%3A%20100.0%25%3B%20height%3A%20100.0%25%3B%22%3EPropiedad%20Vendida%20en%20%24305000.0%2C%20en%202014-11-03.Caracter%C3%ADsticas%3A%205%20habitaciones%2C%202.25%20ba%C3%B1os%2C%20constuida%20en%201961%2C%20%C3%A1rea%20de%202660%20pies%20cuadrados.%20Precio%20por%20pie%20cuadrado%3A%20114.66165413533835%3C/div%3E%60%29%5B0%5D%3B%0A%20%20%20%20%20%20%20%20%20%20%20%20popup_e0f66fa412514e1badc1706eeac68b8f.setContent%28html_583e805aa1a84550a0a0f23f3c546e2a%29%3B%0A%20%20%20%20%20%20%20%20%0A%0A%20%20%20%20%20%20%20%20marker_190520055b9c4451a256fd22fbd4bda2.bindPopup%28popup_e0f66fa412514e1badc1706eeac68b8f%29%0A%20%20%20%20%20%20%20%20%3B%0A%0A%20%20%20%20%20%20%20%20%0A%20%20%20%20%0A%20%20%20%20%0A%20%20%20%20%20%20%20%20%20%20%20%20var%20marker_331b878286fc40ac9249085567662274%20%3D%20L.marker%28%0A%20%20%20%20%20%20%20%20%20%20%20%20%20%20%20%20%5B47.5228%2C%20-122.199%5D%2C%0A%20%20%20%20%20%20%20%20%20%20%20%20%20%20%20%20%7B%7D%0A%20%20%20%20%20%20%20%20%20%20%20%20%29.addTo%28marker_cluster_c55f5a73f08f48a0b55a048c760b3034%29%3B%0A%20%20%20%20%20%20%20%20%0A%20%20%20%20%0A%20%20%20%20%20%20%20%20var%20popup_502cf921e3f6428e8b5b8827a4cfb15a%20%3D%20L.popup%28%7B%22maxWidth%22%3A%20%22100%25%22%7D%29%3B%0A%0A%20%20%20%20%20%20%20%20%0A%20%20%20%20%20%20%20%20%20%20%20%20var%20html_6a23e0e2156344c2ac775698598c36a8%20%3D%20%24%28%60%3Cdiv%20id%3D%22html_6a23e0e2156344c2ac775698598c36a8%22%20style%3D%22width%3A%20100.0%25%3B%20height%3A%20100.0%25%3B%22%3EPropiedad%20Vendida%20en%20%24461000.0%2C%20en%202014-06-18.Caracter%C3%ADsticas%3A%203%20habitaciones%2C%203.25%20ba%C3%B1os%2C%20constuida%20en%202006%2C%20%C3%A1rea%20de%202770%20pies%20cuadrados.%20Precio%20por%20pie%20cuadrado%3A%20166.4259927797834%3C/div%3E%60%29%5B0%5D%3B%0A%20%20%20%20%20%20%20%20%20%20%20%20popup_502cf921e3f6428e8b5b8827a4cfb15a.setContent%28html_6a23e0e2156344c2ac775698598c36a8%29%3B%0A%20%20%20%20%20%20%20%20%0A%0A%20%20%20%20%20%20%20%20marker_331b878286fc40ac9249085567662274.bindPopup%28popup_502cf921e3f6428e8b5b8827a4cfb15a%29%0A%20%20%20%20%20%20%20%20%3B%0A%0A%20%20%20%20%20%20%20%20%0A%20%20%20%20%0A%20%20%20%20%0A%20%20%20%20%20%20%20%20%20%20%20%20var%20marker_9a14153dd70a4919865cab48d3c83a33%20%3D%20L.marker%28%0A%20%20%20%20%20%20%20%20%20%20%20%20%20%20%20%20%5B47.518%2C%20-122.194%5D%2C%0A%20%20%20%20%20%20%20%20%20%20%20%20%20%20%20%20%7B%7D%0A%20%20%20%20%20%20%20%20%20%20%20%20%29.addTo%28marker_cluster_c55f5a73f08f48a0b55a048c760b3034%29%3B%0A%20%20%20%20%20%20%20%20%0A%20%20%20%20%0A%20%20%20%20%20%20%20%20var%20popup_0a42cf22bce8480b87c63ee04ca092c4%20%3D%20L.popup%28%7B%22maxWidth%22%3A%20%22100%25%22%7D%29%3B%0A%0A%20%20%20%20%20%20%20%20%0A%20%20%20%20%20%20%20%20%20%20%20%20var%20html_a508c75575604d03885ff94b6da3017f%20%3D%20%24%28%60%3Cdiv%20id%3D%22html_a508c75575604d03885ff94b6da3017f%22%20style%3D%22width%3A%20100.0%25%3B%20height%3A%20100.0%25%3B%22%3EPropiedad%20Vendida%20en%20%24215000.0%2C%20en%202014-05-19.Caracter%C3%ADsticas%3A%202%20habitaciones%2C%202.25%20ba%C3%B1os%2C%20constuida%20en%201979%2C%20%C3%A1rea%20de%201610%20pies%20cuadrados.%20Precio%20por%20pie%20cuadrado%3A%20133.54037267080744%3C/div%3E%60%29%5B0%5D%3B%0A%20%20%20%20%20%20%20%20%20%20%20%20popup_0a42cf22bce8480b87c63ee04ca092c4.setContent%28html_a508c75575604d03885ff94b6da3017f%29%3B%0A%20%20%20%20%20%20%20%20%0A%0A%20%20%20%20%20%20%20%20marker_9a14153dd70a4919865cab48d3c83a33.bindPopup%28popup_0a42cf22bce8480b87c63ee04ca092c4%29%0A%20%20%20%20%20%20%20%20%3B%0A%0A%20%20%20%20%20%20%20%20%0A%20%20%20%20%0A%20%20%20%20%0A%20%20%20%20%20%20%20%20%20%20%20%20var%20marker_89843ebf9d174eee8bd0e68ee7da146c%20%3D%20L.marker%28%0A%20%20%20%20%20%20%20%20%20%20%20%20%20%20%20%20%5B47.5394%2C%20-122.387%5D%2C%0A%20%20%20%20%20%20%20%20%20%20%20%20%20%20%20%20%7B%7D%0A%20%20%20%20%20%20%20%20%20%20%20%20%29.addTo%28marker_cluster_c55f5a73f08f48a0b55a048c760b3034%29%3B%0A%20%20%20%20%20%20%20%20%0A%20%20%20%20%0A%20%20%20%20%20%20%20%20var%20popup_f40955776db048b6a2c6fc00f150a5cb%20%3D%20L.popup%28%7B%22maxWidth%22%3A%20%22100%25%22%7D%29%3B%0A%0A%20%20%20%20%20%20%20%20%0A%20%20%20%20%20%20%20%20%20%20%20%20var%20html_b9fa8c6f21b9450b879441a758add3d9%20%3D%20%24%28%60%3Cdiv%20id%3D%22html_b9fa8c6f21b9450b879441a758add3d9%22%20style%3D%22width%3A%20100.0%25%3B%20height%3A%20100.0%25%3B%22%3EPropiedad%20Vendida%20en%20%24335000.0%2C%20en%202014-09-04.Caracter%C3%ADsticas%3A%202%20habitaciones%2C%201.75%20ba%C3%B1os%2C%20constuida%20en%202006%2C%20%C3%A1rea%20de%201030%20pies%20cuadrados.%20Precio%20por%20pie%20cuadrado%3A%20325.24271844660194%3C/div%3E%60%29%5B0%5D%3B%0A%20%20%20%20%20%20%20%20%20%20%20%20popup_f40955776db048b6a2c6fc00f150a5cb.setContent%28html_b9fa8c6f21b9450b879441a758add3d9%29%3B%0A%20%20%20%20%20%20%20%20%0A%0A%20%20%20%20%20%20%20%20marker_89843ebf9d174eee8bd0e68ee7da146c.bindPopup%28popup_f40955776db048b6a2c6fc00f150a5cb%29%0A%20%20%20%20%20%20%20%20%3B%0A%0A%20%20%20%20%20%20%20%20%0A%20%20%20%20%0A%20%20%20%20%0A%20%20%20%20%20%20%20%20%20%20%20%20var%20marker_373f2d96b3cf4a4ea0dbed069b762da0%20%3D%20L.marker%28%0A%20%20%20%20%20%20%20%20%20%20%20%20%20%20%20%20%5B47.2897%2C%20-122.372%5D%2C%0A%20%20%20%20%20%20%20%20%20%20%20%20%20%20%20%20%7B%7D%0A%20%20%20%20%20%20%20%20%20%20%20%20%29.addTo%28marker_cluster_c55f5a73f08f48a0b55a048c760b3034%29%3B%0A%20%20%20%20%20%20%20%20%0A%20%20%20%20%0A%20%20%20%20%20%20%20%20var%20popup_947d2f81914f44c6b7df43e1c3f9632d%20%3D%20L.popup%28%7B%22maxWidth%22%3A%20%22100%25%22%7D%29%3B%0A%0A%20%20%20%20%20%20%20%20%0A%20%20%20%20%20%20%20%20%20%20%20%20var%20html_1c38ceed8256407987ae6d244b0a9fd0%20%3D%20%24%28%60%3Cdiv%20id%3D%22html_1c38ceed8256407987ae6d244b0a9fd0%22%20style%3D%22width%3A%20100.0%25%3B%20height%3A%20100.0%25%3B%22%3EPropiedad%20Vendida%20en%20%24243500.0%2C%20en%202014-05-22.Caracter%C3%ADsticas%3A%204%20habitaciones%2C%202.5%20ba%C3%B1os%2C%20constuida%20en%201988%2C%20%C3%A1rea%20de%201980%20pies%20cuadrados.%20Precio%20por%20pie%20cuadrado%3A%20122.97979797979798%3C/div%3E%60%29%5B0%5D%3B%0A%20%20%20%20%20%20%20%20%20%20%20%20popup_947d2f81914f44c6b7df43e1c3f9632d.setContent%28html_1c38ceed8256407987ae6d244b0a9fd0%29%3B%0A%20%20%20%20%20%20%20%20%0A%0A%20%20%20%20%20%20%20%20marker_373f2d96b3cf4a4ea0dbed069b762da0.bindPopup%28popup_947d2f81914f44c6b7df43e1c3f9632d%29%0A%20%20%20%20%20%20%20%20%3B%0A%0A%20%20%20%20%20%20%20%20%0A%20%20%20%20%0A%20%20%20%20%0A%20%20%20%20%20%20%20%20%20%20%20%20var%20marker_5a945c682fec4264970ca67d81444bfe%20%3D%20L.marker%28%0A%20%20%20%20%20%20%20%20%20%20%20%20%20%20%20%20%5B47.6506%2C%20-122.391%5D%2C%0A%20%20%20%20%20%20%20%20%20%20%20%20%20%20%20%20%7B%7D%0A%20%20%20%20%20%20%20%20%20%20%20%20%29.addTo%28marker_cluster_c55f5a73f08f48a0b55a048c760b3034%29%3B%0A%20%20%20%20%20%20%20%20%0A%20%20%20%20%0A%20%20%20%20%20%20%20%20var%20popup_f60691aefb214af1a30e6a32428bf9f1%20%3D%20L.popup%28%7B%22maxWidth%22%3A%20%22100%25%22%7D%29%3B%0A%0A%20%20%20%20%20%20%20%20%0A%20%20%20%20%20%20%20%20%20%20%20%20var%20html_e9b55a49688d41afb1963fc75f297590%20%3D%20%24%28%60%3Cdiv%20id%3D%22html_e9b55a49688d41afb1963fc75f297590%22%20style%3D%22width%3A%20100.0%25%3B%20height%3A%20100.0%25%3B%22%3EPropiedad%20Vendida%20en%20%241099880.0%2C%20en%202015-03-11.Caracter%C3%ADsticas%3A%205%20habitaciones%2C%202.75%20ba%C3%B1os%2C%20constuida%20en%202001%2C%20%C3%A1rea%20de%203520%20pies%20cuadrados.%20Precio%20por%20pie%20cuadrado%3A%20312.46590909090907%3C/div%3E%60%29%5B0%5D%3B%0A%20%20%20%20%20%20%20%20%20%20%20%20popup_f60691aefb214af1a30e6a32428bf9f1.setContent%28html_e9b55a49688d41afb1963fc75f297590%29%3B%0A%20%20%20%20%20%20%20%20%0A%0A%20%20%20%20%20%20%20%20marker_5a945c682fec4264970ca67d81444bfe.bindPopup%28popup_f60691aefb214af1a30e6a32428bf9f1%29%0A%20%20%20%20%20%20%20%20%3B%0A%0A%20%20%20%20%20%20%20%20%0A%20%20%20%20%0A%20%20%20%20%0A%20%20%20%20%20%20%20%20%20%20%20%20var%20marker_8b1beac80ca64336a3d13dbfd3c56626%20%3D%20L.marker%28%0A%20%20%20%20%20%20%20%20%20%20%20%20%20%20%20%20%5B47.322%2C%20-122.351%5D%2C%0A%20%20%20%20%20%20%20%20%20%20%20%20%20%20%20%20%7B%7D%0A%20%20%20%20%20%20%20%20%20%20%20%20%29.addTo%28marker_cluster_c55f5a73f08f48a0b55a048c760b3034%29%3B%0A%20%20%20%20%20%20%20%20%0A%20%20%20%20%0A%20%20%20%20%20%20%20%20var%20popup_64102138ab284a5a85bf2b29e5fdbf14%20%3D%20L.popup%28%7B%22maxWidth%22%3A%20%22100%25%22%7D%29%3B%0A%0A%20%20%20%20%20%20%20%20%0A%20%20%20%20%20%20%20%20%20%20%20%20var%20html_92fac3b81d0f45aa9b7a45d2a7d88902%20%3D%20%24%28%60%3Cdiv%20id%3D%22html_92fac3b81d0f45aa9b7a45d2a7d88902%22%20style%3D%22width%3A%20100.0%25%3B%20height%3A%20100.0%25%3B%22%3EPropiedad%20Vendida%20en%20%24153000.0%2C%20en%202015-02-26.Caracter%C3%ADsticas%3A%203%20habitaciones%2C%201.0%20ba%C3%B1os%2C%20constuida%20en%201962%2C%20%C3%A1rea%20de%201200%20pies%20cuadrados.%20Precio%20por%20pie%20cuadrado%3A%20127.5%3C/div%3E%60%29%5B0%5D%3B%0A%20%20%20%20%20%20%20%20%20%20%20%20popup_64102138ab284a5a85bf2b29e5fdbf14.setContent%28html_92fac3b81d0f45aa9b7a45d2a7d88902%29%3B%0A%20%20%20%20%20%20%20%20%0A%0A%20%20%20%20%20%20%20%20marker_8b1beac80ca64336a3d13dbfd3c56626.bindPopup%28popup_64102138ab284a5a85bf2b29e5fdbf14%29%0A%20%20%20%20%20%20%20%20%3B%0A%0A%20%20%20%20%20%20%20%20%0A%20%20%20%20%0A%20%20%20%20%0A%20%20%20%20%20%20%20%20%20%20%20%20var%20marker_a610d4bb9a10409aa624cd0cdc995baf%20%3D%20L.marker%28%0A%20%20%20%20%20%20%20%20%20%20%20%20%20%20%20%20%5B47.687%2C%20-122.386%5D%2C%0A%20%20%20%20%20%20%20%20%20%20%20%20%20%20%20%20%7B%7D%0A%20%20%20%20%20%20%20%20%20%20%20%20%29.addTo%28marker_cluster_c55f5a73f08f48a0b55a048c760b3034%29%3B%0A%20%20%20%20%20%20%20%20%0A%20%20%20%20%0A%20%20%20%20%20%20%20%20var%20popup_b9fe0f3ce0864007b38bd8dbc5fe4b29%20%3D%20L.popup%28%7B%22maxWidth%22%3A%20%22100%25%22%7D%29%3B%0A%0A%20%20%20%20%20%20%20%20%0A%20%20%20%20%20%20%20%20%20%20%20%20var%20html_1698567d48d444f2bfe67d2f98b8bdc4%20%3D%20%24%28%60%3Cdiv%20id%3D%22html_1698567d48d444f2bfe67d2f98b8bdc4%22%20style%3D%22width%3A%20100.0%25%3B%20height%3A%20100.0%25%3B%22%3EPropiedad%20Vendida%20en%20%24430000.0%2C%20en%202014-07-25.Caracter%C3%ADsticas%3A%203%20habitaciones%2C%201.5%20ba%C3%B1os%2C%20constuida%20en%201939%2C%20%C3%A1rea%20de%201580%20pies%20cuadrados.%20Precio%20por%20pie%20cuadrado%3A%20272.1518987341772%3C/div%3E%60%29%5B0%5D%3B%0A%20%20%20%20%20%20%20%20%20%20%20%20popup_b9fe0f3ce0864007b38bd8dbc5fe4b29.setContent%28html_1698567d48d444f2bfe67d2f98b8bdc4%29%3B%0A%20%20%20%20%20%20%20%20%0A%0A%20%20%20%20%20%20%20%20marker_a610d4bb9a10409aa624cd0cdc995baf.bindPopup%28popup_b9fe0f3ce0864007b38bd8dbc5fe4b29%29%0A%20%20%20%20%20%20%20%20%3B%0A%0A%20%20%20%20%20%20%20%20%0A%20%20%20%20%0A%20%20%20%20%0A%20%20%20%20%20%20%20%20%20%20%20%20var%20marker_6058843a3dab4cb7a7c353c04b43684b%20%3D%20L.marker%28%0A%20%20%20%20%20%20%20%20%20%20%20%20%20%20%20%20%5B47.687%2C%20-122.386%5D%2C%0A%20%20%20%20%20%20%20%20%20%20%20%20%20%20%20%20%7B%7D%0A%20%20%20%20%20%20%20%20%20%20%20%20%29.addTo%28marker_cluster_c55f5a73f08f48a0b55a048c760b3034%29%3B%0A%20%20%20%20%20%20%20%20%0A%20%20%20%20%0A%20%20%20%20%20%20%20%20var%20popup_dd5ec6849cf34249a37c09d9a31a8218%20%3D%20L.popup%28%7B%22maxWidth%22%3A%20%22100%25%22%7D%29%3B%0A%0A%20%20%20%20%20%20%20%20%0A%20%20%20%20%20%20%20%20%20%20%20%20var%20html_64a40aca139b4b07b1fec8bcab91c7b0%20%3D%20%24%28%60%3Cdiv%20id%3D%22html_64a40aca139b4b07b1fec8bcab91c7b0%22%20style%3D%22width%3A%20100.0%25%3B%20height%3A%20100.0%25%3B%22%3EPropiedad%20Vendida%20en%20%24700000.0%2C%20en%202014-12-23.Caracter%C3%ADsticas%3A%203%20habitaciones%2C%201.5%20ba%C3%B1os%2C%20constuida%20en%201939%2C%20%C3%A1rea%20de%201580%20pies%20cuadrados.%20Precio%20por%20pie%20cuadrado%3A%20443.0379746835443%3C/div%3E%60%29%5B0%5D%3B%0A%20%20%20%20%20%20%20%20%20%20%20%20popup_dd5ec6849cf34249a37c09d9a31a8218.setContent%28html_64a40aca139b4b07b1fec8bcab91c7b0%29%3B%0A%20%20%20%20%20%20%20%20%0A%0A%20%20%20%20%20%20%20%20marker_6058843a3dab4cb7a7c353c04b43684b.bindPopup%28popup_dd5ec6849cf34249a37c09d9a31a8218%29%0A%20%20%20%20%20%20%20%20%3B%0A%0A%20%20%20%20%20%20%20%20%0A%20%20%20%20%0A%20%20%20%20%0A%20%20%20%20%20%20%20%20%20%20%20%20var%20marker_5590875960fb4e3bae73d9e7d1f0e836%20%3D%20L.marker%28%0A%20%20%20%20%20%20%20%20%20%20%20%20%20%20%20%20%5B47.5873%2C%20-122.249%5D%2C%0A%20%20%20%20%20%20%20%20%20%20%20%20%20%20%20%20%7B%7D%0A%20%20%20%20%20%20%20%20%20%20%20%20%29.addTo%28marker_cluster_c55f5a73f08f48a0b55a048c760b3034%29%3B%0A%20%20%20%20%20%20%20%20%0A%20%20%20%20%0A%20%20%20%20%20%20%20%20var%20popup_9ce37cdeb03b48fcbcf98d76303ef6d4%20%3D%20L.popup%28%7B%22maxWidth%22%3A%20%22100%25%22%7D%29%3B%0A%0A%20%20%20%20%20%20%20%20%0A%20%20%20%20%20%20%20%20%20%20%20%20var%20html_88616b5664624ffe9904d0709e02b4d8%20%3D%20%24%28%60%3Cdiv%20id%3D%22html_88616b5664624ffe9904d0709e02b4d8%22%20style%3D%22width%3A%20100.0%25%3B%20height%3A%20100.0%25%3B%22%3EPropiedad%20Vendida%20en%20%24905000.0%2C%20en%202014-09-08.Caracter%C3%ADsticas%3A%204%20habitaciones%2C%202.5%20ba%C3%B1os%2C%20constuida%20en%201946%2C%20%C3%A1rea%20de%203300%20pies%20cuadrados.%20Precio%20por%20pie%20cuadrado%3A%20274.24242424242425%3C/div%3E%60%29%5B0%5D%3B%0A%20%20%20%20%20%20%20%20%20%20%20%20popup_9ce37cdeb03b48fcbcf98d76303ef6d4.setContent%28html_88616b5664624ffe9904d0709e02b4d8%29%3B%0A%20%20%20%20%20%20%20%20%0A%0A%20%20%20%20%20%20%20%20marker_5590875960fb4e3bae73d9e7d1f0e836.bindPopup%28popup_9ce37cdeb03b48fcbcf98d76303ef6d4%29%0A%20%20%20%20%20%20%20%20%3B%0A%0A%20%20%20%20%20%20%20%20%0A%20%20%20%20%0A%20%20%20%20%0A%20%20%20%20%20%20%20%20%20%20%20%20var%20marker_ffc3da68e92b40c4a19540f457646b78%20%3D%20L.marker%28%0A%20%20%20%20%20%20%20%20%20%20%20%20%20%20%20%20%5B47.3576%2C%20-122.277%5D%2C%0A%20%20%20%20%20%20%20%20%20%20%20%20%20%20%20%20%7B%7D%0A%20%20%20%20%20%20%20%20%20%20%20%20%29.addTo%28marker_cluster_c55f5a73f08f48a0b55a048c760b3034%29%3B%0A%20%20%20%20%20%20%20%20%0A%20%20%20%20%0A%20%20%20%20%20%20%20%20var%20popup_712e1096245944a6a0ad7e3a406bd1e0%20%3D%20L.popup%28%7B%22maxWidth%22%3A%20%22100%25%22%7D%29%3B%0A%0A%20%20%20%20%20%20%20%20%0A%20%20%20%20%20%20%20%20%20%20%20%20var%20html_c4dc81febdbf47608b0f376d02084299%20%3D%20%24%28%60%3Cdiv%20id%3D%22html_c4dc81febdbf47608b0f376d02084299%22%20style%3D%22width%3A%20100.0%25%3B%20height%3A%20100.0%25%3B%22%3EPropiedad%20Vendida%20en%20%24247500.0%2C%20en%202015-03-30.Caracter%C3%ADsticas%3A%203%20habitaciones%2C%201.75%20ba%C3%B1os%2C%20constuida%20en%201967%2C%20%C3%A1rea%20de%201960%20pies%20cuadrados.%20Precio%20por%20pie%20cuadrado%3A%20126.27551020408163%3C/div%3E%60%29%5B0%5D%3B%0A%20%20%20%20%20%20%20%20%20%20%20%20popup_712e1096245944a6a0ad7e3a406bd1e0.setContent%28html_c4dc81febdbf47608b0f376d02084299%29%3B%0A%20%20%20%20%20%20%20%20%0A%0A%20%20%20%20%20%20%20%20marker_ffc3da68e92b40c4a19540f457646b78.bindPopup%28popup_712e1096245944a6a0ad7e3a406bd1e0%29%0A%20%20%20%20%20%20%20%20%3B%0A%0A%20%20%20%20%20%20%20%20%0A%20%20%20%20%0A%20%20%20%20%0A%20%20%20%20%20%20%20%20%20%20%20%20var%20marker_a4b5f6530060470098d2ef8bc4767bc3%20%3D%20L.marker%28%0A%20%20%20%20%20%20%20%20%20%20%20%20%20%20%20%20%5B47.3036%2C%20-122.378%5D%2C%0A%20%20%20%20%20%20%20%20%20%20%20%20%20%20%20%20%7B%7D%0A%20%20%20%20%20%20%20%20%20%20%20%20%29.addTo%28marker_cluster_c55f5a73f08f48a0b55a048c760b3034%29%3B%0A%20%20%20%20%20%20%20%20%0A%20%20%20%20%0A%20%20%20%20%20%20%20%20var%20popup_76a42340668e40f1ad9fb556b5a90c14%20%3D%20L.popup%28%7B%22maxWidth%22%3A%20%22100%25%22%7D%29%3B%0A%0A%20%20%20%20%20%20%20%20%0A%20%20%20%20%20%20%20%20%20%20%20%20var%20html_feb4ba6cf4204213b9110b2fc9e2e9ec%20%3D%20%24%28%60%3Cdiv%20id%3D%22html_feb4ba6cf4204213b9110b2fc9e2e9ec%22%20style%3D%22width%3A%20100.0%25%3B%20height%3A%20100.0%25%3B%22%3EPropiedad%20Vendida%20en%20%24199000.0%2C%20en%202014-09-12.Caracter%C3%ADsticas%3A%204%20habitaciones%2C%201.5%20ba%C3%B1os%2C%20constuida%20en%201975%2C%20%C3%A1rea%20de%201160%20pies%20cuadrados.%20Precio%20por%20pie%20cuadrado%3A%20171.55172413793105%3C/div%3E%60%29%5B0%5D%3B%0A%20%20%20%20%20%20%20%20%20%20%20%20popup_76a42340668e40f1ad9fb556b5a90c14.setContent%28html_feb4ba6cf4204213b9110b2fc9e2e9ec%29%3B%0A%20%20%20%20%20%20%20%20%0A%0A%20%20%20%20%20%20%20%20marker_a4b5f6530060470098d2ef8bc4767bc3.bindPopup%28popup_76a42340668e40f1ad9fb556b5a90c14%29%0A%20%20%20%20%20%20%20%20%3B%0A%0A%20%20%20%20%20%20%20%20%0A%20%20%20%20%0A%20%20%20%20%0A%20%20%20%20%20%20%20%20%20%20%20%20var%20marker_2729809c439746d5afe9d312165bfc69%20%3D%20L.marker%28%0A%20%20%20%20%20%20%20%20%20%20%20%20%20%20%20%20%5B47.4109%2C%20-121.958%5D%2C%0A%20%20%20%20%20%20%20%20%20%20%20%20%20%20%20%20%7B%7D%0A%20%20%20%20%20%20%20%20%20%20%20%20%29.addTo%28marker_cluster_c55f5a73f08f48a0b55a048c760b3034%29%3B%0A%20%20%20%20%20%20%20%20%0A%20%20%20%20%0A%20%20%20%20%20%20%20%20var%20popup_6c3c693ffc5e43449f240f4ce8b2d0f4%20%3D%20L.popup%28%7B%22maxWidth%22%3A%20%22100%25%22%7D%29%3B%0A%0A%20%20%20%20%20%20%20%20%0A%20%20%20%20%20%20%20%20%20%20%20%20var%20html_5bc91b4df04741aeb11f84098b3c9b7c%20%3D%20%24%28%60%3Cdiv%20id%3D%22html_5bc91b4df04741aeb11f84098b3c9b7c%22%20style%3D%22width%3A%20100.0%25%3B%20height%3A%20100.0%25%3B%22%3EPropiedad%20Vendida%20en%20%24314000.0%2C%20en%202014-07-11.Caracter%C3%ADsticas%3A%203%20habitaciones%2C%201.75%20ba%C3%B1os%2C%20constuida%20en%201980%2C%20%C3%A1rea%20de%201810%20pies%20cuadrados.%20Precio%20por%20pie%20cuadrado%3A%20173.48066298342542%3C/div%3E%60%29%5B0%5D%3B%0A%20%20%20%20%20%20%20%20%20%20%20%20popup_6c3c693ffc5e43449f240f4ce8b2d0f4.setContent%28html_5bc91b4df04741aeb11f84098b3c9b7c%29%3B%0A%20%20%20%20%20%20%20%20%0A%0A%20%20%20%20%20%20%20%20marker_2729809c439746d5afe9d312165bfc69.bindPopup%28popup_6c3c693ffc5e43449f240f4ce8b2d0f4%29%0A%20%20%20%20%20%20%20%20%3B%0A%0A%20%20%20%20%20%20%20%20%0A%20%20%20%20%0A%20%20%20%20%0A%20%20%20%20%20%20%20%20%20%20%20%20var%20marker_1928c9d608824c25a466bb9163b47b33%20%3D%20L.marker%28%0A%20%20%20%20%20%20%20%20%20%20%20%20%20%20%20%20%5B47.4838%2C%20-121.714%5D%2C%0A%20%20%20%20%20%20%20%20%20%20%20%20%20%20%20%20%7B%7D%0A%20%20%20%20%20%20%20%20%20%20%20%20%29.addTo%28marker_cluster_c55f5a73f08f48a0b55a048c760b3034%29%3B%0A%20%20%20%20%20%20%20%20%0A%20%20%20%20%0A%20%20%20%20%20%20%20%20var%20popup_d4d156f0847e4e0495db2102245c16ee%20%3D%20L.popup%28%7B%22maxWidth%22%3A%20%22100%25%22%7D%29%3B%0A%0A%20%20%20%20%20%20%20%20%0A%20%20%20%20%20%20%20%20%20%20%20%20var%20html_5a330f378928458fb8691e8c574a9a04%20%3D%20%24%28%60%3Cdiv%20id%3D%22html_5a330f378928458fb8691e8c574a9a04%22%20style%3D%22width%3A%20100.0%25%3B%20height%3A%20100.0%25%3B%22%3EPropiedad%20Vendida%20en%20%24437500.0%2C%20en%202014-05-16.Caracter%C3%ADsticas%3A%203%20habitaciones%2C%202.5%20ba%C3%B1os%2C%20constuida%20en%201992%2C%20%C3%A1rea%20de%202320%20pies%20cuadrados.%20Precio%20por%20pie%20cuadrado%3A%20188.57758620689654%3C/div%3E%60%29%5B0%5D%3B%0A%20%20%20%20%20%20%20%20%20%20%20%20popup_d4d156f0847e4e0495db2102245c16ee.setContent%28html_5a330f378928458fb8691e8c574a9a04%29%3B%0A%20%20%20%20%20%20%20%20%0A%0A%20%20%20%20%20%20%20%20marker_1928c9d608824c25a466bb9163b47b33.bindPopup%28popup_d4d156f0847e4e0495db2102245c16ee%29%0A%20%20%20%20%20%20%20%20%3B%0A%0A%20%20%20%20%20%20%20%20%0A%20%20%20%20%0A%3C/script%3E onload=\"this.contentDocument.open();this.contentDocument.write(    decodeURIComponent(this.getAttribute('data-html')));this.contentDocument.close();\" allowfullscreen webkitallowfullscreen mozallowfullscreen></iframe></div></div>"
      ],
      "text/plain": [
       "<folium.folium.Map at 0x29780ea9d00>"
      ]
     },
     "execution_count": 62,
     "metadata": {},
     "output_type": "execute_result"
    }
   ],
   "source": [
    "mapa"
   ]
  },
  {
   "cell_type": "code",
   "execution_count": 91,
   "id": "49fef543",
   "metadata": {
    "ExecuteTime": {
     "end_time": "2022-04-30T17:48:04.481968Z",
     "start_time": "2022-04-30T17:48:04.448992Z"
    }
   },
   "outputs": [
    {
     "name": "stdout",
     "output_type": "stream",
     "text": [
      "Precio: $437500.0, \n",
      " Fecha: 2014-05-16 \n",
      " 3 habitaciones \n",
      " 2.5 baños \n",
      " constuida en 1992 \n",
      " área de 2320 pies cuadrados \n",
      " Precio por pie cuadrado: 188.57758620689654\n"
     ]
    }
   ],
   "source": [
    "print('Precio: ${}, \\n Fecha: {} \\n {} habitaciones \\n {} baños \\n constuida en {} \\n área de {} pies cuadrados \\n Precio por pie cuadrado: {}'.format(\n",
    "                  fila['price'],\n",
    "                  fila['date'],\n",
    "                  fila['bedrooms'],\n",
    "                  fila['bathrooms'],\n",
    "                  fila['yr_built'], \n",
    "                  fila['sqft_living'], \n",
    "                  fila['price/sqft']))"
   ]
  }
 ],
 "metadata": {
  "kernelspec": {
   "display_name": "Python 3 (ipykernel)",
   "language": "python",
   "name": "python3"
  },
  "language_info": {
   "codemirror_mode": {
    "name": "ipython",
    "version": 3
   },
   "file_extension": ".py",
   "mimetype": "text/x-python",
   "name": "python",
   "nbconvert_exporter": "python",
   "pygments_lexer": "ipython3",
   "version": "3.9.12"
  },
  "toc": {
   "base_numbering": 1,
   "nav_menu": {},
   "number_sections": true,
   "sideBar": true,
   "skip_h1_title": false,
   "title_cell": "Table of Contents",
   "title_sidebar": "Contents",
   "toc_cell": false,
   "toc_position": {},
   "toc_section_display": true,
   "toc_window_display": false
  },
  "varInspector": {
   "cols": {
    "lenName": 16,
    "lenType": 16,
    "lenVar": 40
   },
   "kernels_config": {
    "python": {
     "delete_cmd_postfix": "",
     "delete_cmd_prefix": "del ",
     "library": "var_list.py",
     "varRefreshCmd": "print(var_dic_list())"
    },
    "r": {
     "delete_cmd_postfix": ") ",
     "delete_cmd_prefix": "rm(",
     "library": "var_list.r",
     "varRefreshCmd": "cat(var_dic_list()) "
    }
   },
   "types_to_exclude": [
    "module",
    "function",
    "builtin_function_or_method",
    "instance",
    "_Feature"
   ],
   "window_display": false
  }
 },
 "nbformat": 4,
 "nbformat_minor": 5
}
