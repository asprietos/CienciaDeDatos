{
 "cells": [
  {
   "cell_type": "markdown",
   "id": "c0bb2707",
   "metadata": {
    "ExecuteTime": {
     "end_time": "2022-03-25T14:54:21.457091Z",
     "start_time": "2022-03-25T14:54:21.448095Z"
    }
   },
   "source": [
    "<img style=\"float: right;\" src=\"img/logo.png\" width=\"500\">\n",
    "\n",
    "\n",
    "# Diplomado en Ciencia de Datos\n",
    "#### Prof. [Sébastien Lozano Forero](https://www.linkedin.com/in/sebastienlozanoforero/) (slozanof@libertadores.edu.co)"
   ]
  },
  {
   "cell_type": "markdown",
   "id": "31d0fa7e",
   "metadata": {},
   "source": [
    "Estimada(o) participante, sea bienvenida(o) al Diplomado en Ciencia de Datos, versión 2022-1,ofertado por Educación Continua y la Facultad de Ingeniería y Ciencias Básicas de la Fundación Universitaria Los Libertadores. En el presente Jupyter Notebook encontrará información relevante para el correcto desarrollo de nuestra formación. A continuación, una pequeña tabla de contenidos."
   ]
  },
  {
   "cell_type": "markdown",
   "id": "18edc13d",
   "metadata": {
    "ExecuteTime": {
     "end_time": "2022-03-25T14:57:06.792601Z",
     "start_time": "2022-03-25T14:57:06.745347Z"
    }
   },
   "source": [
    "### Tabla de contenidos\n",
    "\n",
    "* [Presentación](#presentacion)\n",
    "    * [Contexto](#contexto)\n",
    "    * [Contenido](#contenido)\n",
    "    * [Evaluación](#evaluacion)\n",
    "    * [Bibliografía](#bibliografia)\n",
    "* [Dinámica](#dinamica)\n",
    "* [Requerimientos](#requerimientos)\n",
    "* [Código de Ética](#etica)\n",
    "* [Repositorio](#repo)\n",
    "   "
   ]
  },
  {
   "cell_type": "markdown",
   "id": "ed9f3c65",
   "metadata": {},
   "source": [
    "## Presentación <a class=\"anchor\" id=\"presentacion\"></a>"
   ]
  },
  {
   "cell_type": "markdown",
   "id": "b7118c04",
   "metadata": {},
   "source": [
    "### Contexto <a class=\"anchor\" id=\"context\"></a>"
   ]
  },
  {
   "cell_type": "markdown",
   "id": "47aa6291",
   "metadata": {
    "ExecuteTime": {
     "end_time": "2022-03-25T19:43:43.191866Z",
     "start_time": "2022-03-25T19:43:43.174865Z"
    }
   },
   "source": [
    "<img style=\"float: center; width: 500px;\" src=\"img/revsjpg.jpg\">\n",
    "<!--  tomado  de https://www.raconteur.net/manufacturing/manufacturing-gets-personal-industry-5-0/-->"
   ]
  },
  {
   "cell_type": "markdown",
   "id": "c9f8abac",
   "metadata": {},
   "source": [
    "## Dónde estamos hoy día? "
   ]
  },
  {
   "cell_type": "markdown",
   "id": "989039e4",
   "metadata": {
    "ExecuteTime": {
     "end_time": "2022-03-25T19:52:14.889154Z",
     "start_time": "2022-03-25T19:52:14.838156Z"
    }
   },
   "source": [
    "Algunas tendencias actuales: \n",
    "1. Las empresas generan alrededor de 2.000.000.000.000.000.000 bytes de datos al día\n",
    "2. El 94% de las empresas dice que los datos son esenciales para el crecimiento empresarial\n",
    "3. El 63% de las empresas no pueden recopilar información de big data\n",
    "4. El 73 % de los datos no se utiliza con fines analíticos\n",
    "5. El mayor problema con el acceso a los datos son las limitaciones presupuestarias de TI\n",
    "6. El 36 % de las empresas considera que Big Data es crucial para las operaciones comerciales\n",
    "7. La banca y la manufactura son las industrias más grandes para big data\n",
    "8. Estados Unidos es el mercado más grande para Big Data\n",
    "9. Los datos deficientes le cuestan a los EE. UU. 3.1 billones al año\n",
    "10. La automatización del almacén de datos es uno de los principales casos de uso de big data\n",
    "11. El análisis de big data en el mercado de la salud está creciendo\n",
    "12. Las empresas basadas en datos tienen 23 veces más probabilidades de adquirir clientes\n",
    "13. Los datos ofrecen una mejor toma de decisiones\n",
    "14. El 79 % de las empresas cree que si no se utilizan los macrodatos se declarará en quiebra\n",
    "15. Un aumento del 10 % en la visibilidad de los datos podría generar ingresos adicionales de $65 millones\n",
    "16. Las empresas que adoptan big data podrían aumentar los márgenes operativos en un 60 %\n",
    "17. Cada ser humano creó alrededor de 1,7 mb de datos por segundo en 2020\n",
    "18. Se esperaba que los datos acumulados en el mundo alcanzaran los 44 zettabytes en 2020\n",
    "19. Se necesitarían 181 millones de años para descargar todos los datos de internet\n",
    "20. El 97,2% de las organizaciones ahora están invirtiendo en IA y big data\n",
    "21. IoT está impulsando el crecimiento de la generación de datos\n",
    "<!--  tomado  de https://findstack.com/big-data-statistics/-->"
   ]
  },
  {
   "cell_type": "markdown",
   "id": "39f4fc5a",
   "metadata": {
    "ExecuteTime": {
     "end_time": "2022-03-25T19:35:53.921756Z",
     "start_time": "2022-03-25T19:35:53.859823Z"
    }
   },
   "source": [
    "[Aquí](https://imageio.forbes.com/blogs-images/nicolemartin1/files/2019/08/Domo.jpg?fit=bounds&format=jpg&width=960)\n",
    "[Aquí2](https://www.visualcapitalist.com/wp-content/uploads/2020/07/The-Rise-of-the-Cloud-1.jpg)"
   ]
  },
  {
   "cell_type": "markdown",
   "id": "16d462b0",
   "metadata": {
    "ExecuteTime": {
     "end_time": "2022-03-25T15:27:29.126822Z",
     "start_time": "2022-03-25T15:27:29.117823Z"
    }
   },
   "source": [
    "<img style=\"float: center; width: 800px;\" src=\"img/bigdata.png\">"
   ]
  },
  {
   "cell_type": "markdown",
   "id": "ee280970",
   "metadata": {},
   "source": [
    "¿Cómo afecta este escenario a los negocios globales? Con la ayuda de big data, las empresas buscan ofrecer mejores servicios al cliente, lo que puede ayudar a aumentar las ganancias. La mejora de la experiencia del cliente es el objetivo principal de la mayoría de las empresas. Otros objetivos incluyen un mejor marketing de destino, reducción de costos y mayor eficiencia de los procesos existentes.\n",
    "\n",
    "Las tecnologías del ecosistema de datos ayudan a las empresas a almacenar y extraer valor de grandes volúmenes de datos al mismo tiempo que permiten beneficios de costos significativos. Ayudan a las empresas a analizar la información y mejorar la toma de decisiones.\n",
    "\n",
    "La mentalidad de decisiones basadas en datos tiene el potencial de traer beneficios sociales y económicos a las empresas. Por lo tanto, varias agencias gubernamentales han formulado políticas para promover el desarrollo de big data. Entre ellas, [Colombia](https://colaboracion.dnp.gov.co/CDT/Conpes/Econ%C3%B3micos/3920.pdf). "
   ]
  },
  {
   "cell_type": "markdown",
   "id": "b6415c0c",
   "metadata": {
    "ExecuteTime": {
     "end_time": "2022-03-25T20:29:33.150418Z",
     "start_time": "2022-03-25T20:29:33.135423Z"
    }
   },
   "source": [
    "## A dónde nos trae esto? "
   ]
  },
  {
   "cell_type": "markdown",
   "id": "e34cb9d2",
   "metadata": {},
   "source": [
    "Sí, los trabajos asociados a datos son algunos de los de más rápido crecimiento y demanda en tecnología. Desde 2012, los roles de los científicos de datos han aumentado en un 650 %, y este aumento no muestra signos de detenerse. La [Oficina de Estadísticas Laborales de EE. UU](https://www.bls.gov/opub/btn/volume-7/big-data-adds-up.htm). predice que la demanda de habilidades en datos aumentará otro 27,9 % para 2026. Y, según un informe de McKinsey, eso significa una escasez de entre 140000 y 190000 personas con habilidades analíticas solo en EE.UU. También serán necesarios 1,5 millones de gerentes y analistas que deberán comprender cómo el análisis de datos impulsa la toma de decisiones.\n",
    "\n",
    "Los salarios de los científicos de datos también han aumentado con la demanda; Los científicos de datos normalmente pueden esperar hacer seis cifras al año (dólares estadounidenses). La demanda también se traduce en la capacidad de trasladarse mucho más fácilmente, de ciudad en ciudad e incluso a nivel internacional (experiencia personal)."
   ]
  },
  {
   "cell_type": "markdown",
   "id": "e5a2b4b6",
   "metadata": {
    "ExecuteTime": {
     "end_time": "2022-03-25T20:44:57.879960Z",
     "start_time": "2022-03-25T20:44:57.866966Z"
    }
   },
   "source": [
    "<img style=\"float: center;\" src=\"img/pipeline.png\">\n"
   ]
  },
  {
   "cell_type": "markdown",
   "id": "09422443",
   "metadata": {
    "ExecuteTime": {
     "end_time": "2022-03-25T20:47:38.407713Z",
     "start_time": "2022-03-25T20:47:38.388718Z"
    }
   },
   "source": [
    "## Se hace necesaria la especialización dentro del creciente entorno de datos.\n",
    "<img style=\"float: center;\" src=\"img/eco2.jpeg\">"
   ]
  },
  {
   "cell_type": "markdown",
   "id": "d75aa1ba",
   "metadata": {},
   "source": [
    "## A muy grandes rasgos"
   ]
  },
  {
   "cell_type": "markdown",
   "id": "fc98efb8",
   "metadata": {
    "ExecuteTime": {
     "end_time": "2022-03-25T20:40:24.071184Z",
     "start_time": "2022-03-25T20:40:24.006066Z"
    }
   },
   "source": [
    "<img style=\"float: center; width: 500px;\" src=\"img/eco.jpeg\">\n",
    "<img style=\"float: center; width: 1000px;\" src=\"img/pipeline.jpeg\">"
   ]
  },
  {
   "cell_type": "markdown",
   "id": "0272e239",
   "metadata": {},
   "source": [
    "Los **consumidores** están en el centro de este ecosistema: consumen las ofertas de productos y reciben los beneficios de una experiencia de usuario en constante evolución. Son la mina de oro de este mundo y sus interacciones con varios productos digitales se traducen en datos sin procesar que recorren el ecosistema.\n",
    "\n",
    "Los **gerentes de producto** y los **Business Stakeholders** tienen la tarea de crear valor continuamente tanto para los consumidores como para el producto/la organización para la que trabajan. Trabajan en conjunto para cumplir con las expectativas establecidas por los consumidores y mejorar la propuesta de valor que ofrece su producto mientras optimizan el retorno de la inversión de sus esfuerzos y logran los objetivos organizacionales\n",
    "\n",
    "Los ¨**arquitectos de datos** trabajan con los gerentes de productos para crear una base sobre qué tipo de datos sin procesar deben generarse y cómo deben consumirse. Proporcionan un mapa técnico para la visión de un ecosistema de datos y este mapa facilita el desarrollo de canalizaciones de procesamiento de datos, paneles de inteligencia comercial, fuentes de datos, etc.\n",
    "\n",
    "Los **ingenieros de datos** construyen sobre esta base configurando recursos y creando sistemas para almacenar y procesar datos y respaldar las necesidades analíticas de sus partes interesadas. Su trabajo gira en torno a la creación de canalizaciones de datos y el mantenimiento de la disponibilidad de datos en diversas formas.\n",
    "\n",
    "Los **Ingenieros de Quality Assurance (QA)** desempeñan un papel importante al controlar la calidad del producto de trabajo que producen los ingenieros de datos y asegurarse de que se cumplan correctamente las expectativas de las partes interesadas.\n",
    "\n",
    "Los **analistas de datos** juegan un papel interesante porque trabajan con lo desconocido. Trabajan para responder a las preguntas que se le ocurren a cualquier miembro de la organización. Ayudan a comprender el comportamiento único del usuario, crear proyecciones de mercado, depurar problemas y anomalías, y demás. Pueden trabajar con equipos técnicos, de productos o comerciales y abordar una variedad de declaraciones de problemas.\n",
    "\n",
    "Los **científicos de datos**: llevan la carga de sacar un conejo de la chistera. Su función gira en torno a generar conocimientos más profundos mediante el análisis de datos y el uso de ciencia de datos y técnicas de análisis avanzadas. Desde el modelado predictivo hasta la creación de sistemas de recomendación, su trabajo sigue sin estar estructurado pero es muy valioso.\n",
    "\n",
    "Recientemente está en alza la profesión de **Ingeniero de Machine Learning** quien se encarga de la puesta en marcha y mantenimiento de modelos en ambientes de test y producción. De esta manera, los productos de datos pueden ser consumidos de manera remota y constantemente actualizados con nueva información."
   ]
  },
  {
   "cell_type": "markdown",
   "id": "92379fba",
   "metadata": {
    "ExecuteTime": {
     "end_time": "2022-03-25T21:16:23.575349Z",
     "start_time": "2022-03-25T21:16:23.519184Z"
    }
   },
   "source": [
    "## De qué trata el diplomado? "
   ]
  },
  {
   "cell_type": "markdown",
   "id": "df00670d",
   "metadata": {},
   "source": [
    "La ciencia de datos es el campo de estudio que combina la experiencia en el dominio, las habilidades de programación y el conocimiento de las matemáticas y las estadísticas para extraer información significativa de los datos. Los profesionales de la ciencia de datos aplican algoritmos de aprendizaje automático a números, texto, imágenes, video, audio y más para producir sistemas de inteligencia artificial (AI) para realizar tareas que normalmente requieren inteligencia humana. A su vez, estos sistemas generan conocimientos que los analistas y usuarios comerciales pueden traducir en valor comercial tangible."
   ]
  },
  {
   "cell_type": "markdown",
   "id": "2ef6b4f4",
   "metadata": {
    "ExecuteTime": {
     "end_time": "2022-03-25T15:10:59.294441Z",
     "start_time": "2022-03-25T15:10:59.271460Z"
    }
   },
   "source": [
    "<img style=\"float: center; width: 500px;\" src=\"img/DS.png\">"
   ]
  },
  {
   "cell_type": "markdown",
   "id": "fee19e25",
   "metadata": {
    "ExecuteTime": {
     "end_time": "2022-03-25T21:31:12.328399Z",
     "start_time": "2022-03-25T21:31:12.292401Z"
    }
   },
   "source": [
    "Como estamos lidiando con una **ciencia**, el **método científico** será quién guíe el proceso. "
   ]
  },
  {
   "cell_type": "markdown",
   "id": "3ea2a4fa",
   "metadata": {
    "ExecuteTime": {
     "end_time": "2022-03-25T21:27:16.845652Z",
     "start_time": "2022-03-25T21:27:16.814757Z"
    }
   },
   "source": [
    "<img style=\"float: center; width: 500px;\" src=\"img/method.png\">"
   ]
  },
  {
   "cell_type": "markdown",
   "id": "d093ecef",
   "metadata": {
    "ExecuteTime": {
     "end_time": "2022-03-25T21:40:46.042270Z",
     "start_time": "2022-03-25T21:40:46.021270Z"
    }
   },
   "source": [
    "Observación: La tostadora no funciona.\n",
    "\n",
    "Pregunta: ¿Hay algún problema con la tomacorriente?\n",
    "\n",
    "Hipótesis: si hay algún problema con el tomacorriente, la cafetera tampoco funcionará cuando esté enchufada.\n",
    "\n",
    "Experimento: conectar la cafetera al tomacorriente.\n",
    "\n",
    "Resultado: ¡Eureka, la cafetera funciona!\n",
    "\n",
    "Conclusión: el tomacorriente funciona, pero la tostadora sigue sin tostar el pan.\n",
    "\n",
    "Refinar la hipótesis: Este tiesto se daño."
   ]
  },
  {
   "cell_type": "markdown",
   "id": "7993f85a",
   "metadata": {},
   "source": [
    "Dentro del entorno propio de la ciencia de datos, utilizaremos la metodología de CRISP DM. "
   ]
  },
  {
   "cell_type": "markdown",
   "id": "da40a34b",
   "metadata": {
    "ExecuteTime": {
     "end_time": "2022-03-25T21:56:57.789378Z",
     "start_time": "2022-03-25T21:56:57.780374Z"
    }
   },
   "source": [
    "<img style=\"float: center; width: 500px;\" src=\"img/CRISP-DM.png\"/>\n",
    "<!-- https://www.datascience-pm.com/crisp-dm-2/ -->"
   ]
  },
  {
   "cell_type": "markdown",
   "id": "5b67636a",
   "metadata": {},
   "source": [
    "**Entendimiento de Negocios**: El proceso comienza con el Entendimiento de Negocios. En ese paso, definimos qué problema queremos resolver o qué preguntas queremos responder.\n",
    "\n",
    "**Comprensión de datos**: el segundo paso se ocupa de los datos que deben usarse para respaldar la solución del problema comercial. Estos datos deben recopilarse y debe entenderse su significado. Por ejemplo, si los datos están almacenados en una tabla, es importante saber el significado exacto de cada columna. La comprensión de los datos puede hacer que sea necesario volver al primer paso, es decir, la comprensión del negocio.\n",
    "\n",
    "**Preparación de datos**: en este paso, los datos se preparan para el siguiente paso, es decir, el modelado de datos. La preparación de los datos incluye, por ejemplo, una estrategia sobre cómo tratar los valores faltantes. En general, los datos no suelen estar tan limpios como cabría esperar. Pero dado que los datos de baja calidad pueden generar respuestas incorrectas a las preguntas comerciales, el paso de preparación de datos también incluye la limpieza de datos.\n",
    "\n",
    "**Modelamiento**: este paso es uno de los pasos centrales en los que uno intenta encontrar un modelo que describa los datos. En términos de nuestro problema comercial de predecir el precio de un automóvil en función de sus características, modellig significa encontrar una función que asigne las características de un automóvil a su precio. Es posible que el paso de modelado requiera volver al paso de preparación de datos (por ejemplo, si nos damos cuenta en el paso de modelado de que los datos aún no se han limpiado lo suficiente).\n",
    "\n",
    "**Evaluación**: una vez que se construye el modelo, debemos verificar qué tan bueno es su rendimiento. Esto se hace en el paso de evaluación. Por ejemplo, podríamos predecir los precios de los automóviles según el modelo para el que conocemos los precios reales y comparar qué tan cerca están los valores pronosticados de los reales.\n",
    "\n",
    "**Deployment**: en el último paso, si estamos satisfechos con el rendimiento del modelo, debemos producirlo. Para el ejemplo de predicción del precio del automóvil, eso podría significar que creamos una aplicación que permite ingresar ciertas características del automóvil en un formulario y devuelve la predicción del precio al usuario."
   ]
  },
  {
   "cell_type": "markdown",
   "id": "0bdd541b",
   "metadata": {},
   "source": [
    "## Algunos links interesantes"
   ]
  },
  {
   "cell_type": "markdown",
   "id": "42912456",
   "metadata": {},
   "source": [
    "[El trabajo más sexy del siglo XXI](https://hbr.org/2012/10/data-scientist-the-sexiest-job-of-the-21st-century)"
   ]
  },
  {
   "cell_type": "markdown",
   "id": "72e034fc",
   "metadata": {
    "ExecuteTime": {
     "end_time": "2022-03-25T20:07:50.718624Z",
     "start_time": "2022-03-25T20:07:50.697624Z"
    }
   },
   "source": [
    "[MinTic abre cursos gratuitos de programación](https://www.misiontic2022.gov.co/portal/Secciones/Cursos-de-Programacion/AWS-EDUCATE/208418:FUNDAMENTOS-DE-PROGRAMACION-CON-ENFASIS-EN-CLOUD-COMPUTING-HASTA-130-HORAS)"
   ]
  },
  {
   "cell_type": "markdown",
   "id": "76aa2d8a",
   "metadata": {
    "ExecuteTime": {
     "end_time": "2022-03-25T21:18:53.821332Z",
     "start_time": "2022-03-25T21:18:53.782333Z"
    }
   },
   "source": [
    "[DS4A MinTic Colombia](https://mintic.gov.co/micrositios/cienciadedatos/747/w3-channel.html)"
   ]
  },
  {
   "cell_type": "markdown",
   "id": "e6eccef9",
   "metadata": {
    "ExecuteTime": {
     "end_time": "2022-03-25T21:48:57.583681Z",
     "start_time": "2022-03-25T21:48:57.537658Z"
    }
   },
   "source": [
    "[Alcaldía de Bogotá tiene centro de datos público](https://agatadata.com/index.html)"
   ]
  },
  {
   "cell_type": "markdown",
   "id": "cb3bc152",
   "metadata": {
    "ExecuteTime": {
     "end_time": "2022-03-25T21:50:12.547142Z",
     "start_time": "2022-03-25T21:50:12.519885Z"
    }
   },
   "source": [
    "Ofertas de Trabajo en el área de datos: \n",
    "    \n",
    "- [Computrabajo](https://www.computrabajo.com.co/trabajo-de-datos)\n",
    "- [elempleo](https://www.elempleo.com/co/ofertas-empleo/?&trabajo=datos)\n",
    "- [LinkedIn](https://www.linkedin.com/jobs/search/?geoId=100876405&keywords=datos&location=Colombia)\n",
    "- [getonboard](https://www.getonbrd.com/empleos/data-science-analytics)"
   ]
  },
  {
   "cell_type": "markdown",
   "id": "430409e6",
   "metadata": {},
   "source": [
    "### Contenido <a class=\"anchor\" id=\"contenido\"></a>"
   ]
  },
  {
   "cell_type": "markdown",
   "id": "23763b7b",
   "metadata": {},
   "source": [
    "<img style=\"float: center; width: 1000px;\" src=\"img/ML.png\"/>\n",
    "\n",
    "\n",
    "El contenido del diplomado incluye: \n",
    "- Introducción a las herramientas de los entornos actuales de Ciencia de Datos (instalación de Anaconda, Jyputer Notebooks, Python, Github, etc)\n",
    "- Introducción a Python para ciencia de datos\n",
    "- Algoritmos de Aprendizaje de Máquinas\n",
    "- Construcción de proyecto de portafolio"
   ]
  },
  {
   "cell_type": "markdown",
   "id": "18d5c5e1",
   "metadata": {},
   "source": [
    "## Dinámica <a class=\"anchor\" id=\"dinamica\"></a>\n",
    "\n",
    "Por tratarse de un área que demanda experiencia práctica, intentaremos que el diplomado sea lo más aplicado posible. Es decir, se recomienda enormemente la activa participación de los estudiantes en las sesiones realizando sus propios códigos y proponiendo sus propias soluciones. Las sesiones serán los Viernes de 18h00 a 21h00 y Sábados de 08h00 a 13h00, hora colombiana; desde Marzo 25, 2022 hasta Julio 9, 2022.\n",
    "\n",
    "Idealmente, cada participante deberá terminar el diplomado con un portafolio de proyectos en Github que contenga al menos un proyecto en ciencia de datos. \n",
    "\n",
    "Naturalmente, habrá toma de asistencia en cada sesión. "
   ]
  },
  {
   "cell_type": "markdown",
   "id": "5b8146a9",
   "metadata": {},
   "source": [
    "## Requerimientos <a class=\"anchor\" id=\"requerimientos\"></a>"
   ]
  },
  {
   "cell_type": "markdown",
   "id": "71dfc71e",
   "metadata": {},
   "source": [
    "<img style=\"float: center; width: 500px;\" src=\"img/RPy.jpg\"/>\n"
   ]
  },
  {
   "cell_type": "markdown",
   "id": "8087289f",
   "metadata": {
    "ExecuteTime": {
     "end_time": "2022-03-25T22:35:27.151498Z",
     "start_time": "2022-03-25T22:35:27.053479Z"
    }
   },
   "source": [
    "- [Python](https://www.python.org/)\n",
    "- [Anaconda](https://www.anaconda.com/)\n",
    "- [Jupyter Notebooks](https://jupyter.org/)\n",
    "- [Github](https://github.com/)"
   ]
  },
  {
   "cell_type": "markdown",
   "id": "db3727b4",
   "metadata": {},
   "source": [
    "<img style=\"float: center; width: 500px;\" src=\"img/packages.png\"/>\n"
   ]
  },
  {
   "cell_type": "markdown",
   "id": "d80b3064",
   "metadata": {},
   "source": [
    "### Bibliografía <a class=\"anchor\" id=\"bibliografia\"></a>\n",
    "\n",
    "- [Python for Data Analysis](http://library.lol/main/AE0913CCBD281D74C48829644DC8A8D99)\n",
    "- [Python Data Science Handbook](http://library.lol/main/0FF9FC23D8C9B3BDCBA04751CF9A1D1C)\n",
    "- [Practical Statistics for Data Scientist](http://library.lol/main/4F163BDFDD97A1355693FD930D237034)\n",
    "- [Hands-On Machine Learning with Scikit-Learn, Keras, and TensorFlow](http://library.lol/main/E98CBB67C93AD4EF9C550E215E6248BD)\n",
    "- [Data Science for Business: What you need to know about data mining and data-analytic thinking](http://library.lol/main/53ACFD4D23EF734FB564934815D46F1E)"
   ]
  },
  {
   "cell_type": "markdown",
   "id": "a28b81e3",
   "metadata": {},
   "source": [
    "## Algunos links de interés"
   ]
  },
  {
   "cell_type": "markdown",
   "id": "9b46526d",
   "metadata": {
    "ExecuteTime": {
     "end_time": "2022-03-25T15:13:00.530972Z",
     "start_time": "2022-03-25T15:13:00.513978Z"
    }
   },
   "source": [
    "- [Cheatsheet de Python](https://s3.amazonaws.com/assets.datacamp.com/blog_assets/PythonForDataScience.pdf)\n",
    "- [cheatsheet de conda](https://docs.conda.io/projects/conda/en/4.6.0/_downloads/52a95608c49671267e40c689e0bc00ca/conda-cheatsheet.pdf)\n",
    "- [Consejos y atajos en Jupyter Notebooks](https://www.dataquest.io/blog/jupyter-notebook-tips-tricks-shortcuts/)\n",
    "- [Cheatsheet de Github](https://education.github.com/git-cheat-sheet-education.pdf)\n",
    "- [Cheatsheet de Pandas](https://pandas.pydata.org/Pandas_Cheat_Sheet.pdf)\n",
    "- [Cheatsheet de Numpy](https://assets.datacamp.com/blog_assets/Numpy_Python_Cheat_Sheet.pdf)\n",
    "- [Cheatsheet de Scikit Learn](https://s3.amazonaws.com/assets.datacamp.com/blog_assets/Scikit_Learn_Cheat_Sheet_Python.pdf)\n",
    "- [Cheatsheet de Matplotlib](https://s3.amazonaws.com/assets.datacamp.com/blog_assets/Python_Matplotlib_Cheat_Sheet.pdf)\n",
    "- [Cheatsheet de Keras ](https://s3.amazonaws.com/assets.datacamp.com/blog_assets/Keras_Cheat_Sheet_Python.pdf)\n",
    "- [Cheatsheet de Jupyter Notebooks](https://www.edureka.co/blog/wp-content/uploads/2018/10/Jupyter_Notebook_CheatSheet_Edureka.pdf)\n",
    "- [Comandos básicos de Python](https://github.com/gto76/python-cheatsheet)"
   ]
  },
  {
   "cell_type": "code",
   "execution_count": null,
   "id": "1033a87b",
   "metadata": {},
   "outputs": [],
   "source": []
  },
  {
   "cell_type": "code",
   "execution_count": 2,
   "id": "3e0c1825",
   "metadata": {
    "ExecuteTime": {
     "end_time": "2022-04-02T01:41:10.535655Z",
     "start_time": "2022-04-02T01:40:55.906198Z"
    }
   },
   "outputs": [
    {
     "name": "stdout",
     "output_type": "stream",
     "text": [
      "Collecting matplotlib"
     ]
    },
    {
     "name": "stderr",
     "output_type": "stream",
     "text": [
      "ERROR: pip's dependency resolver does not currently take into account all the packages that are installed. This behaviour is the source of the following dependency conflicts.\n",
      "response 0.5.0 requires scipy, which is not installed.\n"
     ]
    },
    {
     "name": "stdout",
     "output_type": "stream",
     "text": [
      "\n",
      "  Using cached matplotlib-3.5.1-cp39-cp39-win_amd64.whl (7.2 MB)\n",
      "Requirement already satisfied: pillow>=6.2.0 in c:\\users\\windows\\appdata\\roaming\\python\\python39\\site-packages (from matplotlib) (8.3.1)\n",
      "Requirement already satisfied: pyparsing>=2.2.1 in c:\\users\\windows\\appdata\\roaming\\python\\python39\\site-packages (from matplotlib) (2.4.7)\n",
      "Collecting cycler>=0.10\n",
      "  Using cached cycler-0.11.0-py3-none-any.whl (6.4 kB)\n",
      "Requirement already satisfied: python-dateutil>=2.7 in c:\\users\\windows\\anaconda3\\envs\\diplomado\\lib\\site-packages (from matplotlib) (2.8.2)\n",
      "Requirement already satisfied: packaging>=20.0 in c:\\users\\windows\\anaconda3\\envs\\diplomado\\lib\\site-packages (from matplotlib) (21.3)\n",
      "Collecting kiwisolver>=1.0.1\n",
      "  Downloading kiwisolver-1.4.2-cp39-cp39-win_amd64.whl (55 kB)\n",
      "Requirement already satisfied: numpy>=1.17 in c:\\users\\windows\\anaconda3\\envs\\diplomado\\lib\\site-packages (from matplotlib) (1.22.3)\n",
      "Collecting fonttools>=4.22.0\n",
      "  Using cached fonttools-4.31.2-py3-none-any.whl (899 kB)\n",
      "Requirement already satisfied: six>=1.5 in c:\\users\\windows\\anaconda3\\envs\\diplomado\\lib\\site-packages (from python-dateutil>=2.7->matplotlib) (1.16.0)\n",
      "Installing collected packages: kiwisolver, fonttools, cycler, matplotlib\n",
      "Successfully installed cycler-0.11.0 fonttools-4.31.2 kiwisolver-1.4.2 matplotlib-3.5.1\n"
     ]
    }
   ],
   "source": [
    "!pip install matplotlib"
   ]
  },
  {
   "cell_type": "code",
   "execution_count": 3,
   "id": "433690ea",
   "metadata": {
    "ExecuteTime": {
     "end_time": "2022-04-02T01:41:13.330659Z",
     "start_time": "2022-04-02T01:41:10.580674Z"
    }
   },
   "outputs": [
    {
     "data": {
      "image/png": "[encoded data removed]",
      "text/plain": [
       "<Figure size 144x144 with 1 Axes>"
      ]
     },
     "metadata": {
      "needs_background": "light"
     },
     "output_type": "display_data"
    }
   ],
   "source": [
    "import matplotlib.pyplot as plt\n",
    "import numpy as np\n",
    "\n",
    "plt.style.use('_mpl-gallery')\n",
    "\n",
    "# make the data\n",
    "np.random.seed(3)\n",
    "x = 4 + np.random.normal(0, 2, 24)\n",
    "y = 4 + np.random.normal(0, 2, len(x))\n",
    "# size and color:\n",
    "sizes = np.random.uniform(15, 80, len(x))\n",
    "colors = np.random.uniform(15, 80, len(x))\n",
    "\n",
    "# plot\n",
    "fig, ax = plt.subplots()\n",
    "\n",
    "ax.scatter(x, y, s=sizes, c=colors, vmin=0, vmax=100)\n",
    "\n",
    "ax.set(xlim=(0, 8), xticks=np.arange(1, 8),\n",
    "       ylim=(0, 8), yticks=np.arange(1, 8))\n",
    "\n",
    "plt.show()"
   ]
  },
  {
   "cell_type": "code",
   "execution_count": 4,
   "id": "63c4fd41",
   "metadata": {
    "ExecuteTime": {
     "end_time": "2022-04-02T01:42:02.651694Z",
     "start_time": "2022-04-02T01:42:02.457486Z"
    }
   },
   "outputs": [
    {
     "data": {
      "image/png": "[encoded data removed]",
      "text/plain": [
       "<Figure size 144x144 with 1 Axes>"
      ]
     },
     "metadata": {
      "needs_background": "light"
     },
     "output_type": "display_data"
    }
   ],
   "source": [
    "import matplotlib.pyplot as plt\n",
    "import numpy as np\n",
    "\n",
    "plt.style.use('_mpl-gallery-nogrid')\n",
    "\n",
    "# make data:\n",
    "X, Y = np.meshgrid([1, 2, 3, 4], [1, 2, 3, 4])\n",
    "angle = np.pi / 180 * np.array([[15., 30, 35, 45],\n",
    "                                [25., 40, 55, 60],\n",
    "                                [35., 50, 65, 75],\n",
    "                                [45., 60, 75, 90]])\n",
    "amplitude = np.array([[5, 10, 25, 50],\n",
    "                      [10, 15, 30, 60],\n",
    "                      [15, 26, 50, 70],\n",
    "                      [20, 45, 80, 100]])\n",
    "U = amplitude * np.sin(angle)\n",
    "V = amplitude * np.cos(angle)\n",
    "\n",
    "# plot:\n",
    "fig, ax = plt.subplots()\n",
    "\n",
    "ax.barbs(X, Y, U, V, barbcolor='C0', flagcolor='C0', length=7, linewidth=1.5)\n",
    "\n",
    "ax.set(xlim=(0, 4.5), ylim=(0, 4.5))\n",
    "\n",
    "plt.show()"
   ]
  },
  {
   "cell_type": "code",
   "execution_count": null,
   "id": "f088c9a4",
   "metadata": {},
   "outputs": [],
   "source": []
  },
  {
   "cell_type": "markdown",
   "id": "1eb9f6b0",
   "metadata": {},
   "source": [
    "<!-- https://ischoolonline.berkeley.edu/data-science/what-is-data-science/ \n",
    "https://medium.com/analytics-vidhya/introduction-to-data-science-28deb32878e7\n",
    "https://financesonline.com/how-much-data-is-created-every-day/-->"
   ]
  }
 ],
 "metadata": {
  "kernelspec": {
   "display_name": "Python 3 (ipykernel)",
   "language": "python",
   "name": "python3"
  },
  "language_info": {
   "codemirror_mode": {
    "name": "ipython",
    "version": 3
   },
   "file_extension": ".py",
   "mimetype": "text/x-python",
   "name": "python",
   "nbconvert_exporter": "python",
   "pygments_lexer": "ipython3",
   "version": "3.9.7"
  },
  "toc": {
   "base_numbering": 1,
   "nav_menu": {},
   "number_sections": false,
   "sideBar": true,
   "skip_h1_title": false,
   "title_cell": "Table of Contents",
   "title_sidebar": "Contents",
   "toc_cell": false,
   "toc_position": {},
   "toc_section_display": true,
   "toc_window_display": false
  },
  "varInspector": {
   "cols": {
    "lenName": 16,
    "lenType": 16,
    "lenVar": 40
   },
   "kernels_config": {
    "python": {
     "delete_cmd_postfix": "",
     "delete_cmd_prefix": "del ",
     "library": "var_list.py",
     "varRefreshCmd": "print(var_dic_list())"
    },
    "r": {
     "delete_cmd_postfix": ") ",
     "delete_cmd_prefix": "rm(",
     "library": "var_list.r",
     "varRefreshCmd": "cat(var_dic_list()) "
    }
   },
   "types_to_exclude": [
    "module",
    "function",
    "builtin_function_or_method",
    "instance",
    "_Feature"
   ],
   "window_display": false
  }
 },
 "nbformat": 4,
 "nbformat_minor": 5
}
