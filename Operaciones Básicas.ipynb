{
 "cells": [
  {
   "cell_type": "markdown",
   "metadata": {},
   "source": [
    "# Curso de Python\n",
    "## Diplomado en Ciencia de Datos\n",
    "#### Prof. [Sébastien Lozano Forero](https://www.linkedin.com/in/sebastienlozanoforero/) (slozanof@libertadores.edu.co)"
   ]
  },
  {
   "cell_type": "markdown",
   "metadata": {},
   "source": [
    "# <font color='red'>Fundamentos de Python </font> <a class=\"anchor\" id=\"fundamentos\"></a>\n",
    "\n",
    "\n",
    "#### Python Notebooks\n",
    "\n",
    "Los notebooks de Python proveen un ambiente interactivo para experimentación de código, visualización y publicación de resultados.\n",
    "\n",
    "Las casillas de color gris claro que se encuentran a continuación se denominan celdas y estas pueden contener código (code) o texto formateado (Markdown).\n",
    "\n",
    "* [Flechas arriba / abajo] Mover arriba y abajo de celda a celda.\n",
    "* [Enter] Ingresa una celda para editarla.\n",
    "* [Shift + Enter] Evalúa una celda, muestra el resultado y pasa a la siguiente celda.\n",
    "* [Ctrl + Enter] Evalúa una celda, muestra el resultado y permanece en la celda.\n",
    "* [Alt + Enter] Evalúa una celda, muestra el resultado e inserta una celda abajo.\n",
    "* [D] - [D] Eliminar una celda.\n",
    "* [Z] Deshacer eliminar una celda.\n",
    "* [B] Insertar una celda debajo de la celda actual.\n",
    "* [A] Insertar una celda sobre la celda actual.\n",
    "* [M] Convierte la celda de código en markdown.\n",
    "* [Y] Convierte la celda de Markdown a código.\n",
    "\n",
    "Para más atajos de teclado vaya al menú Ayuda -> Atajos de teclado"
   ]
  },
  {
   "cell_type": "markdown",
   "metadata": {},
   "source": [
    "## Variables en Python \n",
    "\n",
    "**Variable**: Es donde se guarda determinada información (texto, números, booleanas, etc.)\n",
    "\n",
    "Cada variable tiene un nombre para referirse a ella, Python tiene en cuenta si escribimos en mayúsculas o minúsculas la variable (case sensitive).\n",
    "\n",
    "Para definir variables en Python se realiza de la siguiente manera:\n",
    "\n",
    "```python\n",
    "# Asignando un valor\n",
    "variable = valor\n",
    "# Asignando varios valores\n",
    "variable1, variable2 = valor1, valor2\n",
    "```\n",
    "\n",
    "Python al asignar la variable define cual es el tipo de datos más apropiado.  \n",
    "\n",
    "### [Números](https://www.w3schools.com/python/python_numbers.asp) \n",
    "\n",
    "En números hay dos tipos principales, los números enteros (int) y los reales (float).  El separador decimal es el punto.\n",
    "\n",
    "```python\n",
    "entero = 2\n",
    "real = 2.5\n",
    "```\n",
    "\n",
    "### [Texto](https://www.w3schools.com/python/python_strings.asp)\n",
    "\n",
    "Las variables que almacenan texto se denominan strings (str).  Se deben de poner entre commillas sencillas o dobles, si el texto es multilinea con triple comilla.\n",
    "\n",
    "```python\n",
    "cadena = \"Hola\"\n",
    "cadena = 'Hola'\n",
    "multilinea = \"\"\" Hola\n",
    "                Mundo \"\"\"\n",
    "multilinea = ''' Hola\n",
    "                Mundo '''             \n",
    "```\n",
    "\n",
    "### [Listas](https://www.w3schools.com/python/python_lists.asp)\n",
    "\n",
    "Son conjuntos ordenados de elementos (números, texto, listas, etc). Se delimitan por corchetes (`[]`) y los elementos se separan por comas. Las listas son dinamicas, es decir que son mutables.\n",
    "\n",
    "```python\n",
    "listaNumeros = [1,2,3]\n",
    "listaCadenas = ['a','b','c']\n",
    "listaListas = [[1,2],[3,4],[5,6]]\n",
    "listaMixtas = [1,'Grupo',[1,2,3,4]]\n",
    "listaVacia = []\n",
    "```\n",
    "\n",
    "### [Tuplas](https://www.w3schools.com/python/python_tuples.asp)\n",
    "\n",
    "Es un conjunto ordenado e inmutable de elementos del mismo o diferente tipo. Las tuplas se representan escribiendo los elementos entre paréntesis (`()`) y separados por comas. Las tuplas son estaticas, son inmutables, una vez creada no puede ser modificada.\n",
    "\n",
    "```python\n",
    "tuplaNumeros = (1,2,3)\n",
    "tuplaCadenas = ('a','b','c')\n",
    "tuplaListas = ([1,2],[3,4],[5,6])\n",
    "tuplaMixtas = (1,'Grupo',[1,2,3,4])\n",
    "```\n",
    "\n",
    "### [Diccionarios](https://www.w3schools.com/python/python_dictionaries.asp)\n",
    "\n",
    "Permite almacenar cualquier tipo de valor como enteros, cadenas, listas, etc.  Los diccionarios permiten además identificar cada elemento por una clave (key)\n",
    "\n",
    "```python\n",
    "dictNumeros = {'k1':1,'k2':2}\n",
    "dictCadenas = {'k1':'a','k2':'b','k3':'c'}\n",
    "dictListas = {'k1':[1,2],'k2':[3,4],'k3':[5,6]}\n",
    "dictMixto = {'k1':1,'k2':'Grupo','k3':[1,2,3,4]}\n",
    "```\n",
    "\n",
    "### [Booleano](https://www.w3schools.com/python/python_booleans.asp)\n",
    "\n",
    "Una variable booleana es una variable que sólo puede tomar dos posibles valores: Verdadero (True) o Falso (False).\n",
    "\n",
    "```python\n",
    "verdadero = True\n",
    "falso = False\n",
    "```\n",
    "\n",
    "### [None](https://www.w3schools.com/python/python_booleans.asp)\n",
    "\n",
    "Es el tipo de dato que en otros lenguajes se conoce como Nulo (NAN).  En Python es NoneType.\n",
    "\n",
    "```python\n",
    "nulo = None\n",
    "```\n",
    "\n"
   ]
  },
  {
   "cell_type": "markdown",
   "metadata": {},
   "source": [
    "### Imprimir variables\n",
    "\n",
    "El comando `print(variable)` imprime el valor de la variable."
   ]
  },
  {
   "cell_type": "code",
   "execution_count": 24,
   "metadata": {
    "jupyter": {
     "outputs_hidden": false
    },
    "scrolled": true
   },
   "outputs": [
    {
     "data": {
      "text/plain": [
       "'otra cadena más'"
      ]
     },
     "execution_count": 24,
     "metadata": {},
     "output_type": "execute_result"
    }
   ],
   "source": [
    "\"Una cadena\"\n",
    "'otra cadena'\n",
    "'otra cadena más'"
   ]
  },
  {
   "cell_type": "code",
   "execution_count": 25,
   "metadata": {
    "jupyter": {
     "outputs_hidden": false
    }
   },
   "outputs": [
    {
     "name": "stdout",
     "output_type": "stream",
     "text": [
      "Una cadena\n",
      "otra cadena\n",
      "otra cadena más\n"
     ]
    }
   ],
   "source": [
    "print(\"Una cadena\")\n",
    "print('otra cadena')\n",
    "print('otra cadena más')"
   ]
  },
  {
   "cell_type": "markdown",
   "metadata": {},
   "source": [
    "#### Acepta carácteres especiales como las tabulaciones /t o los saltos de línea /n"
   ]
  },
  {
   "cell_type": "code",
   "execution_count": 26,
   "metadata": {
    "jupyter": {
     "outputs_hidden": false
    },
    "scrolled": true
   },
   "outputs": [
    {
     "name": "stdout",
     "output_type": "stream",
     "text": [
      "Un texto \t una tabulación\n"
     ]
    }
   ],
   "source": [
    "print(\"Un texto \\t una tabulación\")"
   ]
  },
  {
   "cell_type": "code",
   "execution_count": 28,
   "metadata": {
    "jupyter": {
     "outputs_hidden": false
    }
   },
   "outputs": [
    {
     "name": "stdout",
     "output_type": "stream",
     "text": [
      "Un texto \n",
      "una nueva línea\n"
     ]
    }
   ],
   "source": [
    "print(\"Un texto \\n una nueva línea\")"
   ]
  },
  {
   "cell_type": "markdown",
   "metadata": {},
   "source": [
    "#### Para evitar los carácteres especiales, debemos indicar que una cadena es cruda (raw)"
   ]
  },
  {
   "cell_type": "code",
   "execution_count": 11,
   "metadata": {
    "jupyter": {
     "outputs_hidden": false
    }
   },
   "outputs": [
    {
     "name": "stdout",
     "output_type": "stream",
     "text": [
      "C:\n",
      "ombre\\directorio\n"
     ]
    }
   ],
   "source": [
    "print(\"C:\\nombre\\directorio\")"
   ]
  },
  {
   "cell_type": "code",
   "execution_count": 2,
   "metadata": {
    "jupyter": {
     "outputs_hidden": false
    }
   },
   "outputs": [
    {
     "name": "stdout",
     "output_type": "stream",
     "text": [
      "C:\\nombre\\directorio\n"
     ]
    }
   ],
   "source": [
    "print(r\"C:\\nombre\\directorio\")  # r => raw (cruda)"
   ]
  },
  {
   "cell_type": "markdown",
   "metadata": {},
   "source": [
    "#### Podemos utilizar \"\"\" *(triple comillas)* para cadenas multilínea"
   ]
  },
  {
   "cell_type": "code",
   "execution_count": 33,
   "metadata": {
    "jupyter": {
     "outputs_hidden": false
    }
   },
   "outputs": [
    {
     "name": "stdout",
     "output_type": "stream",
     "text": [
      "Una línea \n",
      "otra línea\n",
      "otra línea\tuna tabulación\n"
     ]
    }
   ],
   "source": [
    "print(\"\"\"Una línea \n",
    "otra línea\n",
    "otra línea\\tuna tabulación\"\"\")"
   ]
  },
  {
   "cell_type": "markdown",
   "metadata": {},
   "source": [
    "#### También es posible asignar cadenas a variables\n",
    "La forma correcta de mostrarlas es con la instrucción print()."
   ]
  },
  {
   "cell_type": "code",
   "execution_count": 35,
   "metadata": {
    "jupyter": {
     "outputs_hidden": true
    }
   },
   "outputs": [],
   "source": [
    "c = \"Esto es una cadena\\ncon dos líneas\""
   ]
  },
  {
   "cell_type": "code",
   "execution_count": 36,
   "metadata": {
    "jupyter": {
     "outputs_hidden": false
    },
    "scrolled": true
   },
   "outputs": [
    {
     "data": {
      "text/plain": [
       "'Esto es una cadena\\ncon dos líneas'"
      ]
     },
     "execution_count": 36,
     "metadata": {},
     "output_type": "execute_result"
    }
   ],
   "source": [
    "c"
   ]
  },
  {
   "cell_type": "code",
   "execution_count": 37,
   "metadata": {
    "jupyter": {
     "outputs_hidden": false
    }
   },
   "outputs": [
    {
     "name": "stdout",
     "output_type": "stream",
     "text": [
      "Esto es una cadena\n",
      "con dos líneas\n"
     ]
    }
   ],
   "source": [
    "print(c)"
   ]
  },
  {
   "cell_type": "markdown",
   "metadata": {},
   "source": [
    "### Comentarios\n",
    "\n",
    "Los comentarios en linea se define con `#`"
   ]
  },
  {
   "cell_type": "code",
   "execution_count": 114,
   "metadata": {},
   "outputs": [
    {
     "name": "stdout",
     "output_type": "stream",
     "text": [
      "Es un entero:  2\n"
     ]
    }
   ],
   "source": [
    "# Declarando un entero (int)\n",
    "x = 2\n",
    "print(\"Es un entero: \", x)"
   ]
  },
  {
   "cell_type": "code",
   "execution_count": 115,
   "metadata": {
    "scrolled": true
   },
   "outputs": [
    {
     "data": {
      "text/plain": [
       "2"
      ]
     },
     "execution_count": 115,
     "metadata": {},
     "output_type": "execute_result"
    }
   ],
   "source": [
    "x"
   ]
  },
  {
   "cell_type": "code",
   "execution_count": 116,
   "metadata": {},
   "outputs": [
    {
     "name": "stdout",
     "output_type": "stream",
     "text": [
      "Es un real: 2.5\n"
     ]
    }
   ],
   "source": [
    "# Declarando un real (float)\n",
    "y = 2.5\n",
    "print(\"Es un real:\", y)"
   ]
  },
  {
   "cell_type": "code",
   "execution_count": 117,
   "metadata": {},
   "outputs": [
    {
     "name": "stdout",
     "output_type": "stream",
     "text": [
      "Hola Mundo Grupo\n"
     ]
    }
   ],
   "source": [
    "# Declarando un texto\n",
    "mensaje = \"Hola Mundo\"\n",
    "print(mensaje, \"Grupo\")"
   ]
  },
  {
   "cell_type": "code",
   "execution_count": 118,
   "metadata": {},
   "outputs": [
    {
     "name": "stdout",
     "output_type": "stream",
     "text": [
      "Hola \n",
      "                Mundo  Grupo\n",
      "Hola \n",
      "                Mundo  Grupo\n"
     ]
    }
   ],
   "source": [
    "# Multilinea\n",
    "multilinea = \"\"\"Hola \n",
    "                Mundo\"\"\"\n",
    "print(multilinea, \" Grupo\")\n",
    "multilinea = '''Hola \n",
    "                Mundo'''\n",
    "print(multilinea, \" Grupo\")"
   ]
  },
  {
   "cell_type": "code",
   "execution_count": 119,
   "metadata": {},
   "outputs": [
    {
     "data": {
      "text/plain": [
       "'Hola \\n                Mundo'"
      ]
     },
     "execution_count": 119,
     "metadata": {},
     "output_type": "execute_result"
    }
   ],
   "source": [
    "multilinea"
   ]
  },
  {
   "cell_type": "code",
   "execution_count": 120,
   "metadata": {},
   "outputs": [],
   "source": [
    "a = 4\n",
    "b = 5\n",
    "c = 6"
   ]
  },
  {
   "cell_type": "code",
   "execution_count": 121,
   "metadata": {
    "scrolled": true
   },
   "outputs": [
    {
     "name": "stdout",
     "output_type": "stream",
     "text": [
      "[1, 2, 3]\n",
      "['a', 'b', 'c']\n",
      "[4, 5, 6]\n",
      "[[1, 2], [3, 4], [5, 6]]\n",
      "[1, 'Grupo', [1, 2, 3, 4]]\n",
      "[]\n"
     ]
    }
   ],
   "source": [
    "# Declarando una lista\n",
    "listaNumeros = [1,2,3]\n",
    "print(listaNumeros)\n",
    "listaCadenas = ['a','b','c']\n",
    "listaCadenas2 = [a,b,c]\n",
    "print(listaCadenas)\n",
    "print(listaCadenas2)\n",
    "listaListas = [[1,2],[3,4],[5,6]]\n",
    "print(listaListas)\n",
    "listaMixtas = [1,'Grupo',[1,2,3,4]]\n",
    "print(listaMixtas)\n",
    "listaVacia = []\n",
    "print(listaVacia)"
   ]
  },
  {
   "cell_type": "code",
   "execution_count": 122,
   "metadata": {},
   "outputs": [
    {
     "name": "stdout",
     "output_type": "stream",
     "text": [
      "(1, 2, 3)\n",
      "('a', 'b', 'c')\n",
      "(4, 5, 6)\n",
      "([1, 2], [3, 4], [5, 6])\n",
      "(1, 'Grupo', [1, 2, 3, 4])\n"
     ]
    }
   ],
   "source": [
    "# Declarando una Tupla\n",
    "tuplaNumeros = (1,2,3)\n",
    "print(tuplaNumeros)\n",
    "tuplaCadenas = ('a','b','c')\n",
    "tuplaCadenas2 = (a,b,c)\n",
    "print(tuplaCadenas)\n",
    "print(tuplaCadenas2)\n",
    "tuplaListas = ([1,2],[3,4],[5,6])\n",
    "print(tuplaListas)\n",
    "tuplaMixtas = (1,'Grupo',[1,2,3,4])\n",
    "print(tuplaMixtas)"
   ]
  },
  {
   "cell_type": "code",
   "execution_count": 123,
   "metadata": {
    "scrolled": true
   },
   "outputs": [
    {
     "name": "stdout",
     "output_type": "stream",
     "text": [
      "{'k1': 1, 'k2': 2}\n",
      "{'k1': 'a', 'k2': 'b', 'k3': 'c'}\n",
      "{'k1': [1, 2], 'k2': [3, 4], 'k3': [5, 6]}\n",
      "{'k1': (1, 2), 'k2': (3, 4), 'k3': (5, 6)}\n",
      "{'k1': 1, 'k2': 'Grupo', 'k3': [1, 2, 3, 4], 'k4': (1, 2, 3, 4)}\n"
     ]
    }
   ],
   "source": [
    "# Declarando Diccionarios\n",
    "dictNumeros = {'k1':1,'k2':2}\n",
    "print(dictNumeros)\n",
    "dictCadenas = {'k1':'a','k2':'b','k3':'c'}\n",
    "print(dictCadenas)\n",
    "dictListas = {'k1':[1,2],'k2':[3,4],'k3':[5,6]}\n",
    "print(dictListas)\n",
    "dictTuplas = {'k1':(1,2),'k2':(3,4),'k3':(5,6)}\n",
    "print(dictTuplas)\n",
    "dictMixto = {'k1':1,'k2':'Grupo','k3':[1,2,3,4], 'k4': (1,2,3,4)}\n",
    "print(dictMixto)"
   ]
  },
  {
   "cell_type": "code",
   "execution_count": 124,
   "metadata": {},
   "outputs": [],
   "source": [
    "# Declarando Booleanos\n",
    "verdadero = True\n",
    "falso = False"
   ]
  },
  {
   "cell_type": "code",
   "execution_count": 125,
   "metadata": {},
   "outputs": [
    {
     "name": "stdout",
     "output_type": "stream",
     "text": [
      "True\n"
     ]
    }
   ],
   "source": [
    "print(verdadero)"
   ]
  },
  {
   "cell_type": "code",
   "execution_count": 126,
   "metadata": {},
   "outputs": [],
   "source": [
    "# Declarando Nulos\n",
    "nulo = None"
   ]
  },
  {
   "cell_type": "code",
   "execution_count": 127,
   "metadata": {
    "scrolled": true
   },
   "outputs": [
    {
     "name": "stdout",
     "output_type": "stream",
     "text": [
      "var1 = 9\n",
      "var2 = Sara\n",
      "var3 = [13, 17, 23]\n"
     ]
    }
   ],
   "source": [
    "# Asignaciones Múltiples\n",
    "var1, var2, var3 = (5 + 4),  \"Sara\", [13, 17, 23]\n",
    "print( \"var1 =\", var1 )\n",
    "print( \"var2 =\", var2 )\n",
    "print( \"var3 =\", var3 )"
   ]
  },
  {
   "cell_type": "code",
   "execution_count": 128,
   "metadata": {
    "scrolled": true
   },
   "outputs": [
    {
     "name": "stdout",
     "output_type": "stream",
     "text": [
      "var1 = Sara\n",
      "var2 = 9\n"
     ]
    }
   ],
   "source": [
    "# Cambiar valores entre variables\n",
    "var1, var2 = var2, var1 \n",
    "\n",
    "print( \"var1 =\", var1 )\n",
    "print( \"var2 =\", var2 )"
   ]
  },
  {
   "cell_type": "code",
   "execution_count": 129,
   "metadata": {},
   "outputs": [
    {
     "name": "stdout",
     "output_type": "stream",
     "text": [
      "('Sara', 9, [13, 17, 23])\n"
     ]
    }
   ],
   "source": [
    "# Crear una tupla con variables\n",
    "tupla = var1, var2, var3\n",
    "print(tupla)"
   ]
  },
  {
   "cell_type": "code",
   "execution_count": 130,
   "metadata": {},
   "outputs": [
    {
     "name": "stdout",
     "output_type": "stream",
     "text": [
      "  x1 = Sara    x2 = 9    x3 = [13, 17, 23]\n"
     ]
    }
   ],
   "source": [
    "# Asignar valores de una tupla a variables\n",
    "x1, x2, x3 = tupla \n",
    "print( \"  x1 =\", x1, \"   x2 =\", x2, \"   x3 =\", x3 )"
   ]
  },
  {
   "cell_type": "markdown",
   "metadata": {},
   "source": [
    "## Tipo de Datos\n",
    "\n",
    "Para conocer el tipo de dato de una variable se usa el metodo `type`\n",
    "\n",
    "```python\n",
    "type(x)\n",
    "```"
   ]
  },
  {
   "cell_type": "code",
   "execution_count": 131,
   "metadata": {},
   "outputs": [
    {
     "name": "stdout",
     "output_type": "stream",
     "text": [
      "2\n"
     ]
    },
    {
     "data": {
      "text/plain": [
       "int"
      ]
     },
     "execution_count": 131,
     "metadata": {},
     "output_type": "execute_result"
    }
   ],
   "source": [
    "print(x)\n",
    "type(x)"
   ]
  },
  {
   "cell_type": "code",
   "execution_count": 132,
   "metadata": {},
   "outputs": [
    {
     "name": "stdout",
     "output_type": "stream",
     "text": [
      "2.5\n"
     ]
    },
    {
     "data": {
      "text/plain": [
       "float"
      ]
     },
     "execution_count": 132,
     "metadata": {},
     "output_type": "execute_result"
    }
   ],
   "source": [
    "print(y)\n",
    "type(y)"
   ]
  },
  {
   "cell_type": "code",
   "execution_count": 84,
   "metadata": {},
   "outputs": [
    {
     "data": {
      "text/plain": [
       "str"
      ]
     },
     "execution_count": 84,
     "metadata": {},
     "output_type": "execute_result"
    }
   ],
   "source": [
    "type(mensaje)"
   ]
  },
  {
   "cell_type": "code",
   "execution_count": 19,
   "metadata": {},
   "outputs": [
    {
     "data": {
      "text/plain": [
       "list"
      ]
     },
     "execution_count": 19,
     "metadata": {},
     "output_type": "execute_result"
    }
   ],
   "source": [
    "type(listaNumeros)"
   ]
  },
  {
   "cell_type": "code",
   "execution_count": 20,
   "metadata": {},
   "outputs": [
    {
     "data": {
      "text/plain": [
       "tuple"
      ]
     },
     "execution_count": 20,
     "metadata": {},
     "output_type": "execute_result"
    }
   ],
   "source": [
    "type(tuplaListas)"
   ]
  },
  {
   "cell_type": "code",
   "execution_count": 85,
   "metadata": {},
   "outputs": [
    {
     "data": {
      "text/plain": [
       "dict"
      ]
     },
     "execution_count": 85,
     "metadata": {},
     "output_type": "execute_result"
    }
   ],
   "source": [
    "type(dictCadenas)"
   ]
  },
  {
   "cell_type": "code",
   "execution_count": 87,
   "metadata": {},
   "outputs": [
    {
     "data": {
      "text/plain": [
       "bool"
      ]
     },
     "execution_count": 87,
     "metadata": {},
     "output_type": "execute_result"
    }
   ],
   "source": [
    "type(verdadero)"
   ]
  },
  {
   "cell_type": "code",
   "execution_count": 88,
   "metadata": {
    "scrolled": true
   },
   "outputs": [
    {
     "data": {
      "text/plain": [
       "NoneType"
      ]
     },
     "execution_count": 88,
     "metadata": {},
     "output_type": "execute_result"
    }
   ],
   "source": [
    "type(nulo)"
   ]
  },
  {
   "cell_type": "markdown",
   "metadata": {},
   "source": [
    "## Operadores Relacionales\n",
    "\n",
    "| Símbolo | Función |\n",
    "|----|---|\n",
    "| == | Verdadero (True), si los valores son iguales |\n",
    "| is | Verdadero (True), si son idénticos, i.e. son el **mismo** objeto  |\n",
    "| !=  | Verdadero (True), Si no es igual a  |\n",
    "| < | Menor que |\n",
    "| > | Mayor que |\n",
    "| <=  | Menor o igual que  |\n",
    "| >=  | Mayor o igual que |\n",
    "| in  | Verifica si pertenece a una colección (lista, conjunto, diccionario) |"
   ]
  },
  {
   "cell_type": "code",
   "execution_count": 89,
   "metadata": {},
   "outputs": [
    {
     "data": {
      "text/plain": [
       "2"
      ]
     },
     "execution_count": 89,
     "metadata": {},
     "output_type": "execute_result"
    }
   ],
   "source": [
    "x"
   ]
  },
  {
   "cell_type": "code",
   "execution_count": 90,
   "metadata": {},
   "outputs": [
    {
     "data": {
      "text/plain": [
       "True"
      ]
     },
     "execution_count": 90,
     "metadata": {},
     "output_type": "execute_result"
    }
   ],
   "source": [
    "x == 2"
   ]
  },
  {
   "cell_type": "code",
   "execution_count": 91,
   "metadata": {},
   "outputs": [
    {
     "data": {
      "text/plain": [
       "False"
      ]
     },
     "execution_count": 91,
     "metadata": {},
     "output_type": "execute_result"
    }
   ],
   "source": [
    "x != 2"
   ]
  },
  {
   "cell_type": "code",
   "execution_count": 26,
   "metadata": {},
   "outputs": [
    {
     "data": {
      "text/plain": [
       "True"
      ]
     },
     "execution_count": 26,
     "metadata": {},
     "output_type": "execute_result"
    }
   ],
   "source": [
    "x > 1"
   ]
  },
  {
   "cell_type": "code",
   "execution_count": 92,
   "metadata": {},
   "outputs": [
    {
     "data": {
      "text/plain": [
       "[1, 2, 3]"
      ]
     },
     "execution_count": 92,
     "metadata": {},
     "output_type": "execute_result"
    }
   ],
   "source": [
    "listaNumeros"
   ]
  },
  {
   "cell_type": "code",
   "execution_count": 94,
   "metadata": {},
   "outputs": [
    {
     "data": {
      "text/plain": [
       "True"
      ]
     },
     "execution_count": 94,
     "metadata": {},
     "output_type": "execute_result"
    }
   ],
   "source": [
    "listaNumeros == [1,2,3]"
   ]
  },
  {
   "cell_type": "code",
   "execution_count": 107,
   "metadata": {},
   "outputs": [
    {
     "data": {
      "text/plain": [
       "False"
      ]
     },
     "execution_count": 107,
     "metadata": {},
     "output_type": "execute_result"
    }
   ],
   "source": [
    "listaNumeros is [1,2,3]  "
   ]
  },
  {
   "cell_type": "code",
   "execution_count": 108,
   "metadata": {},
   "outputs": [],
   "source": [
    "objecto = listaNumeros"
   ]
  },
  {
   "cell_type": "code",
   "execution_count": 109,
   "metadata": {},
   "outputs": [
    {
     "data": {
      "text/plain": [
       "True"
      ]
     },
     "execution_count": 109,
     "metadata": {},
     "output_type": "execute_result"
    }
   ],
   "source": [
    "listaNumeros is objecto"
   ]
  },
  {
   "cell_type": "code",
   "execution_count": 32,
   "metadata": {},
   "outputs": [
    {
     "data": {
      "text/plain": [
       "True"
      ]
     },
     "execution_count": 32,
     "metadata": {},
     "output_type": "execute_result"
    }
   ],
   "source": [
    "nulo is None"
   ]
  },
  {
   "cell_type": "markdown",
   "metadata": {},
   "source": [
    "## Conversiones entre tipos\n",
    "\n",
    "Python cuenta con la conversión de tipos de datos (*cast* o *casting*) que especifica explicitamente el tipo de dato.\n",
    "\n",
    "```python\n",
    "int(variable)\n",
    "float(variable)\n",
    "str(variable)\n",
    "bool(variable)\n",
    "list(variable)\n",
    "tuple(variable)\n",
    "dict(variable)\n",
    "```"
   ]
  },
  {
   "cell_type": "code",
   "execution_count": 133,
   "metadata": {},
   "outputs": [
    {
     "data": {
      "text/plain": [
       "['a', 'b', 'c']"
      ]
     },
     "execution_count": 133,
     "metadata": {},
     "output_type": "execute_result"
    }
   ],
   "source": [
    "listaCadenas"
   ]
  },
  {
   "cell_type": "code",
   "execution_count": 33,
   "metadata": {},
   "outputs": [
    {
     "name": "stdout",
     "output_type": "stream",
     "text": [
      "['a', 'b', 'c']\n",
      "<class 'list'>\n",
      "('a', 'b', 'c')\n",
      "<class 'tuple'>\n"
     ]
    }
   ],
   "source": [
    "# Convertir Lista a tupla\n",
    "print(listaCadenas) \n",
    "print(type(listaCadenas))\n",
    "print(tuple(listaCadenas))\n",
    "print(type(tuple(listaCadenas)))"
   ]
  },
  {
   "cell_type": "code",
   "execution_count": 134,
   "metadata": {},
   "outputs": [
    {
     "name": "stdout",
     "output_type": "stream",
     "text": [
      "123\n",
      "<class 'str'>\n",
      "123\n",
      "<class 'int'>\n"
     ]
    }
   ],
   "source": [
    "# Convertir de cadena a entero\n",
    "print('123')\n",
    "print(type('123'))\n",
    "print(int('123'))\n",
    "print(type(int('123')))"
   ]
  },
  {
   "cell_type": "code",
   "execution_count": 135,
   "metadata": {},
   "outputs": [
    {
     "data": {
      "text/plain": [
       "125"
      ]
     },
     "execution_count": 135,
     "metadata": {},
     "output_type": "execute_result"
    }
   ],
   "source": [
    "2+int('123')"
   ]
  },
  {
   "cell_type": "code",
   "execution_count": 136,
   "metadata": {
    "scrolled": true
   },
   "outputs": [
    {
     "ename": "ValueError",
     "evalue": "could not convert string to float: 'Juan'",
     "output_type": "error",
     "traceback": [
      "\u001b[1;31m---------------------------------------------------------------------------\u001b[0m",
      "\u001b[1;31mValueError\u001b[0m                                Traceback (most recent call last)",
      "\u001b[1;32m<ipython-input-136-ccff7ace794c>\u001b[0m in \u001b[0;36m<module>\u001b[1;34m\u001b[0m\n\u001b[1;32m----> 1\u001b[1;33m \u001b[0mfloat\u001b[0m\u001b[1;33m(\u001b[0m\u001b[1;34m\"Juan\"\u001b[0m\u001b[1;33m)\u001b[0m\u001b[1;33m\u001b[0m\u001b[1;33m\u001b[0m\u001b[0m\n\u001b[0m",
      "\u001b[1;31mValueError\u001b[0m: could not convert string to float: 'Juan'"
     ]
    }
   ],
   "source": [
    "float(\"Juan\")"
   ]
  },
  {
   "cell_type": "markdown",
   "metadata": {},
   "source": [
    "## <font color='blue'> Funciones Integradas (Built-in Functions) </font> \n",
    "\n",
    "**Funciones:** Una función es un bloque de código con un nombre asociado, que recibe $0$ o más argumentos como entrada, sigue una serie de instrucciones y devuelve un valor o realiza una tarea.\n",
    "\n",
    "Python dispone de una serie de funciones intregradas al lenguaje( [built-in](https://docs.python.org/3/library/functions.html))\n",
    "\n",
    "Un ejemplo de estas funciones son las vistas en los anteriores puntos como las de convertir tipos de datos y la de imprimir."
   ]
  },
  {
   "cell_type": "code",
   "execution_count": 180,
   "metadata": {},
   "outputs": [
    {
     "name": "stdout",
     "output_type": "stream",
     "text": [
      "x es igual a  1\n",
      "y es igual a  2\n"
     ]
    }
   ],
   "source": [
    "x = 1\n",
    "y = 2\n",
    "print(\"x es igual a \", x)\n",
    "print(\"y es igual a \",y)"
   ]
  },
  {
   "cell_type": "markdown",
   "metadata": {},
   "source": [
    "**Función** [int](https://www.w3schools.com/python/ref_func_int.asp)"
   ]
  },
  {
   "cell_type": "code",
   "execution_count": 138,
   "metadata": {},
   "outputs": [
    {
     "name": "stdout",
     "output_type": "stream",
     "text": [
      "Ingrese un número entero: 500\n",
      "1000\n"
     ]
    }
   ],
   "source": [
    "# Ingresar valor por teclado\n",
    "entrada = int(input(\"Ingrese un número entero: \"))\n",
    "print(entrada*2)"
   ]
  },
  {
   "cell_type": "code",
   "execution_count": 140,
   "metadata": {
    "scrolled": true
   },
   "outputs": [
    {
     "name": "stdout",
     "output_type": "stream",
     "text": [
      "Ingrese un número entero: 131\n",
      "131131\n"
     ]
    }
   ],
   "source": [
    "# Ingresar valor por teclado\n",
    "entrada = input(\"Ingrese un número entero: \")\n",
    "print(entrada*2)"
   ]
  },
  {
   "cell_type": "markdown",
   "metadata": {},
   "source": [
    "**Función** [abs](https://www.w3schools.com/python/ref_func_abs.asp)"
   ]
  },
  {
   "cell_type": "code",
   "execution_count": 141,
   "metadata": {},
   "outputs": [
    {
     "name": "stdout",
     "output_type": "stream",
     "text": [
      "1\n"
     ]
    }
   ],
   "source": [
    "# Valor absoluto de un numero\n",
    "print(abs(-1))"
   ]
  },
  {
   "cell_type": "markdown",
   "metadata": {},
   "source": [
    "**Función** [all](https://www.w3schools.com/python/ref_func_all.asp)"
   ]
  },
  {
   "cell_type": "code",
   "execution_count": 144,
   "metadata": {},
   "outputs": [
    {
     "data": {
      "text/plain": [
       "True"
      ]
     },
     "execution_count": 144,
     "metadata": {},
     "output_type": "execute_result"
    }
   ],
   "source": [
    "mylist = [True, True, True]\n",
    "x = all(mylist)\n",
    "x"
   ]
  },
  {
   "cell_type": "markdown",
   "metadata": {},
   "source": [
    "**Función** [any](https://www.w3schools.com/python/ref_func_any.aspm)"
   ]
  },
  {
   "cell_type": "code",
   "execution_count": 147,
   "metadata": {},
   "outputs": [
    {
     "data": {
      "text/plain": [
       "True"
      ]
     },
     "execution_count": 147,
     "metadata": {},
     "output_type": "execute_result"
    }
   ],
   "source": [
    "mylist = [False, True, False]\n",
    "x = any(mylist)\n",
    "x"
   ]
  },
  {
   "cell_type": "markdown",
   "metadata": {},
   "source": [
    "**Función** [ascci](https://www.w3schools.com/python/ref_func_ascii.asp)"
   ]
  },
  {
   "cell_type": "code",
   "execution_count": 170,
   "metadata": {},
   "outputs": [
    {
     "data": {
      "text/plain": [
       "\"'My name is St\\\\xe5le'\""
      ]
     },
     "execution_count": 170,
     "metadata": {},
     "output_type": "execute_result"
    }
   ],
   "source": [
    "x = ascii(\"My name is Ståle\")\n",
    "x"
   ]
  },
  {
   "cell_type": "markdown",
   "metadata": {},
   "source": [
    "**Función** [bin](https://www.w3schools.com/python/ref_func_bin.asp)"
   ]
  },
  {
   "cell_type": "code",
   "execution_count": 172,
   "metadata": {
    "scrolled": true
   },
   "outputs": [],
   "source": [
    "x = bin(36)\n",
    "x"
   ]
  },
  {
   "cell_type": "markdown",
   "metadata": {},
   "source": [
    "**Función** [bool](https://www.w3schools.com/python/ref_func_bool.asp)"
   ]
  },
  {
   "cell_type": "code",
   "execution_count": 184,
   "metadata": {},
   "outputs": [
    {
     "name": "stdout",
     "output_type": "stream",
     "text": [
      "True\n"
     ]
    }
   ],
   "source": [
    "x = bool(1)\n",
    "x"
   ]
  },
  {
   "cell_type": "markdown",
   "metadata": {},
   "source": [
    "**Función** [bytearray](https://www.w3schools.com/python/ref_func_bytearray.asp)"
   ]
  },
  {
   "cell_type": "code",
   "execution_count": 183,
   "metadata": {},
   "outputs": [
    {
     "name": "stdout",
     "output_type": "stream",
     "text": [
      "bytearray(b'\\x00\\x00\\x00\\x00')\n",
      "True\n"
     ]
    }
   ],
   "source": [
    "x = bytearray(4)\n",
    "y = bool(1)\n",
    "print(x)\n",
    "print(y)"
   ]
  },
  {
   "cell_type": "markdown",
   "metadata": {},
   "source": [
    "**Función** [callable](https://www.w3schools.com/python/ref_func_callable.asp)"
   ]
  },
  {
   "cell_type": "code",
   "execution_count": 77,
   "metadata": {},
   "outputs": [
    {
     "name": "stdout",
     "output_type": "stream",
     "text": [
      "True\n"
     ]
    }
   ],
   "source": [
    "def x():\n",
    "  a = 5\n",
    "\n",
    "print(callable(x))"
   ]
  },
  {
   "cell_type": "markdown",
   "metadata": {},
   "source": [
    "**Función** [chr](https://www.w3schools.com/python/ref_func_chr.asp)"
   ]
  },
  {
   "cell_type": "code",
   "execution_count": 186,
   "metadata": {},
   "outputs": [
    {
     "data": {
      "text/plain": [
       "'a'"
      ]
     },
     "execution_count": 186,
     "metadata": {},
     "output_type": "execute_result"
    }
   ],
   "source": [
    "x = chr(97)\n",
    "x"
   ]
  },
  {
   "cell_type": "markdown",
   "metadata": {},
   "source": [
    "**Función** [compile](https://www.w3schools.com/python/ref_func_compile.asp)"
   ]
  },
  {
   "cell_type": "code",
   "execution_count": 188,
   "metadata": {},
   "outputs": [
    {
     "name": "stdout",
     "output_type": "stream",
     "text": [
      "54\n"
     ]
    }
   ],
   "source": [
    "x = compile('print(54)', 'test', 'eval')\n",
    "exec(x)"
   ]
  },
  {
   "cell_type": "markdown",
   "metadata": {},
   "source": [
    "**Función** [complex](https://www.w3schools.com/python/ref_func_complex.asp)\n"
   ]
  },
  {
   "cell_type": "code",
   "execution_count": 80,
   "metadata": {},
   "outputs": [
    {
     "data": {
      "text/plain": [
       "(3+5j)"
      ]
     },
     "execution_count": 80,
     "metadata": {},
     "output_type": "execute_result"
    }
   ],
   "source": [
    "x = complex(3, 5)\n",
    "x"
   ]
  },
  {
   "cell_type": "markdown",
   "metadata": {},
   "source": [
    "**Función** [dict](https://www.w3schools.com/python/ref_func_dict.asp)"
   ]
  },
  {
   "cell_type": "code",
   "execution_count": 81,
   "metadata": {},
   "outputs": [
    {
     "data": {
      "text/plain": [
       "{'name': 'John', 'age': 36, 'country': 'Norway'}"
      ]
     },
     "execution_count": 81,
     "metadata": {},
     "output_type": "execute_result"
    }
   ],
   "source": [
    "x = dict(name = \"John\", age = 36, country = \"Norway\")\n",
    "x"
   ]
  },
  {
   "cell_type": "markdown",
   "metadata": {},
   "source": [
    "**Función** [divmod](https://www.w3schools.com/python/ref_func_divmod.asp)"
   ]
  },
  {
   "cell_type": "code",
   "execution_count": 189,
   "metadata": {},
   "outputs": [
    {
     "data": {
      "text/plain": [
       "(2, 1)"
      ]
     },
     "execution_count": 189,
     "metadata": {},
     "output_type": "execute_result"
    }
   ],
   "source": [
    "x = divmod(5, 2)\n",
    "x"
   ]
  },
  {
   "cell_type": "markdown",
   "metadata": {},
   "source": [
    "**Función** [enumerate](https://www.w3schools.com/python/ref_func_enumerate.asp)"
   ]
  },
  {
   "cell_type": "code",
   "execution_count": 83,
   "metadata": {},
   "outputs": [
    {
     "data": {
      "text/plain": [
       "<enumerate at 0x16b8e0051c0>"
      ]
     },
     "execution_count": 83,
     "metadata": {},
     "output_type": "execute_result"
    }
   ],
   "source": [
    "x = ('apple', 'banana', 'cherry')\n",
    "y = enumerate(x)\n",
    "y"
   ]
  },
  {
   "cell_type": "markdown",
   "metadata": {},
   "source": [
    "**Función** [eval](https://www.w3schools.com/python/ref_func_eval.asp)"
   ]
  },
  {
   "cell_type": "code",
   "execution_count": 84,
   "metadata": {},
   "outputs": [
    {
     "name": "stdout",
     "output_type": "stream",
     "text": [
      "55\n"
     ]
    }
   ],
   "source": [
    "x = 'print(55)'\n",
    "eval(x)\n"
   ]
  },
  {
   "cell_type": "markdown",
   "metadata": {},
   "source": [
    "**Función** [exec](https://www.w3schools.com/python/ref_func_exec.asp)"
   ]
  },
  {
   "cell_type": "code",
   "execution_count": 85,
   "metadata": {},
   "outputs": [
    {
     "name": "stdout",
     "output_type": "stream",
     "text": [
      "John\n"
     ]
    }
   ],
   "source": [
    "x = 'name = \"John\"\\nprint(name)'\n",
    "exec(x)"
   ]
  },
  {
   "cell_type": "markdown",
   "metadata": {},
   "source": [
    "**Función** [filter](https://www.w3schools.com/python/ref_func_filter.asp)"
   ]
  },
  {
   "cell_type": "code",
   "execution_count": 191,
   "metadata": {},
   "outputs": [
    {
     "name": "stdout",
     "output_type": "stream",
     "text": [
      "24\n",
      "18\n",
      "32\n"
     ]
    }
   ],
   "source": [
    "ages = [5, 24, 17, 18, 8, 32]\n",
    "\n",
    "def myFunc(x):\n",
    "  if x < 18:\n",
    "    return False\n",
    "  else:\n",
    "    return True\n",
    "\n",
    "adults = filter(myFunc, ages)\n",
    "\n",
    "for x in adults:\n",
    "  print(x)"
   ]
  },
  {
   "cell_type": "markdown",
   "metadata": {},
   "source": [
    "**Función** [float](https://www.w3schools.com/python/ref_func_float.asp)"
   ]
  },
  {
   "cell_type": "code",
   "execution_count": 87,
   "metadata": {},
   "outputs": [
    {
     "data": {
      "text/plain": [
       "3.0"
      ]
     },
     "execution_count": 87,
     "metadata": {},
     "output_type": "execute_result"
    }
   ],
   "source": [
    "x = float(3)\n",
    "x"
   ]
  },
  {
   "cell_type": "markdown",
   "metadata": {},
   "source": [
    "**Función** [format](https://www.w3schools.com/python/ref_func_format.asp)"
   ]
  },
  {
   "cell_type": "code",
   "execution_count": 88,
   "metadata": {},
   "outputs": [
    {
     "data": {
      "text/plain": [
       "'50.000000%'"
      ]
     },
     "execution_count": 88,
     "metadata": {},
     "output_type": "execute_result"
    }
   ],
   "source": [
    "x = format(0.5, '%')\n",
    "x"
   ]
  },
  {
   "cell_type": "markdown",
   "metadata": {},
   "source": [
    "**Función** [frozenset](https://www.w3schools.com/python/ref_func_frozenset.asp)"
   ]
  },
  {
   "cell_type": "code",
   "execution_count": 89,
   "metadata": {},
   "outputs": [
    {
     "data": {
      "text/plain": [
       "frozenset({'apple', 'banana', 'cherry'})"
      ]
     },
     "execution_count": 89,
     "metadata": {},
     "output_type": "execute_result"
    }
   ],
   "source": [
    "mylist = ['apple', 'banana', 'cherry']\n",
    "x = frozenset(mylist)\n",
    "x"
   ]
  },
  {
   "cell_type": "markdown",
   "metadata": {},
   "source": [
    "**Función** [getattr](https://www.w3schools.com/python/ref_func_getattr.asp)"
   ]
  },
  {
   "cell_type": "code",
   "execution_count": 90,
   "metadata": {},
   "outputs": [
    {
     "data": {
      "text/plain": [
       "36"
      ]
     },
     "execution_count": 90,
     "metadata": {},
     "output_type": "execute_result"
    }
   ],
   "source": [
    "class Person:\n",
    "  name = \"John\"\n",
    "  age = 36\n",
    "  country = \"Norway\"\n",
    "\n",
    "x = getattr(Person, 'age')\n",
    "x"
   ]
  },
  {
   "cell_type": "markdown",
   "metadata": {},
   "source": [
    "**Función** [globals](https://www.w3schools.com/python/ref_func_globals.asp)"
   ]
  },
  {
   "cell_type": "code",
   "execution_count": 91,
   "metadata": {},
   "outputs": [
    {
     "name": "stdout",
     "output_type": "stream",
     "text": [
      "{'__name__': '__main__', '__doc__': 'Automatically created module for IPython interactive environment', '__package__': None, '__loader__': None, '__spec__': None, '__builtin__': <module 'builtins' (built-in)>, '__builtins__': <module 'builtins' (built-in)>, '_ih': ['', '## Su código\\nmiddleIndex = int(len(EstoEsUnEjemplo) /2)\\nprint(\"Original String is\", sampleStr)\\nmiddleThree = EstoEsUnEjemplo[middleIndex-1:middleIndex+2]\\nprint(\"Middle three chars are\", middleThree)', '## Su código\\nmiddleIndex = int(len(\\'EstoEsUnEjemplo\\') /2)\\nprint(\"Original String is\", sampleStr)\\nmiddleThree = EstoEsUnEjemplo[middleIndex-1:middleIndex+2]\\nprint(\"Middle three chars are\", middleThree)', '## Su código\\nmiddleIndex = int(len(\\'EstoEsUnEjemplo\\') /2)\\nprint(\"Original String is\", \\'EstoEsUnEjemplo\\')\\nmiddleThree = EstoEsUnEjemplo[middleIndex-1:middleIndex+2]\\nprint(\"Middle three chars are\", middleThree)', 'string = \\'EstoEsUnEjemplo\\'\\nmiddleIndex = int(len(string) /2)\\nprint(\"Original String is\", string)\\nmiddleThree = string[middleIndex-1:middleIndex+2]\\nprint(\"Middle three chars are\", middleThree)', 'string = \\'EstoEsUnEjemplo\\'\\nmitad = int(len(string) /2)\\nprint(\"Cadena origina\", string)\\ntres_centrales = string[mitad-1:mitad+2]\\nprint(\"Tres caractéres del centro:\", tres_centrales)', 'string = \\'EstoEsUnEjemplo\\'\\nmitad = int(len(string) /2)\\nprint(\"Cadena original:\", string)\\ntres_centrales = string[mitad-1:mitad+2]\\nprint(\"Tres caractéres del centro:\", tres_centrales)', 's1 = \"Quen\"\\ns2 = \"eBi\"\\nmiddleIndex = int(len(s1) /2)\\nprint(\"Original Strings are\", s1, s2)\\nmiddleThree = s1[:middleIndex:]+ s2 +s1[middleIndex:]\\nprint(\"After appending new string in middle\", middleThree)', 's1 = \"Quen\"\\ns2 = \"eBi\"\\nmiddleIndex = int(len(s1) /2)\\nprint(\"Secuencia original:\", s1, s2)\\nmiddleThree = s1[:middleIndex:]+ s2 +s1[middleIndex:]\\nprint(\"Secuencia pedida:\", middleThree)', 'string = \\'EstoEsUnEjemplo\\'\\nmitad = int(len(string) /2)\\nprint(\"Cadena original:\", string)\\ntres_centrales = string[mitad-1:mitad+2]', 's1 = \"Quen\"\\ns2 = \"eBi\"\\nmiddleIndex = int(len(s1) /2)\\nprint(\"Secuencia original:\", s1, s2)\\nmiddleThree = s1[:middleIndex:]+ s2 +s1[middleIndex:]\\nprint(\"Secuencia pedida:\", middleThree)', 's1 = \"Quen\"\\ns2 = \"eBi\"\\nmiddleIndex = int(len(s1) /2)\\nprint(\"Secuencia original:\", s1, s2)\\nmiddleThree = s1[:middleIndex:]+ s2 +s1[middleIndex:]\\nprint(\"Secuencia pedida:\", middleThree)', \"import matplotlib.pyplot as plt\\nfrom warnings import filterwarnings\\n\\nget_ipython().run_line_magic('matplotlib', 'inline')\\nfilterwarnings('ignore') # Ignorar warnings\", 'def move_spines():\\n    \"\"\"Crea la figura de pyplot y los ejes. Mueve las lineas de la izquierda y de abajo\\n    para que se intersecten con el origen. Elimina las lineas de la derecha y la de arriba.\\n    Devuelve los ejes.\"\"\"\\n    fix, ax = plt.subplots()\\n    for spine in [\"left\", \"bottom\"]:\\n        ax.spines[spine].set_position(\"zero\")\\n    \\n    for spine in [\"right\", \"top\"]:\\n        ax.spines[spine].set_color(\"none\")\\n    \\n    return ax\\n\\ndef vect_fig(): \\n    \"\"\"Genera el grafico de los vectores en el plano\"\"\"\\n    ax = move_spines()\\n    \\n    ax.set_xlim(-5, 5)\\n    ax.set_ylim(-5, 5)\\n    ax.grid()\\n    vecs = [[2, 4], [-3, 3], [-4, -3.5]] # lista de vectores\\n    for v in vecs:\\n        ax.annotate(\" \", xy=v, xytext=[0, 0],\\n                   arrowprops=dict(facecolor=\"blue\",\\n                                  shrink=0,\\n                                  alpha=0.7,\\n                                  width=0.5))\\n        ax.text(1.1 * v[0], 1.1 * v[1], v)', 'vect_fig() # crea el gráfico', '# Creando matriz de coeficientes\\nA = np.array([[1, 2, 3],\\n              [2, 5, 2],\\n              [6, -3, 1]])\\nA\\n\\n# Creando matriz de resultados\\nb = np.array([6, 4, 2])\\nb\\n\\n# Resolviendo sistema de ecuaciones\\nx = np.linalg.solve(A, b)\\nx\\n\\n# Comprobando la solucion\\nA.dot(x) == b', '# Vectores con numpy\\nimport numpy as np\\n\\nv2 = np.ones(3) # vector de solo unos.\\nv2', '# Creando una matriz identidad de 2x2\\nI = np.eye(2)\\nI', '# Multiplicar una matriz por la identidad nos da la misma matriz\\nA = np.array([[4, 7],\\n              [2, 6]])\\nA', 'A.dot(I) # AxI = A', '# Calculando el determinante de la matriz A\\nnp.linalg.det(A)', '# Calculando la inversa de A.\\nA_inv = np.linalg.inv(A)\\nA_inv', '# A x A_inv nos da como resultado I.\\nA.dot(A_inv)', '# Trasponiendo una matriz\\nA = np.arange(6).reshape(3, 2)\\nA', 'np.transpose(A)', '# graficando el sistema de ecuaciones.\\nx_vals = np.linspace(0, 5, 50) # crea 50 valores entre 0 y 5\\nplt.plot(x_vals, (1 - x_vals)/-2) # grafica x - 2y = 1\\nplt.plot(x_vals, (11 - (3*x_vals))/2) # grafica 3x + 2y = 11\\nplt.axis(ymin = 0)', '# Comprobando la solucion con la multiplicación de matrices.\\nA = np.array([[1., -2.],\\n              [3., 2.]])\\nx = np.array([[3.],[1.]])\\n\\nA.dot(x)', '# Creando matriz de coeficientes\\nA = np.array([[1, 2, 3],\\n              [2, 5, 2],\\n              [6, -3, 1]])\\nA', '# Creando matriz de resultados\\nb = np.array([6, 4, 2])\\nb', '# Resolviendo sistema de ecuaciones\\nx = np.linalg.solve(A, b)\\nx', '# Comprobando la solucion\\nA.dot(x) == b', '# Creando matriz de coeficientes\\nA = np.array([[1, 2, 3],\\n              [2, 5, 2],\\n              [6, -3, 1]])\\nA\\n\\n# Creando matriz de resultados\\nb = np.array([6, 4, 2])\\nb\\n\\n# Resolviendo sistema de ecuaciones\\nx = np.linalg.solve(A, b)\\nx\\n\\n# Comprobando la solucion\\nA.dot(x) == b', 'print(x)', 'print(x)', '<img style=\"float: right;\" src=\"baldor.png\" width=\"1000\">', 'mylist = [True, True, True]\\nx = all(mylist)', 'mylist = [True, True, True]\\nx = all(mylist)\\nx', 'mylist = [False, True, False]\\nx = any(mylist)\\nx', 'mylist = [False, True, False]\\nx = any(mylist)\\nx', 'mylist = [False, True, False]\\nx = any(mylist)\\nx', 'x = ascii(\"My name is Ståle\")\\nx', 'x = bin(36)\\nx', '**Función** [ascci](https://www.w3schools.com/python/ref_func_ascii.asp)', '**Función** [bin](https://www.w3schools.com/python/ref_func_bin.asp', '# Ingresar valor por teclado\\nentrada = int(input(\"Ingrese un número entero: \"))\\nprint(entrada**2)', '# Valor absoluto de un numero\\nprint(abs(-1))', '# Ingresar valor por teclado\\nentrada = int(input(\"Ingrese un número entero: \"))\\nprint(entrada**2)', '# Ingresar valor por teclado\\nentrada = input(\"Ingrese un número entero: \")\\nprint(entrada*2)', '# Valor absoluto de un numero\\nprint(abs(-1))', 'mylist = [True, True, True]\\nx = all(mylist)\\nx', 'mylist = [False, True, False]\\nx = any(mylist)\\nx', '**Función** [bool](https://www.w3schools.com/python/ref_func_bool.asp)', 'x = bytearray(4)\\nx', 'def x():\\n  a = 5\\n\\nprint(callable(x))', \"x = compile('print(55)', 'test', 'eval')\\nexec(x)\", 'x = complex(3, 5)\\nx', 'x = dict(name = \"John\", age = 36, country = \"Norway\")', 'x = dict(name = \"John\", age = 36, country = \"Norway\")\\nx', 'x = divmod(5, 2)\\nx', \"x = ('apple', 'banana', 'cherry')\\ny = enumerate(x)\\ny\", \"x = 'print(55)'\\neval(x)\", 'x = \\'name = \"John\"\\\\nprint(name)\\'\\nexec(x)', 'ages = [5, 12, 17, 18, 24, 32]\\n\\ndef myFunc(x):\\n  if x < 18:\\n    return False\\n  else:\\n    return True\\n\\nadults = filter(myFunc, ages)\\n\\nfor x in adults:\\n  print(x)', 'x = float(3)\\nx', \"x = format(0.5, '%')\", \"x = format(0.5, '%')\\nx\", \"mylist = ['apple', 'banana', 'cherry']\\nx = frozenset(mylist)\\nx\", 'class Person:\\n  name = \"John\"\\n  age = 36\\n  country = \"Norway\"\\n\\nx = getattr(Person, \\'age\\')', 'class Person:\\n  name = \"John\"\\n  age = 36\\n  country = \"Norway\"\\n\\nx = getattr(Person, \\'age\\')\\nx', 'x = globals()\\nprint(x)', '# Ingresar valor por teclado\\nentrada = int(input(\"Ingrese un número entero: \"))\\nprint(entrada**2)', 'mylist = [True, True, True]\\nx = all(mylist)\\nx', 'mylist = [False, True, False]\\nx = any(mylist)\\nx', 'x = ascii(\"My name is Ståle\")\\nx', 'x = bin(36)\\nx', 'x = bool(1)\\nx', 'x = bytearray(4)\\nx', 'def x():\\n  a = 5\\n\\nprint(callable(x))', 'x = chr(97)', \"x = compile('print(55)', 'test', 'eval')\\nexec(x)\", 'x = complex(3, 5)\\nx', 'x = dict(name = \"John\", age = 36, country = \"Norway\")\\nx', 'x = divmod(5, 2)\\nx', \"x = ('apple', 'banana', 'cherry')\\ny = enumerate(x)\\ny\", \"x = 'print(55)'\\neval(x)\", 'x = \\'name = \"John\"\\\\nprint(name)\\'\\nexec(x)', 'ages = [5, 12, 17, 18, 24, 32]\\n\\ndef myFunc(x):\\n  if x < 18:\\n    return False\\n  else:\\n    return True\\n\\nadults = filter(myFunc, ages)\\n\\nfor x in adults:\\n  print(x)', 'x = float(3)\\nx', \"x = format(0.5, '%')\\nx\", \"mylist = ['apple', 'banana', 'cherry']\\nx = frozenset(mylist)\\nx\", 'class Person:\\n  name = \"John\"\\n  age = 36\\n  country = \"Norway\"\\n\\nx = getattr(Person, \\'age\\')\\nx', 'x = globals()\\nprint(x)'], '_oh': {16: array([1., 1., 1.]), 17: array([[1., 0.],\n",
      "       [0., 1.]]), 18: array([[4, 7],\n",
      "       [2, 6]]), 19: array([[4., 7.],\n",
      "       [2., 6.]]), 20: 10.000000000000002, 21: array([[ 0.6, -0.7],\n",
      "       [-0.2,  0.4]]), 22: array([[ 1.00000000e+00,  0.00000000e+00],\n",
      "       [-2.22044605e-16,  1.00000000e+00]]), 23: array([[0, 1],\n",
      "       [2, 3],\n",
      "       [4, 5]]), 24: array([[0, 2, 4],\n",
      "       [1, 3, 5]]), 25: (-0.25, 5.25, 0.0, 5.875), 26: array([[ 1.],\n",
      "       [11.]]), 27: array([[ 1,  2,  3],\n",
      "       [ 2,  5,  2],\n",
      "       [ 6, -3,  1]]), 28: array([6, 4, 2]), 29: array([0., 0., 2.]), 30: array([ True,  True,  True]), 31: array([ True,  True,  True]), 36: True, 37: True, 38: True, 39: True, 40: \"'My name is St\\\\xe5le'\", 41: '0b100100', 49: True, 50: True, 52: bytearray(b'\\x00\\x00\\x00\\x00'), 55: (3+5j), 57: {'name': 'John', 'age': 36, 'country': 'Norway'}, 58: (2, 1), 59: <enumerate object at 0x0000016B8E027940>, 63: 3.0, 65: '50.000000%', 66: frozenset({'apple', 'cherry', 'banana'}), 68: 36, 71: True, 72: True, 73: \"'My name is St\\\\xe5le'\", 74: '0b100100', 75: True, 76: bytearray(b'\\x00\\x00\\x00\\x00'), 80: (3+5j), 81: {'name': 'John', 'age': 36, 'country': 'Norway'}, 82: (2, 1), 83: <enumerate object at 0x0000016B8E0051C0>, 87: 3.0, 88: '50.000000%', 89: frozenset({'apple', 'cherry', 'banana'}), 90: 36}, '_dh': ['C:\\\\Users\\\\Windows\\\\Google Drive\\\\EAN\\\\Notebooks'], 'In': ['', '## Su código\\nmiddleIndex = int(len(EstoEsUnEjemplo) /2)\\nprint(\"Original String is\", sampleStr)\\nmiddleThree = EstoEsUnEjemplo[middleIndex-1:middleIndex+2]\\nprint(\"Middle three chars are\", middleThree)', '## Su código\\nmiddleIndex = int(len(\\'EstoEsUnEjemplo\\') /2)\\nprint(\"Original String is\", sampleStr)\\nmiddleThree = EstoEsUnEjemplo[middleIndex-1:middleIndex+2]\\nprint(\"Middle three chars are\", middleThree)', '## Su código\\nmiddleIndex = int(len(\\'EstoEsUnEjemplo\\') /2)\\nprint(\"Original String is\", \\'EstoEsUnEjemplo\\')\\nmiddleThree = EstoEsUnEjemplo[middleIndex-1:middleIndex+2]\\nprint(\"Middle three chars are\", middleThree)', 'string = \\'EstoEsUnEjemplo\\'\\nmiddleIndex = int(len(string) /2)\\nprint(\"Original String is\", string)\\nmiddleThree = string[middleIndex-1:middleIndex+2]\\nprint(\"Middle three chars are\", middleThree)', 'string = \\'EstoEsUnEjemplo\\'\\nmitad = int(len(string) /2)\\nprint(\"Cadena origina\", string)\\ntres_centrales = string[mitad-1:mitad+2]\\nprint(\"Tres caractéres del centro:\", tres_centrales)', 'string = \\'EstoEsUnEjemplo\\'\\nmitad = int(len(string) /2)\\nprint(\"Cadena original:\", string)\\ntres_centrales = string[mitad-1:mitad+2]\\nprint(\"Tres caractéres del centro:\", tres_centrales)', 's1 = \"Quen\"\\ns2 = \"eBi\"\\nmiddleIndex = int(len(s1) /2)\\nprint(\"Original Strings are\", s1, s2)\\nmiddleThree = s1[:middleIndex:]+ s2 +s1[middleIndex:]\\nprint(\"After appending new string in middle\", middleThree)', 's1 = \"Quen\"\\ns2 = \"eBi\"\\nmiddleIndex = int(len(s1) /2)\\nprint(\"Secuencia original:\", s1, s2)\\nmiddleThree = s1[:middleIndex:]+ s2 +s1[middleIndex:]\\nprint(\"Secuencia pedida:\", middleThree)', 'string = \\'EstoEsUnEjemplo\\'\\nmitad = int(len(string) /2)\\nprint(\"Cadena original:\", string)\\ntres_centrales = string[mitad-1:mitad+2]', 's1 = \"Quen\"\\ns2 = \"eBi\"\\nmiddleIndex = int(len(s1) /2)\\nprint(\"Secuencia original:\", s1, s2)\\nmiddleThree = s1[:middleIndex:]+ s2 +s1[middleIndex:]\\nprint(\"Secuencia pedida:\", middleThree)', 's1 = \"Quen\"\\ns2 = \"eBi\"\\nmiddleIndex = int(len(s1) /2)\\nprint(\"Secuencia original:\", s1, s2)\\nmiddleThree = s1[:middleIndex:]+ s2 +s1[middleIndex:]\\nprint(\"Secuencia pedida:\", middleThree)', \"import matplotlib.pyplot as plt\\nfrom warnings import filterwarnings\\n\\nget_ipython().run_line_magic('matplotlib', 'inline')\\nfilterwarnings('ignore') # Ignorar warnings\", 'def move_spines():\\n    \"\"\"Crea la figura de pyplot y los ejes. Mueve las lineas de la izquierda y de abajo\\n    para que se intersecten con el origen. Elimina las lineas de la derecha y la de arriba.\\n    Devuelve los ejes.\"\"\"\\n    fix, ax = plt.subplots()\\n    for spine in [\"left\", \"bottom\"]:\\n        ax.spines[spine].set_position(\"zero\")\\n    \\n    for spine in [\"right\", \"top\"]:\\n        ax.spines[spine].set_color(\"none\")\\n    \\n    return ax\\n\\ndef vect_fig(): \\n    \"\"\"Genera el grafico de los vectores en el plano\"\"\"\\n    ax = move_spines()\\n    \\n    ax.set_xlim(-5, 5)\\n    ax.set_ylim(-5, 5)\\n    ax.grid()\\n    vecs = [[2, 4], [-3, 3], [-4, -3.5]] # lista de vectores\\n    for v in vecs:\\n        ax.annotate(\" \", xy=v, xytext=[0, 0],\\n                   arrowprops=dict(facecolor=\"blue\",\\n                                  shrink=0,\\n                                  alpha=0.7,\\n                                  width=0.5))\\n        ax.text(1.1 * v[0], 1.1 * v[1], v)', 'vect_fig() # crea el gráfico', '# Creando matriz de coeficientes\\nA = np.array([[1, 2, 3],\\n              [2, 5, 2],\\n              [6, -3, 1]])\\nA\\n\\n# Creando matriz de resultados\\nb = np.array([6, 4, 2])\\nb\\n\\n# Resolviendo sistema de ecuaciones\\nx = np.linalg.solve(A, b)\\nx\\n\\n# Comprobando la solucion\\nA.dot(x) == b', '# Vectores con numpy\\nimport numpy as np\\n\\nv2 = np.ones(3) # vector de solo unos.\\nv2', '# Creando una matriz identidad de 2x2\\nI = np.eye(2)\\nI', '# Multiplicar una matriz por la identidad nos da la misma matriz\\nA = np.array([[4, 7],\\n              [2, 6]])\\nA', 'A.dot(I) # AxI = A', '# Calculando el determinante de la matriz A\\nnp.linalg.det(A)', '# Calculando la inversa de A.\\nA_inv = np.linalg.inv(A)\\nA_inv', '# A x A_inv nos da como resultado I.\\nA.dot(A_inv)', '# Trasponiendo una matriz\\nA = np.arange(6).reshape(3, 2)\\nA', 'np.transpose(A)', '# graficando el sistema de ecuaciones.\\nx_vals = np.linspace(0, 5, 50) # crea 50 valores entre 0 y 5\\nplt.plot(x_vals, (1 - x_vals)/-2) # grafica x - 2y = 1\\nplt.plot(x_vals, (11 - (3*x_vals))/2) # grafica 3x + 2y = 11\\nplt.axis(ymin = 0)', '# Comprobando la solucion con la multiplicación de matrices.\\nA = np.array([[1., -2.],\\n              [3., 2.]])\\nx = np.array([[3.],[1.]])\\n\\nA.dot(x)', '# Creando matriz de coeficientes\\nA = np.array([[1, 2, 3],\\n              [2, 5, 2],\\n              [6, -3, 1]])\\nA', '# Creando matriz de resultados\\nb = np.array([6, 4, 2])\\nb', '# Resolviendo sistema de ecuaciones\\nx = np.linalg.solve(A, b)\\nx', '# Comprobando la solucion\\nA.dot(x) == b', '# Creando matriz de coeficientes\\nA = np.array([[1, 2, 3],\\n              [2, 5, 2],\\n              [6, -3, 1]])\\nA\\n\\n# Creando matriz de resultados\\nb = np.array([6, 4, 2])\\nb\\n\\n# Resolviendo sistema de ecuaciones\\nx = np.linalg.solve(A, b)\\nx\\n\\n# Comprobando la solucion\\nA.dot(x) == b', 'print(x)', 'print(x)', '<img style=\"float: right;\" src=\"baldor.png\" width=\"1000\">', 'mylist = [True, True, True]\\nx = all(mylist)', 'mylist = [True, True, True]\\nx = all(mylist)\\nx', 'mylist = [False, True, False]\\nx = any(mylist)\\nx', 'mylist = [False, True, False]\\nx = any(mylist)\\nx', 'mylist = [False, True, False]\\nx = any(mylist)\\nx', 'x = ascii(\"My name is Ståle\")\\nx', 'x = bin(36)\\nx', '**Función** [ascci](https://www.w3schools.com/python/ref_func_ascii.asp)', '**Función** [bin](https://www.w3schools.com/python/ref_func_bin.asp', '# Ingresar valor por teclado\\nentrada = int(input(\"Ingrese un número entero: \"))\\nprint(entrada**2)', '# Valor absoluto de un numero\\nprint(abs(-1))', '# Ingresar valor por teclado\\nentrada = int(input(\"Ingrese un número entero: \"))\\nprint(entrada**2)', '# Ingresar valor por teclado\\nentrada = input(\"Ingrese un número entero: \")\\nprint(entrada*2)', '# Valor absoluto de un numero\\nprint(abs(-1))', 'mylist = [True, True, True]\\nx = all(mylist)\\nx', 'mylist = [False, True, False]\\nx = any(mylist)\\nx', '**Función** [bool](https://www.w3schools.com/python/ref_func_bool.asp)', 'x = bytearray(4)\\nx', 'def x():\\n  a = 5\\n\\nprint(callable(x))', \"x = compile('print(55)', 'test', 'eval')\\nexec(x)\", 'x = complex(3, 5)\\nx', 'x = dict(name = \"John\", age = 36, country = \"Norway\")', 'x = dict(name = \"John\", age = 36, country = \"Norway\")\\nx', 'x = divmod(5, 2)\\nx', \"x = ('apple', 'banana', 'cherry')\\ny = enumerate(x)\\ny\", \"x = 'print(55)'\\neval(x)\", 'x = \\'name = \"John\"\\\\nprint(name)\\'\\nexec(x)', 'ages = [5, 12, 17, 18, 24, 32]\\n\\ndef myFunc(x):\\n  if x < 18:\\n    return False\\n  else:\\n    return True\\n\\nadults = filter(myFunc, ages)\\n\\nfor x in adults:\\n  print(x)', 'x = float(3)\\nx', \"x = format(0.5, '%')\", \"x = format(0.5, '%')\\nx\", \"mylist = ['apple', 'banana', 'cherry']\\nx = frozenset(mylist)\\nx\", 'class Person:\\n  name = \"John\"\\n  age = 36\\n  country = \"Norway\"\\n\\nx = getattr(Person, \\'age\\')', 'class Person:\\n  name = \"John\"\\n  age = 36\\n  country = \"Norway\"\\n\\nx = getattr(Person, \\'age\\')\\nx', 'x = globals()\\nprint(x)', '# Ingresar valor por teclado\\nentrada = int(input(\"Ingrese un número entero: \"))\\nprint(entrada**2)', 'mylist = [True, True, True]\\nx = all(mylist)\\nx', 'mylist = [False, True, False]\\nx = any(mylist)\\nx', 'x = ascii(\"My name is Ståle\")\\nx', 'x = bin(36)\\nx', 'x = bool(1)\\nx', 'x = bytearray(4)\\nx', 'def x():\\n  a = 5\\n\\nprint(callable(x))', 'x = chr(97)', \"x = compile('print(55)', 'test', 'eval')\\nexec(x)\", 'x = complex(3, 5)\\nx', 'x = dict(name = \"John\", age = 36, country = \"Norway\")\\nx', 'x = divmod(5, 2)\\nx', \"x = ('apple', 'banana', 'cherry')\\ny = enumerate(x)\\ny\", \"x = 'print(55)'\\neval(x)\", 'x = \\'name = \"John\"\\\\nprint(name)\\'\\nexec(x)', 'ages = [5, 12, 17, 18, 24, 32]\\n\\ndef myFunc(x):\\n  if x < 18:\\n    return False\\n  else:\\n    return True\\n\\nadults = filter(myFunc, ages)\\n\\nfor x in adults:\\n  print(x)', 'x = float(3)\\nx', \"x = format(0.5, '%')\\nx\", \"mylist = ['apple', 'banana', 'cherry']\\nx = frozenset(mylist)\\nx\", 'class Person:\\n  name = \"John\"\\n  age = 36\\n  country = \"Norway\"\\n\\nx = getattr(Person, \\'age\\')\\nx', 'x = globals()\\nprint(x)'], 'Out': {16: array([1., 1., 1.]), 17: array([[1., 0.],\n",
      "       [0., 1.]]), 18: array([[4, 7],\n",
      "       [2, 6]]), 19: array([[4., 7.],\n",
      "       [2., 6.]]), 20: 10.000000000000002, 21: array([[ 0.6, -0.7],\n",
      "       [-0.2,  0.4]]), 22: array([[ 1.00000000e+00,  0.00000000e+00],\n",
      "       [-2.22044605e-16,  1.00000000e+00]]), 23: array([[0, 1],\n",
      "       [2, 3],\n",
      "       [4, 5]]), 24: array([[0, 2, 4],\n",
      "       [1, 3, 5]]), 25: (-0.25, 5.25, 0.0, 5.875), 26: array([[ 1.],\n",
      "       [11.]]), 27: array([[ 1,  2,  3],\n",
      "       [ 2,  5,  2],\n",
      "       [ 6, -3,  1]]), 28: array([6, 4, 2]), 29: array([0., 0., 2.]), 30: array([ True,  True,  True]), 31: array([ True,  True,  True]), 36: True, 37: True, 38: True, 39: True, 40: \"'My name is St\\\\xe5le'\", 41: '0b100100', 49: True, 50: True, 52: bytearray(b'\\x00\\x00\\x00\\x00'), 55: (3+5j), 57: {'name': 'John', 'age': 36, 'country': 'Norway'}, 58: (2, 1), 59: <enumerate object at 0x0000016B8E027940>, 63: 3.0, 65: '50.000000%', 66: frozenset({'apple', 'cherry', 'banana'}), 68: 36, 71: True, 72: True, 73: \"'My name is St\\\\xe5le'\", 74: '0b100100', 75: True, 76: bytearray(b'\\x00\\x00\\x00\\x00'), 80: (3+5j), 81: {'name': 'John', 'age': 36, 'country': 'Norway'}, 82: (2, 1), 83: <enumerate object at 0x0000016B8E0051C0>, 87: 3.0, 88: '50.000000%', 89: frozenset({'apple', 'cherry', 'banana'}), 90: 36}, 'get_ipython': <bound method InteractiveShell.get_ipython of <ipykernel.zmqshell.ZMQInteractiveShell object at 0x0000016B8B652D30>>, 'exit': <IPython.core.autocall.ZMQExitAutocall object at 0x0000016B8B6D8880>, 'quit': <IPython.core.autocall.ZMQExitAutocall object at 0x0000016B8B6D8880>, '_': 36, '__': frozenset({'apple', 'cherry', 'banana'}), '___': '50.000000%', '_i': 'class Person:\\n  name = \"John\"\\n  age = 36\\n  country = \"Norway\"\\n\\nx = getattr(Person, \\'age\\')\\nx', '_ii': \"mylist = ['apple', 'banana', 'cherry']\\nx = frozenset(mylist)\\nx\", '_iii': \"x = format(0.5, '%')\\nx\", '_i1': '## Su código\\nmiddleIndex = int(len(EstoEsUnEjemplo) /2)\\nprint(\"Original String is\", sampleStr)\\nmiddleThree = EstoEsUnEjemplo[middleIndex-1:middleIndex+2]\\nprint(\"Middle three chars are\", middleThree)', '_i2': '## Su código\\nmiddleIndex = int(len(\\'EstoEsUnEjemplo\\') /2)\\nprint(\"Original String is\", sampleStr)\\nmiddleThree = EstoEsUnEjemplo[middleIndex-1:middleIndex+2]\\nprint(\"Middle three chars are\", middleThree)', 'middleIndex': 2, '_i3': '## Su código\\nmiddleIndex = int(len(\\'EstoEsUnEjemplo\\') /2)\\nprint(\"Original String is\", \\'EstoEsUnEjemplo\\')\\nmiddleThree = EstoEsUnEjemplo[middleIndex-1:middleIndex+2]\\nprint(\"Middle three chars are\", middleThree)', '_i4': 'string = \\'EstoEsUnEjemplo\\'\\nmiddleIndex = int(len(string) /2)\\nprint(\"Original String is\", string)\\nmiddleThree = string[middleIndex-1:middleIndex+2]\\nprint(\"Middle three chars are\", middleThree)', 'string': 'EstoEsUnEjemplo', 'middleThree': 'QueBien', '_i5': 'string = \\'EstoEsUnEjemplo\\'\\nmitad = int(len(string) /2)\\nprint(\"Cadena origina\", string)\\ntres_centrales = string[mitad-1:mitad+2]\\nprint(\"Tres caractéres del centro:\", tres_centrales)', 'mitad': 7, 'tres_centrales': 'UnE', '_i6': 'string = \\'EstoEsUnEjemplo\\'\\nmitad = int(len(string) /2)\\nprint(\"Cadena original:\", string)\\ntres_centrales = string[mitad-1:mitad+2]\\nprint(\"Tres caractéres del centro:\", tres_centrales)', '_i7': 's1 = \"Quen\"\\ns2 = \"eBi\"\\nmiddleIndex = int(len(s1) /2)\\nprint(\"Original Strings are\", s1, s2)\\nmiddleThree = s1[:middleIndex:]+ s2 +s1[middleIndex:]\\nprint(\"After appending new string in middle\", middleThree)', 's1': 'Quen', 's2': 'eBi', '_i8': 's1 = \"Quen\"\\ns2 = \"eBi\"\\nmiddleIndex = int(len(s1) /2)\\nprint(\"Secuencia original:\", s1, s2)\\nmiddleThree = s1[:middleIndex:]+ s2 +s1[middleIndex:]\\nprint(\"Secuencia pedida:\", middleThree)', '_i9': 'string = \\'EstoEsUnEjemplo\\'\\nmitad = int(len(string) /2)\\nprint(\"Cadena original:\", string)\\ntres_centrales = string[mitad-1:mitad+2]', '_i10': 's1 = \"Quen\"\\ns2 = \"eBi\"\\nmiddleIndex = int(len(s1) /2)\\nprint(\"Secuencia original:\", s1, s2)\\nmiddleThree = s1[:middleIndex:]+ s2 +s1[middleIndex:]\\nprint(\"Secuencia pedida:\", middleThree)', '_i11': 's1 = \"Quen\"\\ns2 = \"eBi\"\\nmiddleIndex = int(len(s1) /2)\\nprint(\"Secuencia original:\", s1, s2)\\nmiddleThree = s1[:middleIndex:]+ s2 +s1[middleIndex:]\\nprint(\"Secuencia pedida:\", middleThree)', '_i12': \"import matplotlib.pyplot as plt\\nfrom warnings import filterwarnings\\n\\n%matplotlib inline\\nfilterwarnings('ignore') # Ignorar warnings\", 'plt': <module 'matplotlib.pyplot' from 'C:\\\\Users\\\\Windows\\\\anaconda3\\\\lib\\\\site-packages\\\\matplotlib\\\\pyplot.py'>, 'filterwarnings': <function filterwarnings at 0x0000016B8777B700>, '_i13': 'def move_spines():\\n    \"\"\"Crea la figura de pyplot y los ejes. Mueve las lineas de la izquierda y de abajo\\n    para que se intersecten con el origen. Elimina las lineas de la derecha y la de arriba.\\n    Devuelve los ejes.\"\"\"\\n    fix, ax = plt.subplots()\\n    for spine in [\"left\", \"bottom\"]:\\n        ax.spines[spine].set_position(\"zero\")\\n    \\n    for spine in [\"right\", \"top\"]:\\n        ax.spines[spine].set_color(\"none\")\\n    \\n    return ax\\n\\ndef vect_fig(): \\n    \"\"\"Genera el grafico de los vectores en el plano\"\"\"\\n    ax = move_spines()\\n    \\n    ax.set_xlim(-5, 5)\\n    ax.set_ylim(-5, 5)\\n    ax.grid()\\n    vecs = [[2, 4], [-3, 3], [-4, -3.5]] # lista de vectores\\n    for v in vecs:\\n        ax.annotate(\" \", xy=v, xytext=[0, 0],\\n                   arrowprops=dict(facecolor=\"blue\",\\n                                  shrink=0,\\n                                  alpha=0.7,\\n                                  width=0.5))\\n        ax.text(1.1 * v[0], 1.1 * v[1], v)', 'move_spines': <function move_spines at 0x0000016B8D863CA0>, 'vect_fig': <function vect_fig at 0x0000016B8D863D30>, '_i14': 'vect_fig() # crea el gráfico', '_i15': '# Creando matriz de coeficientes\\nA = np.array([[1, 2, 3],\\n              [2, 5, 2],\\n              [6, -3, 1]])\\nA\\n\\n# Creando matriz de resultados\\nb = np.array([6, 4, 2])\\nb\\n\\n# Resolviendo sistema de ecuaciones\\nx = np.linalg.solve(A, b)\\nx\\n\\n# Comprobando la solucion\\nA.dot(x) == b', '_i16': '# Vectores con numpy\\nimport numpy as np\\n\\nv2 = np.ones(3) # vector de solo unos.\\nv2', 'np': <module 'numpy' from 'C:\\\\Users\\\\Windows\\\\anaconda3\\\\lib\\\\site-packages\\\\numpy\\\\__init__.py'>, 'v2': array([1., 1., 1.]), '_16': array([1., 1., 1.]), '_i17': '# Creando una matriz identidad de 2x2\\nI = np.eye(2)\\nI', 'I': array([[1., 0.],\n",
      "       [0., 1.]]), '_17': array([[1., 0.],\n",
      "       [0., 1.]]), '_i18': '# Multiplicar una matriz por la identidad nos da la misma matriz\\nA = np.array([[4, 7],\\n              [2, 6]])\\nA', 'A': array([[ 1,  2,  3],\n",
      "       [ 2,  5,  2],\n",
      "       [ 6, -3,  1]]), '_18': array([[4, 7],\n",
      "       [2, 6]]), '_i19': 'A.dot(I) # AxI = A', '_19': array([[4., 7.],\n",
      "       [2., 6.]]), '_i20': '# Calculando el determinante de la matriz A\\nnp.linalg.det(A)', '_20': 10.000000000000002, '_i21': '# Calculando la inversa de A.\\nA_inv = np.linalg.inv(A)\\nA_inv', 'A_inv': array([[ 0.6, -0.7],\n",
      "       [-0.2,  0.4]]), '_21': array([[ 0.6, -0.7],\n",
      "       [-0.2,  0.4]]), '_i22': '# A x A_inv nos da como resultado I.\\nA.dot(A_inv)', '_22': array([[ 1.00000000e+00,  0.00000000e+00],\n",
      "       [-2.22044605e-16,  1.00000000e+00]]), '_i23': '# Trasponiendo una matriz\\nA = np.arange(6).reshape(3, 2)\\nA', '_23': array([[0, 1],\n",
      "       [2, 3],\n",
      "       [4, 5]]), '_i24': 'np.transpose(A)', '_24': array([[0, 2, 4],\n",
      "       [1, 3, 5]]), '_i25': '# graficando el sistema de ecuaciones.\\nx_vals = np.linspace(0, 5, 50) # crea 50 valores entre 0 y 5\\nplt.plot(x_vals, (1 - x_vals)/-2) # grafica x - 2y = 1\\nplt.plot(x_vals, (11 - (3*x_vals))/2) # grafica 3x + 2y = 11\\nplt.axis(ymin = 0)', 'x_vals': array([0.        , 0.10204082, 0.20408163, 0.30612245, 0.40816327,\n",
      "       0.51020408, 0.6122449 , 0.71428571, 0.81632653, 0.91836735,\n",
      "       1.02040816, 1.12244898, 1.2244898 , 1.32653061, 1.42857143,\n",
      "       1.53061224, 1.63265306, 1.73469388, 1.83673469, 1.93877551,\n",
      "       2.04081633, 2.14285714, 2.24489796, 2.34693878, 2.44897959,\n",
      "       2.55102041, 2.65306122, 2.75510204, 2.85714286, 2.95918367,\n",
      "       3.06122449, 3.16326531, 3.26530612, 3.36734694, 3.46938776,\n",
      "       3.57142857, 3.67346939, 3.7755102 , 3.87755102, 3.97959184,\n",
      "       4.08163265, 4.18367347, 4.28571429, 4.3877551 , 4.48979592,\n",
      "       4.59183673, 4.69387755, 4.79591837, 4.89795918, 5.        ]), '_25': (-0.25, 5.25, 0.0, 5.875), '_i26': '# Comprobando la solucion con la multiplicación de matrices.\\nA = np.array([[1., -2.],\\n              [3., 2.]])\\nx = np.array([[3.],[1.]])\\n\\nA.dot(x)', 'x': {...}, '_26': array([[ 1.],\n",
      "       [11.]]), '_i27': '# Creando matriz de coeficientes\\nA = np.array([[1, 2, 3],\\n              [2, 5, 2],\\n              [6, -3, 1]])\\nA', '_27': array([[ 1,  2,  3],\n",
      "       [ 2,  5,  2],\n",
      "       [ 6, -3,  1]]), '_i28': '# Creando matriz de resultados\\nb = np.array([6, 4, 2])\\nb', 'b': array([6, 4, 2]), '_28': array([6, 4, 2]), '_i29': '# Resolviendo sistema de ecuaciones\\nx = np.linalg.solve(A, b)\\nx', '_29': array([0., 0., 2.]), '_i30': '# Comprobando la solucion\\nA.dot(x) == b', '_30': array([ True,  True,  True]), '_i31': '# Creando matriz de coeficientes\\nA = np.array([[1, 2, 3],\\n              [2, 5, 2],\\n              [6, -3, 1]])\\nA\\n\\n# Creando matriz de resultados\\nb = np.array([6, 4, 2])\\nb\\n\\n# Resolviendo sistema de ecuaciones\\nx = np.linalg.solve(A, b)\\nx\\n\\n# Comprobando la solucion\\nA.dot(x) == b', '_31': array([ True,  True,  True]), '_i32': 'print(x)', '_i33': 'print(x)', '_i34': '<img style=\"float: right;\" src=\"baldor.png\" width=\"1000\">', '_i35': 'mylist = [True, True, True]\\nx = all(mylist)', 'mylist': ['apple', 'banana', 'cherry'], '_i36': 'mylist = [True, True, True]\\nx = all(mylist)\\nx', '_36': True, '_i37': 'mylist = [False, True, False]\\nx = any(mylist)\\nx', '_37': True, '_i38': 'mylist = [False, True, False]\\nx = any(mylist)\\nx', '_38': True, '_i39': 'mylist = [False, True, False]\\nx = any(mylist)\\nx', '_39': True, '_i40': 'x = ascii(\"My name is Ståle\")\\nx', '_40': \"'My name is St\\\\xe5le'\", '_i41': 'x = bin(36)\\nx', '_41': '0b100100', '_i42': '**Función** [ascci](https://www.w3schools.com/python/ref_func_ascii.asp)', '_i43': '**Función** [bin](https://www.w3schools.com/python/ref_func_bin.asp', '_i44': '# Ingresar valor por teclado\\nentrada = int(input(\"Ingrese un número entero: \"))\\nprint(entrada**2)', '_i45': '# Valor absoluto de un numero\\nprint(abs(-1))', '_i46': '# Ingresar valor por teclado\\nentrada = int(input(\"Ingrese un número entero: \"))\\nprint(entrada**2)', 'entrada': '', '_i47': '# Ingresar valor por teclado\\nentrada = input(\"Ingrese un número entero: \")\\nprint(entrada*2)', '_i48': '# Valor absoluto de un numero\\nprint(abs(-1))', '_i49': 'mylist = [True, True, True]\\nx = all(mylist)\\nx', '_49': True, '_i50': 'mylist = [False, True, False]\\nx = any(mylist)\\nx', '_50': True, '_i51': '**Función** [bool](https://www.w3schools.com/python/ref_func_bool.asp)', '_i52': 'x = bytearray(4)\\nx', '_52': bytearray(b'\\x00\\x00\\x00\\x00'), '_i53': 'def x():\\n  a = 5\\n\\nprint(callable(x))', '_i54': \"x = compile('print(55)', 'test', 'eval')\\nexec(x)\", '_i55': 'x = complex(3, 5)\\nx', '_55': (3+5j), '_i56': 'x = dict(name = \"John\", age = 36, country = \"Norway\")', '_i57': 'x = dict(name = \"John\", age = 36, country = \"Norway\")\\nx', '_57': {'name': 'John', 'age': 36, 'country': 'Norway'}, '_i58': 'x = divmod(5, 2)\\nx', '_58': (2, 1), '_i59': \"x = ('apple', 'banana', 'cherry')\\ny = enumerate(x)\\ny\", 'y': <enumerate object at 0x0000016B8E0051C0>, '_59': <enumerate object at 0x0000016B8E027940>, '_i60': \"x = 'print(55)'\\neval(x)\", '_i61': 'x = \\'name = \"John\"\\\\nprint(name)\\'\\nexec(x)', 'name': 'John', '_i62': 'ages = [5, 12, 17, 18, 24, 32]\\n\\ndef myFunc(x):\\n  if x < 18:\\n    return False\\n  else:\\n    return True\\n\\nadults = filter(myFunc, ages)\\n\\nfor x in adults:\\n  print(x)', 'ages': [5, 12, 17, 18, 24, 32], 'myFunc': <function myFunc at 0x0000016B8E06F5E0>, 'adults': <filter object at 0x0000016B8E050760>, '_i63': 'x = float(3)\\nx', '_63': 3.0, '_i64': \"x = format(0.5, '%')\", '_i65': \"x = format(0.5, '%')\\nx\", '_65': '50.000000%', '_i66': \"mylist = ['apple', 'banana', 'cherry']\\nx = frozenset(mylist)\\nx\", '_66': frozenset({'apple', 'cherry', 'banana'}), '_i67': 'class Person:\\n  name = \"John\"\\n  age = 36\\n  country = \"Norway\"\\n\\nx = getattr(Person, \\'age\\')', 'Person': <class '__main__.Person'>, '_i68': 'class Person:\\n  name = \"John\"\\n  age = 36\\n  country = \"Norway\"\\n\\nx = getattr(Person, \\'age\\')\\nx', '_68': 36, '_i69': 'x = globals()\\nprint(x)', '_i70': '# Ingresar valor por teclado\\nentrada = int(input(\"Ingrese un número entero: \"))\\nprint(entrada**2)', '_i71': 'mylist = [True, True, True]\\nx = all(mylist)\\nx', '_71': True, '_i72': 'mylist = [False, True, False]\\nx = any(mylist)\\nx', '_72': True, '_i73': 'x = ascii(\"My name is Ståle\")\\nx', '_73': \"'My name is St\\\\xe5le'\", '_i74': 'x = bin(36)\\nx', '_74': '0b100100', '_i75': 'x = bool(1)\\nx', '_75': True, '_i76': 'x = bytearray(4)\\nx', '_76': bytearray(b'\\x00\\x00\\x00\\x00'), '_i77': 'def x():\\n  a = 5\\n\\nprint(callable(x))', '_i78': 'x = chr(97)', '_i79': \"x = compile('print(55)', 'test', 'eval')\\nexec(x)\", '_i80': 'x = complex(3, 5)\\nx', '_80': (3+5j), '_i81': 'x = dict(name = \"John\", age = 36, country = \"Norway\")\\nx', '_81': {'name': 'John', 'age': 36, 'country': 'Norway'}, '_i82': 'x = divmod(5, 2)\\nx', '_82': (2, 1), '_i83': \"x = ('apple', 'banana', 'cherry')\\ny = enumerate(x)\\ny\", '_83': <enumerate object at 0x0000016B8E0051C0>, '_i84': \"x = 'print(55)'\\neval(x)\", '_i85': 'x = \\'name = \"John\"\\\\nprint(name)\\'\\nexec(x)', '_i86': 'ages = [5, 12, 17, 18, 24, 32]\\n\\ndef myFunc(x):\\n  if x < 18:\\n    return False\\n  else:\\n    return True\\n\\nadults = filter(myFunc, ages)\\n\\nfor x in adults:\\n  print(x)', '_i87': 'x = float(3)\\nx', '_87': 3.0, '_i88': \"x = format(0.5, '%')\\nx\", '_88': '50.000000%', '_i89': \"mylist = ['apple', 'banana', 'cherry']\\nx = frozenset(mylist)\\nx\", '_89': frozenset({'apple', 'cherry', 'banana'}), '_i90': 'class Person:\\n  name = \"John\"\\n  age = 36\\n  country = \"Norway\"\\n\\nx = getattr(Person, \\'age\\')\\nx', '_90': 36, '_i91': 'x = globals()\\nprint(x)'}\n"
     ]
    }
   ],
   "source": [
    "x = globals()\n",
    "print(x)"
   ]
  },
  {
   "cell_type": "markdown",
   "metadata": {},
   "source": [
    "### Ejercicio 1:\n",
    "\n",
    "\n",
    "Ejecute las siguientes 3 celdas e infiera lo que hace la función round incorporada con uno o dos argumentos."
   ]
  },
  {
   "cell_type": "code",
   "execution_count": 92,
   "metadata": {},
   "outputs": [
    {
     "data": {
      "text/plain": [
       "-5"
      ]
     },
     "execution_count": 92,
     "metadata": {},
     "output_type": "execute_result"
    }
   ],
   "source": [
    "round( -4.78 )"
   ]
  },
  {
   "cell_type": "code",
   "execution_count": 93,
   "metadata": {},
   "outputs": [
    {
     "data": {
      "text/plain": [
       "-3.1415"
      ]
     },
     "execution_count": 93,
     "metadata": {},
     "output_type": "execute_result"
    }
   ],
   "source": [
    "round( -3.141516297, 4 )"
   ]
  },
  {
   "cell_type": "code",
   "execution_count": 41,
   "metadata": {},
   "outputs": [
    {
     "data": {
      "text/plain": [
       "-3.14152"
      ]
     },
     "execution_count": 41,
     "metadata": {},
     "output_type": "execute_result"
    }
   ],
   "source": [
    "round( -3.141516297, 5 )"
   ]
  },
  {
   "cell_type": "markdown",
   "metadata": {},
   "source": [
    "\n"
   ]
  },
  {
   "cell_type": "markdown",
   "metadata": {},
   "source": [
    "### Ejercicio 2:\n",
    "\n",
    "\n",
    "Desde la pagina de las funciones integradas [built-in](https://docs.python.org/3/library/functions.html), consulte la forma de usar la función `min()` y `max()`.\n",
    "\n",
    "- Cree una lista con los valores 42, 17 y 68.\n",
    "- Usando la función `min()`, imprima el valor minimo.\n",
    "- Usando la función `max()`, imprima el valor maximo.\n",
    "- Validar si hay una función que calcule la suma."
   ]
  },
  {
   "cell_type": "code",
   "execution_count": 195,
   "metadata": {},
   "outputs": [
    {
     "name": "stdout",
     "output_type": "stream",
     "text": [
      "El mínimo es 17\n",
      "El máximo es 68\n",
      "La suma es 127\n"
     ]
    }
   ],
   "source": [
    "# Su código\n",
    "lista = [42, 17, 68]\n",
    "print(\"El mínimo es\", min(lista)) # Imprime el valor mínimo \n",
    "print(\"El máximo es\", max(lista)) # Imprime el valor máximo\n",
    "print(\"La suma es\", sum(lista)) # Imprime la suma de la lista"
   ]
  },
  {
   "cell_type": "markdown",
   "metadata": {
    "colab_type": "text",
    "id": "8EcYyyUg5sje"
   },
   "source": [
    "## Ayuda \n",
    "\n",
    "Python cuenta con `help()` y `?` que nos devuelve una descripción de la función que queremos conocer."
   ]
  },
  {
   "cell_type": "code",
   "execution_count": 198,
   "metadata": {},
   "outputs": [],
   "source": [
    "# help(range)"
   ]
  },
  {
   "cell_type": "code",
   "execution_count": 197,
   "metadata": {},
   "outputs": [],
   "source": [
    "?range"
   ]
  },
  {
   "cell_type": "code",
   "execution_count": 210,
   "metadata": {},
   "outputs": [
    {
     "name": "stdout",
     "output_type": "stream",
     "text": [
      "range(1, 200, 5)\n"
     ]
    }
   ],
   "source": [
    "x = range(1,200,5)\n",
    "print(x)"
   ]
  },
  {
   "cell_type": "markdown",
   "metadata": {},
   "source": [
    "### Ejercicio 3:\n",
    "\n",
    "Cree una variable llamada rango y asígnele range(1, 100, 5), luego imprima la variable convirtiendola primero a lista, cual es el resultado?"
   ]
  },
  {
   "cell_type": "code",
   "execution_count": 1,
   "metadata": {},
   "outputs": [
    {
     "name": "stdout",
     "output_type": "stream",
     "text": [
      "[1, 6, 11, 16, 21, 26, 31, 36, 41, 46, 51, 56, 61, 66, 71, 76, 81, 86, 91, 96]\n"
     ]
    }
   ],
   "source": [
    "# Su código\n",
    "rango = range(1,100,5)\n",
    "rango = list(rango)\n",
    "print(rango)"
   ]
  },
  {
   "cell_type": "markdown",
   "metadata": {},
   "source": [
    "## Manejo de Strings\n",
    "\n",
    "**IMPORTANTE:** Strings pueden ser definidos con doble comilla (\"...\") or comilla simple ('...'), las dos sintaxis hacen exactamente lo mismo!"
   ]
  },
  {
   "cell_type": "code",
   "execution_count": 2,
   "metadata": {},
   "outputs": [
    {
     "data": {
      "text/plain": [
       "True"
      ]
     },
     "execution_count": 2,
     "metadata": {},
     "output_type": "execute_result"
    }
   ],
   "source": [
    "'Juan' == \"Juan\""
   ]
  },
  {
   "cell_type": "code",
   "execution_count": 3,
   "metadata": {},
   "outputs": [
    {
     "data": {
      "text/plain": [
       "True"
      ]
     },
     "execution_count": 3,
     "metadata": {},
     "output_type": "execute_result"
    }
   ],
   "source": [
    "'Juan said: \"Yeah\"' == \"Juan said: \\\"Yeah\\\"\""
   ]
  },
  {
   "cell_type": "code",
   "execution_count": 4,
   "metadata": {},
   "outputs": [
    {
     "data": {
      "text/plain": [
       "True"
      ]
     },
     "execution_count": 4,
     "metadata": {},
     "output_type": "execute_result"
    }
   ],
   "source": [
    "\"Juan's sisters\" == 'Juan\\'s sisters' "
   ]
  },
  {
   "cell_type": "code",
   "execution_count": 5,
   "metadata": {},
   "outputs": [
    {
     "data": {
      "text/plain": [
       "'I feel 😄'"
      ]
     },
     "execution_count": 5,
     "metadata": {},
     "output_type": "execute_result"
    }
   ],
   "source": [
    "'I feel \\U0001F604'"
   ]
  },
  {
   "cell_type": "markdown",
   "metadata": {},
   "source": [
    "### Interpolación de Cadenas\n",
    "\n",
    "El camino más facil para insertar dinamicamente variable en cadenas es a través de la interpolación de cadenas usando:\n",
    "\n",
    "la sintaxis f\"....{var1}... {var2}\"."
   ]
  },
  {
   "cell_type": "code",
   "execution_count": 19,
   "metadata": {},
   "outputs": [],
   "source": [
    "juans_height = 1.60854384\n",
    "num_siblings = 2 "
   ]
  },
  {
   "cell_type": "markdown",
   "metadata": {},
   "source": [
    "También se puede especificar la precisión con la sintaxis \"...{var:.#f}...\", donde # es el número de digitos decimales."
   ]
  },
  {
   "cell_type": "code",
   "execution_count": 20,
   "metadata": {},
   "outputs": [
    {
     "data": {
      "text/plain": [
       "'Juan is 1.6085 meters tall'"
      ]
     },
     "execution_count": 20,
     "metadata": {},
     "output_type": "execute_result"
    }
   ],
   "source": [
    "f\"Juan is {juans_height:.4f} meters tall\""
   ]
  },
  {
   "cell_type": "markdown",
   "metadata": {},
   "source": [
    "Expresiones Full incluyendo llamado a funciones:"
   ]
  },
  {
   "cell_type": "markdown",
   "metadata": {},
   "source": [
    "Una sintaxis ligeramente más nueva y que mejor utiliza el método de formato en cadenas:"
   ]
  },
  {
   "cell_type": "code",
   "execution_count": 21,
   "metadata": {},
   "outputs": [
    {
     "data": {
      "text/plain": [
       "'Juan is 1.60854384 meters tall and has 2 brothers and sisters'"
      ]
     },
     "execution_count": 21,
     "metadata": {},
     "output_type": "execute_result"
    }
   ],
   "source": [
    "\"Juan is {jh} meters tall and has {ns} brothers and sisters\".format(jh= juans_height, ns=num_siblings  )"
   ]
  },
  {
   "cell_type": "markdown",
   "metadata": {},
   "source": [
    "La siguiente es también una solución común simple, aunque no la más eficiente."
   ]
  },
  {
   "cell_type": "code",
   "execution_count": 22,
   "metadata": {},
   "outputs": [
    {
     "data": {
      "text/plain": [
       "'Juan is 1.60854384 meters tall and has 2 brothers and sisters'"
      ]
     },
     "execution_count": 22,
     "metadata": {},
     "output_type": "execute_result"
    }
   ],
   "source": [
    "\"Juan is \" + str(juans_height) + \" meters tall and has \" + str(num_siblings) + \" brothers and sisters\" "
   ]
  },
  {
   "cell_type": "markdown",
   "metadata": {},
   "source": [
    "Como en C/Java, etc., una cadena puede también contener códigos especiales como salto de linea ('\\n') y tabulación ('\\t')."
   ]
  },
  {
   "cell_type": "code",
   "execution_count": 23,
   "metadata": {},
   "outputs": [
    {
     "name": "stdout",
     "output_type": "stream",
     "text": [
      "Juan is 1.60854384 meters tall\n",
      "\tand has 2 brothers\n",
      "and sisters\n"
     ]
    }
   ],
   "source": [
    "a_str = f\"Juan is {juans_height} meters tall\\n\\tand has {num_siblings} brothers\\nand sisters\"\n",
    "print( a_str )"
   ]
  },
  {
   "cell_type": "markdown",
   "metadata": {},
   "source": [
    "### Indexación de Cadenas\n",
    "\n",
    "Las cadenas de Python son cadenas de caracteres, y cada carácter reside en un índice a partir de $0$ (para el primer carácter) y terminando en longitud de cadena $-1$ (para el último carácter).\n",
    "\n",
    "|G|r|u|p|o|\n",
    "|-|-|-|-|-|\n",
    "|0|1|2|3|4|\n",
    "|-|-|-|-|-|\n",
    "|-5|-4|-3|-2|-1|"
   ]
  },
  {
   "cell_type": "code",
   "execution_count": 33,
   "metadata": {},
   "outputs": [],
   "source": [
    "cadena = \"Luan's height m\""
   ]
  },
  {
   "cell_type": "code",
   "execution_count": 37,
   "metadata": {},
   "outputs": [
    {
     "name": "stdout",
     "output_type": "stream",
     "text": [
      "Primer caracter:  L\n",
      "Ultimo caracter:  L\n"
     ]
    }
   ],
   "source": [
    "print(\"Primer caracter: \",cadena[0])\n",
    "print(\"Ultimo caracter: \",cadena[-15])"
   ]
  },
  {
   "cell_type": "code",
   "execution_count": 59,
   "metadata": {},
   "outputs": [
    {
     "name": "stdout",
     "output_type": "stream",
     "text": [
      "<class 'str'>\n"
     ]
    }
   ],
   "source": [
    "print(type(cadena[0]))"
   ]
  },
  {
   "cell_type": "code",
   "execution_count": 38,
   "metadata": {},
   "outputs": [
    {
     "ename": "TypeError",
     "evalue": "'str' object does not support item assignment",
     "output_type": "error",
     "traceback": [
      "\u001b[1;31m---------------------------------------------------------------------------\u001b[0m",
      "\u001b[1;31mTypeError\u001b[0m                                 Traceback (most recent call last)",
      "\u001b[1;32m<ipython-input-38-00a3dd25daf6>\u001b[0m in \u001b[0;36m<module>\u001b[1;34m\u001b[0m\n\u001b[1;32m----> 1\u001b[1;33m \u001b[0mcadena\u001b[0m\u001b[1;33m[\u001b[0m\u001b[1;36m1\u001b[0m\u001b[1;33m]\u001b[0m \u001b[1;33m=\u001b[0m \u001b[1;34m'o'\u001b[0m\u001b[1;33m\u001b[0m\u001b[1;33m\u001b[0m\u001b[0m\n\u001b[0m",
      "\u001b[1;31mTypeError\u001b[0m: 'str' object does not support item assignment"
     ]
    }
   ],
   "source": [
    "cadena[1] = 'o'"
   ]
  },
  {
   "cell_type": "code",
   "execution_count": null,
   "metadata": {},
   "outputs": [],
   "source": [
    "f(objeto) #funciones\n",
    "objeto.f() # métodos"
   ]
  },
  {
   "cell_type": "code",
   "execution_count": 41,
   "metadata": {},
   "outputs": [
    {
     "data": {
      "text/plain": [
       "\"Loan's height m\""
      ]
     },
     "execution_count": 41,
     "metadata": {},
     "output_type": "execute_result"
    }
   ],
   "source": [
    "str.replace(cadena,'u','o')"
   ]
  },
  {
   "cell_type": "code",
   "execution_count": 42,
   "metadata": {},
   "outputs": [
    {
     "data": {
      "text/plain": [
       "\"Luan's height m\""
      ]
     },
     "execution_count": 42,
     "metadata": {},
     "output_type": "execute_result"
    }
   ],
   "source": [
    "cadena"
   ]
  },
  {
   "cell_type": "code",
   "execution_count": 47,
   "metadata": {},
   "outputs": [
    {
     "data": {
      "text/plain": [
       "'Hola, mundo'"
      ]
     },
     "execution_count": 47,
     "metadata": {},
     "output_type": "execute_result"
    }
   ],
   "source": [
    "cadena = 'Hola, mundo'\n",
    "cadena"
   ]
  },
  {
   "cell_type": "code",
   "execution_count": 49,
   "metadata": {},
   "outputs": [
    {
     "name": "stdout",
     "output_type": "stream",
     "text": [
      "Hula, mundu\n"
     ]
    }
   ],
   "source": [
    "cadena = cadena.replace('o','u')\n",
    "print(cadena)"
   ]
  },
  {
   "cell_type": "code",
   "execution_count": 51,
   "metadata": {},
   "outputs": [
    {
     "data": {
      "text/plain": [
       "11"
      ]
     },
     "execution_count": 51,
     "metadata": {},
     "output_type": "execute_result"
    }
   ],
   "source": [
    "len(cadena)"
   ]
  },
  {
   "cell_type": "code",
   "execution_count": 65,
   "metadata": {},
   "outputs": [
    {
     "data": {
      "text/plain": [
       "True"
      ]
     },
     "execution_count": 65,
     "metadata": {},
     "output_type": "execute_result"
    }
   ],
   "source": [
    "'a' in cadena"
   ]
  },
  {
   "cell_type": "markdown",
   "metadata": {},
   "source": [
    "### Cortar (Slicing) Cadenas\n",
    "\n",
    "**Slicing** en Python es un camino poderoso para extraer sub-partes de una cadena, listas y tuplas.\n",
    "\n",
    "```\n",
    "str[start:end]\n",
    "````\n",
    "**start**: sub-cadena inicia desde este elemento\n",
    "\n",
    "**end**: fin sub-cadena, excluye el elemento en este index.\n",
    "\n",
    "|G|r|u|p|o|\n",
    "|-|-|-|-|-|\n",
    "|0|1|2|3|4|\n",
    "\n",
    "```python\n",
    "cadena = \"Grupo\"\n",
    "print(cadena[0:2])\n",
    "```\n",
    "|G|r|\n",
    "|-|-|\n",
    "|0|1|\n"
   ]
  },
  {
   "cell_type": "code",
   "execution_count": 52,
   "metadata": {},
   "outputs": [
    {
     "name": "stdout",
     "output_type": "stream",
     "text": [
      "Gr\n"
     ]
    }
   ],
   "source": [
    "cadena = \"Grupo\"\n",
    "print(cadena[0:2])"
   ]
  },
  {
   "cell_type": "code",
   "execution_count": 54,
   "metadata": {},
   "outputs": [
    {
     "name": "stdout",
     "output_type": "stream",
     "text": [
      "Grup\n"
     ]
    }
   ],
   "source": [
    "# Sub-cadena desde la posicion inicial, 4 caracteres.\n",
    "print(cadena[0:4])"
   ]
  },
  {
   "cell_type": "code",
   "execution_count": 55,
   "metadata": {},
   "outputs": [
    {
     "name": "stdout",
     "output_type": "stream",
     "text": [
      "Grup\n"
     ]
    }
   ],
   "source": [
    "# Exactamente igual al anterior, solo que el 0 es el índice inicial implícito)\n",
    "print(cadena[:4])"
   ]
  },
  {
   "cell_type": "code",
   "execution_count": 69,
   "metadata": {},
   "outputs": [
    {
     "name": "stdout",
     "output_type": "stream",
     "text": [
      "o\n"
     ]
    }
   ],
   "source": [
    "# Sub-cadena desde el cuarto caracter hasta el final\n",
    "print(cadena[4:])"
   ]
  },
  {
   "cell_type": "code",
   "execution_count": 56,
   "metadata": {},
   "outputs": [
    {
     "name": "stdout",
     "output_type": "stream",
     "text": [
      "rup\n"
     ]
    }
   ],
   "source": [
    "# Sub-cadena desde el caracter en la posicion 1 hasta el caracter en la posicion 4\n",
    "print(cadena[1:4])"
   ]
  },
  {
   "cell_type": "code",
   "execution_count": 57,
   "metadata": {},
   "outputs": [
    {
     "name": "stdout",
     "output_type": "stream",
     "text": [
      "upo\n"
     ]
    }
   ],
   "source": [
    "# Sub-cadena con indices negativos, el -1 es el índice final implícito.\n",
    "print(cadena[-3:])"
   ]
  },
  {
   "cell_type": "code",
   "execution_count": 72,
   "metadata": {},
   "outputs": [
    {
     "name": "stdout",
     "output_type": "stream",
     "text": [
      "rup\n"
     ]
    }
   ],
   "source": [
    "# Sub-cadena con indices negativos\n",
    "print(cadena[-4:-1])"
   ]
  },
  {
   "cell_type": "markdown",
   "metadata": {},
   "source": [
    "### Ejercicio 4:\n",
    "\n",
    "Dada una cadena de longitud impar mayor a 7, replique el siguiente resultado: una cadena formada por los tres caracteres centrales de una cadena determinada. Por ejemplo \n",
    "```\n",
    "str1 = \"JhonDipPeta\"\n",
    "```\n",
    "genera como resultado\n",
    "```\n",
    "Dip\n",
    "```\n",
    "mientras que \n",
    "```\n",
    "str2 = \"JaSonAy\"\n",
    "```\n",
    "genera como resultado\n",
    "```\n",
    "Son\n",
    "```\n",
    "Imprima el resultado para la palabra ```EstoEsUnEjemplo```"
   ]
  },
  {
   "cell_type": "code",
   "execution_count": 62,
   "metadata": {
    "scrolled": true
   },
   "outputs": [
    {
     "name": "stdout",
     "output_type": "stream",
     "text": [
      "Cadena original: EstoEsUnEjemplo\n",
      "Tres caracteres centrales: UnE\n"
     ]
    }
   ],
   "source": [
    "string = 'EstoEsUnEjemplo'\n",
    "mitad = int(len(string)/2)\n",
    "print(\"Cadena original:\", string)\n",
    "tres_centrales = string[mitad-1:mitad+2]\n",
    "print(\"Tres caracteres centrales:\", tres_centrales)"
   ]
  },
  {
   "cell_type": "markdown",
   "metadata": {},
   "source": [
    "### Ejercicio 5:\n",
    "\n",
    "Dadas 2 cadenas, s1 y s2, cree una nueva cadena agregando s2 en medio de s1. Así, por ejemplo \n",
    "```\n",
    "s1 = \"Ault\"\n",
    "s2 = \"Kelly\"\n",
    "```\n",
    "Deberá dar como resultado \n",
    "```\n",
    "AuKellylt\n",
    "```\n",
    "Obtenga el resultado para las candenas\n",
    "```\n",
    "s1 = \"Quen\"\n",
    "s2 = \"eBi\"\n",
    "```\n"
   ]
  },
  {
   "cell_type": "code",
   "execution_count": 63,
   "metadata": {},
   "outputs": [
    {
     "name": "stdout",
     "output_type": "stream",
     "text": [
      "Secuencia original: Quen eBi\n",
      "Secuencia pedida: QueBien\n"
     ]
    }
   ],
   "source": [
    "s1 = \"Quen\"\n",
    "s2 = \"eBi\"\n",
    "middleIndex = int(len(s1)/2)\n",
    "print(\"Secuencia original:\", s1, s2)\n",
    "middleThree = s1[:middleIndex]+ s2 +s1[middleIndex:]\n",
    "print(\"Secuencia pedida:\", middleThree)"
   ]
  },
  {
   "cell_type": "markdown",
   "metadata": {},
   "source": [
    "\n",
    "Tomaremos como excusa la presentación de operaciones básicas desde la perspectiva del álgebra lineal. Es decir, ya tenemos entendido el procedimiento para trabajar con escalaros, introduciremos ahora las nociones de vector y matriz. De esta manera, introducremos una noción fundamental en ```Python```, los paquetes. "
   ]
  },
  {
   "cell_type": "markdown",
   "metadata": {},
   "source": [
    "## Introducción a operaciones entre objetos en Python\n",
    "\n",
    "Una de las herramientas matemáticas más utilizadas en [machine learning](http://es.wikipedia.org/wiki/Machine_learning) y [data mining](http://es.wikipedia.org/wiki/Miner%C3%ADa_de_datos) es el [Álgebra lineal](http://es.wikipedia.org/wiki/%C3%81lgebra_lineal); por tanto, si se quiere incursionar en dicho universo de aprendizaje automático y el análisis de datos, estos conceptos serán fundamentales.\n",
    "\n",
    "El [Álgebra lineal](http://es.wikipedia.org/wiki/%C3%81lgebra_lineal) es una rama de las [matemáticas](http://es.wikipedia.org/wiki/Matem%C3%A1ticas) que es sumamente utilizada en el estudio de una gran variedad de ciencias, como ser, ingeniería, finanzas, investigación operativa, entre otras. Es una extensión del [álgebra](http://es.wikipedia.org/wiki/%C3%81lgebra) que se aprenden a nivel colegio, hacia un mayor número de dimensiones; en lugar de trabajar con incógnitas a nivel de <a href=\"http://es.wikipedia.org/wiki/Escalar_(matem%C3%A1tica)\">escalares</a> se trabaja con <a href=\"http://es.wikipedia.org/wiki/Matriz_(matem%C3%A1ticas)\">matrices</a> y [vectores](http://es.wikipedia.org/wiki/Vector).  \n",
    "\n",
    "El estudio del [Álgebra lineal](http://es.wikipedia.org/wiki/%C3%81lgebra_lineal) implica trabajar con varios objetos matemáticos, como ser:\n",
    "\n",
    "* **Los <a href=\"http://es.wikipedia.org/wiki/Escalar_(matem%C3%A1tica)\">Escalares</a>**: Un *escalar* es un solo número, en contraste con la mayoría de los otros objetos estudiados en [Álgebra lineal](http://es.wikipedia.org/wiki/%C3%81lgebra_lineal), que son generalmente una colección de múltiples números.\n",
    "\n",
    "* **Los [Vectores](http://es.wikipedia.org/wiki/Vector)**:Un *vector* es una serie de números. Los números tienen una orden preestablecido, y se pueden identificar cada número individual por su índice en ese orden. Se puede entender en los  *vectores* como la identificación de puntos en el espacio, con cada elemento que da la coordenada a lo largo de un eje diferente. Existen dos tipos de *vectores*, los *vectores de fila* y los *vectores de columna*. Podemos representarlos de la siguiente manera, dónde *f* es un vector de fila y *c* es un vector de columna:\n",
    "$$f=\\begin{bmatrix}0&1&-1\\end{bmatrix} ;       c=\\begin{bmatrix}0\\\\1\\\\-1\\end{bmatrix}$$\n",
    "\n",
    "* **Las <a href=\"http://es.wikipedia.org/wiki/Matriz_(matem%C3%A1ticas)\">Matrices</a>**: Una *matriz* es un arreglo bidimensional de números (llamados entradas de la matriz) ordenados en filas (o renglones) y columnas, donde una fila es cada una de las líneas horizontales de la matriz y una columna es cada una de las líneas verticales. En una *matriz* cada elemento puede ser identificado utilizando dos índices, uno para la fila y otro para la columna en que se encuentra. Se pueden representar de la siguiente manera, *A* es una matriz de 3x2.\n",
    "$$A=\\begin{bmatrix}0 & 1& \\\\-1 & 2 \\\\ -2 & 3\\end{bmatrix}$$\n",
    "\n",
    "* **Los [Tensores](http://es.wikipedia.org/wiki/C%C3%A1lculo_tensorial)**:En algunos casos necesitaremos una matriz con más de dos ejes. En general, una serie de números dispuestos en una cuadrícula regular con un número variable de ejes es conocido como un *tensor*.\n",
    "\n",
    "Sobre estos objetos podemos realizar las operaciones matemáticas básicas, como ser [adición](http://es.wikipedia.org/wiki/Adici%C3%B3n), [multiplicación](http://es.wikipedia.org/wiki/Multiplicaci%C3%B3n), [sustracción](http://es.wikipedia.org/wiki/Sustracci%C3%B3n) y <a href=\"http://es.wikipedia.org/wiki/Divisi%C3%B3n_(matem%C3%A1tica)\" >división</a>, es decir que vamos a poder sumar [vectores](http://es.wikipedia.org/wiki/Vector) con <a href=\"http://es.wikipedia.org/wiki/Matriz_(matem%C3%A1ticas)\">matrices</a>, multiplicar <a href=\"http://es.wikipedia.org/wiki/Escalar_(matem%C3%A1tica)\">escalares</a> a [vectores](http://es.wikipedia.org/wiki/Vector) y demás."
   ]
  },
  {
   "cell_type": "markdown",
   "metadata": {
    "collapsed": true
   },
   "source": [
    "## Librerías de Python para álgebra lineal\n",
    "\n",
    "Los principales paquetes que [Python](http://python.org/) ofrece para realizar operaciones de [Álgebra lineal](http://es.wikipedia.org/wiki/%C3%81lgebra_lineal) son los siguientes:\n",
    "\n",
    "* **[Numpy](http://www.numpy.org/)**: El popular paquete matemático de [Python](http://python.org/), va a permitir crear *[vectores](http://es.wikipedia.org/wiki/Vector)*, *<a href=\"http://es.wikipedia.org/wiki/Matriz_(matem%C3%A1ticas)\">matrices</a>* y *[tensores](http://es.wikipedia.org/wiki/C%C3%A1lculo_tensorial)* con suma facilidad.\n",
    "\n",
    "* **[numpy.linalg](http://docs.scipy.org/doc/numpy/reference/routines.linalg.html)**: Este es un submodulo dentro de [Numpy](http://www.numpy.org/) con un gran número de funciones para resolver ecuaciones de [Álgebra lineal](http://es.wikipedia.org/wiki/%C3%81lgebra_lineal).\n",
    "\n",
    "* **[scipy.linalg](http://docs.scipy.org/doc/scipy/reference/tutorial/linalg.html)**: Este submodulo del paquete científico [Scipy](http://docs.scipy.org/doc/scipy/reference/index.html) es muy similar al anterior, pero con algunas más funciones y optimaciones.\n",
    "\n",
    "* **[Sympy](http://www.sympy.org/es/)**: Esta librería nos permite trabajar con matemática simbólica, convierte a [Python](http://python.org/) en un [sistema algebraico computacional](http://es.wikipedia.org/wiki/Sistema_algebraico_computacional). Nos va a permitir trabajar con ecuaciones y fórmulas simbólicamente, en lugar de numéricamente.\n",
    "\n",
    "* **[CVXOPT](http://cvxopt.org/)**: Este módulo nos permite resolver problemas de optimizaciones de [programación lineal](http://es.wikipedia.org/wiki/Programaci%C3%B3n_lineal). \n",
    "\n",
    "* **[PuLP](http://pythonhosted.org//PuLP/)**: Esta librería nos permite crear modelos de [programación lineal](http://es.wikipedia.org/wiki/Programaci%C3%B3n_lineal) en forma muy sencilla con [Python](http://python.org/)."
   ]
  },
  {
   "cell_type": "markdown",
   "metadata": {},
   "source": [
    "## Operaciones básicas"
   ]
  },
  {
   "cell_type": "markdown",
   "metadata": {
    "collapsed": true
   },
   "source": [
    "### Vectores\n",
    "\n",
    "Un *[vector](http://es.wikipedia.org/wiki/Vector)* de largo `n` es una secuencia (o *array*, o *tupla*) de `n` números. Se suele escribir como $x=(x_1,...,x_n)$ o $x=[x_1,...,x_n]$\n",
    "\n",
    "En [Python](http://python.org/), un *[vector](http://es.wikipedia.org/wiki/Vector)* puede ser representado con una simple *lista*, o con un *array* de [Numpy](http://www.numpy.org/); siendo preferible utilizar esta última opción."
   ]
  },
  {
   "cell_type": "code",
   "execution_count": 68,
   "metadata": {},
   "outputs": [
    {
     "name": "stdout",
     "output_type": "stream",
     "text": [
      "la suma de los vectores es  [2, 4, 6, 1, 3, 5]\n"
     ]
    }
   ],
   "source": [
    "# Vector como lista de Python\n",
    "v1 = [2, 4, 6]\n",
    "v1\n",
    "v2 = [1,3,5]\n",
    "print(\"la suma de los vectores es \", v1+v2)"
   ]
  },
  {
   "cell_type": "code",
   "execution_count": 6,
   "metadata": {},
   "outputs": [
    {
     "data": {
      "text/plain": [
       "array([1., 1., 1.])"
      ]
     },
     "execution_count": 6,
     "metadata": {},
     "output_type": "execute_result"
    }
   ],
   "source": [
    "# Vectores con numpy\n",
    "import numpy as np\n",
    "\n",
    "v2 = np.ones(3) # vector de solo unos.\n",
    "v2"
   ]
  },
  {
   "cell_type": "code",
   "execution_count": 7,
   "metadata": {
    "scrolled": true
   },
   "outputs": [
    {
     "data": {
      "text/plain": [
       "array([1, 3, 5])"
      ]
     },
     "execution_count": 7,
     "metadata": {},
     "output_type": "execute_result"
    }
   ],
   "source": [
    "v3 = np.array([1, 3, 5]) # pasando una lista a las arrays de numpy\n",
    "v3"
   ]
  },
  {
   "cell_type": "code",
   "execution_count": 11,
   "metadata": {
    "scrolled": false
   },
   "outputs": [
    {
     "data": {
      "text/plain": [
       "array([1, 2, 3, 4, 5, 6, 7])"
      ]
     },
     "execution_count": 11,
     "metadata": {},
     "output_type": "execute_result"
    }
   ],
   "source": [
    "v4 = np.arange(1, 8) # utilizando la funcion arange de numpy\n",
    "v4"
   ]
  },
  {
   "cell_type": "markdown",
   "metadata": {},
   "source": [
    "### Representación gráfica\n",
    "\n",
    "Tradicionalmente, los *[vectores](http://es.wikipedia.org/wiki/Vector)* son representados visualmente como flechas que parten desde el origen hacia un punto.\n",
    "\n",
    "Por ejemplo, si quisiéramos representar graficamente a los vectores $v_1=[2, 4], v_2=[-3, 3]$ y $v_3=[-4, -3.5]$, podríamos hacerlo de la siguiente manera."
   ]
  },
  {
   "cell_type": "code",
   "execution_count": 12,
   "metadata": {},
   "outputs": [],
   "source": [
    "import matplotlib.pyplot as plt\n",
    "from warnings import filterwarnings\n",
    "\n",
    "%matplotlib inline\n",
    "filterwarnings('ignore') # Ignorar warnings"
   ]
  },
  {
   "cell_type": "code",
   "execution_count": 13,
   "metadata": {},
   "outputs": [],
   "source": [
    "def move_spines():\n",
    "    \"\"\"Crea la figura de pyplot y los ejes. Mueve las lineas de la izquierda y de abajo\n",
    "    para que se intersecten con el origen. Elimina las lineas de la derecha y la de arriba.\n",
    "    Devuelve los ejes.\"\"\"\n",
    "    fix, ax = plt.subplots()\n",
    "    for spine in [\"left\", \"bottom\"]:\n",
    "        ax.spines[spine].set_position(\"zero\")\n",
    "    \n",
    "    for spine in [\"right\", \"top\"]:\n",
    "        ax.spines[spine].set_color(\"none\")\n",
    "    \n",
    "    return ax\n",
    "\n",
    "def vect_fig(): \n",
    "    \"\"\"Genera el grafico de los vectores en el plano\"\"\"\n",
    "    ax = move_spines()\n",
    "    \n",
    "    ax.set_xlim(-5, 5)\n",
    "    ax.set_ylim(-5, 5)\n",
    "    ax.grid()\n",
    "    vecs = [[2, 4], [-3, 3], [-4, -3.5]] # lista de vectores\n",
    "    for v in vecs:\n",
    "        ax.annotate(\" \", xy=v, xytext=[0, 0],\n",
    "                   arrowprops=dict(facecolor=\"blue\",\n",
    "                                  shrink=0,\n",
    "                                  alpha=0.7,\n",
    "                                  width=0.5))\n",
    "        ax.text(1.1 * v[0], 1.1 * v[1], v)"
   ]
  },
  {
   "cell_type": "code",
   "execution_count": 14,
   "metadata": {
    "scrolled": true
   },
   "outputs": [
    {
     "data": {
      "image/png": "[encoded data removed]",
      "text/plain": [
       "<Figure size 432x288 with 1 Axes>"
      ]
     },
     "metadata": {
      "needs_background": "light"
     },
     "output_type": "display_data"
    }
   ],
   "source": [
    "vect_fig() # crea el gráfico"
   ]
  },
  {
   "cell_type": "markdown",
   "metadata": {},
   "source": [
    "### Operaciones con vectores\n",
    "\n",
    "Las operaciones más comunes que utilizamos cuando trabajamos con *[vectores](http://es.wikipedia.org/wiki/Vector)* son la *suma*, la *resta* y la *multiplicación por <a href=\"http://es.wikipedia.org/wiki/Escalar_(matem%C3%A1tica)\">escalares</a>*.\n",
    "\n",
    "Cuando *sumamos* dos *[vectores](http://es.wikipedia.org/wiki/Vector)*, vamos sumando elemento por elemento de cada\n",
    "*[vector](http://es.wikipedia.org/wiki/Vector)*.\n",
    "\n",
    "$$ \\begin{split}x + y\n",
    "=\n",
    "\\left[\n",
    "\\begin{array}{c}\n",
    "    x_1 \\\\\n",
    "    x_2 \\\\\n",
    "    \\vdots \\\\\n",
    "    x_n\n",
    "\\end{array}\n",
    "\\right]\n",
    "+\n",
    "\\left[\n",
    "\\begin{array}{c}\n",
    "     y_1 \\\\\n",
    "     y_2 \\\\\n",
    "    \\vdots \\\\\n",
    "     y_n\n",
    "\\end{array}\n",
    "\\right]\n",
    ":=\n",
    "\\left[\n",
    "\\begin{array}{c}\n",
    "    x_1 + y_1 \\\\\n",
    "    x_2 + y_2 \\\\\n",
    "    \\vdots \\\\\n",
    "    x_n + y_n\n",
    "\\end{array}\n",
    "\\right]\\end{split}$$\n",
    "\n",
    "De forma similar funciona la operación de resta.\n",
    "\n",
    "$$ \\begin{split}x - y\n",
    "=\n",
    "\\left[\n",
    "\\begin{array}{c}\n",
    "    x_1 \\\\\n",
    "    x_2 \\\\\n",
    "    \\vdots \\\\\n",
    "    x_n\n",
    "\\end{array}\n",
    "\\right]\n",
    "-\n",
    "\\left[\n",
    "\\begin{array}{c}\n",
    "     y_1 \\\\\n",
    "     y_2 \\\\\n",
    "    \\vdots \\\\\n",
    "     y_n\n",
    "\\end{array}\n",
    "\\right]\n",
    ":=\n",
    "\\left[\n",
    "\\begin{array}{c}\n",
    "    x_1 - y_1 \\\\\n",
    "    x_2 - y_2 \\\\\n",
    "    \\vdots \\\\\n",
    "    x_n - y_n\n",
    "\\end{array}\n",
    "\\right]\\end{split}$$\n",
    "\n",
    "La *multiplicación por <a href=\"http://es.wikipedia.org/wiki/Escalar_(matem%C3%A1tica)\">escalares</a>* es una operación que toma a un número $\\gamma$, y a un *[vector](http://es.wikipedia.org/wiki/Vector)* $x$ y produce un nuevo *[vector](http://es.wikipedia.org/wiki/Vector)* donde cada elemento del vector $x$ es multiplicado por el número $\\gamma$.\n",
    "\n",
    "$$\\begin{split}\\gamma x\n",
    ":=\n",
    "\\left[\n",
    "\\begin{array}{c}\n",
    "    \\gamma x_1 \\\\\n",
    "    \\gamma x_2 \\\\\n",
    "    \\vdots \\\\\n",
    "    \\gamma x_n\n",
    "\\end{array}\n",
    "\\right]\\end{split}$$\n",
    "\n",
    "En [Python](http://python.org/) podríamos realizar estas operaciones en forma muy sencilla:"
   ]
  },
  {
   "cell_type": "code",
   "execution_count": 12,
   "metadata": {},
   "outputs": [
    {
     "data": {
      "text/plain": [
       "(array([1, 2, 3, 4]), array([2, 4, 6, 8]))"
      ]
     },
     "execution_count": 12,
     "metadata": {},
     "output_type": "execute_result"
    }
   ],
   "source": [
    "# Ejemplo en Python\n",
    "x = np.arange(1, 5)\n",
    "y = np.array([2, 4, 6, 8])\n",
    "x, y"
   ]
  },
  {
   "cell_type": "code",
   "execution_count": 13,
   "metadata": {},
   "outputs": [
    {
     "data": {
      "text/plain": [
       "array([ 3,  6,  9, 12])"
      ]
     },
     "execution_count": 13,
     "metadata": {},
     "output_type": "execute_result"
    }
   ],
   "source": [
    "# sumando dos vectores numpy\n",
    "x + y"
   ]
  },
  {
   "cell_type": "code",
   "execution_count": 14,
   "metadata": {},
   "outputs": [
    {
     "data": {
      "text/plain": [
       "array([-1, -2, -3, -4])"
      ]
     },
     "execution_count": 14,
     "metadata": {},
     "output_type": "execute_result"
    }
   ],
   "source": [
    "# restando dos vectores\n",
    "x - y"
   ]
  },
  {
   "cell_type": "code",
   "execution_count": 15,
   "metadata": {},
   "outputs": [
    {
     "data": {
      "text/plain": [
       "array([2, 4, 6, 8])"
      ]
     },
     "execution_count": 15,
     "metadata": {},
     "output_type": "execute_result"
    }
   ],
   "source": [
    "# multiplicando por un escalar\n",
    "2*x"
   ]
  },
  {
   "cell_type": "code",
   "execution_count": 12,
   "metadata": {},
   "outputs": [
    {
     "data": {
      "text/plain": [
       "array([ 6, 12, 18, 24])"
      ]
     },
     "execution_count": 12,
     "metadata": {},
     "output_type": "execute_result"
    }
   ],
   "source": [
    "y * 3"
   ]
  },
  {
   "cell_type": "markdown",
   "metadata": {},
   "source": [
    "#### Producto escalar o interior\n",
    "\n",
    "El [producto escalar](https://es.wikipedia.org/wiki/Producto_escalar) de dos *[vectores](http://es.wikipedia.org/wiki/Vector)* se define como la suma de los productos de sus elementos, suele representarse matemáticamente como $<x, y>$ o $x^{\\top}y$, donde $x$ e $y$ son dos vectores.\n",
    "\n",
    "$$< x, y > := \\sum_{i=1}^n x_i y_i$$\n",
    "\n",
    "Dos *[vectores](http://es.wikipedia.org/wiki/Vector)* son <a href=\"https://es.wikipedia.org/wiki/Ortogonalidad_(matem%C3%A1ticas)\">ortogonales</a> o perpendiculares cuando forman ángulo recto entre sí. Si el producto escalar de dos vectores es cero, ambos vectores son <a href=\"https://es.wikipedia.org/wiki/Ortogonalidad_(matem%C3%A1ticas)\">ortogonales</a>.\n",
    "\n",
    "Adicionalmente, todo [producto escalar](https://es.wikipedia.org/wiki/Producto_escalar) induce una [norma](https://es.wikipedia.org/wiki/Norma_vectorial) sobre el espacio en el que está definido, de la siguiente manera:\n",
    "\n",
    "$$\\| x \\| := \\sqrt{< x, x>} := \\left( \\sum_{i=1}^n x_i^2 \\right)^{1/2}$$\n",
    "\n",
    "En [Python](http://python.org/) lo podemos calcular de la siguiente forma:"
   ]
  },
  {
   "cell_type": "code",
   "execution_count": 16,
   "metadata": {},
   "outputs": [
    {
     "data": {
      "text/plain": [
       "60"
      ]
     },
     "execution_count": 16,
     "metadata": {},
     "output_type": "execute_result"
    }
   ],
   "source": [
    "# Calculando el producto escalar de los vectores x e y\n",
    "np.dot(x, y)"
   ]
  },
  {
   "cell_type": "code",
   "execution_count": 17,
   "metadata": {},
   "outputs": [
    {
     "data": {
      "text/plain": [
       "60"
      ]
     },
     "execution_count": 17,
     "metadata": {},
     "output_type": "execute_result"
    }
   ],
   "source": [
    "# o lo que es lo mismo, que:\n",
    "sum(x*y)"
   ]
  },
  {
   "cell_type": "code",
   "execution_count": 19,
   "metadata": {},
   "outputs": [
    {
     "data": {
      "text/plain": [
       "5.477225575051661"
      ]
     },
     "execution_count": 19,
     "metadata": {},
     "output_type": "execute_result"
    }
   ],
   "source": [
    "# Calculando la norma del vector X\n",
    "np.linalg.norm(x)"
   ]
  },
  {
   "cell_type": "code",
   "execution_count": 16,
   "metadata": {},
   "outputs": [
    {
     "data": {
      "text/plain": [
       "5.4772255750516612"
      ]
     },
     "execution_count": 16,
     "metadata": {},
     "output_type": "execute_result"
    }
   ],
   "source": [
    "# otra forma de calcular la norma de x\n",
    "np.sqrt(np.dot(x, x))"
   ]
  },
  {
   "cell_type": "code",
   "execution_count": 20,
   "metadata": {
    "scrolled": true
   },
   "outputs": [
    {
     "data": {
      "text/plain": [
       "0"
      ]
     },
     "execution_count": 20,
     "metadata": {},
     "output_type": "execute_result"
    }
   ],
   "source": [
    "# vectores ortogonales\n",
    "v1 = np.array([3, 4])\n",
    "v2 = np.array([4, -3])\n",
    "\n",
    "np.dot(v1, v2)"
   ]
  },
  {
   "cell_type": "markdown",
   "metadata": {},
   "source": [
    "### Matrices\n",
    "\n",
    "Las <a href=\"http://es.wikipedia.org/wiki/Matriz_(matem%C3%A1ticas)\">matrices</a> son una forma clara y sencilla de organizar los datos para su uso en operaciones lineales.\n",
    "\n",
    "Una <a href=\"http://es.wikipedia.org/wiki/Matriz_(matem%C3%A1ticas)\">matriz</a> `n × k` es una agrupación rectangular de números con n filas y k columnas; se representa de la siguiente forma:\n",
    "\n",
    "$$\\begin{split}A =\n",
    "\\left[\n",
    "\\begin{array}{cccc}\n",
    "    a_{11} & a_{12} & \\cdots & a_{1k} \\\\\n",
    "    a_{21} & a_{22} & \\cdots & a_{2k} \\\\\n",
    "    \\vdots & \\vdots &  & \\vdots \\\\\n",
    "    a_{n1} & a_{n2} & \\cdots & a_{nk}\n",
    "\\end{array}\n",
    "\\right]\\end{split}$$\n",
    "\n",
    "En la <a href=\"http://es.wikipedia.org/wiki/Matriz_(matem%C3%A1ticas)\">matriz</a> A, el símbolo $a_{nk}$ representa el elemento  n-ésimo de la fila en la k-ésima columna. La <a href=\"http://es.wikipedia.org/wiki/Matriz_(matem%C3%A1ticas)\">matriz</a> A también puede ser llamada un *[vector](http://es.wikipedia.org/wiki/Vector)* si cualquiera de n o k son iguales a 1. En el caso de n=1, A se llama un *[vector](http://es.wikipedia.org/wiki/Vector) fila*, mientras que en el caso de k=1 se denomina un *[vector](http://es.wikipedia.org/wiki/Vector) columna*.\n",
    "\n",
    "Las <a href=\"http://es.wikipedia.org/wiki/Matriz_(matem%C3%A1ticas)\">matrices</a> se utilizan para múltiples aplicaciones y sirven, en particular, para representar los coeficientes de los sistemas de ecuaciones lineales o para representar transformaciones lineales dada una base. Pueden sumarse, multiplicarse y descomponerse de varias formas."
   ]
  },
  {
   "cell_type": "markdown",
   "metadata": {},
   "source": [
    "### Operaciones con matrices\n",
    "\n",
    "Al igual que con los *[vectores](http://es.wikipedia.org/wiki/Vector)*, que no son más que un caso particular, las <a href=\"http://es.wikipedia.org/wiki/Matriz_(matem%C3%A1ticas)\">matrices</a> se pueden *sumar*, *restar* y la *multiplicar por <a href=\"http://es.wikipedia.org/wiki/Escalar_(matem%C3%A1tica)\">escalares</a>*.\n",
    "\n",
    "Multiplicacion por escalares:\n",
    "$$\\begin{split}\\gamma A = \n",
    "\\left[\n",
    "\\begin{array}{ccc}\n",
    "    a_{11} &  \\cdots & a_{1k} \\\\\n",
    "    \\vdots & \\vdots  & \\vdots \\\\\n",
    "    a_{n1} &  \\cdots & a_{nk} \\\\\n",
    "\\end{array}\n",
    "\\right]\n",
    ":=\n",
    "\\left[\n",
    "\\begin{array}{ccc}\n",
    "    \\gamma a_{11} & \\cdots & \\gamma a_{1k} \\\\\n",
    "    \\vdots & \\vdots & \\vdots \\\\\n",
    "    \\gamma a_{n1} & \\cdots & \\gamma a_{nk} \\\\\n",
    "\\end{array}\n",
    "\\right]\\end{split}$$\n",
    "\n",
    "Suma de matrices: $$\\begin{split}A + B =\n",
    "\\left[\n",
    "\\begin{array}{ccc}\n",
    "    a_{11} & \\cdots & a_{1k} \\\\\n",
    "    \\vdots & \\vdots & \\vdots \\\\\n",
    "    a_{n1} & \\cdots & a_{nk} \\\\\n",
    "\\end{array}\n",
    "\\right]\n",
    "+\n",
    "\\left[\n",
    "\\begin{array}{ccc}\n",
    "    b_{11} & \\cdots & b_{1k} \\\\\n",
    "    \\vdots & \\vdots & \\vdots \\\\\n",
    "    b_{n1} & \\cdots & b_{nk} \\\\\n",
    "\\end{array}\n",
    "\\right]\n",
    ":=\n",
    "\\left[\n",
    "\\begin{array}{ccc}\n",
    "    a_{11} + b_{11} &  \\cdots & a_{1k} + b_{1k} \\\\\n",
    "    \\vdots & \\vdots & \\vdots \\\\\n",
    "    a_{n1} + b_{n1} &  \\cdots & a_{nk} + b_{nk} \\\\\n",
    "\\end{array}\n",
    "\\right]\\end{split}$$\n",
    "\n",
    "Resta de matrices: $$\\begin{split}A - B =\n",
    "\\left[\n",
    "\\begin{array}{ccc}\n",
    "    a_{11} & \\cdots & a_{1k} \\\\\n",
    "    \\vdots & \\vdots & \\vdots \\\\\n",
    "    a_{n1} & \\cdots & a_{nk} \\\\\n",
    "\\end{array}\n",
    "\\right]-\n",
    "\\left[\n",
    "\\begin{array}{ccc}\n",
    "    b_{11} & \\cdots & b_{1k} \\\\\n",
    "    \\vdots & \\vdots & \\vdots \\\\\n",
    "    b_{n1} & \\cdots & b_{nk} \\\\\n",
    "\\end{array}\n",
    "\\right]\n",
    ":=\n",
    "\\left[\n",
    "\\begin{array}{ccc}\n",
    "    a_{11} - b_{11} &  \\cdots & a_{1k} - b_{1k} \\\\\n",
    "    \\vdots & \\vdots & \\vdots \\\\\n",
    "    a_{n1} - b_{n1} &  \\cdots & a_{nk} - b_{nk} \\\\\n",
    "\\end{array}\n",
    "\\right]\\end{split}$$\n",
    "\n",
    "Para los casos de suma y resta, hay que tener en cuenta que solo se pueden sumar o restar <a href=\"http://es.wikipedia.org/wiki/Matriz_(matem%C3%A1ticas)\">matrices</a> que tengan las mismas dimensiones, es decir que si tengo una <a href=\"http://es.wikipedia.org/wiki/Matriz_(matem%C3%A1ticas)\">matriz</a> A de dimensión 3x2 (3 filas y 2 columnas) solo voy a poder sumar o restar la <a href=\"http://es.wikipedia.org/wiki/Matriz_(matem%C3%A1ticas)\">matriz</a> B si esta también tiene 3 filas y 2 columnas."
   ]
  },
  {
   "cell_type": "code",
   "execution_count": 23,
   "metadata": {},
   "outputs": [
    {
     "name": "stdout",
     "output_type": "stream",
     "text": [
      "A= [[1 3 2]\n",
      " [1 0 0]\n",
      " [1 2 2]]\n",
      "B= [[1 0 5]\n",
      " [7 5 0]\n",
      " [2 1 1]]\n"
     ]
    }
   ],
   "source": [
    "# Ejemplo en Python\n",
    "A = np.array([[1, 3, 2],\n",
    "              [1, 0, 0],\n",
    "              [1, 2, 2]])\n",
    "print(\"A=\", A)\n",
    "B = np.array([[1, 0, 5],\n",
    "              [7, 5, 0],\n",
    "              [2, 1, 1]])\n",
    "print(\"B=\", B)"
   ]
  },
  {
   "cell_type": "code",
   "execution_count": 24,
   "metadata": {},
   "outputs": [
    {
     "data": {
      "text/plain": [
       "array([[2, 3, 7],\n",
       "       [8, 5, 0],\n",
       "       [3, 3, 3]])"
      ]
     },
     "execution_count": 24,
     "metadata": {},
     "output_type": "execute_result"
    }
   ],
   "source": [
    "# suma de las matrices A y B\n",
    "A + B"
   ]
  },
  {
   "cell_type": "code",
   "execution_count": 25,
   "metadata": {},
   "outputs": [
    {
     "data": {
      "text/plain": [
       "array([[ 0,  3, -3],\n",
       "       [-6, -5,  0],\n",
       "       [-1,  1,  1]])"
      ]
     },
     "execution_count": 25,
     "metadata": {},
     "output_type": "execute_result"
    }
   ],
   "source": [
    "# resta de matrices\n",
    "A - B"
   ]
  },
  {
   "cell_type": "code",
   "execution_count": 26,
   "metadata": {},
   "outputs": [
    {
     "data": {
      "text/plain": [
       "array([[2, 6, 4],\n",
       "       [2, 0, 0],\n",
       "       [2, 4, 4]])"
      ]
     },
     "execution_count": 26,
     "metadata": {},
     "output_type": "execute_result"
    }
   ],
   "source": [
    "# multiplicando matrices por escalares\n",
    "2*A"
   ]
  },
  {
   "cell_type": "code",
   "execution_count": 27,
   "metadata": {},
   "outputs": [
    {
     "data": {
      "text/plain": [
       "array([[ 3,  0, 15],\n",
       "       [21, 15,  0],\n",
       "       [ 6,  3,  3]])"
      ]
     },
     "execution_count": 27,
     "metadata": {},
     "output_type": "execute_result"
    }
   ],
   "source": [
    "B * 3"
   ]
  },
  {
   "cell_type": "code",
   "execution_count": 30,
   "metadata": {},
   "outputs": [
    {
     "data": {
      "text/plain": [
       "(3, 3)"
      ]
     },
     "execution_count": 30,
     "metadata": {},
     "output_type": "execute_result"
    }
   ],
   "source": [
    "# ver la dimension de una matriz\n",
    "A.shape"
   ]
  },
  {
   "cell_type": "code",
   "execution_count": 31,
   "metadata": {},
   "outputs": [
    {
     "data": {
      "text/plain": [
       "9"
      ]
     },
     "execution_count": 31,
     "metadata": {},
     "output_type": "execute_result"
    }
   ],
   "source": [
    "# ver cantidad de elementos de una matriz\n",
    "A.size"
   ]
  },
  {
   "cell_type": "markdown",
   "metadata": {},
   "source": [
    "#### Multiplicacion o Producto de matrices\n",
    "\n",
    "La regla para la [multiplicación de matrices](https://es.wikipedia.org/wiki/Multiplicaci%C3%B3n_de_matrices) generaliza la idea del [producto interior](https://es.wikipedia.org/wiki/Producto_escalar) que vimos con los [vectores](http://es.wikipedia.org/wiki/Vector); y esta diseñada para facilitar las operaciones lineales básicas.\n",
    "Cuando [multiplicamos matrices](https://es.wikipedia.org/wiki/Multiplicaci%C3%B3n_de_matrices), el número de columnas de la primera <a href=\"http://es.wikipedia.org/wiki/Matriz_(matem%C3%A1ticas)\">matriz</a> debe ser igual al número de filas de la segunda <a href=\"http://es.wikipedia.org/wiki/Matriz_(matem%C3%A1ticas)\">matriz</a>; y el resultado de esta multiplicación va a tener el mismo número de filas que la primer <a href=\"http://es.wikipedia.org/wiki/Matriz_(matem%C3%A1ticas)\">matriz</a> y el número de la columnas de la segunda <a href=\"http://es.wikipedia.org/wiki/Matriz_(matem%C3%A1ticas)\">matriz</a>. Es decir, que si yo tengo una <a href=\"http://es.wikipedia.org/wiki/Matriz_(matem%C3%A1ticas)\">matriz</a> A de dimensión 3x4 y la multiplico por una <a href=\"http://es.wikipedia.org/wiki/Matriz_(matem%C3%A1ticas)\">matriz</a> B de dimensión 4x2, el resultado va a ser una <a href=\"http://es.wikipedia.org/wiki/Matriz_(matem%C3%A1ticas)\">matriz</a> C de dimensión 3x2.\n",
    "\n",
    "Algo a tener en cuenta a la hora de [multiplicar matrices](https://es.wikipedia.org/wiki/Multiplicaci%C3%B3n_de_matrices) es que la propiedad [connmutativa](https://es.wikipedia.org/wiki/Conmutatividad) no se cumple. AxB no es lo mismo que BxA.\n",
    "\n",
    "Veamos los ejemplos en [Python](http://python.org/)."
   ]
  },
  {
   "cell_type": "code",
   "execution_count": 33,
   "metadata": {},
   "outputs": [
    {
     "data": {
      "text/plain": [
       "array([[ 1,  2,  3,  4],\n",
       "       [ 5,  6,  7,  8],\n",
       "       [ 9, 10, 11, 12]])"
      ]
     },
     "execution_count": 33,
     "metadata": {},
     "output_type": "execute_result"
    }
   ],
   "source": [
    "# Ejemplo multiplicación de matrices\n",
    "A = np.arange(1, 13).reshape(3, 4) #matriz de dimension 3x4\n",
    "A"
   ]
  },
  {
   "cell_type": "code",
   "execution_count": 34,
   "metadata": {},
   "outputs": [
    {
     "data": {
      "text/plain": [
       "array([[0, 1],\n",
       "       [2, 3],\n",
       "       [4, 5],\n",
       "       [6, 7]])"
      ]
     },
     "execution_count": 34,
     "metadata": {},
     "output_type": "execute_result"
    }
   ],
   "source": [
    "B = np.arange(8).reshape(4,2) #matriz de dimension 4x2\n",
    "B"
   ]
  },
  {
   "cell_type": "code",
   "execution_count": 35,
   "metadata": {},
   "outputs": [
    {
     "data": {
      "text/plain": [
       "array([[ 40,  50],\n",
       "       [ 88, 114],\n",
       "       [136, 178]])"
      ]
     },
     "execution_count": 35,
     "metadata": {},
     "output_type": "execute_result"
    }
   ],
   "source": [
    "# Multiplicando A x B\n",
    "A.dot(B) #resulta en una matriz de dimension 3x2"
   ]
  },
  {
   "cell_type": "code",
   "execution_count": 37,
   "metadata": {},
   "outputs": [
    {
     "ename": "ValueError",
     "evalue": "shapes (4,2) and (3,4) not aligned: 2 (dim 1) != 3 (dim 0)",
     "output_type": "error",
     "traceback": [
      "\u001b[1;31m---------------------------------------------------------------------------\u001b[0m",
      "\u001b[1;31mValueError\u001b[0m                                Traceback (most recent call last)",
      "\u001b[1;32m<ipython-input-37-e090576efd4d>\u001b[0m in \u001b[0;36m<module>\u001b[1;34m\u001b[0m\n\u001b[0;32m      1\u001b[0m \u001b[1;31m# Multiplicando B x A\u001b[0m\u001b[1;33m\u001b[0m\u001b[1;33m\u001b[0m\u001b[1;33m\u001b[0m\u001b[0m\n\u001b[1;32m----> 2\u001b[1;33m \u001b[0mB\u001b[0m\u001b[1;33m.\u001b[0m\u001b[0mdot\u001b[0m\u001b[1;33m(\u001b[0m\u001b[0mA\u001b[0m\u001b[1;33m)\u001b[0m\u001b[1;33m\u001b[0m\u001b[1;33m\u001b[0m\u001b[0m\n\u001b[0m",
      "\u001b[1;31mValueError\u001b[0m: shapes (4,2) and (3,4) not aligned: 2 (dim 1) != 3 (dim 0)"
     ]
    }
   ],
   "source": [
    "# Multiplicando B x A\n",
    "B.dot(A)c"
   ]
  },
  {
   "cell_type": "markdown",
   "metadata": {},
   "source": [
    "#### La matriz identidad,  la matriz inversa,  la matrix transpuesta y el determinante\n",
    "\n",
    "La [matriz identidad](https://es.wikipedia.org/wiki/Matriz_identidad) es el elemento neutro en la [multiplicación de matrices](https://es.wikipedia.org/wiki/Multiplicaci%C3%B3n_de_matrices), es el equivalente al número 1. Cualquier matriz multiplicada por la [matriz identidad](https://es.wikipedia.org/wiki/Matriz_identidad) nos da como resultado la misma matriz. La [matriz identidad](https://es.wikipedia.org/wiki/Matriz_identidad) es una [matriz cuadrada](https://es.wikipedia.org/wiki/Matriz_cuadrada) (tiene siempre el mismo número de filas que de columnas); y su diagonal principal se compone de todos elementos 1 y el resto de los elementos se completan con 0. Suele representase con la letra I\n",
    "\n",
    "Por ejemplo la matriz identidad de 3x3 sería la siguiente:\n",
    "\n",
    "$$I=\\begin{bmatrix}1 & 0 & 0 & \\\\0 & 1 & 0\\\\ 0 & 0 & 1\\end{bmatrix}$$\n",
    "\n",
    "Ahora que conocemos el concepto de la [matriz identidad](https://es.wikipedia.org/wiki/Matriz_identidad), podemos llegar al concepto de la [matriz inversa](https://es.wikipedia.org/wiki/Matriz_invertible). Si tenemos una matriz A, la [matriz inversa](https://es.wikipedia.org/wiki/Matriz_invertible) de A, que se representa como $A^{-1}$ es aquella [matriz cuadrada](https://es.wikipedia.org/wiki/Matriz_cuadrada) que hace que la multiplicación $A$x$A^{-1}$ sea igual a la [matriz identidad](https://es.wikipedia.org/wiki/Matriz_identidad) I. Es decir que es la <a href=\"http://es.wikipedia.org/wiki/Matriz_(matem%C3%A1ticas)\">matriz</a> recíproca de A.\n",
    "\n",
    "$$A × A^{-1} = A^{-1} × A = I$$\n",
    "\n",
    "Tener en cuenta que esta [matriz inversa](https://es.wikipedia.org/wiki/Matriz_invertible) en muchos casos puede no existir.En este caso se dice que la matriz es singular o degenerada. Una matriz es singular si y solo si su <a href=\"https://es.wikipedia.org/wiki/Determinante_(matem%C3%A1tica)\">determinante</a> es nulo.\n",
    "\n",
    "El <a href=\"https://es.wikipedia.org/wiki/Determinante_(matem%C3%A1tica)\">determinante</a> es un número especial que puede calcularse sobre las [matrices cuadradas](https://es.wikipedia.org/wiki/Matriz_cuadrada). Se calcula como la suma de los productos de las diagonales de la matriz en una dirección menos la suma de los productos de las diagonales en la otra dirección. Se represente con el símbolo |A|.\n",
    "\n",
    "$$A=\\begin{bmatrix}a_{11} & a_{12} & a_{13} & \\\\a_{21} & a_{22} & a_{23} & \\\\ a_{31} & a_{32} & a_{33} & \\end{bmatrix}$$\n",
    "\n",
    "$$|A| = \n",
    "     (a_{11} a_{22} a_{33} \n",
    "   + a_{12} a_{23} a_{31} \n",
    "   + a_{13} a_{21} a_{32} )\n",
    "   - (a_{31} a_{22} a_{13} \n",
    "   + a_{32} a_{23} a_{11} \n",
    "   + a_{33} a_{21} a_{12})\n",
    " $$\n",
    "\n",
    "Por último, la [matriz transpuesta](http://es.wikipedia.org/wiki/Matriz_transpuesta) es aquella en que las filas se transforman en columnas y las columnas en filas. Se representa con el símbolo $A^\\intercal$\n",
    "\n",
    "$$\\begin{bmatrix}a & b & \\\\c & d & \\\\ e & f & \\end{bmatrix}^T:=\\begin{bmatrix}a & c & e &\\\\b & d & f & \\end{bmatrix}$$"
   ]
  },
  {
   "cell_type": "code",
   "execution_count": 40,
   "metadata": {},
   "outputs": [
    {
     "data": {
      "text/plain": [
       "array([[1., 0.],\n",
       "       [0., 1.]])"
      ]
     },
     "execution_count": 40,
     "metadata": {},
     "output_type": "execute_result"
    }
   ],
   "source": [
    "# Creando una matriz identidad de 2x2\n",
    "I = np.eye(2)\n",
    "I"
   ]
  },
  {
   "cell_type": "code",
   "execution_count": 43,
   "metadata": {},
   "outputs": [
    {
     "data": {
      "text/plain": [
       "array([[4, 7],\n",
       "       [2, 6]])"
      ]
     },
     "execution_count": 43,
     "metadata": {},
     "output_type": "execute_result"
    }
   ],
   "source": [
    "# Multiplicar una matriz por la identidad nos da la misma matriz\n",
    "A = np.array([[4, 7],\n",
    "              [2, 6]])\n",
    "A"
   ]
  },
  {
   "cell_type": "code",
   "execution_count": 44,
   "metadata": {},
   "outputs": [
    {
     "data": {
      "text/plain": [
       "array([[4., 7.],\n",
       "       [2., 6.]])"
      ]
     },
     "execution_count": 44,
     "metadata": {},
     "output_type": "execute_result"
    }
   ],
   "source": [
    "A.dot(I) # AxI = A"
   ]
  },
  {
   "cell_type": "code",
   "execution_count": 45,
   "metadata": {},
   "outputs": [
    {
     "data": {
      "text/plain": [
       "10.000000000000002"
      ]
     },
     "execution_count": 45,
     "metadata": {},
     "output_type": "execute_result"
    }
   ],
   "source": [
    "# Calculando el determinante de la matriz A\n",
    "np.linalg.det(A)"
   ]
  },
  {
   "cell_type": "code",
   "execution_count": 21,
   "metadata": {},
   "outputs": [
    {
     "data": {
      "text/plain": [
       "array([[ 0.6, -0.7],\n",
       "       [-0.2,  0.4]])"
      ]
     },
     "execution_count": 21,
     "metadata": {},
     "output_type": "execute_result"
    }
   ],
   "source": [
    "# Calculando la inversa de A.\n",
    "A_inv = np.linalg.inv(A)\n",
    "A_inv"
   ]
  },
  {
   "cell_type": "code",
   "execution_count": 22,
   "metadata": {},
   "outputs": [
    {
     "data": {
      "text/plain": [
       "array([[ 1.00000000e+00,  0.00000000e+00],\n",
       "       [-2.22044605e-16,  1.00000000e+00]])"
      ]
     },
     "execution_count": 22,
     "metadata": {},
     "output_type": "execute_result"
    }
   ],
   "source": [
    "# A x A_inv nos da como resultado I.\n",
    "A.dot(A_inv)"
   ]
  },
  {
   "cell_type": "code",
   "execution_count": 46,
   "metadata": {},
   "outputs": [
    {
     "data": {
      "text/plain": [
       "array([[0, 1],\n",
       "       [2, 3],\n",
       "       [4, 5]])"
      ]
     },
     "execution_count": 46,
     "metadata": {},
     "output_type": "execute_result"
    }
   ],
   "source": [
    "# Trasponiendo una matriz\n",
    "A = np.arange(6).reshape(3, 2)\n",
    "A"
   ]
  },
  {
   "cell_type": "code",
   "execution_count": 47,
   "metadata": {},
   "outputs": [
    {
     "data": {
      "text/plain": [
       "array([[0, 2, 4],\n",
       "       [1, 3, 5]])"
      ]
     },
     "execution_count": 47,
     "metadata": {},
     "output_type": "execute_result"
    }
   ],
   "source": [
    "np.transpose(A)"
   ]
  },
  {
   "cell_type": "markdown",
   "metadata": {},
   "source": [
    "### Sistemas de ecuaciones lineales\n",
    "\n",
    "Una de las principales aplicaciones del [Álgebra lineal](http://es.wikipedia.org/wiki/%C3%81lgebra_lineal) consiste en resolver problemas de sistemas de ecuaciones lineales.\n",
    "\n",
    "Una [ecuación lineal](https://es.wikipedia.org/wiki/Ecuaci%C3%B3n_de_primer_grado) es una ecuación que solo involucra sumas y restas de una variable o mas variables a la primera potencia. Es la ecuación de la línea recta.Cuando nuestro problema esta representado por más de una [ecuación lineal](https://es.wikipedia.org/wiki/Ecuaci%C3%B3n_de_primer_grado), hablamos de un [sistema de ecuaciones lineales](http://es.wikipedia.org/wiki/Sistema_de_ecuaciones_lineales). Por ejemplo, podríamos tener un sistema de dos ecuaciones con dos incógnitas como el siguiente:\n",
    "\n",
    "$$ x - 2y = 1$$ \n",
    "$$3x + 2y = 11$$\n",
    "\n",
    "La idea es encontrar el valor de $x$ e $y$ que resuelva ambas ecuaciones. Una forma en que podemos hacer esto, puede ser representando graficamente ambas rectas y buscar los puntos en que las rectas se cruzan. \n",
    "\n",
    "En [Python](http://python.org/) esto se puede hacer en forma muy sencilla con la ayuda de [matplotlib](http://matplotlib.org/)."
   ]
  },
  {
   "cell_type": "code",
   "execution_count": 25,
   "metadata": {
    "scrolled": false
   },
   "outputs": [
    {
     "data": {
      "text/plain": [
       "(-0.25, 5.25, 0.0, 5.875)"
      ]
     },
     "execution_count": 25,
     "metadata": {},
     "output_type": "execute_result"
    },
    {
     "data": {
      "image/png": "[encoded data removed]",
      "text/plain": [
       "<Figure size 432x288 with 1 Axes>"
      ]
     },
     "metadata": {
      "needs_background": "light"
     },
     "output_type": "display_data"
    }
   ],
   "source": [
    "# graficando el sistema de ecuaciones.\n",
    "x_vals = np.linspace(0, 5, 50) # crea 50 valores entre 0 y 5\n",
    "plt.plot(x_vals, (1 - x_vals)/-2) # grafica x - 2y = 1\n",
    "plt.plot(x_vals, (11 - (3*x_vals))/2) # grafica 3x + 2y = 11\n",
    "plt.axis(ymin = 0)"
   ]
  },
  {
   "cell_type": "markdown",
   "metadata": {},
   "source": [
    "Luego de haber graficado las funciones, podemos ver que ambas rectas se cruzan en el punto (3, 1), es decir que la solución de nuestro sistema sería $x=3$ e $y=1$. En este caso, al tratarse de un sistema simple y con solo dos incógnitas, la solución gráfica puede ser de utilidad, pero para sistemas más complicados se necesita una solución numérica, es aquí donde entran a jugar las <a href=\"http://es.wikipedia.org/wiki/Matriz_(matem%C3%A1ticas)\">matrices</a>.\n",
    "\n",
    "Ese mismo sistema se podría representar como una ecuación matricial de la siguiente forma:\n",
    "\n",
    "$$\\begin{bmatrix}1 & -2 & \\\\3 & 2 & \\end{bmatrix} \\begin{bmatrix}x & \\\\y & \\end{bmatrix} = \\begin{bmatrix}1 & \\\\11 & \\end{bmatrix}$$\n",
    "\n",
    "Lo que es lo mismo que decir que la <a href=\"http://es.wikipedia.org/wiki/Matriz_(matem%C3%A1ticas)\">matriz</a> A por la <a href=\"http://es.wikipedia.org/wiki/Matriz_(matem%C3%A1ticas)\">matriz</a> $x$ nos da como resultado el [vector](http://es.wikipedia.org/wiki/Vector) b.\n",
    "\n",
    "$$ Ax = b$$\n",
    "\n",
    "En este caso, ya sabemos el resultado de $x$, por lo que podemos comprobar que nuestra solución es correcta realizando la [multiplicación de matrices](https://es.wikipedia.org/wiki/Multiplicaci%C3%B3n_de_matrices)."
   ]
  },
  {
   "cell_type": "code",
   "execution_count": 48,
   "metadata": {},
   "outputs": [
    {
     "data": {
      "text/plain": [
       "array([[ 1.],\n",
       "       [11.]])"
      ]
     },
     "execution_count": 48,
     "metadata": {},
     "output_type": "execute_result"
    }
   ],
   "source": [
    "# Comprobando la solucion con la multiplicación de matrices.\n",
    "A = np.array([[1., -2.],\n",
    "              [3., 2.]])\n",
    "x = np.array([[3.],[1.]])\n",
    "\n",
    "A.dot(x)"
   ]
  },
  {
   "cell_type": "markdown",
   "metadata": {},
   "source": [
    "Para resolver en forma numérica los [sistema de ecuaciones](http://es.wikipedia.org/wiki/Sistema_de_ecuaciones_lineales), existen varios métodos:\n",
    "\n",
    "* **El método de sustitución**: El cual consiste en despejar en una de las ecuaciones cualquier incógnita, preferiblemente la que tenga menor coeficiente y a continuación sustituirla en otra ecuación por su valor.\n",
    "\n",
    "* **El método de igualacion**: El cual se puede entender como un caso particular del método de sustitución en el que se despeja la misma incógnita en dos ecuaciones y a continuación se igualan entre sí la parte derecha de ambas ecuaciones.\n",
    "\n",
    "* **El método de reduccion**: El procedimiento de este método consiste en transformar una de las ecuaciones (generalmente, mediante productos), de manera que obtengamos dos ecuaciones en la que una misma incógnita aparezca con el mismo coeficiente y distinto signo. A continuación, se suman ambas ecuaciones produciéndose así la reducción o cancelación de dicha incógnita, obteniendo una ecuación con una sola incógnita, donde el método de resolución es simple.\n",
    "\n",
    "* **El método gráfico**: Que consiste en construir el gráfica de cada una de las ecuaciones del sistema. Este método (manualmente aplicado) solo resulta eficiente en el plano cartesiano (solo dos incógnitas).\n",
    "\n",
    "* **El método de Gauss**: El método de eliminación de Gauss o simplemente método de Gauss consiste en convertir un sistema lineal de n ecuaciones con n incógnitas, en uno escalonado, en el que la primera ecuación tiene n incógnitas, la segunda ecuación tiene n - 1 incógnitas, ..., hasta la última ecuación, que tiene 1 incógnita. De esta forma, será fácil partir de la última ecuación e ir subiendo para calcular el valor de las demás incógnitas.\n",
    "\n",
    "* **El método de Eliminación de Gauss-Jordan**: El cual es una variante del método anterior, y consistente en triangular la matriz aumentada del sistema mediante transformaciones elementales, hasta obtener ecuaciones de una sola incógnita.\n",
    "\n",
    "* **El método de Cramer**: El cual consiste en aplicar la [regla de Cramer](http://es.wikipedia.org/wiki/Regla_de_Cramer) para resolver el sistema. Este método solo se puede aplicar cuando la matriz de coeficientes del sistema es cuadrada y de determinante no nulo.\n",
    "\n",
    "La idea no es explicar cada uno de estos métodos, sino saber que existen y que [Python](http://python.org/) nos hacer la vida mucho más fácil, ya que para resolver un [sistema de ecuaciones](http://es.wikipedia.org/wiki/Sistema_de_ecuaciones_lineales) simplemente debemos llamar a la función `solve()`.\n",
    "\n",
    "Por ejemplo, para resolver este sistema de 3 ecuaciones y 3 incógnitas.\n",
    "\n",
    "$$ x + 2y + 3z = 6$$\n",
    "$$ 2x + 5y + 2z = 4$$\n",
    "$$ 6x - 3y + z = 2$$\n",
    "\n",
    "Primero armamos la <a href=\"http://es.wikipedia.org/wiki/Matriz_(matem%C3%A1ticas)\">matriz</a> A de coeficientes y la <a href=\"http://es.wikipedia.org/wiki/Matriz_(matem%C3%A1ticas)\">matriz</a> b de resultados y luego utilizamos `solve()` para resolverla."
   ]
  },
  {
   "cell_type": "code",
   "execution_count": 52,
   "metadata": {},
   "outputs": [
    {
     "data": {
      "text/plain": [
       "array([[ 1,  2,  3],\n",
       "       [ 2,  5,  2],\n",
       "       [ 6, -3,  1]])"
      ]
     },
     "execution_count": 52,
     "metadata": {},
     "output_type": "execute_result"
    }
   ],
   "source": [
    "# Creando matriz de coeficientes\n",
    "A = np.array([[1, 2, 3],\n",
    "              [2, 5, 2],\n",
    "              [6, -3, 1]])\n",
    "A"
   ]
  },
  {
   "cell_type": "code",
   "execution_count": 53,
   "metadata": {},
   "outputs": [
    {
     "data": {
      "text/plain": [
       "array([6, 4, 2])"
      ]
     },
     "execution_count": 53,
     "metadata": {},
     "output_type": "execute_result"
    }
   ],
   "source": [
    "# Creando matriz de resultados\n",
    "b = np.array([6, 4, 2])\n",
    "b"
   ]
  },
  {
   "cell_type": "code",
   "execution_count": 54,
   "metadata": {},
   "outputs": [
    {
     "data": {
      "text/plain": [
       "array([0., 0., 2.])"
      ]
     },
     "execution_count": 54,
     "metadata": {},
     "output_type": "execute_result"
    }
   ],
   "source": [
    "# Resolviendo sistema de ecuaciones\n",
    "x = np.linalg.solve(A, b)\n",
    "x"
   ]
  },
  {
   "cell_type": "code",
   "execution_count": 55,
   "metadata": {
    "scrolled": false
   },
   "outputs": [
    {
     "data": {
      "text/plain": [
       "array([ True,  True,  True])"
      ]
     },
     "execution_count": 55,
     "metadata": {},
     "output_type": "execute_result"
    }
   ],
   "source": [
    "# Comprobando la solucion\n",
    "A.dot(x) == b"
   ]
  },
  {
   "cell_type": "code",
   "execution_count": 56,
   "metadata": {},
   "outputs": [
    {
     "data": {
      "text/plain": [
       "array([ True,  True,  True])"
      ]
     },
     "execution_count": 56,
     "metadata": {},
     "output_type": "execute_result"
    }
   ],
   "source": [
    "# Creando matriz de coeficientes\n",
    "A = np.array([[1, 2, 3],\n",
    "              [2, 5, 2],\n",
    "              [6, -3, 1]])\n",
    "A\n",
    "\n",
    "# Creando matriz de resultados\n",
    "b = np.array([6, 4, 2])\n",
    "b\n",
    "\n",
    "# Resolviendo sistema de ecuaciones\n",
    "x = np.linalg.solve(A, b)\n",
    "x\n",
    "\n",
    "# Comprobando la solucion\n",
    "A.dot(x) == b"
   ]
  },
  {
   "cell_type": "code",
   "execution_count": 33,
   "metadata": {},
   "outputs": [
    {
     "name": "stdout",
     "output_type": "stream",
     "text": [
      "[0. 0. 2.]\n"
     ]
    }
   ],
   "source": [
    "#solución\n",
    "print(x)"
   ]
  },
  {
   "cell_type": "markdown",
   "metadata": {},
   "source": [
    "### Ejercicio 7.\n",
    "\n",
    "<img style=\"float: right;\" src=\"baldor.png\" width=\"200\">\n",
    "\n",
    "Determine las soluciones de los siguientes sistemas de ecuaciones. \n",
    "\n",
    "1. \n",
    "$$\n",
    "\\begin{cases}\n",
    "4x-y+5z = 6 \\\\\n",
    "3x+3y-4z = 30 \\\\\n",
    "6x+2y-3z = 33\n",
    "\\end{cases}\n",
    "$$\n",
    "\n",
    "\n",
    "2. \n",
    "\n",
    "$$\n",
    "\\begin{cases}\n",
    "\\frac{x}{3}+\\frac{y}{4}+\\frac{z}{3}=21 \\\\\n",
    "\\frac{x}{5}+\\frac{y}{6}+\\frac{z}{3}=0 \\\\\n",
    "\\frac{x}{10}+\\frac{y}{3}+\\frac{z}{6}=3\n",
    "\\end{cases}\n",
    "$$\n",
    "\n"
   ]
  }
 ],
 "metadata": {
  "colab": {
   "name": "Sesión 1. Introducción.ipynb",
   "provenance": []
  },
  "kernelspec": {
   "display_name": "Python 3 (ipykernel)",
   "language": "python",
   "name": "python3"
  },
  "language_info": {
   "codemirror_mode": {
    "name": "ipython",
    "version": 3
   },
   "file_extension": ".py",
   "mimetype": "text/x-python",
   "name": "python",
   "nbconvert_exporter": "python",
   "pygments_lexer": "ipython3",
   "version": "3.9.7"
  },
  "toc": {
   "base_numbering": 1,
   "nav_menu": {},
   "number_sections": false,
   "sideBar": true,
   "skip_h1_title": false,
   "title_cell": "Table of Contents",
   "title_sidebar": "Contents",
   "toc_cell": false,
   "toc_position": {},
   "toc_section_display": true,
   "toc_window_display": true
  },
  "varInspector": {
   "cols": {
    "lenName": 16,
    "lenType": 16,
    "lenVar": 40
   },
   "kernels_config": {
    "python": {
     "delete_cmd_postfix": "",
     "delete_cmd_prefix": "del ",
     "library": "var_list.py",
     "varRefreshCmd": "print(var_dic_list())"
    },
    "r": {
     "delete_cmd_postfix": ") ",
     "delete_cmd_prefix": "rm(",
     "library": "var_list.r",
     "varRefreshCmd": "cat(var_dic_list()) "
    }
   },
   "types_to_exclude": [
    "module",
    "function",
    "builtin_function_or_method",
    "instance",
    "_Feature"
   ],
   "window_display": false
  }
 },
 "nbformat": 4,
 "nbformat_minor": 4
}
