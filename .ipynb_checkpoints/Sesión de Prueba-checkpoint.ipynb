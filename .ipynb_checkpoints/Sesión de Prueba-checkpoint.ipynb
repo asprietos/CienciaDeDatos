{
 "cells": [
  {
   "cell_type": "markdown",
   "id": "836b1e14",
   "metadata": {
    "ExecuteTime": {
     "end_time": "2022-04-01T23:28:05.879611Z",
     "start_time": "2022-04-01T23:28:05.837592Z"
    }
   },
   "source": [
    "# Título grande\n",
    "## Título mediano\n",
    "### Título pequeño \n",
    "#### Tïtulo más pequeño\n",
    "**Texto en negrilla**\n",
    "\n",
    "~~Texto Rayado~~\n",
    "\n",
    "*Texto itálico*\n",
    "\n",
    "este es un texto de pruebaeste es un texto de pruebaeste es un texto de pruebaeste es un texto de pruebaeste es un texto de pruebaeste es un texto de pruebaeste es un texto de pruebaeste es un texto de pruebaeste es un texto de pruebaeste es un texto de pruebaeste es un texto de pruebaeste es un texto de pruebaeste es un texto de pruebaeste es un texto de pruebaeste es un texto de pruebaeste es un texto de pruebaeste es un texto de pruebaeste es un texto de pruebaeste es un texto de pruebaeste es un texto de pruebaeste es un texto de prueba\n",
    "\n",
    "[link de prueba](https://www.semana.com/)\n",
    "\n",
    "El último teorema de Fermat decía que no existen $x,y,z \\in \\mathbb{R}$ y $n\\in \\mathbb{Z}$ tal que $x^n+y^n= z^n$"
   ]
  },
  {
   "cell_type": "markdown",
   "id": "efe8b536",
   "metadata": {
    "ExecuteTime": {
     "end_time": "2022-04-01T23:41:33.260560Z",
     "start_time": "2022-04-01T23:41:33.251626Z"
    }
   },
   "source": [
    "texto 1"
   ]
  },
  {
   "cell_type": "code",
   "execution_count": null,
   "id": "c451a4ba",
   "metadata": {},
   "outputs": [],
   "source": []
  },
  {
   "cell_type": "markdown",
   "id": "ede96bdb",
   "metadata": {},
   "source": [
    "## Lecturas Recomendadas <a class = \"anchor\" id =\"lectura\"></a>\n",
    "\n",
    "Algunas lecturas y sitios web que pueden resultar de interes durante el curso\n",
    " 1. [5 Reasons Why Learning Python Is the Best Decision](https://medium.com/datadriveninvestor/5-reasons-why-i-learned-python-and-why-you-should-learn-it-as-well-917f781aea05) \n",
    " 2. [Why Learn Python?](https://www.bestprogramminglanguagefor.me/why-learn-python) \n",
    " 3. [What is Python Good for? – 10 Reasons to Learn Python in 2020](https://hackernoon.com/10-reasons-to-learn-python-in-2018-f473dc35e2ee)\n",
    " 4. [Documento Conpes 3920](https://colaboracion.dnp.gov.co/CDT/Conpes/Econ%C3%B3micos/3920.pdf)\n",
    " 5. [Stackoverflow](https://stackoverflow.com/) (Importante)\n",
    " 6. [Kaggle](https://www.kaggle.com/)\n",
    " 7. [Elementos para el manejo de Markdown](https://medium.com/@ingeh/markdown-for-jupyter-notebooks-cheatsheet-386c05aeebed)"
   ]
  },
  {
   "cell_type": "code",
   "execution_count": null,
   "id": "cceb6d61",
   "metadata": {},
   "outputs": [],
   "source": []
  },
  {
   "cell_type": "code",
   "execution_count": null,
   "id": "27109107",
   "metadata": {},
   "outputs": [],
   "source": []
  }
 ],
 "metadata": {
  "kernelspec": {
   "display_name": "Python 3 (ipykernel)",
   "language": "python",
   "name": "python3"
  },
  "language_info": {
   "codemirror_mode": {
    "name": "ipython",
    "version": 3
   },
   "file_extension": ".py",
   "mimetype": "text/x-python",
   "name": "python",
   "nbconvert_exporter": "python",
   "pygments_lexer": "ipython3",
   "version": "3.9.7"
  },
  "toc": {
   "base_numbering": 1,
   "nav_menu": {},
   "number_sections": true,
   "sideBar": true,
   "skip_h1_title": false,
   "title_cell": "Table of Contents",
   "title_sidebar": "Contents",
   "toc_cell": false,
   "toc_position": {},
   "toc_section_display": true,
   "toc_window_display": false
  },
  "varInspector": {
   "cols": {
    "lenName": 16,
    "lenType": 16,
    "lenVar": 40
   },
   "kernels_config": {
    "python": {
     "delete_cmd_postfix": "",
     "delete_cmd_prefix": "del ",
     "library": "var_list.py",
     "varRefreshCmd": "print(var_dic_list())"
    },
    "r": {
     "delete_cmd_postfix": ") ",
     "delete_cmd_prefix": "rm(",
     "library": "var_list.r",
     "varRefreshCmd": "cat(var_dic_list()) "
    }
   },
   "types_to_exclude": [
    "module",
    "function",
    "builtin_function_or_method",
    "instance",
    "_Feature"
   ],
   "window_display": false
  }
 },
 "nbformat": 4,
 "nbformat_minor": 5
}
