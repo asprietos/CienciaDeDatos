{
 "cells": [
  {
   "cell_type": "markdown",
   "metadata": {},
   "source": [
    "# Curso de Python\n",
    "## Diplomado en Ciencia de Datos\n",
    "#### Prof. [Sébastien Lozano Forero](https://www.linkedin.com/in/sebastienlozanoforero/) (slozanof@libertadores.edu.co)"
   ]
  },
  {
   "cell_type": "markdown",
   "metadata": {},
   "source": [
    "## Lecturas Recomendadas <a class = \"anchor\" id =\"lectura\"></a>\n",
    "\n",
    "Algunas lecturas y sitios web que pueden resultar de interes durante el curso\n",
    " 1. [5 Reasons Why Learning Python Is the Best Decision](https://medium.com/datadriveninvestor/5-reasons-why-i-learned-python-and-why-you-should-learn-it-as-well-917f781aea05) \n",
    " 2. [Why Learn Python?](https://www.bestprogramminglanguagefor.me/why-learn-python) \n",
    " 3. [What is Python Good for? – 10 Reasons to Learn Python in 2020](https://hackernoon.com/10-reasons-to-learn-python-in-2018-f473dc35e2ee)\n",
    " 4. [Documento Conpes 3920](https://colaboracion.dnp.gov.co/CDT/Conpes/Econ%C3%B3micos/3920.pdf)\n",
    " 5. [Stackoverflow](https://stackoverflow.com/) (Importante)\n",
    " 6. [Kaggle](https://www.kaggle.com/)\n",
    " 7. [Elementos para el manejo de Markdown](https://medium.com/@ingeh/markdown-for-jupyter-notebooks-cheatsheet-386c05aeebed)"
   ]
  },
  {
   "cell_type": "markdown",
   "metadata": {},
   "source": [
    "# <font color='red'>Fundamentos de Python </font> <a class=\"anchor\" id=\"fundamentos\"></a>\n",
    "\n",
    "\n",
    "#### Python Notebooks\n",
    "\n",
    "Los notebooks de Python proveen un ambiente interactivo para experimentación de código, visualización y publicación de resultados.\n",
    "\n",
    "Las casillas de color gris claro que se encuentran a continuación se denominan celdas y estas pueden contener código (code) o texto formateado (Markdown).\n",
    "\n",
    "* [Flechas arriba / abajo] Mover arriba y abajo de celda a celda.\n",
    "* [Enter] Ingresa una celda para editarla.\n",
    "* [Shift + Enter] Evalúa una celda, muestra el resultado y pasa a la siguiente celda.\n",
    "* [Ctrl + Enter] Evalúa una celda, muestra el resultado y permanece en la celda.\n",
    "* [Alt + Enter] Evalúa una celda, muestra el resultado e inserta una celda abajo.\n",
    "* [D] - [D] Eliminar una celda.\n",
    "* [Z] Deshacer eliminar una celda.\n",
    "* [B] Insertar una celda debajo de la celda actual.\n",
    "* [A] Insertar una celda sobre la celda actual.\n",
    "* [M] Convierte la celda de código en markdown.\n",
    "* [Y] Convierte la celda de Markdown a código.\n",
    "\n",
    "Para más atajos de teclado vaya al menú Ayuda -> Atajos de teclado"
   ]
  },
  {
   "cell_type": "markdown",
   "metadata": {},
   "source": [
    "## Variables en Python \n",
    "\n",
    "**Variable**: Es donde se guarda determinada información (texto, números, booleanas, etc.)\n",
    "\n",
    "Cada variable tiene un nombre para referirse a ella, Python tiene en cuenta si escribimos en mayúsculas o minúsculas la variable (case sensitive).\n",
    "\n",
    "Para definir variables en Python se realiza de la siguiente manera:\n",
    "\n",
    "```python\n",
    "# Asignando un valor\n",
    "variable = valor\n",
    "# Asignando varios valores\n",
    "variable1, variable2 = valor1, valor2\n",
    "```\n",
    "\n",
    "Python al asignar la variable define cual es el tipo de datos más apropiado.  \n",
    "\n",
    "### [Números](https://www.w3schools.com/python/python_numbers.asp) \n",
    "\n",
    "En números hay dos tipos principales, los números enteros (int) y los reales (float).  El separador decimal es el punto.\n",
    "\n",
    "```python\n",
    "entero = 2\n",
    "real = 2.5\n",
    "```\n",
    "\n",
    "### [Texto](https://www.w3schools.com/python/python_strings.asp)\n",
    "\n",
    "Las variables que almacenan texto se denominan strings (str).  Se deben de poner entre commillas sencillas o dobles, si el texto es multilinea con triple comilla.\n",
    "\n",
    "```python\n",
    "cadena = \"Hola\"\n",
    "cadena = 'Hola'\n",
    "multilinea = \"\"\" Hola\n",
    "                Mundo \"\"\"\n",
    "multilinea = ''' Hola\n",
    "                Mundo '''             \n",
    "```\n",
    "\n",
    "### [Listas](https://www.w3schools.com/python/python_lists.asp)\n",
    "\n",
    "Son conjuntos ordenados de elementos (números, texto, listas, etc). Se delimitan por corchetes (`[]`) y los elementos se separan por comas. Las listas son dinamicas, es decir que son mutables.\n",
    "\n",
    "```python\n",
    "listaNumeros = [1,2,3]\n",
    "listaCadenas = ['a','b','c']\n",
    "listaListas = [[1,2],[3,4],[5,6]]\n",
    "listaMixtas = [1,'Grupo',[1,2,3,4]]\n",
    "listaVacia = []\n",
    "```\n",
    "\n",
    "### [Tuplas](https://www.w3schools.com/python/python_tuples.asp)\n",
    "\n",
    "Es un conjunto ordenado e inmutable de elementos del mismo o diferente tipo. Las tuplas se representan escribiendo los elementos entre paréntesis (`()`) y separados por comas. Las tuplas son estaticas, son inmutables, una vez creada no puede ser modificada.\n",
    "\n",
    "```python\n",
    "tuplaNumeros = (1,2,3)\n",
    "tuplaCadenas = ('a','b','c')\n",
    "tuplaListas = ([1,2],[3,4],[5,6])\n",
    "tuplaMixtas = (1,'Grupo',[1,2,3,4])\n",
    "```\n",
    "\n",
    "### [Diccionarios](https://www.w3schools.com/python/python_dictionaries.asp)\n",
    "\n",
    "Permite almacenar cualquier tipo de valor como enteros, cadenas, listas, etc.  Los diccionarios permiten además identificar cada elemento por una clave (key)\n",
    "\n",
    "```python\n",
    "dictNumeros = {'k1':1,'k2':2}\n",
    "dictCadenas = {'k1':'a','k2':'b','k3':'c'}\n",
    "dictListas = {'k1':[1,2],'k2':[3,4],'k3':[5,6]}\n",
    "dictMixto = {'k1':1,'k2':'Grupo','k3':[1,2,3,4]}\n",
    "```\n",
    "\n",
    "### [Booleano](https://www.w3schools.com/python/python_booleans.asp)\n",
    "\n",
    "Una variable booleana es una variable que sólo puede tomar dos posibles valores: Verdadero (True) o Falso (False).\n",
    "\n",
    "```python\n",
    "verdadero = True\n",
    "falso = False\n",
    "```\n",
    "\n",
    "### [None](https://www.w3schools.com/python/python_booleans.asp)\n",
    "\n",
    "Es el tipo de dato que en otros lenguajes se conoce como Nulo (NAN).  En Python es NoneType.\n",
    "\n",
    "```python\n",
    "nulo = None\n",
    "```\n",
    "\n"
   ]
  },
  {
   "cell_type": "markdown",
   "metadata": {},
   "source": [
    "### Imprimir variables\n",
    "\n",
    "El comando `print(variable)` imprime el valor de la variable."
   ]
  },
  {
   "cell_type": "code",
   "execution_count": 24,
   "metadata": {
    "jupyter": {
     "outputs_hidden": false
    },
    "scrolled": true
   },
   "outputs": [
    {
     "data": {
      "text/plain": [
       "'otra cadena más'"
      ]
     },
     "execution_count": 24,
     "metadata": {},
     "output_type": "execute_result"
    }
   ],
   "source": [
    "\"Una cadena\"\n",
    "'otra cadena'\n",
    "'otra cadena más'"
   ]
  },
  {
   "cell_type": "code",
   "execution_count": 25,
   "metadata": {
    "jupyter": {
     "outputs_hidden": false
    }
   },
   "outputs": [
    {
     "name": "stdout",
     "output_type": "stream",
     "text": [
      "Una cadena\n",
      "otra cadena\n",
      "otra cadena más\n"
     ]
    }
   ],
   "source": [
    "print(\"Una cadena\")\n",
    "print('otra cadena')\n",
    "print('otra cadena más')"
   ]
  },
  {
   "cell_type": "markdown",
   "metadata": {},
   "source": [
    "#### Acepta carácteres especiales como las tabulaciones /t o los saltos de línea /n"
   ]
  },
  {
   "cell_type": "code",
   "execution_count": 26,
   "metadata": {
    "jupyter": {
     "outputs_hidden": false
    },
    "scrolled": true
   },
   "outputs": [
    {
     "name": "stdout",
     "output_type": "stream",
     "text": [
      "Un texto \t una tabulación\n"
     ]
    }
   ],
   "source": [
    "print(\"Un texto \\t una tabulación\")"
   ]
  },
  {
   "cell_type": "code",
   "execution_count": 28,
   "metadata": {
    "jupyter": {
     "outputs_hidden": false
    }
   },
   "outputs": [
    {
     "name": "stdout",
     "output_type": "stream",
     "text": [
      "Un texto \n",
      "una nueva línea\n"
     ]
    }
   ],
   "source": [
    "print(\"Un texto \\n una nueva línea\")"
   ]
  },
  {
   "cell_type": "markdown",
   "metadata": {},
   "source": [
    "#### Para evitar los carácteres especiales, debemos indicar que una cadena es cruda (raw)"
   ]
  },
  {
   "cell_type": "code",
   "execution_count": 11,
   "metadata": {
    "jupyter": {
     "outputs_hidden": false
    }
   },
   "outputs": [
    {
     "name": "stdout",
     "output_type": "stream",
     "text": [
      "C:\n",
      "ombre\\directorio\n"
     ]
    }
   ],
   "source": [
    "print(\"C:\\nombre\\directorio\")"
   ]
  },
  {
   "cell_type": "code",
   "execution_count": 2,
   "metadata": {
    "jupyter": {
     "outputs_hidden": false
    }
   },
   "outputs": [
    {
     "name": "stdout",
     "output_type": "stream",
     "text": [
      "C:\\nombre\\directorio\n"
     ]
    }
   ],
   "source": [
    "print(r\"C:\\nombre\\directorio\")  # r => raw (cruda)"
   ]
  },
  {
   "cell_type": "markdown",
   "metadata": {},
   "source": [
    "#### Podemos utilizar \"\"\" *(triple comillas)* para cadenas multilínea"
   ]
  },
  {
   "cell_type": "code",
   "execution_count": 33,
   "metadata": {
    "jupyter": {
     "outputs_hidden": false
    }
   },
   "outputs": [
    {
     "name": "stdout",
     "output_type": "stream",
     "text": [
      "Una línea \n",
      "otra línea\n",
      "otra línea\tuna tabulación\n"
     ]
    }
   ],
   "source": [
    "print(\"\"\"Una línea \n",
    "otra línea\n",
    "otra línea\\tuna tabulación\"\"\")"
   ]
  },
  {
   "cell_type": "markdown",
   "metadata": {},
   "source": [
    "#### También es posible asignar cadenas a variables\n",
    "La forma correcta de mostrarlas es con la instrucción print()."
   ]
  },
  {
   "cell_type": "code",
   "execution_count": 35,
   "metadata": {
    "jupyter": {
     "outputs_hidden": true
    }
   },
   "outputs": [],
   "source": [
    "c = \"Esto es una cadena\\ncon dos líneas\""
   ]
  },
  {
   "cell_type": "code",
   "execution_count": 36,
   "metadata": {
    "jupyter": {
     "outputs_hidden": false
    },
    "scrolled": true
   },
   "outputs": [
    {
     "data": {
      "text/plain": [
       "'Esto es una cadena\\ncon dos líneas'"
      ]
     },
     "execution_count": 36,
     "metadata": {},
     "output_type": "execute_result"
    }
   ],
   "source": [
    "c"
   ]
  },
  {
   "cell_type": "code",
   "execution_count": 37,
   "metadata": {
    "jupyter": {
     "outputs_hidden": false
    }
   },
   "outputs": [
    {
     "name": "stdout",
     "output_type": "stream",
     "text": [
      "Esto es una cadena\n",
      "con dos líneas\n"
     ]
    }
   ],
   "source": [
    "print(c)"
   ]
  },
  {
   "cell_type": "markdown",
   "metadata": {},
   "source": [
    "### Comentarios\n",
    "\n",
    "Los comentarios en linea se define con `#`"
   ]
  },
  {
   "cell_type": "code",
   "execution_count": 42,
   "metadata": {},
   "outputs": [
    {
     "name": "stdout",
     "output_type": "stream",
     "text": [
      "Es un entero:  2\n"
     ]
    }
   ],
   "source": [
    "# Declarando un entero (int)\n",
    "x = 2\n",
    "print(\"Es un entero: \", x)"
   ]
  },
  {
   "cell_type": "code",
   "execution_count": 43,
   "metadata": {
    "scrolled": true
   },
   "outputs": [
    {
     "data": {
      "text/plain": [
       "2"
      ]
     },
     "execution_count": 43,
     "metadata": {},
     "output_type": "execute_result"
    }
   ],
   "source": [
    "x"
   ]
  },
  {
   "cell_type": "code",
   "execution_count": 46,
   "metadata": {},
   "outputs": [
    {
     "name": "stdout",
     "output_type": "stream",
     "text": [
      "Es un real: 2.5\n"
     ]
    }
   ],
   "source": [
    "# Declarando un real (float)\n",
    "y = 2.5\n",
    "print(\"Es un real:\", y)"
   ]
  },
  {
   "cell_type": "code",
   "execution_count": 53,
   "metadata": {},
   "outputs": [
    {
     "name": "stdout",
     "output_type": "stream",
     "text": [
      "Hola Mundo Grupo\n"
     ]
    }
   ],
   "source": [
    "# Declarando un texto\n",
    "mensaje = \"Hola Mundo\"\n",
    "print(mensaje, \"Grupo\")"
   ]
  },
  {
   "cell_type": "code",
   "execution_count": 54,
   "metadata": {},
   "outputs": [
    {
     "name": "stdout",
     "output_type": "stream",
     "text": [
      "Hola \n",
      "                Mundo  Grupo\n",
      "Hola \n",
      "                Mundo  Grupo\n"
     ]
    }
   ],
   "source": [
    "# Multilinea\n",
    "multilinea = \"\"\"Hola \n",
    "                Mundo\"\"\"\n",
    "print(multilinea, \" Grupo\")\n",
    "multilinea = '''Hola \n",
    "                Mundo'''\n",
    "print(multilinea, \" Grupo\")"
   ]
  },
  {
   "cell_type": "code",
   "execution_count": 55,
   "metadata": {},
   "outputs": [
    {
     "data": {
      "text/plain": [
       "'Hola \\n                Mundo'"
      ]
     },
     "execution_count": 55,
     "metadata": {},
     "output_type": "execute_result"
    }
   ],
   "source": [
    "multilinea"
   ]
  },
  {
   "cell_type": "code",
   "execution_count": 56,
   "metadata": {},
   "outputs": [],
   "source": [
    "a = 4\n",
    "b = 5\n",
    "c = 6"
   ]
  },
  {
   "cell_type": "code",
   "execution_count": 58,
   "metadata": {},
   "outputs": [
    {
     "name": "stdout",
     "output_type": "stream",
     "text": [
      "[1, 2, 3]\n",
      "['a', 'b', 'c']\n",
      "[4, 5, 6]\n",
      "[[1, 2], [3, 4], [5, 6]]\n",
      "[1, 'Grupo', [1, 2, 3, 4]]\n",
      "[]\n"
     ]
    }
   ],
   "source": [
    "# Declarando una lista\n",
    "listaNumeros = [1,2,3]\n",
    "print(listaNumeros)\n",
    "listaCadenas = ['a','b','c']\n",
    "listaCadenas2 = [a,b,c]\n",
    "print(listaCadenas)\n",
    "print(listaCadenas2)\n",
    "listaListas = [[1,2],[3,4],[5,6]]\n",
    "print(listaListas)\n",
    "listaMixtas = [1,'Grupo',[1,2,3,4]]\n",
    "print(listaMixtas)\n",
    "listaVacia = []\n",
    "print(listaVacia)"
   ]
  },
  {
   "cell_type": "code",
   "execution_count": 67,
   "metadata": {},
   "outputs": [
    {
     "name": "stdout",
     "output_type": "stream",
     "text": [
      "(1, 2, 3)\n",
      "('a', 'b', 'c')\n",
      "(4, 5, 6)\n",
      "([1, 2], [3, 4], [5, 6])\n",
      "(1, 'Grupo', [1, 2, 3, 4])\n"
     ]
    }
   ],
   "source": [
    "# Declarando una Tupla\n",
    "tuplaNumeros = (1,2,3)\n",
    "print(tuplaNumeros)\n",
    "tuplaCadenas = ('a','b','c')\n",
    "tuplaCadenas2 = (a,b,c)\n",
    "print(tuplaCadenas)\n",
    "print(tuplaCadenas2)\n",
    "tuplaListas = ([1,2],[3,4],[5,6])\n",
    "print(tuplaListas)\n",
    "tuplaMixtas = (1,'Grupo',[1,2,3,4])\n",
    "print(tuplaMixtas)"
   ]
  },
  {
   "cell_type": "code",
   "execution_count": 69,
   "metadata": {
    "scrolled": true
   },
   "outputs": [
    {
     "name": "stdout",
     "output_type": "stream",
     "text": [
      "{'k1': 1, 'k2': 2}\n",
      "{'k1': 'a', 'k2': 'b', 'k3': 'c'}\n",
      "{'k1': [1, 2], 'k2': [3, 4], 'k3': [5, 6]}\n",
      "{'k1': (1, 2), 'k2': (3, 4), 'k3': (5, 6)}\n",
      "{'k1': 1, 'k2': 'Grupo', 'k3': [1, 2, 3, 4], 'k4': (1, 2, 3, 4)}\n"
     ]
    }
   ],
   "source": [
    "# Declarando Diccionarios\n",
    "dictNumeros = {'k1':1,'k2':2}\n",
    "print(dictNumeros)\n",
    "dictCadenas = {'k1':'a','k2':'b','k3':'c'}\n",
    "print(dictCadenas)\n",
    "dictListas = {'k1':[1,2],'k2':[3,4],'k3':[5,6]}\n",
    "print(dictListas)\n",
    "dictTuplas = {'k1':(1,2),'k2':(3,4),'k3':(5,6)}\n",
    "print(dictTuplas)\n",
    "dictMixto = {'k1':1,'k2':'Grupo','k3':[1,2,3,4], 'k4': (1,2,3,4)}\n",
    "print(dictMixto)"
   ]
  },
  {
   "cell_type": "code",
   "execution_count": 70,
   "metadata": {},
   "outputs": [],
   "source": [
    "# Declarando Booleanos\n",
    "verdadero = True\n",
    "falso = False"
   ]
  },
  {
   "cell_type": "code",
   "execution_count": 72,
   "metadata": {},
   "outputs": [
    {
     "name": "stdout",
     "output_type": "stream",
     "text": [
      "True\n"
     ]
    }
   ],
   "source": [
    "print(verdadero)"
   ]
  },
  {
   "cell_type": "code",
   "execution_count": 73,
   "metadata": {},
   "outputs": [],
   "source": [
    "# Declarando Nulos\n",
    "nulo = None"
   ]
  },
  {
   "cell_type": "code",
   "execution_count": 74,
   "metadata": {
    "scrolled": true
   },
   "outputs": [
    {
     "name": "stdout",
     "output_type": "stream",
     "text": [
      "var1 = 9\n",
      "var2 = Sara\n",
      "var3 = [13, 17, 23]\n"
     ]
    }
   ],
   "source": [
    "# Asignaciones Múltiples\n",
    "var1, var2, var3 = (5 + 4),  \"Sara\", [13, 17, 23]\n",
    "print( \"var1 =\", var1 )\n",
    "print( \"var2 =\", var2 )\n",
    "print( \"var3 =\", var3 )"
   ]
  },
  {
   "cell_type": "code",
   "execution_count": 75,
   "metadata": {
    "scrolled": true
   },
   "outputs": [
    {
     "name": "stdout",
     "output_type": "stream",
     "text": [
      "var1 = Sara\n",
      "var2 = 9\n"
     ]
    }
   ],
   "source": [
    "# Cambiar valores entre variables\n",
    "var1, var2 = var2, var1 \n",
    "\n",
    "print( \"var1 =\", var1 )\n",
    "print( \"var2 =\", var2 )"
   ]
  },
  {
   "cell_type": "code",
   "execution_count": 79,
   "metadata": {},
   "outputs": [
    {
     "name": "stdout",
     "output_type": "stream",
     "text": [
      "('Sara', 9, [13, 17, 23])\n"
     ]
    }
   ],
   "source": [
    "# Crear una tupla con variables\n",
    "tupla = var1, var2, var3\n",
    "print(tupla)"
   ]
  },
  {
   "cell_type": "code",
   "execution_count": 80,
   "metadata": {},
   "outputs": [
    {
     "name": "stdout",
     "output_type": "stream",
     "text": [
      "  x1 = Sara    x2 = 9    x3 = [13, 17, 23]\n"
     ]
    }
   ],
   "source": [
    "# Asignar valores de una tupla a variables\n",
    "x1, x2, x3 = tupla \n",
    "print( \"  x1 =\", x1, \"   x2 =\", x2, \"   x3 =\", x3 )"
   ]
  },
  {
   "cell_type": "markdown",
   "metadata": {},
   "source": [
    "## Tipo de Datos\n",
    "\n",
    "Para conocer el tipo de dato de una variable se usa el metodo `type`\n",
    "\n",
    "```python\n",
    "type(x)\n",
    "```"
   ]
  },
  {
   "cell_type": "code",
   "execution_count": 81,
   "metadata": {},
   "outputs": [
    {
     "name": "stdout",
     "output_type": "stream",
     "text": [
      "2\n"
     ]
    },
    {
     "data": {
      "text/plain": [
       "int"
      ]
     },
     "execution_count": 81,
     "metadata": {},
     "output_type": "execute_result"
    }
   ],
   "source": [
    "print(x)\n",
    "type(x)"
   ]
  },
  {
   "cell_type": "code",
   "execution_count": 82,
   "metadata": {},
   "outputs": [
    {
     "name": "stdout",
     "output_type": "stream",
     "text": [
      "2.5\n"
     ]
    },
    {
     "data": {
      "text/plain": [
       "float"
      ]
     },
     "execution_count": 82,
     "metadata": {},
     "output_type": "execute_result"
    }
   ],
   "source": [
    "print(y)\n",
    "type(y)"
   ]
  },
  {
   "cell_type": "code",
   "execution_count": 84,
   "metadata": {},
   "outputs": [
    {
     "data": {
      "text/plain": [
       "str"
      ]
     },
     "execution_count": 84,
     "metadata": {},
     "output_type": "execute_result"
    }
   ],
   "source": [
    "type(mensaje)"
   ]
  },
  {
   "cell_type": "code",
   "execution_count": 19,
   "metadata": {},
   "outputs": [
    {
     "data": {
      "text/plain": [
       "list"
      ]
     },
     "execution_count": 19,
     "metadata": {},
     "output_type": "execute_result"
    }
   ],
   "source": [
    "type(listaNumeros)"
   ]
  },
  {
   "cell_type": "code",
   "execution_count": 20,
   "metadata": {},
   "outputs": [
    {
     "data": {
      "text/plain": [
       "tuple"
      ]
     },
     "execution_count": 20,
     "metadata": {},
     "output_type": "execute_result"
    }
   ],
   "source": [
    "type(tuplaListas)"
   ]
  },
  {
   "cell_type": "code",
   "execution_count": 85,
   "metadata": {},
   "outputs": [
    {
     "data": {
      "text/plain": [
       "dict"
      ]
     },
     "execution_count": 85,
     "metadata": {},
     "output_type": "execute_result"
    }
   ],
   "source": [
    "type(dictCadenas)"
   ]
  },
  {
   "cell_type": "code",
   "execution_count": 87,
   "metadata": {},
   "outputs": [
    {
     "data": {
      "text/plain": [
       "bool"
      ]
     },
     "execution_count": 87,
     "metadata": {},
     "output_type": "execute_result"
    }
   ],
   "source": [
    "type(verdadero)"
   ]
  },
  {
   "cell_type": "code",
   "execution_count": 88,
   "metadata": {
    "scrolled": true
   },
   "outputs": [
    {
     "data": {
      "text/plain": [
       "NoneType"
      ]
     },
     "execution_count": 88,
     "metadata": {},
     "output_type": "execute_result"
    }
   ],
   "source": [
    "type(nulo)"
   ]
  },
  {
   "cell_type": "markdown",
   "metadata": {},
   "source": [
    "## Operadores Relacionales\n",
    "\n",
    "| Símbolo | Función |\n",
    "|----|---|\n",
    "| == | Verdadero (True), si los valores son iguales |\n",
    "| is | Verdadero (True), si son idénticos, i.e. son el **mismo** objeto  |\n",
    "| !=  | Verdadero (True), Si no es igual a  |\n",
    "| < | Menor que |\n",
    "| > | Mayor que |\n",
    "| <=  | Menor o igual que  |\n",
    "| >=  | Mayor o igual que |\n",
    "| in  | Verifica si pertenece a una colección (lista, conjunto, diccionario) |"
   ]
  },
  {
   "cell_type": "code",
   "execution_count": 89,
   "metadata": {},
   "outputs": [
    {
     "data": {
      "text/plain": [
       "2"
      ]
     },
     "execution_count": 89,
     "metadata": {},
     "output_type": "execute_result"
    }
   ],
   "source": [
    "x"
   ]
  },
  {
   "cell_type": "code",
   "execution_count": 90,
   "metadata": {},
   "outputs": [
    {
     "data": {
      "text/plain": [
       "True"
      ]
     },
     "execution_count": 90,
     "metadata": {},
     "output_type": "execute_result"
    }
   ],
   "source": [
    "x == 2"
   ]
  },
  {
   "cell_type": "code",
   "execution_count": 91,
   "metadata": {},
   "outputs": [
    {
     "data": {
      "text/plain": [
       "False"
      ]
     },
     "execution_count": 91,
     "metadata": {},
     "output_type": "execute_result"
    }
   ],
   "source": [
    "x != 2"
   ]
  },
  {
   "cell_type": "code",
   "execution_count": 26,
   "metadata": {},
   "outputs": [
    {
     "data": {
      "text/plain": [
       "True"
      ]
     },
     "execution_count": 26,
     "metadata": {},
     "output_type": "execute_result"
    }
   ],
   "source": [
    "x > 1"
   ]
  },
  {
   "cell_type": "code",
   "execution_count": 92,
   "metadata": {},
   "outputs": [
    {
     "data": {
      "text/plain": [
       "[1, 2, 3]"
      ]
     },
     "execution_count": 92,
     "metadata": {},
     "output_type": "execute_result"
    }
   ],
   "source": [
    "listaNumeros"
   ]
  },
  {
   "cell_type": "code",
   "execution_count": 94,
   "metadata": {},
   "outputs": [
    {
     "data": {
      "text/plain": [
       "True"
      ]
     },
     "execution_count": 94,
     "metadata": {},
     "output_type": "execute_result"
    }
   ],
   "source": [
    "listaNumeros == [1,2,3]"
   ]
  },
  {
   "cell_type": "code",
   "execution_count": 107,
   "metadata": {},
   "outputs": [
    {
     "data": {
      "text/plain": [
       "False"
      ]
     },
     "execution_count": 107,
     "metadata": {},
     "output_type": "execute_result"
    }
   ],
   "source": [
    "listaNumeros is [1,2,3]  "
   ]
  },
  {
   "cell_type": "code",
   "execution_count": 108,
   "metadata": {},
   "outputs": [],
   "source": [
    "objecto = listaNumeros"
   ]
  },
  {
   "cell_type": "code",
   "execution_count": 109,
   "metadata": {},
   "outputs": [
    {
     "data": {
      "text/plain": [
       "True"
      ]
     },
     "execution_count": 109,
     "metadata": {},
     "output_type": "execute_result"
    }
   ],
   "source": [
    "listaNumeros is objecto"
   ]
  },
  {
   "cell_type": "code",
   "execution_count": 32,
   "metadata": {},
   "outputs": [
    {
     "data": {
      "text/plain": [
       "True"
      ]
     },
     "execution_count": 32,
     "metadata": {},
     "output_type": "execute_result"
    }
   ],
   "source": [
    "nulo is None"
   ]
  },
  {
   "cell_type": "markdown",
   "metadata": {},
   "source": [
    "## Conversiones entre tipos\n",
    "\n",
    "Python cuenta con la conversión de tipos de datos (*cast* o *casting*) que especifica explicitamente el tipo de dato.\n",
    "\n",
    "```python\n",
    "int(variable)\n",
    "float(variable)\n",
    "str(variable)\n",
    "bool(variable)\n",
    "list(variable)\n",
    "tuple(variable)\n",
    "dict(variable)\n",
    "```"
   ]
  },
  {
   "cell_type": "code",
   "execution_count": 110,
   "metadata": {},
   "outputs": [
    {
     "data": {
      "text/plain": [
       "['a', 'b', 'c']"
      ]
     },
     "execution_count": 110,
     "metadata": {},
     "output_type": "execute_result"
    }
   ],
   "source": [
    "listaCadenas"
   ]
  },
  {
   "cell_type": "code",
   "execution_count": 33,
   "metadata": {},
   "outputs": [
    {
     "name": "stdout",
     "output_type": "stream",
     "text": [
      "['a', 'b', 'c']\n",
      "<class 'list'>\n",
      "('a', 'b', 'c')\n",
      "<class 'tuple'>\n"
     ]
    }
   ],
   "source": [
    "# Convertir Lista a tupla\n",
    "print(listaCadenas) \n",
    "print(type(listaCadenas))\n",
    "print(tuple(listaCadenas))\n",
    "print(type(tuple(listaCadenas)))"
   ]
  },
  {
   "cell_type": "code",
   "execution_count": 34,
   "metadata": {},
   "outputs": [
    {
     "name": "stdout",
     "output_type": "stream",
     "text": [
      "123\n",
      "<class 'str'>\n",
      "123\n",
      "<class 'int'>\n"
     ]
    }
   ],
   "source": [
    "# Convertir de cadena a entero\n",
    "print('123')\n",
    "print(type('123'))\n",
    "print(int('123'))\n",
    "print(type(int('123')))"
   ]
  },
  {
   "cell_type": "code",
   "execution_count": 114,
   "metadata": {},
   "outputs": [
    {
     "data": {
      "text/plain": [
       "125"
      ]
     },
     "execution_count": 114,
     "metadata": {},
     "output_type": "execute_result"
    }
   ],
   "source": [
    "2+int('123')"
   ]
  },
  {
   "cell_type": "code",
   "execution_count": 111,
   "metadata": {},
   "outputs": [
    {
     "ename": "ValueError",
     "evalue": "could not convert string to float: 'Juan'",
     "output_type": "error",
     "traceback": [
      "\u001b[1;31m---------------------------------------------------------------------------\u001b[0m",
      "\u001b[1;31mValueError\u001b[0m                                Traceback (most recent call last)",
      "\u001b[1;32m<ipython-input-111-ccff7ace794c>\u001b[0m in \u001b[0;36m<module>\u001b[1;34m\u001b[0m\n\u001b[1;32m----> 1\u001b[1;33m \u001b[0mfloat\u001b[0m\u001b[1;33m(\u001b[0m\u001b[1;34m\"Juan\"\u001b[0m\u001b[1;33m)\u001b[0m\u001b[1;33m\u001b[0m\u001b[1;33m\u001b[0m\u001b[0m\n\u001b[0m",
      "\u001b[1;31mValueError\u001b[0m: could not convert string to float: 'Juan'"
     ]
    }
   ],
   "source": [
    "float(\"Juan\")"
   ]
  },
  {
   "cell_type": "markdown",
   "metadata": {},
   "source": [
    "## Funciones Integradas (Built-in Functions)\n",
    "\n",
    "**Funciones:** Una función es un bloque de código con un nombre asociado, que recibe $0$ o más argumentos como entrada, sigue una serie de instrucciones y devuelve un valor o realiza una tarea.\n",
    "\n",
    "Python dispone de una serie de funciones intregradas al lenguaje( [built-in](https://docs.python.org/3/library/functions.html))\n",
    "\n",
    "Un ejemplo de estas funciones son las vistas en los anteriores puntos como las de convertir tipos de datos y la de imprimir."
   ]
  },
  {
   "cell_type": "code",
   "execution_count": 1,
   "metadata": {},
   "outputs": [
    {
     "name": "stdout",
     "output_type": "stream",
     "text": [
      "Ingrese un número entero: 2\n",
      "4\n"
     ]
    }
   ],
   "source": [
    "# Ingresar valor por teclado\n",
    "entrada = int(input(\"Ingrese un número entero: \"))\n",
    "print(entrada**2)"
   ]
  },
  {
   "cell_type": "code",
   "execution_count": 2,
   "metadata": {},
   "outputs": [
    {
     "name": "stdout",
     "output_type": "stream",
     "text": [
      "Ingrese un número entero: 2\n",
      "22\n"
     ]
    }
   ],
   "source": [
    "# Ingresar valor por teclado\n",
    "entrada = input(\"Ingrese un número entero: \")\n",
    "print(entrada*2)"
   ]
  },
  {
   "cell_type": "code",
   "execution_count": 3,
   "metadata": {},
   "outputs": [
    {
     "name": "stdout",
     "output_type": "stream",
     "text": [
      "1\n"
     ]
    }
   ],
   "source": [
    "# Valor absoluto de un numero\n",
    "print(abs(-1))"
   ]
  },
  {
   "cell_type": "markdown",
   "metadata": {},
   "source": [
    "### Ejercicio 1:\n",
    "\n",
    "\n",
    "Ejecute las siguientes 3 celdas e infiera lo que hace la función round incorporada con uno o dos argumentos."
   ]
  },
  {
   "cell_type": "code",
   "execution_count": 39,
   "metadata": {},
   "outputs": [
    {
     "data": {
      "text/plain": [
       "-5"
      ]
     },
     "execution_count": 39,
     "metadata": {},
     "output_type": "execute_result"
    }
   ],
   "source": [
    "round( -4.78 )"
   ]
  },
  {
   "cell_type": "code",
   "execution_count": 40,
   "metadata": {},
   "outputs": [
    {
     "data": {
      "text/plain": [
       "-3.1415"
      ]
     },
     "execution_count": 40,
     "metadata": {},
     "output_type": "execute_result"
    }
   ],
   "source": [
    "round( -3.141516297, 4 )"
   ]
  },
  {
   "cell_type": "code",
   "execution_count": 41,
   "metadata": {},
   "outputs": [
    {
     "data": {
      "text/plain": [
       "-3.14152"
      ]
     },
     "execution_count": 41,
     "metadata": {},
     "output_type": "execute_result"
    }
   ],
   "source": [
    "round( -3.141516297, 5 )"
   ]
  },
  {
   "cell_type": "code",
   "execution_count": 42,
   "metadata": {},
   "outputs": [],
   "source": [
    "# Su código\n"
   ]
  },
  {
   "cell_type": "markdown",
   "metadata": {},
   "source": [
    "### Ejercicio 2:\n",
    "\n",
    "\n",
    "Desde la pagina de las funciones integradas [built-in](https://docs.python.org/3/library/functions.html), consulte la forma de usar la función `min()` y `max()`.\n",
    "\n",
    "- Cree una lista con los valores 42, 17 y 68.\n",
    "- Usando la función `min()`, imprima el valor minimo.\n",
    "- Usando la función `max()`, imprima el valor maximo.\n",
    "- Validar si hay una función que calcule la suma."
   ]
  },
  {
   "cell_type": "code",
   "execution_count": 8,
   "metadata": {},
   "outputs": [],
   "source": [
    "# Su código"
   ]
  },
  {
   "cell_type": "markdown",
   "metadata": {
    "colab_type": "text",
    "id": "8EcYyyUg5sje"
   },
   "source": [
    "## Ayuda \n",
    "\n",
    "Python cuenta con `help()` y `?` que nos devuelve una descripción de la función que queremos conocer."
   ]
  },
  {
   "cell_type": "code",
   "execution_count": 44,
   "metadata": {},
   "outputs": [],
   "source": [
    "#help(range)"
   ]
  },
  {
   "cell_type": "code",
   "execution_count": 45,
   "metadata": {},
   "outputs": [],
   "source": [
    "?range"
   ]
  },
  {
   "cell_type": "markdown",
   "metadata": {},
   "source": [
    "### Ejercicio 3:\n",
    "\n",
    "Cree una variable llamada rango y asígnele range(1, 100, 5), luego imprima la variable convirtiendola primero a lista, cual es el resultado?"
   ]
  },
  {
   "cell_type": "code",
   "execution_count": 46,
   "metadata": {},
   "outputs": [],
   "source": [
    "# Su código\n"
   ]
  },
  {
   "cell_type": "markdown",
   "metadata": {},
   "source": [
    "## Manejo de Strings\n",
    "\n",
    "**IMPORTANTE:** Strings pueden ser definidos con doble comilla (\"...\") or comilla simple ('...'), las dos sintaxis hacen exactamente lo mismo!"
   ]
  },
  {
   "cell_type": "code",
   "execution_count": 47,
   "metadata": {},
   "outputs": [
    {
     "data": {
      "text/plain": [
       "True"
      ]
     },
     "execution_count": 47,
     "metadata": {},
     "output_type": "execute_result"
    }
   ],
   "source": [
    "'Juan' == \"Juan\""
   ]
  },
  {
   "cell_type": "code",
   "execution_count": 48,
   "metadata": {},
   "outputs": [
    {
     "data": {
      "text/plain": [
       "True"
      ]
     },
     "execution_count": 48,
     "metadata": {},
     "output_type": "execute_result"
    }
   ],
   "source": [
    "'Juan said: \"Yeah\"' == \"Juan said: \\\"Yeah\\\"\""
   ]
  },
  {
   "cell_type": "code",
   "execution_count": 49,
   "metadata": {},
   "outputs": [
    {
     "data": {
      "text/plain": [
       "True"
      ]
     },
     "execution_count": 49,
     "metadata": {},
     "output_type": "execute_result"
    }
   ],
   "source": [
    "\"Juan's sisters\" == 'Juan\\'s sisters' "
   ]
  },
  {
   "cell_type": "code",
   "execution_count": 50,
   "metadata": {},
   "outputs": [
    {
     "data": {
      "text/plain": [
       "'I feel 😄'"
      ]
     },
     "execution_count": 50,
     "metadata": {},
     "output_type": "execute_result"
    }
   ],
   "source": [
    "'I feel \\U0001F604'"
   ]
  },
  {
   "cell_type": "markdown",
   "metadata": {},
   "source": [
    "### Interpolación de Cadenas\n",
    "\n",
    "El camino más facil para insertar dinamicamente variable en cadenas es a través de la interpolación de cadenas usando:\n",
    "\n",
    "la sintaxis f\"....{var1}... {var2}\"."
   ]
  },
  {
   "cell_type": "code",
   "execution_count": 14,
   "metadata": {},
   "outputs": [],
   "source": [
    "juans_height = 1.70\n",
    "num_siblings = 2 "
   ]
  },
  {
   "cell_type": "markdown",
   "metadata": {},
   "source": [
    "También se puede especificar la precisión con la sintaxis \"...{var:.#f}...\", donde # es el número de digitos decimales."
   ]
  },
  {
   "cell_type": "code",
   "execution_count": 13,
   "metadata": {},
   "outputs": [
    {
     "data": {
      "text/plain": [
       "'Juan is 1.70 meters tall'"
      ]
     },
     "execution_count": 13,
     "metadata": {},
     "output_type": "execute_result"
    }
   ],
   "source": [
    "f\"Juan is {juans_height:.2f} meters tall\""
   ]
  },
  {
   "cell_type": "markdown",
   "metadata": {},
   "source": [
    "Expresiones Full incluyendo llamado a funciones:"
   ]
  },
  {
   "cell_type": "code",
   "execution_count": 53,
   "metadata": {},
   "outputs": [
    {
     "data": {
      "text/plain": [
       "'Juan is 10 cm taller than Luisa'"
      ]
     },
     "execution_count": 53,
     "metadata": {},
     "output_type": "execute_result"
    }
   ],
   "source": [
    "luisas_height = 1.60\n",
    "f\"Juan is { round( (juans_height - luisas_height)* 100 )  } cm taller than Luisa\""
   ]
  },
  {
   "cell_type": "markdown",
   "metadata": {},
   "source": [
    "Una sintaxis ligeramente más nueva y que mejor utiliza el método de formato en cadenas:"
   ]
  },
  {
   "cell_type": "code",
   "execution_count": 54,
   "metadata": {},
   "outputs": [
    {
     "data": {
      "text/plain": [
       "'Juan is 1.7 meters tall and has 2 brothers and sisters'"
      ]
     },
     "execution_count": 54,
     "metadata": {},
     "output_type": "execute_result"
    }
   ],
   "source": [
    "\"Juan is {jh} meters tall and has {ns} brothers and sisters\".format( jh= juans_height, ns=num_siblings  )"
   ]
  },
  {
   "cell_type": "markdown",
   "metadata": {},
   "source": [
    "La siguiente es también una solución común simple, aunque no la más eficiente."
   ]
  },
  {
   "cell_type": "code",
   "execution_count": 55,
   "metadata": {},
   "outputs": [
    {
     "data": {
      "text/plain": [
       "'Juan is 1.7 meters tall and has 2 brothers and sisters'"
      ]
     },
     "execution_count": 55,
     "metadata": {},
     "output_type": "execute_result"
    }
   ],
   "source": [
    "\"Juan is \" + str(juans_height) + \" meters tall and has \" + str(num_siblings) + \" brothers and sisters\" "
   ]
  },
  {
   "cell_type": "markdown",
   "metadata": {},
   "source": [
    "Como en C/Java, etc., una cadena puede también contener códigos especiales como salto de linea ('\\n') y tabulación ('\\t')."
   ]
  },
  {
   "cell_type": "code",
   "execution_count": 56,
   "metadata": {},
   "outputs": [
    {
     "name": "stdout",
     "output_type": "stream",
     "text": [
      "Juan is 1.7 meters tall\n",
      "\tand has 2 brothers\n",
      "and sisters\n"
     ]
    }
   ],
   "source": [
    "a_str = f\"Juan is {juans_height} meters tall\\n\\tand has {num_siblings} brothers\\nand sisters\"\n",
    "print( a_str )"
   ]
  },
  {
   "cell_type": "markdown",
   "metadata": {},
   "source": [
    "### Indexación de Cadenas\n",
    "\n",
    "Las cadenas de Python son cadenas de caracteres, y cada carácter reside en un índice a partir de $0$ (para el primer carácter) y terminando en longitud de cadena $-1$ (para el último carácter).\n",
    "\n",
    "|G|r|u|p|o|\n",
    "|-|-|-|-|-|\n",
    "|0|1|2|3|4|\n",
    "|-|-|-|-|-|\n",
    "|-5|-4|-3|-2|-1|"
   ]
  },
  {
   "cell_type": "code",
   "execution_count": 57,
   "metadata": {},
   "outputs": [],
   "source": [
    "cadena = \"Juan's height u\""
   ]
  },
  {
   "cell_type": "code",
   "execution_count": 58,
   "metadata": {},
   "outputs": [
    {
     "name": "stdout",
     "output_type": "stream",
     "text": [
      "Primer caracter:  J\n",
      "Ultimo caracter:  u\n"
     ]
    }
   ],
   "source": [
    "print(\"Primer caracter: \",cadena[0])\n",
    "print(\"Ultimo caracter: \",cadena[-1])"
   ]
  },
  {
   "cell_type": "code",
   "execution_count": 59,
   "metadata": {},
   "outputs": [
    {
     "name": "stdout",
     "output_type": "stream",
     "text": [
      "<class 'str'>\n"
     ]
    }
   ],
   "source": [
    "print(type(cadena[0]))"
   ]
  },
  {
   "cell_type": "code",
   "execution_count": 60,
   "metadata": {},
   "outputs": [
    {
     "ename": "TypeError",
     "evalue": "'str' object does not support item assignment",
     "output_type": "error",
     "traceback": [
      "\u001b[1;31m---------------------------------------------------------------------------\u001b[0m",
      "\u001b[1;31mTypeError\u001b[0m                                 Traceback (most recent call last)",
      "\u001b[1;32m<ipython-input-60-00a3dd25daf6>\u001b[0m in \u001b[0;36m<module>\u001b[1;34m\u001b[0m\n\u001b[1;32m----> 1\u001b[1;33m \u001b[0mcadena\u001b[0m\u001b[1;33m[\u001b[0m\u001b[1;36m1\u001b[0m\u001b[1;33m]\u001b[0m \u001b[1;33m=\u001b[0m \u001b[1;34m'o'\u001b[0m\u001b[1;33m\u001b[0m\u001b[1;33m\u001b[0m\u001b[0m\n\u001b[0m",
      "\u001b[1;31mTypeError\u001b[0m: 'str' object does not support item assignment"
     ]
    }
   ],
   "source": [
    "cadena[1] = 'o'"
   ]
  },
  {
   "cell_type": "code",
   "execution_count": 61,
   "metadata": {},
   "outputs": [
    {
     "data": {
      "text/plain": [
       "\"Joan's height o\""
      ]
     },
     "execution_count": 61,
     "metadata": {},
     "output_type": "execute_result"
    }
   ],
   "source": [
    "str.replace(cadena,'u','o')"
   ]
  },
  {
   "cell_type": "code",
   "execution_count": 62,
   "metadata": {},
   "outputs": [
    {
     "data": {
      "text/plain": [
       "\"Juan's height u\""
      ]
     },
     "execution_count": 62,
     "metadata": {},
     "output_type": "execute_result"
    }
   ],
   "source": [
    "cadena"
   ]
  },
  {
   "cell_type": "code",
   "execution_count": 63,
   "metadata": {},
   "outputs": [
    {
     "name": "stdout",
     "output_type": "stream",
     "text": [
      "Joan's height o\n"
     ]
    }
   ],
   "source": [
    "cadena = str.replace(cadena,'u','o')\n",
    "print(cadena)"
   ]
  },
  {
   "cell_type": "code",
   "execution_count": 64,
   "metadata": {},
   "outputs": [
    {
     "data": {
      "text/plain": [
       "15"
      ]
     },
     "execution_count": 64,
     "metadata": {},
     "output_type": "execute_result"
    }
   ],
   "source": [
    "len(cadena)"
   ]
  },
  {
   "cell_type": "code",
   "execution_count": 65,
   "metadata": {},
   "outputs": [
    {
     "data": {
      "text/plain": [
       "True"
      ]
     },
     "execution_count": 65,
     "metadata": {},
     "output_type": "execute_result"
    }
   ],
   "source": [
    "'a' in cadena"
   ]
  },
  {
   "cell_type": "markdown",
   "metadata": {},
   "source": [
    "### Cortar (Slicing) Cadenas\n",
    "\n",
    "**Slicing** en Python es un camino poderoso para extraer sub-partes de una cadena, listas y tuplas.\n",
    "\n",
    "```\n",
    "str[start:end]\n",
    "````\n",
    "**start**: sub-cadena inicia desde este elemento\n",
    "\n",
    "**end**: fin sub-cadena, excluye el elemento en este index.\n",
    "\n",
    "|G|r|u|p|o|\n",
    "|-|-|-|-|-|\n",
    "|0|1|2|3|4|\n",
    "\n",
    "```python\n",
    "cadena = \"Grupo\"\n",
    "print(cadena[0:2])\n",
    "```\n",
    "|G|r|\n",
    "|-|-|\n",
    "|0|1|\n"
   ]
  },
  {
   "cell_type": "code",
   "execution_count": 66,
   "metadata": {},
   "outputs": [
    {
     "name": "stdout",
     "output_type": "stream",
     "text": [
      "Gr\n"
     ]
    }
   ],
   "source": [
    "cadena = \"Grupo\"\n",
    "print(cadena[0:2])"
   ]
  },
  {
   "cell_type": "code",
   "execution_count": 67,
   "metadata": {},
   "outputs": [
    {
     "name": "stdout",
     "output_type": "stream",
     "text": [
      "Grup\n"
     ]
    }
   ],
   "source": [
    "# Sub-cadena desde la posicion inicial, 4 caracteres.\n",
    "print(cadena[0:4])"
   ]
  },
  {
   "cell_type": "code",
   "execution_count": 68,
   "metadata": {},
   "outputs": [
    {
     "name": "stdout",
     "output_type": "stream",
     "text": [
      "Grup\n"
     ]
    }
   ],
   "source": [
    "# Exactamente igual al anterior, solo que el 0 es el índice inicial implícito)\n",
    "print(cadena[:4])"
   ]
  },
  {
   "cell_type": "code",
   "execution_count": 69,
   "metadata": {},
   "outputs": [
    {
     "name": "stdout",
     "output_type": "stream",
     "text": [
      "o\n"
     ]
    }
   ],
   "source": [
    "# Sub-cadena desde el cuarto caracter hasta el final\n",
    "print(cadena[4:])"
   ]
  },
  {
   "cell_type": "code",
   "execution_count": 70,
   "metadata": {},
   "outputs": [
    {
     "name": "stdout",
     "output_type": "stream",
     "text": [
      "rup\n"
     ]
    }
   ],
   "source": [
    "# Sub-cadena desde el caracter en la posicion 1 hasta el caracter en la posicion 4\n",
    "print(cadena[1:4])"
   ]
  },
  {
   "cell_type": "code",
   "execution_count": 71,
   "metadata": {},
   "outputs": [
    {
     "name": "stdout",
     "output_type": "stream",
     "text": [
      "upo\n"
     ]
    }
   ],
   "source": [
    "# Sub-cadena con indices negativos, el -1 es el índice final implícito.\n",
    "print(cadena[-3:])"
   ]
  },
  {
   "cell_type": "code",
   "execution_count": 72,
   "metadata": {},
   "outputs": [
    {
     "name": "stdout",
     "output_type": "stream",
     "text": [
      "rup\n"
     ]
    }
   ],
   "source": [
    "# Sub-cadena con indices negativos\n",
    "print(cadena[-4:-1])"
   ]
  },
  {
   "cell_type": "markdown",
   "metadata": {
    "colab_type": "text",
    "id": "7aZp14WQgk-b"
   },
   "source": [
    "## Manejo de Listas\n",
    "\n",
    "Una lista es un arreglo de elementos donde podemos ingresar cualquier tipo de dato, para acceder a estos datos lo podemos hacer mediante un índice."
   ]
  },
  {
   "cell_type": "code",
   "execution_count": 73,
   "metadata": {
    "colab": {},
    "colab_type": "code",
    "id": "rJfiHrfOhdOI"
   },
   "outputs": [],
   "source": [
    "lista = [1,2.5,'Grupo',[1,2],10,'Grupo']"
   ]
  },
  {
   "cell_type": "code",
   "execution_count": 74,
   "metadata": {
    "colab": {},
    "colab_type": "code",
    "id": "Eqkpt_OehqHd"
   },
   "outputs": [
    {
     "name": "stdout",
     "output_type": "stream",
     "text": [
      "Primer elemento de la lista:  1\n",
      "Ultimo elemento de la lista:  Grupo\n"
     ]
    }
   ],
   "source": [
    "print(\"Primer elemento de la lista: \",lista[0])\n",
    "print(\"Ultimo elemento de la lista: \",lista[-1])"
   ]
  },
  {
   "cell_type": "code",
   "execution_count": 75,
   "metadata": {
    "colab": {},
    "colab_type": "code",
    "id": "hrQ2yMfjh-Le"
   },
   "outputs": [
    {
     "name": "stdout",
     "output_type": "stream",
     "text": [
      "[1, 2]\n"
     ]
    }
   ],
   "source": [
    "# Obtener el elemento de la posicion 3\n",
    "print(lista[3])"
   ]
  },
  {
   "cell_type": "markdown",
   "metadata": {
    "colab_type": "text",
    "id": "2K5o5O7aiOXq"
   },
   "source": [
    "Si la posición 3 es una lista, para acceder a los elementos de esta lista se realiza de la siguiente manera."
   ]
  },
  {
   "cell_type": "code",
   "execution_count": 76,
   "metadata": {
    "colab": {
     "base_uri": "https://localhost:8080/",
     "height": 34
    },
    "colab_type": "code",
    "executionInfo": {
     "elapsed": 835,
     "status": "ok",
     "timestamp": 1591056751238,
     "user": {
      "displayName": "Ana Lopez",
      "photoUrl": "https://lh3.googleusercontent.com/a-/AOh14Gj1dkF5QHwdzo0ygY_LrTIzktyfsXlogjzGema4=s64",
      "userId": "15130352723004509221"
     },
     "user_tz": 300
    },
    "id": "vZZHIxiCiKF-",
    "outputId": "de65ce3f-b7a9-425f-dbd9-b5d41b0a9d73"
   },
   "outputs": [
    {
     "name": "stdout",
     "output_type": "stream",
     "text": [
      "2\n"
     ]
    }
   ],
   "source": [
    "# Obtener el elemento de la posicion 3, obtener el elemento 1 de esta lista\n",
    "print(lista[3][1])"
   ]
  },
  {
   "cell_type": "code",
   "execution_count": 77,
   "metadata": {
    "colab": {
     "base_uri": "https://localhost:8080/",
     "height": 34
    },
    "colab_type": "code",
    "executionInfo": {
     "elapsed": 798,
     "status": "ok",
     "timestamp": 1591056912055,
     "user": {
      "displayName": "Ana Lopez",
      "photoUrl": "https://lh3.googleusercontent.com/a-/AOh14Gj1dkF5QHwdzo0ygY_LrTIzktyfsXlogjzGema4=s64",
      "userId": "15130352723004509221"
     },
     "user_tz": 300
    },
    "id": "K56Tf3SDiv9D",
    "outputId": "70c55514-820f-4027-acfc-5a1a2fea5f7c"
   },
   "outputs": [
    {
     "name": "stdout",
     "output_type": "stream",
     "text": [
      "[1, 2.5, 'Grupo', [1, 2], 10, 'Grupo', 'Nuevo']\n"
     ]
    }
   ],
   "source": [
    "# Adicionar un elemento a la lista\n",
    "lista.append('Nuevo')\n",
    "print(lista)"
   ]
  },
  {
   "cell_type": "code",
   "execution_count": 78,
   "metadata": {
    "colab": {
     "base_uri": "https://localhost:8080/",
     "height": 34
    },
    "colab_type": "code",
    "executionInfo": {
     "elapsed": 809,
     "status": "ok",
     "timestamp": 1591056932322,
     "user": {
      "displayName": "Ana Lopez",
      "photoUrl": "https://lh3.googleusercontent.com/a-/AOh14Gj1dkF5QHwdzo0ygY_LrTIzktyfsXlogjzGema4=s64",
      "userId": "15130352723004509221"
     },
     "user_tz": 300
    },
    "id": "jL7rmUmEjQf3",
    "outputId": "31c5c5a4-2374-4e41-d45b-63fa02f0de19"
   },
   "outputs": [
    {
     "name": "stdout",
     "output_type": "stream",
     "text": [
      "[1, 2.5, 'Grupo', [1, 2], 10, 'Grupo', 'Nuevo', 'Elemento', 45]\n"
     ]
    }
   ],
   "source": [
    "# Extend permite agregar elementos pero al agregar una lista cada elemento de esta se agrega como un elemento mas dentro de la otra lista\n",
    "lista.extend(['Elemento',45])\n",
    "print(lista)"
   ]
  },
  {
   "cell_type": "code",
   "execution_count": 79,
   "metadata": {
    "colab": {
     "base_uri": "https://localhost:8080/",
     "height": 34
    },
    "colab_type": "code",
    "executionInfo": {
     "elapsed": 804,
     "status": "ok",
     "timestamp": 1591056947632,
     "user": {
      "displayName": "Ana Lopez",
      "photoUrl": "https://lh3.googleusercontent.com/a-/AOh14Gj1dkF5QHwdzo0ygY_LrTIzktyfsXlogjzGema4=s64",
      "userId": "15130352723004509221"
     },
     "user_tz": 300
    },
    "id": "l9PyPRKsAJOZ",
    "outputId": "91a3f904-addc-4bd5-eda4-c638093060cf"
   },
   "outputs": [
    {
     "name": "stdout",
     "output_type": "stream",
     "text": [
      "[1, 2.5, 'Grupo', 1, [1, 2], 10, 'Grupo', 'Nuevo', 'Elemento', 45]\n"
     ]
    }
   ],
   "source": [
    "# Inserta un elemento en la posicion dada\n",
    "lista.insert(3,1)\n",
    "print(lista)"
   ]
  },
  {
   "cell_type": "code",
   "execution_count": 80,
   "metadata": {
    "colab": {
     "base_uri": "https://localhost:8080/",
     "height": 34
    },
    "colab_type": "code",
    "executionInfo": {
     "elapsed": 761,
     "status": "ok",
     "timestamp": 1591056961923,
     "user": {
      "displayName": "Ana Lopez",
      "photoUrl": "https://lh3.googleusercontent.com/a-/AOh14Gj1dkF5QHwdzo0ygY_LrTIzktyfsXlogjzGema4=s64",
      "userId": "15130352723004509221"
     },
     "user_tz": 300
    },
    "id": "oBzaPwCSjh9X",
    "outputId": "854dcf97-837b-4831-9cb1-3628a49824ab"
   },
   "outputs": [
    {
     "name": "stdout",
     "output_type": "stream",
     "text": [
      "[1, 2.5, 'Grupo', 1, [1, 2], 'Grupo', 'Nuevo', 'Elemento', 45]\n"
     ]
    }
   ],
   "source": [
    "# Eliminar un elemento de la lista\n",
    "lista.remove(10)\n",
    "print(lista)"
   ]
  },
  {
   "cell_type": "code",
   "execution_count": 81,
   "metadata": {
    "colab": {
     "base_uri": "https://localhost:8080/",
     "height": 34
    },
    "colab_type": "code",
    "executionInfo": {
     "elapsed": 2120,
     "status": "ok",
     "timestamp": 1591056984251,
     "user": {
      "displayName": "Ana Lopez",
      "photoUrl": "https://lh3.googleusercontent.com/a-/AOh14Gj1dkF5QHwdzo0ygY_LrTIzktyfsXlogjzGema4=s64",
      "userId": "15130352723004509221"
     },
     "user_tz": 300
    },
    "id": "PYAuUj1Ajrct",
    "outputId": "52995ba9-eb73-49b4-ebe5-137322b3e8c4"
   },
   "outputs": [
    {
     "name": "stdout",
     "output_type": "stream",
     "text": [
      "2\n"
     ]
    }
   ],
   "source": [
    "# Devuelve el número de indice del elemento que le pasamor por parámetro\n",
    "print(lista.index('Grupo'))"
   ]
  },
  {
   "cell_type": "code",
   "execution_count": 82,
   "metadata": {
    "colab": {
     "base_uri": "https://localhost:8080/",
     "height": 51
    },
    "colab_type": "code",
    "executionInfo": {
     "elapsed": 647,
     "status": "ok",
     "timestamp": 1591057011706,
     "user": {
      "displayName": "Ana Lopez",
      "photoUrl": "https://lh3.googleusercontent.com/a-/AOh14Gj1dkF5QHwdzo0ygY_LrTIzktyfsXlogjzGema4=s64",
      "userId": "15130352723004509221"
     },
     "user_tz": 300
    },
    "id": "1aH6nX11AiWG",
    "outputId": "1d04ffd8-14ac-4131-a931-facdea40116f"
   },
   "outputs": [
    {
     "name": "stdout",
     "output_type": "stream",
     "text": [
      "Grupo\n",
      "[1, 2.5, 1, [1, 2], 'Grupo', 'Nuevo', 'Elemento', 45]\n"
     ]
    }
   ],
   "source": [
    "# Devuelve el elemento en la posicion dada de la lista y lo elimina\n",
    "print(lista.pop(2))\n",
    "print(lista)"
   ]
  },
  {
   "cell_type": "code",
   "execution_count": 83,
   "metadata": {
    "colab": {
     "base_uri": "https://localhost:8080/",
     "height": 34
    },
    "colab_type": "code",
    "executionInfo": {
     "elapsed": 721,
     "status": "ok",
     "timestamp": 1591057023330,
     "user": {
      "displayName": "Ana Lopez",
      "photoUrl": "https://lh3.googleusercontent.com/a-/AOh14Gj1dkF5QHwdzo0ygY_LrTIzktyfsXlogjzGema4=s64",
      "userId": "15130352723004509221"
     },
     "user_tz": 300
    },
    "id": "9R6HePjPkA-Q",
    "outputId": "5f32b332-e738-4d21-ae64-c1d4dda1677c"
   },
   "outputs": [
    {
     "name": "stdout",
     "output_type": "stream",
     "text": [
      "1\n"
     ]
    }
   ],
   "source": [
    "# Devuelve cuantas veces un elemento de una lista se repite\n",
    "print(lista.count('Grupo'))"
   ]
  },
  {
   "cell_type": "code",
   "execution_count": 84,
   "metadata": {
    "colab": {
     "base_uri": "https://localhost:8080/",
     "height": 34
    },
    "colab_type": "code",
    "executionInfo": {
     "elapsed": 645,
     "status": "ok",
     "timestamp": 1591057034354,
     "user": {
      "displayName": "Ana Lopez",
      "photoUrl": "https://lh3.googleusercontent.com/a-/AOh14Gj1dkF5QHwdzo0ygY_LrTIzktyfsXlogjzGema4=s64",
      "userId": "15130352723004509221"
     },
     "user_tz": 300
    },
    "id": "i3OWc52-kMZH",
    "outputId": "7b1cc1e1-0fc3-4723-ce07-4769370eb1f7"
   },
   "outputs": [
    {
     "name": "stdout",
     "output_type": "stream",
     "text": [
      "[45, 'Elemento', 'Nuevo', 'Grupo', [1, 2], 1, 2.5, 1]\n"
     ]
    }
   ],
   "source": [
    "# Invertir los elementos de una lista\n",
    "lista.reverse()\n",
    "print(lista)"
   ]
  },
  {
   "cell_type": "code",
   "execution_count": 86,
   "metadata": {
    "colab": {},
    "colab_type": "code",
    "id": "svNMggBgCq6_"
   },
   "outputs": [
    {
     "name": "stdout",
     "output_type": "stream",
     "text": [
      "[3, 2.5, 1, [1, 2], 'Grupo', 'Nuevo', 'Elemento', 45]\n"
     ]
    }
   ],
   "source": [
    "# Las listas son mutables\n",
    "lista[0] = 3\n",
    "print(lista)"
   ]
  },
  {
   "cell_type": "code",
   "execution_count": 87,
   "metadata": {
    "colab": {
     "base_uri": "https://localhost:8080/",
     "height": 34
    },
    "colab_type": "code",
    "executionInfo": {
     "elapsed": 731,
     "status": "ok",
     "timestamp": 1591057072504,
     "user": {
      "displayName": "Ana Lopez",
      "photoUrl": "https://lh3.googleusercontent.com/a-/AOh14Gj1dkF5QHwdzo0ygY_LrTIzktyfsXlogjzGema4=s64",
      "userId": "15130352723004509221"
     },
     "user_tz": 300
    },
    "id": "1s6yNFss1HLM",
    "outputId": "e0e2ea77-b3d4-4ee4-a3f8-6349c7091f84"
   },
   "outputs": [
    {
     "data": {
      "text/plain": [
       "True"
      ]
     },
     "execution_count": 87,
     "metadata": {},
     "output_type": "execute_result"
    }
   ],
   "source": [
    "3 in lista"
   ]
  },
  {
   "cell_type": "markdown",
   "metadata": {},
   "source": [
    "## Son modificables\n",
    "A diferencia de las cadenas, en las listas sí podemos modificar sus ítems utilizando índices:"
   ]
  },
  {
   "cell_type": "code",
   "execution_count": 7,
   "metadata": {
    "collapsed": true,
    "jupyter": {
     "outputs_hidden": true
    }
   },
   "outputs": [],
   "source": [
    "pares = [0,2,4,5,8,10]"
   ]
  },
  {
   "cell_type": "code",
   "execution_count": 8,
   "metadata": {
    "collapsed": true,
    "jupyter": {
     "outputs_hidden": true
    }
   },
   "outputs": [],
   "source": [
    "pares[3]= 6"
   ]
  },
  {
   "cell_type": "code",
   "execution_count": 9,
   "metadata": {
    "jupyter": {
     "outputs_hidden": false
    }
   },
   "outputs": [
    {
     "data": {
      "text/plain": [
       "[0, 2, 4, 6, 8, 10]"
      ]
     },
     "execution_count": 9,
     "metadata": {},
     "output_type": "execute_result"
    }
   ],
   "source": [
    "pares"
   ]
  },
  {
   "cell_type": "markdown",
   "metadata": {},
   "source": [
    "Integran funcionalidades internas, como el método .append() para añadir un ítem al final de la lista"
   ]
  },
  {
   "cell_type": "code",
   "execution_count": 10,
   "metadata": {
    "collapsed": true,
    "jupyter": {
     "outputs_hidden": true
    }
   },
   "outputs": [],
   "source": [
    "pares.append(12)"
   ]
  },
  {
   "cell_type": "code",
   "execution_count": 11,
   "metadata": {
    "jupyter": {
     "outputs_hidden": false
    }
   },
   "outputs": [
    {
     "data": {
      "text/plain": [
       "[0, 2, 4, 6, 8, 10, 12]"
      ]
     },
     "execution_count": 11,
     "metadata": {},
     "output_type": "execute_result"
    }
   ],
   "source": [
    "pares"
   ]
  },
  {
   "cell_type": "code",
   "execution_count": 12,
   "metadata": {
    "collapsed": true,
    "jupyter": {
     "outputs_hidden": true
    }
   },
   "outputs": [],
   "source": [
    "pares.append(7*2)"
   ]
  },
  {
   "cell_type": "code",
   "execution_count": 13,
   "metadata": {
    "jupyter": {
     "outputs_hidden": false
    }
   },
   "outputs": [
    {
     "data": {
      "text/plain": [
       "[0, 2, 4, 6, 8, 10, 12, 14]"
      ]
     },
     "execution_count": 13,
     "metadata": {},
     "output_type": "execute_result"
    }
   ],
   "source": [
    "pares"
   ]
  },
  {
   "cell_type": "markdown",
   "metadata": {},
   "source": [
    " Y una peculiaridad, es que también aceptan asignación con slicing para modificar varios ítems en conjunto"
   ]
  },
  {
   "cell_type": "code",
   "execution_count": 14,
   "metadata": {
    "collapsed": true,
    "jupyter": {
     "outputs_hidden": true
    }
   },
   "outputs": [],
   "source": [
    "letras = ['a','b','c','d','e','f']"
   ]
  },
  {
   "cell_type": "code",
   "execution_count": 15,
   "metadata": {
    "jupyter": {
     "outputs_hidden": false
    }
   },
   "outputs": [
    {
     "data": {
      "text/plain": [
       "['a', 'b', 'c']"
      ]
     },
     "execution_count": 15,
     "metadata": {},
     "output_type": "execute_result"
    }
   ],
   "source": [
    "letras[:3]"
   ]
  },
  {
   "cell_type": "code",
   "execution_count": 16,
   "metadata": {
    "collapsed": true,
    "jupyter": {
     "outputs_hidden": true
    }
   },
   "outputs": [],
   "source": [
    "letras[:3] = ['A','B','C']"
   ]
  },
  {
   "cell_type": "code",
   "execution_count": 17,
   "metadata": {
    "jupyter": {
     "outputs_hidden": false
    }
   },
   "outputs": [
    {
     "data": {
      "text/plain": [
       "['A', 'B', 'C', 'd', 'e', 'f']"
      ]
     },
     "execution_count": 17,
     "metadata": {},
     "output_type": "execute_result"
    }
   ],
   "source": [
    "letras"
   ]
  },
  {
   "cell_type": "markdown",
   "metadata": {},
   "source": [
    "Asignar una lista vacía equivale a borrar los ítems de la lista o sublista"
   ]
  },
  {
   "cell_type": "code",
   "execution_count": 18,
   "metadata": {
    "collapsed": true,
    "jupyter": {
     "outputs_hidden": true
    }
   },
   "outputs": [],
   "source": [
    "letras[:3] = []"
   ]
  },
  {
   "cell_type": "code",
   "execution_count": 19,
   "metadata": {
    "jupyter": {
     "outputs_hidden": false
    }
   },
   "outputs": [
    {
     "data": {
      "text/plain": [
       "['d', 'e', 'f']"
      ]
     },
     "execution_count": 19,
     "metadata": {},
     "output_type": "execute_result"
    }
   ],
   "source": [
    "letras"
   ]
  },
  {
   "cell_type": "code",
   "execution_count": 21,
   "metadata": {
    "collapsed": true,
    "jupyter": {
     "outputs_hidden": true
    }
   },
   "outputs": [],
   "source": [
    "letras = []"
   ]
  },
  {
   "cell_type": "code",
   "execution_count": 22,
   "metadata": {
    "jupyter": {
     "outputs_hidden": false
    }
   },
   "outputs": [
    {
     "data": {
      "text/plain": [
       "[]"
      ]
     },
     "execution_count": 22,
     "metadata": {},
     "output_type": "execute_result"
    }
   ],
   "source": [
    "letras"
   ]
  },
  {
   "cell_type": "markdown",
   "metadata": {},
   "source": [
    "La función len() también funciona con las listas del mismo modo que en las cadenas:"
   ]
  },
  {
   "cell_type": "code",
   "execution_count": 23,
   "metadata": {
    "jupyter": {
     "outputs_hidden": false
    }
   },
   "outputs": [
    {
     "data": {
      "text/plain": [
       "0"
      ]
     },
     "execution_count": 23,
     "metadata": {},
     "output_type": "execute_result"
    }
   ],
   "source": [
    "len(letras)"
   ]
  },
  {
   "cell_type": "code",
   "execution_count": 24,
   "metadata": {
    "jupyter": {
     "outputs_hidden": false
    }
   },
   "outputs": [
    {
     "data": {
      "text/plain": [
       "8"
      ]
     },
     "execution_count": 24,
     "metadata": {},
     "output_type": "execute_result"
    }
   ],
   "source": [
    "len(pares)"
   ]
  },
  {
   "cell_type": "markdown",
   "metadata": {},
   "source": [
    "## Listas dentro de listas (anidadas)\n",
    "Podemos manipular fácilmente este tipo de estructuras utilizando múltiples índices, como si nos refieréramos a las filas y columnas de una tabla."
   ]
  },
  {
   "cell_type": "code",
   "execution_count": 25,
   "metadata": {
    "collapsed": true,
    "jupyter": {
     "outputs_hidden": true
    }
   },
   "outputs": [],
   "source": [
    "a = [1,2,3]\n",
    "b = [4,5,6]\n",
    "c = [7,8,9]\n",
    "r = [a,b,c]"
   ]
  },
  {
   "cell_type": "code",
   "execution_count": 26,
   "metadata": {
    "jupyter": {
     "outputs_hidden": false
    }
   },
   "outputs": [
    {
     "data": {
      "text/plain": [
       "[[1, 2, 3], [4, 5, 6], [7, 8, 9]]"
      ]
     },
     "execution_count": 26,
     "metadata": {},
     "output_type": "execute_result"
    }
   ],
   "source": [
    "r"
   ]
  },
  {
   "cell_type": "code",
   "execution_count": 27,
   "metadata": {
    "jupyter": {
     "outputs_hidden": false
    }
   },
   "outputs": [
    {
     "data": {
      "text/plain": [
       "[1, 2, 3]"
      ]
     },
     "execution_count": 27,
     "metadata": {},
     "output_type": "execute_result"
    }
   ],
   "source": [
    "r[0]  # Primera sublista"
   ]
  },
  {
   "cell_type": "code",
   "execution_count": 28,
   "metadata": {
    "jupyter": {
     "outputs_hidden": false
    }
   },
   "outputs": [
    {
     "data": {
      "text/plain": [
       "[7, 8, 9]"
      ]
     },
     "execution_count": 28,
     "metadata": {},
     "output_type": "execute_result"
    }
   ],
   "source": [
    "r[-1]  # Última sublista"
   ]
  },
  {
   "cell_type": "code",
   "execution_count": 29,
   "metadata": {
    "jupyter": {
     "outputs_hidden": false
    }
   },
   "outputs": [
    {
     "data": {
      "text/plain": [
       "1"
      ]
     },
     "execution_count": 29,
     "metadata": {},
     "output_type": "execute_result"
    }
   ],
   "source": [
    "r[0][0]  # Primera sublista, y de ella, primer ítem"
   ]
  },
  {
   "cell_type": "code",
   "execution_count": 30,
   "metadata": {
    "jupyter": {
     "outputs_hidden": false
    }
   },
   "outputs": [
    {
     "data": {
      "text/plain": [
       "5"
      ]
     },
     "execution_count": 30,
     "metadata": {},
     "output_type": "execute_result"
    }
   ],
   "source": [
    "r[1][1]  # Segunda sublista, y de ella, segundo ítem"
   ]
  },
  {
   "cell_type": "code",
   "execution_count": 31,
   "metadata": {
    "jupyter": {
     "outputs_hidden": false
    }
   },
   "outputs": [
    {
     "data": {
      "text/plain": [
       "9"
      ]
     },
     "execution_count": 31,
     "metadata": {},
     "output_type": "execute_result"
    }
   ],
   "source": [
    "r[2][2]  # Tercera sublista, y de ella, tercer ítem"
   ]
  },
  {
   "cell_type": "code",
   "execution_count": 32,
   "metadata": {
    "jupyter": {
     "outputs_hidden": false
    },
    "scrolled": true
   },
   "outputs": [
    {
     "data": {
      "text/plain": [
       "9"
      ]
     },
     "execution_count": 32,
     "metadata": {},
     "output_type": "execute_result"
    }
   ],
   "source": [
    "r[-1][-1]  # Última sublista, y de ella, último ítem"
   ]
  },
  {
   "cell_type": "code",
   "execution_count": null,
   "metadata": {},
   "outputs": [],
   "source": []
  },
  {
   "cell_type": "markdown",
   "metadata": {
    "colab_type": "text",
    "id": "cww9WuV7Atw5"
   },
   "source": [
    "## Manejo de Diccionarios\n",
    "\n",
    "Al contrario de las listas los diccionarios no tienen orden, un diccionario es una palabra que tiene asociado algo.\n",
    "\n",
    "Se crean poniendo sus elementos entre llaves (`{\"a\":\"Alicante\",\"b\":\"Barcelona\"}`). Se denominan keys a las **palabras** y values a las **definiciones**. Lógicamente no puede haber dos keys iguales, pero si dos values iguales.\n"
   ]
  },
  {
   "cell_type": "code",
   "execution_count": 88,
   "metadata": {
    "colab": {
     "base_uri": "https://localhost:8080/",
     "height": 34
    },
    "colab_type": "code",
    "executionInfo": {
     "elapsed": 674,
     "status": "ok",
     "timestamp": 1591057108294,
     "user": {
      "displayName": "Ana Lopez",
      "photoUrl": "https://lh3.googleusercontent.com/a-/AOh14Gj1dkF5QHwdzo0ygY_LrTIzktyfsXlogjzGema4=s64",
      "userId": "15130352723004509221"
     },
     "user_tz": 300
    },
    "id": "_fJ3dy5fAsw-",
    "outputId": "fa24ed95-c98e-4d38-a860-19ddd9567084"
   },
   "outputs": [
    {
     "name": "stdout",
     "output_type": "stream",
     "text": [
      "{'Piloto 1': 'Fernando Alonso', 'Piloto 2': 'Kimi Raikkonen', 'Piloto 3': 'Felipe Massa'}\n"
     ]
    }
   ],
   "source": [
    "diccionario = {'Piloto 1':'Fernando Alonso', 'Piloto 2':'Kimi Raikkonen', 'Piloto 3':'Felipe Massa'}\n",
    "print(diccionario)"
   ]
  },
  {
   "cell_type": "code",
   "execution_count": 89,
   "metadata": {
    "colab": {
     "base_uri": "https://localhost:8080/",
     "height": 51
    },
    "colab_type": "code",
    "executionInfo": {
     "elapsed": 567,
     "status": "ok",
     "timestamp": 1591057130674,
     "user": {
      "displayName": "Ana Lopez",
      "photoUrl": "https://lh3.googleusercontent.com/a-/AOh14Gj1dkF5QHwdzo0ygY_LrTIzktyfsXlogjzGema4=s64",
      "userId": "15130352723004509221"
     },
     "user_tz": 300
    },
    "id": "nKRs88CoCL8y",
    "outputId": "369a1741-3ec2-4376-817a-57410cefdd91"
   },
   "outputs": [
    {
     "name": "stdout",
     "output_type": "stream",
     "text": [
      "Fernando Alonso\n",
      "Fernando Alonso\n"
     ]
    }
   ],
   "source": [
    "# Devuelve el valor que corresponde con la key introducida.\n",
    "print(diccionario.get('Piloto 1'))\n",
    "print(diccionario['Piloto 1'])"
   ]
  },
  {
   "cell_type": "code",
   "execution_count": 90,
   "metadata": {
    "colab": {
     "base_uri": "https://localhost:8080/",
     "height": 51
    },
    "colab_type": "code",
    "executionInfo": {
     "elapsed": 739,
     "status": "ok",
     "timestamp": 1591057151515,
     "user": {
      "displayName": "Ana Lopez",
      "photoUrl": "https://lh3.googleusercontent.com/a-/AOh14Gj1dkF5QHwdzo0ygY_LrTIzktyfsXlogjzGema4=s64",
      "userId": "15130352723004509221"
     },
     "user_tz": 300
    },
    "id": "7rore5CBCYmu",
    "outputId": "630dd299-73ab-4309-973a-33533f34b350"
   },
   "outputs": [
    {
     "name": "stdout",
     "output_type": "stream",
     "text": [
      "Fernando Alonso\n",
      "{'Piloto 2': 'Kimi Raikkonen', 'Piloto 3': 'Felipe Massa'}\n"
     ]
    }
   ],
   "source": [
    "# Devuelve el valor que corresponde con la key introducida, y luego borra la key y el valor.\n",
    "print(diccionario.pop('Piloto 1'))\n",
    "print(diccionario)"
   ]
  },
  {
   "cell_type": "code",
   "execution_count": 91,
   "metadata": {
    "colab": {
     "base_uri": "https://localhost:8080/",
     "height": 34
    },
    "colab_type": "code",
    "executionInfo": {
     "elapsed": 556,
     "status": "ok",
     "timestamp": 1591057166278,
     "user": {
      "displayName": "Ana Lopez",
      "photoUrl": "https://lh3.googleusercontent.com/a-/AOh14Gj1dkF5QHwdzo0ygY_LrTIzktyfsXlogjzGema4=s64",
      "userId": "15130352723004509221"
     },
     "user_tz": 300
    },
    "id": "S6sRHQy-CmkT",
    "outputId": "ef547911-424c-4efa-b484-1b2aa3299b48"
   },
   "outputs": [
    {
     "name": "stdout",
     "output_type": "stream",
     "text": [
      "{'Piloto 2': 'Sebastian Vettel', 'Piloto 3': 'Felipe Massa', 'Piloto 4': 'Lewis Hamilton'}\n"
     ]
    }
   ],
   "source": [
    "# Actualiza el valor de una determinada key o lo crea si no existe.\n",
    "diccionario.update({'Piloto 4':'Lewis Hamilton'})\n",
    "diccionario.update({'Piloto 2':'Sebastian Vettel'})\n",
    "print(diccionario)"
   ]
  },
  {
   "cell_type": "code",
   "execution_count": 92,
   "metadata": {
    "colab": {
     "base_uri": "https://localhost:8080/",
     "height": 34
    },
    "colab_type": "code",
    "executionInfo": {
     "elapsed": 722,
     "status": "ok",
     "timestamp": 1591057185740,
     "user": {
      "displayName": "Ana Lopez",
      "photoUrl": "https://lh3.googleusercontent.com/a-/AOh14Gj1dkF5QHwdzo0ygY_LrTIzktyfsXlogjzGema4=s64",
      "userId": "15130352723004509221"
     },
     "user_tz": 300
    },
    "id": "0DONnb6b0V8G",
    "outputId": "d4a366ab-f37c-4edf-9a61-ea4a3555aaf7"
   },
   "outputs": [
    {
     "name": "stdout",
     "output_type": "stream",
     "text": [
      "{'Piloto 2': 'Sebastian Vettel', 'Piloto 3': 'Felipe Massa', 'Piloto 4': 'Lewis Hamilton', 'Piloto 5': 'Juan Perez'}\n"
     ]
    }
   ],
   "source": [
    "diccionario['Piloto 5'] = 'Juan Perez'\n",
    "print(diccionario)"
   ]
  },
  {
   "cell_type": "code",
   "execution_count": 93,
   "metadata": {
    "colab": {
     "base_uri": "https://localhost:8080/",
     "height": 68
    },
    "colab_type": "code",
    "executionInfo": {
     "elapsed": 731,
     "status": "ok",
     "timestamp": 1591057224805,
     "user": {
      "displayName": "Ana Lopez",
      "photoUrl": "https://lh3.googleusercontent.com/a-/AOh14Gj1dkF5QHwdzo0ygY_LrTIzktyfsXlogjzGema4=s64",
      "userId": "15130352723004509221"
     },
     "user_tz": 300
    },
    "id": "RpqEwTofC-hX",
    "outputId": "940e278b-8d05-4228-85d4-8ae5c6f3ef77"
   },
   "outputs": [
    {
     "name": "stdout",
     "output_type": "stream",
     "text": [
      "True\n",
      "False\n",
      "False\n"
     ]
    }
   ],
   "source": [
    "# \"key\" in diccionario: devuelve verdadero (True) o falso (False) si la key existe en el diccionario.\n",
    "print (\"Piloto 2\" in diccionario)\n",
    "print (\"piloto 1\" in diccionario)\n",
    "print (\"Sebastian Vettel\" in diccionario)"
   ]
  },
  {
   "cell_type": "code",
   "execution_count": 94,
   "metadata": {
    "colab": {
     "base_uri": "https://localhost:8080/",
     "height": 34
    },
    "colab_type": "code",
    "executionInfo": {
     "elapsed": 609,
     "status": "ok",
     "timestamp": 1591057238454,
     "user": {
      "displayName": "Ana Lopez",
      "photoUrl": "https://lh3.googleusercontent.com/a-/AOh14Gj1dkF5QHwdzo0ygY_LrTIzktyfsXlogjzGema4=s64",
      "userId": "15130352723004509221"
     },
     "user_tz": 300
    },
    "id": "ZMddoLF0DOXe",
    "outputId": "c1a2f146-9e7d-49fb-f173-dcfc74000b38"
   },
   "outputs": [
    {
     "name": "stdout",
     "output_type": "stream",
     "text": [
      "True\n"
     ]
    }
   ],
   "source": [
    "# \"definición\" in diccionario.values(): devuelve verdadero (True) o falso (False) si la definición existe en el diccionario.\n",
    "print (\"Sebastian Vettel\" in diccionario.values())"
   ]
  },
  {
   "cell_type": "code",
   "execution_count": 95,
   "metadata": {
    "colab": {
     "base_uri": "https://localhost:8080/",
     "height": 34
    },
    "colab_type": "code",
    "executionInfo": {
     "elapsed": 782,
     "status": "ok",
     "timestamp": 1591057252484,
     "user": {
      "displayName": "Ana Lopez",
      "photoUrl": "https://lh3.googleusercontent.com/a-/AOh14Gj1dkF5QHwdzo0ygY_LrTIzktyfsXlogjzGema4=s64",
      "userId": "15130352723004509221"
     },
     "user_tz": 300
    },
    "id": "yQFfmXyCDTAb",
    "outputId": "623e9376-7b4c-498f-93f6-b6401dae0f5d"
   },
   "outputs": [
    {
     "name": "stdout",
     "output_type": "stream",
     "text": [
      "{'Piloto 3': 'Felipe Massa', 'Piloto 4': 'Lewis Hamilton', 'Piloto 5': 'Juan Perez'}\n"
     ]
    }
   ],
   "source": [
    "# del diccionario['key']: Elimina el valor (y el key) asociado a la key indicada.\n",
    "del diccionario['Piloto 2']\n",
    "print(diccionario)"
   ]
  },
  {
   "cell_type": "markdown",
   "metadata": {
    "colab_type": "text",
    "id": "SGhcO1nd_7qa"
   },
   "source": [
    "## Manejo de Tuplas\n",
    "\n",
    "Las tuplas son inmutables, una vez creada, no se puede cambiar ni su contenido ni su tamaño."
   ]
  },
  {
   "cell_type": "code",
   "execution_count": 96,
   "metadata": {
    "colab": {},
    "colab_type": "code",
    "id": "0iID8f9fFr6r"
   },
   "outputs": [],
   "source": [
    "tuple1 = (1,2,3,4,5)\n",
    "tuple2 = (6,7,8,9,10)"
   ]
  },
  {
   "cell_type": "code",
   "execution_count": 97,
   "metadata": {
    "colab": {},
    "colab_type": "code",
    "id": "2YqtrLDNFxW4"
   },
   "outputs": [
    {
     "name": "stdout",
     "output_type": "stream",
     "text": [
      "(1, 2, 3, 4, 5, 6, 7, 8, 9, 10)\n"
     ]
    }
   ],
   "source": [
    "# Concatenar tuplas\n",
    "tuple3 = tuple1 + tuple2\n",
    "print(tuple3)"
   ]
  },
  {
   "cell_type": "code",
   "execution_count": 98,
   "metadata": {
    "colab": {},
    "colab_type": "code",
    "id": "zBobFz2QF_LE"
   },
   "outputs": [
    {
     "name": "stdout",
     "output_type": "stream",
     "text": [
      "(1, 2, 3, 4, 5, 1, 2, 3, 4, 5, 1, 2, 3, 4, 5)\n"
     ]
    }
   ],
   "source": [
    "# Repetir tuplas\n",
    "print(tuple1 * 3)"
   ]
  },
  {
   "cell_type": "code",
   "execution_count": 99,
   "metadata": {
    "colab": {},
    "colab_type": "code",
    "id": "sgAWbjg6GEbd"
   },
   "outputs": [
    {
     "name": "stdout",
     "output_type": "stream",
     "text": [
      "False\n",
      "True\n"
     ]
    }
   ],
   "source": [
    "# Validar si un elemento esta en la tupla\n",
    "print(7 in tuple1)\n",
    "print(7 in tuple2)"
   ]
  },
  {
   "cell_type": "code",
   "execution_count": 100,
   "metadata": {
    "colab": {},
    "colab_type": "code",
    "id": "cqgdN7jpGOEM"
   },
   "outputs": [
    {
     "name": "stdout",
     "output_type": "stream",
     "text": [
      "4\n"
     ]
    }
   ],
   "source": [
    "# Devuelve el indice del elemento\n",
    "print(tuple1.index(5))"
   ]
  },
  {
   "cell_type": "code",
   "execution_count": 101,
   "metadata": {
    "colab": {},
    "colab_type": "code",
    "id": "drA9XgaDGZHt"
   },
   "outputs": [
    {
     "name": "stdout",
     "output_type": "stream",
     "text": [
      "4\n"
     ]
    }
   ],
   "source": [
    "# Devuelve cuantas veces esta un elemento repetido\n",
    "tuple4 = (65,67,5,67,34,76,67,231,98,67)\n",
    "print(tuple4.count(67))"
   ]
  },
  {
   "cell_type": "code",
   "execution_count": 102,
   "metadata": {
    "colab": {},
    "colab_type": "code",
    "id": "bI1ej2m4GqMW"
   },
   "outputs": [
    {
     "name": "stdout",
     "output_type": "stream",
     "text": [
      "34\n",
      "67\n",
      "(65, 67, 5, 67)\n",
      "(76, 67, 231, 98, 67)\n",
      "(34, 76, 67, 231)\n",
      "(67, 34, 76)\n"
     ]
    }
   ],
   "source": [
    "# Indexación\n",
    "print(tuple4[4])\n",
    "print(tuple4[-4])\n",
    "print(tuple4[:4])\n",
    "print(tuple4[5:])\n",
    "print(tuple4[-6:-2])\n",
    "print(tuple4[3:6])"
   ]
  },
  {
   "cell_type": "markdown",
   "metadata": {
    "colab_type": "text",
    "id": "e091jzoIgnHz"
   },
   "source": [
    "## Funciones de Usuario\n",
    "\n",
    "En Python, la definición de funciones se realiza mediante la instruccion `def`.  La definición de la función finaliza con dos puntos (`:`) y el algoritmo que la compone, irá con tabulación.\n",
    "\n"
   ]
  },
  {
   "cell_type": "code",
   "execution_count": 103,
   "metadata": {
    "colab": {},
    "colab_type": "code",
    "id": "B-oMd4YVgh-3"
   },
   "outputs": [],
   "source": [
    "def miFuncion():\n",
    "  print(\"Hola Mundo\")"
   ]
  },
  {
   "cell_type": "code",
   "execution_count": 104,
   "metadata": {
    "colab": {
     "base_uri": "https://localhost:8080/",
     "height": 34
    },
    "colab_type": "code",
    "executionInfo": {
     "elapsed": 839,
     "status": "ok",
     "timestamp": 1591057342979,
     "user": {
      "displayName": "Ana Lopez",
      "photoUrl": "https://lh3.googleusercontent.com/a-/AOh14Gj1dkF5QHwdzo0ygY_LrTIzktyfsXlogjzGema4=s64",
      "userId": "15130352723004509221"
     },
     "user_tz": 300
    },
    "id": "EX3W5HRJgCGY",
    "outputId": "b3351e58-10af-4755-f163-263cdeb2efcd"
   },
   "outputs": [
    {
     "name": "stdout",
     "output_type": "stream",
     "text": [
      "Hola Mundo\n"
     ]
    }
   ],
   "source": [
    "miFuncion()"
   ]
  },
  {
   "cell_type": "code",
   "execution_count": 105,
   "metadata": {
    "colab": {
     "base_uri": "https://localhost:8080/",
     "height": 51
    },
    "colab_type": "code",
    "executionInfo": {
     "elapsed": 823,
     "status": "ok",
     "timestamp": 1591057354185,
     "user": {
      "displayName": "Ana Lopez",
      "photoUrl": "https://lh3.googleusercontent.com/a-/AOh14Gj1dkF5QHwdzo0ygY_LrTIzktyfsXlogjzGema4=s64",
      "userId": "15130352723004509221"
     },
     "user_tz": 300
    },
    "id": "nWFS9JEv2_88",
    "outputId": "b0a3bcbf-098b-438a-8669-6456e94dd1ce"
   },
   "outputs": [
    {
     "name": "stdout",
     "output_type": "stream",
     "text": [
      "Hola Mundo\n",
      "None\n"
     ]
    }
   ],
   "source": [
    "valor = miFuncion()\n",
    "print(valor)"
   ]
  },
  {
   "cell_type": "markdown",
   "metadata": {
    "colab_type": "text",
    "id": "nt47tYe6lXk4"
   },
   "source": [
    "Las funciones tambien pueden retornar un valor, este puede ser asignado a una variable.\n",
    "\n",
    "```Python\n",
    "def miFuncion():\n",
    "  return \"Hola Mundo\"\n",
    "````"
   ]
  },
  {
   "cell_type": "code",
   "execution_count": 106,
   "metadata": {
    "colab": {},
    "colab_type": "code",
    "id": "aBZ2fGXslUKW"
   },
   "outputs": [],
   "source": [
    "def miFuncion():\n",
    "  return \"Hola Mundo\""
   ]
  },
  {
   "cell_type": "code",
   "execution_count": 107,
   "metadata": {
    "colab": {
     "base_uri": "https://localhost:8080/",
     "height": 51
    },
    "colab_type": "code",
    "executionInfo": {
     "elapsed": 749,
     "status": "ok",
     "timestamp": 1591057400085,
     "user": {
      "displayName": "Ana Lopez",
      "photoUrl": "https://lh3.googleusercontent.com/a-/AOh14Gj1dkF5QHwdzo0ygY_LrTIzktyfsXlogjzGema4=s64",
      "userId": "15130352723004509221"
     },
     "user_tz": 300
    },
    "id": "iwUwBPdmln5G",
    "outputId": "8cea7d7e-31fa-492a-f091-48957d72081b"
   },
   "outputs": [
    {
     "name": "stdout",
     "output_type": "stream",
     "text": [
      "Hola Mundo\n",
      "Hola Mundo\n"
     ]
    }
   ],
   "source": [
    "mensaje = miFuncion()\n",
    "print(mensaje)\n",
    "print(miFuncion())"
   ]
  },
  {
   "cell_type": "markdown",
   "metadata": {
    "colab_type": "text",
    "id": "UnADeiPAlvbJ"
   },
   "source": [
    "Las funciones tambien pueden recibir parametros de entrada.\n",
    "\n",
    "```Python\n",
    "def miFuncion(nombre, apellido):\n",
    "  return nombre + ' ' + apellido\n",
    "````"
   ]
  },
  {
   "cell_type": "code",
   "execution_count": 108,
   "metadata": {
    "colab": {},
    "colab_type": "code",
    "id": "Jkk_pRIGlr5R"
   },
   "outputs": [],
   "source": [
    "def miFuncion(nombre, apellido):\n",
    "  return nombre + ' ' + apellido"
   ]
  },
  {
   "cell_type": "code",
   "execution_count": 109,
   "metadata": {
    "colab": {},
    "colab_type": "code",
    "id": "RHNUpJVPl-Ab"
   },
   "outputs": [
    {
     "name": "stdout",
     "output_type": "stream",
     "text": [
      "Juan Perez\n"
     ]
    }
   ],
   "source": [
    "mensaje = miFuncion(\"Juan\",\"Perez\")\n",
    "print(mensaje)"
   ]
  },
  {
   "cell_type": "markdown",
   "metadata": {
    "colab_type": "text",
    "id": "som2cF3NoNNi"
   },
   "source": [
    "Las funciones pueden tener parametros de entrada con valores por defecto.\n",
    "\n",
    "```Python\n",
    "def miFuncion(nombre, apellido, mensaje = 'Hola'):\n",
    "  return mensaje + ' ' + nombre + ' ' + apellido\n",
    "````"
   ]
  },
  {
   "cell_type": "code",
   "execution_count": 110,
   "metadata": {
    "colab": {},
    "colab_type": "code",
    "id": "ORPtW5HcoerO"
   },
   "outputs": [],
   "source": [
    "def miFuncion(nombre, apellido, mensaje = 'Hola'):\n",
    "  return mensaje + ' ' + nombre + ' ' + apellido"
   ]
  },
  {
   "cell_type": "code",
   "execution_count": 111,
   "metadata": {
    "colab": {
     "base_uri": "https://localhost:8080/",
     "height": 34
    },
    "colab_type": "code",
    "executionInfo": {
     "elapsed": 692,
     "status": "ok",
     "timestamp": 1591057459353,
     "user": {
      "displayName": "Ana Lopez",
      "photoUrl": "https://lh3.googleusercontent.com/a-/AOh14Gj1dkF5QHwdzo0ygY_LrTIzktyfsXlogjzGema4=s64",
      "userId": "15130352723004509221"
     },
     "user_tz": 300
    },
    "id": "zDWgEwOOoh7_",
    "outputId": "bebbd3e6-6b24-41e4-8382-107bc0896b6d"
   },
   "outputs": [
    {
     "name": "stdout",
     "output_type": "stream",
     "text": [
      "Hola Juan Perez\n"
     ]
    }
   ],
   "source": [
    "mensaje = miFuncion(\"Juan\",\"Perez\")\n",
    "print(mensaje)"
   ]
  },
  {
   "cell_type": "code",
   "execution_count": 112,
   "metadata": {
    "colab": {
     "base_uri": "https://localhost:8080/",
     "height": 34
    },
    "colab_type": "code",
    "executionInfo": {
     "elapsed": 703,
     "status": "ok",
     "timestamp": 1591057462865,
     "user": {
      "displayName": "Ana Lopez",
      "photoUrl": "https://lh3.googleusercontent.com/a-/AOh14Gj1dkF5QHwdzo0ygY_LrTIzktyfsXlogjzGema4=s64",
      "userId": "15130352723004509221"
     },
     "user_tz": 300
    },
    "id": "fSS2k2ZQojfM",
    "outputId": "e3e0bbba-42b3-4f3b-9bf6-9af66bc13874"
   },
   "outputs": [
    {
     "name": "stdout",
     "output_type": "stream",
     "text": [
      "Chao Juan Perez\n"
     ]
    }
   ],
   "source": [
    "mensaje = miFuncion(\"Juan\",\"Perez\",\"Chao\")\n",
    "print(mensaje)"
   ]
  },
  {
   "cell_type": "markdown",
   "metadata": {
    "colab_type": "text",
    "id": "hFTNODUAmD-v"
   },
   "source": [
    "### Ejercicio 4\n",
    "\n",
    "Escriba una función que calcule un valor según una formula dada:\n",
    "\n",
    "$Q = sqrt( (2 * C)/H )$\n",
    "\n",
    "$C$ Es un numero entero\n",
    "\n",
    "$H$ Es un numero entero\n",
    "\n",
    "La función debe de retornar el valor de $Q$.\n",
    "\n",
    "**Tip:** En Python se pueden importar librerias o paquetes usando `import`, para este ejercicio se importara la libreria de matematicas `math`. Para usar el metodo `sqrt` se realiza el llamado de la siguiente manera `math.sqrt(numero)`"
   ]
  },
  {
   "cell_type": "code",
   "execution_count": 113,
   "metadata": {
    "colab": {},
    "colab_type": "code",
    "id": "IPmk2xcim1s2"
   },
   "outputs": [],
   "source": [
    "# Su Codigo"
   ]
  },
  {
   "cell_type": "markdown",
   "metadata": {
    "colab_type": "text",
    "id": "MEZrtKFBo9D3"
   },
   "source": [
    "### Ejercicio 5\n",
    "\n",
    "Escriba una función que calcule el area de un triangulo:\n",
    "\n",
    "$Area = (Base*Altura)/2 $\n",
    "\n",
    "$Base$ Es un numero entero o real.\n",
    "$Altura$ Es un numero entero o real.\n",
    "\n",
    "La función debe de retornar el valor del $Area$."
   ]
  },
  {
   "cell_type": "code",
   "execution_count": 114,
   "metadata": {
    "colab": {},
    "colab_type": "code",
    "id": "zYVK465Oo8R2"
   },
   "outputs": [],
   "source": [
    "# Su Codigo"
   ]
  },
  {
   "cell_type": "markdown",
   "metadata": {
    "colab_type": "text",
    "id": "6d7bbtJhp4KL"
   },
   "source": [
    "### Ejercicio 6\n",
    "\n",
    "Escriba una función que reciba como parametro un número entero y una lista, debe de adicionar a la lista el numero elevado al cubo y devolver la lista con el nuevo elemento."
   ]
  },
  {
   "cell_type": "code",
   "execution_count": 115,
   "metadata": {
    "colab": {},
    "colab_type": "code",
    "id": "hal1dT42p1tC"
   },
   "outputs": [],
   "source": [
    "# Su Codigo"
   ]
  },
  {
   "cell_type": "markdown",
   "metadata": {
    "colab_type": "text",
    "id": "_BJi1dmXHe9e"
   },
   "source": [
    "## Conjuntos en Python\n",
    "\n",
    "Python tiene un tipo de dato `set` el cual nos permite trabajar con conjuntos y realizar operaciones de conjuntos con estas variables.  Se define entre llaves (`{}`) y se separan los elementos con comas. \n",
    "\n",
    "```python\n",
    "conjunto = {1,2,3}\n",
    "````"
   ]
  },
  {
   "cell_type": "code",
   "execution_count": 116,
   "metadata": {
    "colab": {},
    "colab_type": "code",
    "id": "vH2b2v91HeGu"
   },
   "outputs": [],
   "source": [
    "# Definiendo conjuntos\n",
    "c1 = {1, 2, 3, 4, 5, 6}\n",
    "c2 = {2, 4, 6, 8, 10}\n",
    "c3 = {1, 2, 3}\n",
    "c4 = {4, 5, 6}"
   ]
  },
  {
   "cell_type": "code",
   "execution_count": 117,
   "metadata": {
    "colab": {
     "base_uri": "https://localhost:8080/",
     "height": 51
    },
    "colab_type": "code",
    "executionInfo": {
     "elapsed": 914,
     "status": "ok",
     "timestamp": 1591057500932,
     "user": {
      "displayName": "Ana Lopez",
      "photoUrl": "https://lh3.googleusercontent.com/a-/AOh14Gj1dkF5QHwdzo0ygY_LrTIzktyfsXlogjzGema4=s64",
      "userId": "15130352723004509221"
     },
     "user_tz": 300
    },
    "id": "1ZN6ZH3zIGFu",
    "outputId": "8be07b31-6037-43c4-c99d-0b427e1a2dd1"
   },
   "outputs": [
    {
     "name": "stdout",
     "output_type": "stream",
     "text": [
      "{1, 2, 3, 4, 5, 6, 8, 10}\n",
      "{1, 2, 3, 4, 5, 6, 8, 10}\n"
     ]
    }
   ],
   "source": [
    "# Union de conjuntos\n",
    "print(c1|c2)\n",
    "print(c1|c2|c3)"
   ]
  },
  {
   "cell_type": "code",
   "execution_count": 118,
   "metadata": {
    "colab": {
     "base_uri": "https://localhost:8080/",
     "height": 34
    },
    "colab_type": "code",
    "executionInfo": {
     "elapsed": 719,
     "status": "ok",
     "timestamp": 1591057504263,
     "user": {
      "displayName": "Ana Lopez",
      "photoUrl": "https://lh3.googleusercontent.com/a-/AOh14Gj1dkF5QHwdzo0ygY_LrTIzktyfsXlogjzGema4=s64",
      "userId": "15130352723004509221"
     },
     "user_tz": 300
    },
    "id": "06giFyw4IhSG",
    "outputId": "8e509237-5ad8-4e0e-b8ec-5ccf2675668c"
   },
   "outputs": [
    {
     "name": "stdout",
     "output_type": "stream",
     "text": [
      "{1, 2, 3, 4, 5, 6, 8, 10}\n"
     ]
    }
   ],
   "source": [
    "# Tambien puede hacerse la union con el metodo\n",
    "print(c1.union(c2))"
   ]
  },
  {
   "cell_type": "code",
   "execution_count": 119,
   "metadata": {
    "colab": {
     "base_uri": "https://localhost:8080/",
     "height": 51
    },
    "colab_type": "code",
    "executionInfo": {
     "elapsed": 771,
     "status": "ok",
     "timestamp": 1591057508124,
     "user": {
      "displayName": "Ana Lopez",
      "photoUrl": "https://lh3.googleusercontent.com/a-/AOh14Gj1dkF5QHwdzo0ygY_LrTIzktyfsXlogjzGema4=s64",
      "userId": "15130352723004509221"
     },
     "user_tz": 300
    },
    "id": "PU7yfesqIKnD",
    "outputId": "8cac85ac-ce15-4c5a-e200-3e9001a781b8"
   },
   "outputs": [
    {
     "name": "stdout",
     "output_type": "stream",
     "text": [
      "{2, 4, 6}\n",
      "set()\n"
     ]
    }
   ],
   "source": [
    "# Intersección de conjuntos\n",
    "print(c1&c2)\n",
    "print(c1 & c2 & c3 & c4)"
   ]
  },
  {
   "cell_type": "code",
   "execution_count": 120,
   "metadata": {
    "colab": {
     "base_uri": "https://localhost:8080/",
     "height": 34
    },
    "colab_type": "code",
    "executionInfo": {
     "elapsed": 684,
     "status": "ok",
     "timestamp": 1591057513736,
     "user": {
      "displayName": "Ana Lopez",
      "photoUrl": "https://lh3.googleusercontent.com/a-/AOh14Gj1dkF5QHwdzo0ygY_LrTIzktyfsXlogjzGema4=s64",
      "userId": "15130352723004509221"
     },
     "user_tz": 300
    },
    "id": "lBva9uaFIm7z",
    "outputId": "87d313b3-d43c-4402-bdde-01c00093d3aa"
   },
   "outputs": [
    {
     "name": "stdout",
     "output_type": "stream",
     "text": [
      "{2}\n"
     ]
    }
   ],
   "source": [
    "# Tambien puede hacerse la intersección con el metodo\n",
    "print(c1.intersection(c2,c3))"
   ]
  },
  {
   "cell_type": "code",
   "execution_count": 121,
   "metadata": {
    "colab": {
     "base_uri": "https://localhost:8080/",
     "height": 34
    },
    "colab_type": "code",
    "executionInfo": {
     "elapsed": 563,
     "status": "ok",
     "timestamp": 1591057517106,
     "user": {
      "displayName": "Ana Lopez",
      "photoUrl": "https://lh3.googleusercontent.com/a-/AOh14Gj1dkF5QHwdzo0ygY_LrTIzktyfsXlogjzGema4=s64",
      "userId": "15130352723004509221"
     },
     "user_tz": 300
    },
    "id": "yflsGQ9hIW9t",
    "outputId": "48045caa-1d79-45e2-a3f8-b6b5ec0a99ec",
    "scrolled": true
   },
   "outputs": [
    {
     "name": "stdout",
     "output_type": "stream",
     "text": [
      "{1, 3, 5}\n"
     ]
    }
   ],
   "source": [
    "# Diferencia de conjuntos\n",
    "print(c1-c2)"
   ]
  },
  {
   "cell_type": "code",
   "execution_count": 122,
   "metadata": {
    "colab": {
     "base_uri": "https://localhost:8080/",
     "height": 34
    },
    "colab_type": "code",
    "executionInfo": {
     "elapsed": 698,
     "status": "ok",
     "timestamp": 1591057519293,
     "user": {
      "displayName": "Ana Lopez",
      "photoUrl": "https://lh3.googleusercontent.com/a-/AOh14Gj1dkF5QHwdzo0ygY_LrTIzktyfsXlogjzGema4=s64",
      "userId": "15130352723004509221"
     },
     "user_tz": 300
    },
    "id": "aEMq5n2MJAns",
    "outputId": "a48695f5-6042-4c25-c861-d563543213a6"
   },
   "outputs": [
    {
     "name": "stdout",
     "output_type": "stream",
     "text": [
      "{1, 3, 5}\n"
     ]
    }
   ],
   "source": [
    "# Diferencia de conjuntos con el metodo\n",
    "print(c1.difference(c2))"
   ]
  },
  {
   "cell_type": "code",
   "execution_count": 123,
   "metadata": {
    "colab": {
     "base_uri": "https://localhost:8080/",
     "height": 34
    },
    "colab_type": "code",
    "executionInfo": {
     "elapsed": 667,
     "status": "ok",
     "timestamp": 1591057523864,
     "user": {
      "displayName": "Ana Lopez",
      "photoUrl": "https://lh3.googleusercontent.com/a-/AOh14Gj1dkF5QHwdzo0ygY_LrTIzktyfsXlogjzGema4=s64",
      "userId": "15130352723004509221"
     },
     "user_tz": 300
    },
    "id": "CF1rCOAXIbpC",
    "outputId": "bc1dbfda-7358-4cf2-956f-162bd6375496"
   },
   "outputs": [
    {
     "name": "stdout",
     "output_type": "stream",
     "text": [
      "{1, 3, 5, 8, 10}\n"
     ]
    }
   ],
   "source": [
    "# Union exclusiva\n",
    "print(c1^c2)"
   ]
  },
  {
   "cell_type": "code",
   "execution_count": 124,
   "metadata": {
    "colab": {
     "base_uri": "https://localhost:8080/",
     "height": 34
    },
    "colab_type": "code",
    "executionInfo": {
     "elapsed": 733,
     "status": "ok",
     "timestamp": 1591057525785,
     "user": {
      "displayName": "Ana Lopez",
      "photoUrl": "https://lh3.googleusercontent.com/a-/AOh14Gj1dkF5QHwdzo0ygY_LrTIzktyfsXlogjzGema4=s64",
      "userId": "15130352723004509221"
     },
     "user_tz": 300
    },
    "id": "Z82kOAwuJHrr",
    "outputId": "3a463abd-51a9-4717-dbfb-c35ee612d111"
   },
   "outputs": [
    {
     "name": "stdout",
     "output_type": "stream",
     "text": [
      "{1, 3, 5, 8, 10}\n"
     ]
    }
   ],
   "source": [
    "# Union exclusiva con el metodo\n",
    "print(c1.symmetric_difference(c2))"
   ]
  },
  {
   "cell_type": "code",
   "execution_count": null,
   "metadata": {},
   "outputs": [],
   "source": []
  },
  {
   "cell_type": "code",
   "execution_count": 16,
   "metadata": {},
   "outputs": [],
   "source": [
    "x=4"
   ]
  },
  {
   "cell_type": "markdown",
   "metadata": {},
   "source": [
    "**Prohibida cualquier acto de reproducción,\n",
    "distribución, comunicación pública y\n",
    "transformación de esta obra, sin previa\n",
    "autorización del titular de los derechos\n",
    "patrimoniales de propiedad intelectual. Todos los\n",
    "derechos reservados para la Universidad Ean**"
   ]
  },
  {
   "cell_type": "markdown",
   "metadata": {},
   "source": [
    "<img style=\"float: right;\" src=\"ean2.png\" width=\"1000\">"
   ]
  }
 ],
 "metadata": {
  "colab": {
   "name": "Sesión 1. Introducción.ipynb",
   "provenance": []
  },
  "kernelspec": {
   "display_name": "Python 3 (ipykernel)",
   "language": "python",
   "name": "python3"
  },
  "language_info": {
   "codemirror_mode": {
    "name": "ipython",
    "version": 3
   },
   "file_extension": ".py",
   "mimetype": "text/x-python",
   "name": "python",
   "nbconvert_exporter": "python",
   "pygments_lexer": "ipython3",
   "version": "3.9.7"
  },
  "toc": {
   "base_numbering": 1,
   "nav_menu": {},
   "number_sections": true,
   "sideBar": true,
   "skip_h1_title": false,
   "title_cell": "Table of Contents",
   "title_sidebar": "Contents",
   "toc_cell": false,
   "toc_position": {},
   "toc_section_display": true,
   "toc_window_display": false
  },
  "varInspector": {
   "cols": {
    "lenName": 16,
    "lenType": 16,
    "lenVar": 40
   },
   "kernels_config": {
    "python": {
     "delete_cmd_postfix": "",
     "delete_cmd_prefix": "del ",
     "library": "var_list.py",
     "varRefreshCmd": "print(var_dic_list())"
    },
    "r": {
     "delete_cmd_postfix": ") ",
     "delete_cmd_prefix": "rm(",
     "library": "var_list.r",
     "varRefreshCmd": "cat(var_dic_list()) "
    }
   },
   "types_to_exclude": [
    "module",
    "function",
    "builtin_function_or_method",
    "instance",
    "_Feature"
   ],
   "window_display": false
  }
 },
 "nbformat": 4,
 "nbformat_minor": 4
}
