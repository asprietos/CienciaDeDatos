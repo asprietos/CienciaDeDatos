{
 "cells": [
  {
   "cell_type": "markdown",
   "metadata": {},
   "source": [
    "# Proyecto Venta de Casas en King County, USA"
   ]
  },
  {
   "cell_type": "markdown",
   "metadata": {
    "ExecuteTime": {
     "end_time": "2022-04-03T15:31:51.771121Z",
     "start_time": "2022-04-03T15:31:51.737119Z"
    }
   },
   "source": [
    "Los datos están disponibles [aquí](https://www.kaggle.com/datasets/harlfoxem/housesalesprediction)\n",
    "\n",
    "## Preguntas del CEO\n",
    "A partir de estos datos, hay que contestar las siguientes preguntas. \n",
    "\n",
    "1. ¿Cuántas casas hay disponibles para comprar?\n",
    "2. ¿Cuántos atributos tienen las casas?\n",
    "3. ¿Cuáles son los atributos de las casas?\n",
    "4. ¿Cuál es la casa más cara (casa con mayor valor de venta)?\n",
    "5. ¿Qué casa tiene más cuartos?\n",
    "6. ¿Cuál es la suma total de trimestres en el conjunto de datos?\n",
    "7. ¿Cuántas casas tienen 2 baños?\n",
    "8. ¿Cuál es el precio promedio de todas las casas en el conjunto de datos?\n",
    "9. ¿Cuál es el precio medio de las viviendas de 2 baños?\n",
    "10. ¿Cuál es el precio mínimo para viviendas de 3 dormitorios?\n",
    "11. ¿Cuántas casas tienen más de 300 metros cuadrados en la sala?\n",
    "12. ¿Cuántas casas tienen más de 2 plantas?\n",
    "13. ¿Cuántas casas tienen vista al mar?\n",
    "14. De las casas con vistas al mar, ¿cuántas tienen 3 habitaciones?\n",
    "15. De las casas con más de 300 metros cuadrados de salón, ¿cuántas tienen más de 2 baños?"
   ]
  },
  {
   "cell_type": "markdown",
   "metadata": {},
   "source": [
    "## Respondiendo las preguntas del CEO "
   ]
  },
  {
   "cell_type": "code",
   "execution_count": null,
   "metadata": {},
   "outputs": [],
   "source": []
  },
  {
   "cell_type": "code",
   "execution_count": null,
   "metadata": {},
   "outputs": [],
   "source": []
  },
  {
   "cell_type": "code",
   "execution_count": null,
   "metadata": {},
   "outputs": [],
   "source": []
  },
  {
   "cell_type": "markdown",
   "metadata": {},
   "source": [
    "# 1. ¿Cuántas casas hay disponibles para comprar?\n"
   ]
  },
  {
   "cell_type": "code",
   "execution_count": null,
   "metadata": {},
   "outputs": [],
   "source": []
  },
  {
   "cell_type": "markdown",
   "metadata": {},
   "source": [
    "# 2. ¿Cuántos atributos tienen las casas?\n"
   ]
  },
  {
   "cell_type": "code",
   "execution_count": null,
   "metadata": {},
   "outputs": [],
   "source": []
  },
  {
   "cell_type": "markdown",
   "metadata": {},
   "source": [
    "# 3. ¿Cuáles son los atributos de las casas?\n"
   ]
  },
  {
   "cell_type": "code",
   "execution_count": null,
   "metadata": {},
   "outputs": [],
   "source": []
  },
  {
   "cell_type": "markdown",
   "metadata": {},
   "source": [
    "# 4. ¿Cuál es la casa más cara (casa con mayor valor de venta)?\n"
   ]
  },
  {
   "cell_type": "code",
   "execution_count": null,
   "metadata": {},
   "outputs": [],
   "source": []
  },
  {
   "cell_type": "markdown",
   "metadata": {},
   "source": [
    "# 5. ¿Qué casa tiene más cuartos?\n"
   ]
  },
  {
   "cell_type": "code",
   "execution_count": null,
   "metadata": {},
   "outputs": [],
   "source": []
  },
  {
   "cell_type": "markdown",
   "metadata": {},
   "source": [
    "# 6. ¿Cuál es la suma total de trimestres en el conjunto de datos?\n"
   ]
  },
  {
   "cell_type": "code",
   "execution_count": null,
   "metadata": {},
   "outputs": [],
   "source": []
  },
  {
   "cell_type": "markdown",
   "metadata": {},
   "source": [
    "# 7. ¿Cuántas casas tienen 2 baños?\n"
   ]
  },
  {
   "cell_type": "code",
   "execution_count": null,
   "metadata": {},
   "outputs": [],
   "source": []
  },
  {
   "cell_type": "markdown",
   "metadata": {},
   "source": [
    "# 8. ¿Cuál es el precio promedio de todas las casas en el conjunto de datos?\n"
   ]
  },
  {
   "cell_type": "code",
   "execution_count": null,
   "metadata": {},
   "outputs": [],
   "source": []
  },
  {
   "cell_type": "markdown",
   "metadata": {},
   "source": [
    "# 9. ¿Cuál es el precio medio de las viviendas de 2 baños?\n"
   ]
  },
  {
   "cell_type": "code",
   "execution_count": null,
   "metadata": {},
   "outputs": [],
   "source": []
  },
  {
   "cell_type": "markdown",
   "metadata": {},
   "source": [
    "# 10. ¿Cuál es el precio mínimo para viviendas de 3 dormitorios?\n"
   ]
  },
  {
   "cell_type": "code",
   "execution_count": null,
   "metadata": {},
   "outputs": [],
   "source": []
  },
  {
   "cell_type": "markdown",
   "metadata": {},
   "source": [
    "# 11. ¿Cuántas casas tienen más de 300 metros cuadrados en la sala?\n"
   ]
  },
  {
   "cell_type": "code",
   "execution_count": null,
   "metadata": {},
   "outputs": [],
   "source": []
  },
  {
   "cell_type": "markdown",
   "metadata": {},
   "source": [
    "# 12. ¿Cuántas casas tienen más de 2 plantas?\n"
   ]
  },
  {
   "cell_type": "code",
   "execution_count": null,
   "metadata": {},
   "outputs": [],
   "source": []
  },
  {
   "cell_type": "markdown",
   "metadata": {},
   "source": [
    "# 13. ¿Cuántas casas tienen vista al mar?\n"
   ]
  },
  {
   "cell_type": "code",
   "execution_count": null,
   "metadata": {},
   "outputs": [],
   "source": []
  },
  {
   "cell_type": "markdown",
   "metadata": {},
   "source": [
    "# 14. De las casas con vistas al mar, ¿cuántas tienen 3 habitaciones?\n"
   ]
  },
  {
   "cell_type": "code",
   "execution_count": null,
   "metadata": {},
   "outputs": [],
   "source": []
  },
  {
   "cell_type": "markdown",
   "metadata": {},
   "source": [
    "# 15. De las casas con más de 300 metros cuadrados de salón, ¿cuántas tienen más de 2 baños?"
   ]
  },
  {
   "cell_type": "code",
   "execution_count": null,
   "metadata": {},
   "outputs": [],
   "source": []
  },
  {
   "cell_type": "markdown",
   "metadata": {
    "ExecuteTime": {
     "end_time": "2022-04-08T00:44:29.358461Z",
     "start_time": "2022-04-08T00:44:29.294280Z"
    }
   },
   "source": [
    "# Algunas preguntas más del CEO "
   ]
  },
  {
   "cell_type": "markdown",
   "metadata": {
    "ExecuteTime": {
     "end_time": "2022-04-08T00:44:35.625629Z",
     "start_time": "2022-04-08T00:44:35.573624Z"
    }
   },
   "source": [
    "1. ¿Cuál es el número de inmuebles por año de construcción?\n",
    "2. ¿Cuál es el menor número de cuartos por año de construcción de las propiedades?\n",
    "3. ¿Cuál es el precio de compra más alto por cada número de habitaciones?\n",
    "4. ¿Cuál es la suma de todos los precios de compra por cada número de habitaciones?\n",
    "5. ¿Cuál es la suma de todos los precios de compra por el número de dormitorios y baños?\n",
    "6. ¿Cuál es el tamaño promedio de las habitaciones de los inmuebles por año de construcción?\n",
    "7. ¿Cuál es el tamaño medio de las habitaciones de los inmuebles por año de construcción?\n",
    "8. ¿Cuál es la desviación estándar del tamaño de las habitaciones de las propiedades por año de construcción?\n",
    "9. ¿Cómo es el crecimiento promedio de los precios de compra de inmuebles, por día, mes y año?\n",
    "10. Me gustaría mirar en el mapa y poder identificar las casas con el precio más alto"
   ]
  },
  {
   "cell_type": "markdown",
   "metadata": {},
   "source": [
    "# 1. ¿Cuál es el número de inmuebles por año de construcción?"
   ]
  },
  {
   "cell_type": "code",
   "execution_count": null,
   "metadata": {},
   "outputs": [],
   "source": []
  },
  {
   "cell_type": "markdown",
   "metadata": {},
   "source": [
    "# 2. ¿Cuál es el menor número de cuartos por año de construcción de las propiedades?"
   ]
  },
  {
   "cell_type": "code",
   "execution_count": null,
   "metadata": {},
   "outputs": [],
   "source": []
  },
  {
   "cell_type": "markdown",
   "metadata": {},
   "source": [
    "# 3. ¿Cuál es el precio de compra más alto por cada número de habitaciones?"
   ]
  },
  {
   "cell_type": "code",
   "execution_count": null,
   "metadata": {},
   "outputs": [],
   "source": []
  },
  {
   "cell_type": "markdown",
   "metadata": {},
   "source": [
    "# 4. ¿Cuál es la suma de todos los precios de compra por cada número de habitaciones?"
   ]
  },
  {
   "cell_type": "code",
   "execution_count": null,
   "metadata": {},
   "outputs": [],
   "source": []
  },
  {
   "cell_type": "markdown",
   "metadata": {},
   "source": [
    "# 5. ¿Cuál es la suma de todos los precios de compra por el número de dormitorios y baños?"
   ]
  },
  {
   "cell_type": "code",
   "execution_count": null,
   "metadata": {},
   "outputs": [],
   "source": []
  },
  {
   "cell_type": "markdown",
   "metadata": {},
   "source": [
    "# 6. ¿Cuál es el tamaño promedio de las habitaciones de los inmuebles por año de construcción?"
   ]
  },
  {
   "cell_type": "code",
   "execution_count": null,
   "metadata": {},
   "outputs": [],
   "source": []
  },
  {
   "cell_type": "markdown",
   "metadata": {},
   "source": [
    "# 7. ¿Cuál es el tamaño medio de las habitaciones de los inmuebles por año de construcción?"
   ]
  },
  {
   "cell_type": "code",
   "execution_count": null,
   "metadata": {},
   "outputs": [],
   "source": []
  },
  {
   "cell_type": "markdown",
   "metadata": {},
   "source": [
    "# 8. ¿Cuál es la desviación estándar del tamaño de las habitaciones de las propiedades por año de construcción?"
   ]
  },
  {
   "cell_type": "code",
   "execution_count": null,
   "metadata": {},
   "outputs": [],
   "source": []
  },
  {
   "cell_type": "markdown",
   "metadata": {},
   "source": [
    "# 9. ¿Cómo es el crecimiento promedio de los precios de compra de inmuebles, por día, mes y año?"
   ]
  },
  {
   "cell_type": "code",
   "execution_count": null,
   "metadata": {},
   "outputs": [],
   "source": []
  },
  {
   "cell_type": "markdown",
   "metadata": {},
   "source": [
    "# 10. Me gustaría mirar en el mapa y poder identificar las casas con el precio más alto"
   ]
  },
  {
   "cell_type": "markdown",
   "metadata": {},
   "source": []
  },
  {
   "cell_type": "markdown",
   "metadata": {},
   "source": [
    "# Nuevas preguntas del CEO "
   ]
  },
  {
   "cell_type": "markdown",
   "metadata": {
    "ExecuteTime": {
     "end_time": "2022-04-07T02:24:42.173893Z",
     "start_time": "2022-04-07T02:24:41.965698Z"
    }
   },
   "source": [
    "1. Cree una nueva columna llamada: \"house_age\"\n",
    "    - Si el valor de la columna \"fecha\" es mayor que 2014-01-01 => 'nueva_casa'\n",
    "    - Si el valor de la columna \"fecha\" es menor que 2014-01-01 => 'old_house'\n",
    "2. Cree una nueva columna llamada: \"dormitory_type\"\n",
    "    - Si el valor de la columna “dormitorios” es igual a 1 => ‘estudio’\n",
    "    - Si el valor de la columna “dormitorios” es igual a 2 => 'apartamento'\n",
    "    - Si el valor de la columna “dormitorios” es mayor a 2 => 'casa'\n",
    "3. Cree una nueva columna llamada: \"condition_type\"\n",
    "    - Si el valor de la columna \"condición\" es menor o igual a 2 => 'malo'\n",
    "    - Si el valor de la columna \"condición\" es igual a 3 o 4 => 'regular'\n",
    "    - Si el valor de la columna \"condición\" es igual a 5 => 'bueno'\n",
    "4. Cambie el TIPO en la columna \"condición\" a CADENA\n",
    "5. Elimine las columnas: \"sqft_living15\" y \"sqft_lot15\"\n",
    "6. Cambie el TIPO en la columna \"yr_build\" a FECHA\n",
    "7. Cambie el TIPO en la columna \"yr_renovated\" a FECHA\n",
    "8. ¿Cuál es la fecha más temprana de construcción de una propiedad?\n",
    "9. ¿Cuál es la fecha de renovación más temprana para una propiedad?\n",
    "10. ¿Cuántas propiedades tienen 2 pisos?\n",
    "11. ¿Cuántas propiedades se encuentran en condición igual a “regular”?\n",
    "12. ¿Cuántas propiedades están en una condición igual a “mala” y tienen “vistas al agua”?\n",
    "13. ¿Cuántas propiedades tienen una condición igual a “buena” y son “nueva_casa”?\n",
    "14. ¿Cuál es el valor de la propiedad de “estudio” más cara?\n",
    "15. ¿Cuántas propiedades de “apartamentos” se renovaron en 2015?\n",
    "16. ¿Cuál es la mayor cantidad de cuartos que tiene una propiedad tipo “casa”?\n",
    "17. ¿Cuántas propiedades de “casa_nueva” se renovaron en 2014?\n",
    "18. Seleccione las columnas: “id”, “fecha”, “precio”, “pisos”, “código postal” por método:\n",
    "    - Directo por nombre de columna.\n",
    "    - Por los Índices.\n",
    "    - Por los índices de las filas y el nombre de las columnas\n",
    "    - Índices booleanos \n",
    "19. Guarde un archivo .csv con solo las columnas del elemento 10 al 17."
   ]
  },
  {
   "cell_type": "markdown",
   "metadata": {
    "ExecuteTime": {
     "end_time": "2022-04-07T02:26:37.610157Z",
     "start_time": "2022-04-07T02:26:37.593150Z"
    }
   },
   "source": [
    "# 1. Cree una nueva columna llamada: \"house_age\"\n",
    "    - Si el valor de la columna \"fecha\" es mayor que 2014-01-01 => 'nueva_casa'\n",
    "    - Si el valor de la columna \"fecha\" es menor que 2014-01-01 => 'old_house'\n"
   ]
  },
  {
   "cell_type": "code",
   "execution_count": null,
   "metadata": {},
   "outputs": [],
   "source": []
  },
  {
   "cell_type": "markdown",
   "metadata": {
    "ExecuteTime": {
     "end_time": "2022-04-07T02:26:38.077155Z",
     "start_time": "2022-04-07T02:26:38.049151Z"
    }
   },
   "source": [
    "# 2. Cree una nueva columna llamada: \"dormitory_type\"\n",
    "    - Si el valor de la columna “dormitorios” es igual a 1 => ‘estudio’\n",
    "    - Si el valor de la columna “dormitorios” es igual a 2 => 'apartamento'\n",
    "    - Si el valor de la columna “dormitorios” es mayor a 2 => 'casa'\n"
   ]
  },
  {
   "cell_type": "code",
   "execution_count": null,
   "metadata": {},
   "outputs": [],
   "source": []
  },
  {
   "cell_type": "markdown",
   "metadata": {
    "ExecuteTime": {
     "end_time": "2022-04-07T02:26:38.098151Z",
     "start_time": "2022-04-07T02:26:38.098151Z"
    }
   },
   "source": [
    "# 3. Cree una nueva columna llamada: \"condition_type\"\n",
    "    - Si el valor de la columna \"condición\" es menor o igual a 2 => 'malo'\n",
    "    - Si el valor de la columna \"condición\" es igual a 3 o 4 => 'regular'\n",
    "    - Si el valor de la columna \"condición\" es igual a 5 => 'bueno'\n"
   ]
  },
  {
   "cell_type": "code",
   "execution_count": null,
   "metadata": {},
   "outputs": [],
   "source": []
  },
  {
   "cell_type": "markdown",
   "metadata": {
    "ExecuteTime": {
     "end_time": "2022-04-07T02:26:38.118167Z",
     "start_time": "2022-04-07T02:26:38.118167Z"
    }
   },
   "source": [
    "# 4. Cambie el TIPO en la columna \"condición\" a CADENA\n"
   ]
  },
  {
   "cell_type": "code",
   "execution_count": null,
   "metadata": {},
   "outputs": [],
   "source": []
  },
  {
   "cell_type": "markdown",
   "metadata": {
    "ExecuteTime": {
     "end_time": "2022-04-07T02:26:38.455158Z",
     "start_time": "2022-04-07T02:26:38.442152Z"
    }
   },
   "source": [
    "# 5. Elimine las columnas: \"sqft_living15\" y \"sqft_lot15\"\n"
   ]
  },
  {
   "cell_type": "code",
   "execution_count": null,
   "metadata": {},
   "outputs": [],
   "source": []
  },
  {
   "cell_type": "markdown",
   "metadata": {
    "ExecuteTime": {
     "end_time": "2022-04-07T02:26:38.755153Z",
     "start_time": "2022-04-07T02:26:38.748151Z"
    }
   },
   "source": [
    "# 6. Cambie el TIPO en la columna \"yr_build\" a FECHA\n"
   ]
  },
  {
   "cell_type": "code",
   "execution_count": null,
   "metadata": {},
   "outputs": [],
   "source": []
  },
  {
   "cell_type": "markdown",
   "metadata": {
    "ExecuteTime": {
     "end_time": "2022-04-07T02:26:39.033157Z",
     "start_time": "2022-04-07T02:26:39.019150Z"
    }
   },
   "source": [
    "# 7. Cambie el TIPO en la columna \"yr_renovated\" a FECHA\n"
   ]
  },
  {
   "cell_type": "code",
   "execution_count": null,
   "metadata": {},
   "outputs": [],
   "source": []
  },
  {
   "cell_type": "markdown",
   "metadata": {
    "ExecuteTime": {
     "end_time": "2022-04-07T02:26:39.300173Z",
     "start_time": "2022-04-07T02:26:39.287152Z"
    }
   },
   "source": [
    "# 8. ¿Cuál es la fecha más temprana de construcción de una propiedad?\n"
   ]
  },
  {
   "cell_type": "code",
   "execution_count": null,
   "metadata": {},
   "outputs": [],
   "source": []
  },
  {
   "cell_type": "markdown",
   "metadata": {},
   "source": [
    "# 9. ¿Cuál es la fecha de renovación más temprana para una propiedad?\n"
   ]
  },
  {
   "cell_type": "code",
   "execution_count": null,
   "metadata": {},
   "outputs": [],
   "source": []
  },
  {
   "cell_type": "markdown",
   "metadata": {},
   "source": [
    "# 10. ¿Cuántas propiedades tienen 2 pisos?\n"
   ]
  },
  {
   "cell_type": "code",
   "execution_count": null,
   "metadata": {},
   "outputs": [],
   "source": []
  },
  {
   "cell_type": "markdown",
   "metadata": {},
   "source": [
    "# 11. ¿Cuántas propiedades se encuentran en condición igual a “regular”?\n"
   ]
  },
  {
   "cell_type": "code",
   "execution_count": null,
   "metadata": {},
   "outputs": [],
   "source": []
  },
  {
   "cell_type": "markdown",
   "metadata": {},
   "source": [
    "# 12. ¿Cuántas propiedades están en una condición igual a “mala” y tienen “vistas al agua”?\n"
   ]
  },
  {
   "cell_type": "code",
   "execution_count": null,
   "metadata": {},
   "outputs": [],
   "source": []
  },
  {
   "cell_type": "markdown",
   "metadata": {},
   "source": [
    "# 13. ¿Cuántas propiedades tienen una condición igual a “buena” y son “nueva_casa”?\n"
   ]
  },
  {
   "cell_type": "code",
   "execution_count": null,
   "metadata": {},
   "outputs": [],
   "source": []
  },
  {
   "cell_type": "markdown",
   "metadata": {},
   "source": [
    "# 14. ¿Cuál es el valor de la propiedad de “estudio” más cara?\n"
   ]
  },
  {
   "cell_type": "code",
   "execution_count": null,
   "metadata": {},
   "outputs": [],
   "source": []
  },
  {
   "cell_type": "markdown",
   "metadata": {},
   "source": [
    "# 15. ¿Cuántas propiedades de “apartamentos” se renovaron en 2015?\n"
   ]
  },
  {
   "cell_type": "code",
   "execution_count": null,
   "metadata": {},
   "outputs": [],
   "source": []
  },
  {
   "cell_type": "markdown",
   "metadata": {},
   "source": [
    "# 16. ¿Cuál es la mayor cantidad de cuartos que tiene una propiedad tipo “casa”?\n"
   ]
  },
  {
   "cell_type": "code",
   "execution_count": null,
   "metadata": {},
   "outputs": [],
   "source": []
  },
  {
   "cell_type": "markdown",
   "metadata": {},
   "source": [
    "# 17. ¿Cuántas propiedades de “casa_nueva” se renovaron en 2014?\n"
   ]
  },
  {
   "cell_type": "code",
   "execution_count": null,
   "metadata": {},
   "outputs": [],
   "source": []
  },
  {
   "cell_type": "markdown",
   "metadata": {},
   "source": [
    "# 18. Seleccione las columnas: “id”, “fecha”, “precio”, “pisos”, “código postal” por método:\n",
    "    - Directo por nombre de columna.\n",
    "    - Por los Índices.\n",
    "    - Por los índices de las filas y el nombre de las columnas\n",
    "    - Índices booleanos \n"
   ]
  },
  {
   "cell_type": "code",
   "execution_count": null,
   "metadata": {},
   "outputs": [],
   "source": []
  },
  {
   "cell_type": "markdown",
   "metadata": {},
   "source": [
    "# 19. Guarde un archivo .csv con solo las columnas del elemento 10 al 17."
   ]
  },
  {
   "cell_type": "markdown",
   "metadata": {
    "ExecuteTime": {
     "end_time": "2022-04-07T23:43:20.266814Z",
     "start_time": "2022-04-07T23:43:20.186646Z"
    }
   },
   "source": [
    "# Y más preguntas del CEO "
   ]
  },
  {
   "cell_type": "markdown",
   "metadata": {
    "ExecuteTime": {
     "end_time": "2022-04-07T23:47:54.732741Z",
     "start_time": "2022-04-07T23:47:54.711739Z"
    }
   },
   "source": [
    "1. Cree una nueva columna llamada: \"dormitory_type\"\n",
    "    - Si el valor de la columna “dormitorios” es menor a 1 => ‘estudio’\n",
    "    - Si el valor de la columna “dormitorios” es igual a 2 => 'apartamento'\n",
    "    - Si el valor de la columna “dormitorios” es mayor a 2 => 'casa'\n",
    "2. Haga un gráfico de barras que represente la suma de precios por el número de habitaciones.\n",
    "3. Haga un gráfico de líneas que represente el promedio de precios para el año de construcción de las propiedades.\n",
    "4. Haga un gráfico de barras que represente el promedio de precios por tipo de dormitorios.\n",
    "5. Haga un gráfico de líneas que muestre la evolución del promedio de precios para el año de la reforma de la\n",
    "inmuebles del año 1930.\n",
    "6. Haga una tabla que muestre los precios promedio por año de construcción y tipo de dormitorio de la\n",
    "propiedades\n",
    "7. Crea un Tablero con los gráficos de las preguntas 02, 03, 04 ( Tablero: 1 Fila y 2 Columnas )\n",
    "8. Cree un Tablero con los gráficos de las preguntas 02, 04 ( Tablero: 2 columnas )\n",
    "9. Crea un Dashboard con las gráficas de las preguntas 03, 05 ( Dashboard: 2 Lines )\n",
    "10. Haga un gráfico con el tamaño de los puntos igual al tamaño de la sala de estar\n",
    "11. Adicione la siguiente información a cada inmueble:\n",
    "    - Nombre de la calle\n",
    "\t- Número de la casa\n",
    "    - Nombre del barrio\n",
    "    - Nombre de la ciudad\n",
    "\t- Nombre del estado"
   ]
  },
  {
   "cell_type": "markdown",
   "metadata": {
    "ExecuteTime": {
     "end_time": "2022-04-07T23:51:20.609429Z",
     "start_time": "2022-04-07T23:51:20.581427Z"
    }
   },
   "source": [
    "# 1. Cree una nueva columna llamada: \"dormitory_type\"\n",
    "    - Si el valor de la columna “dormitorios” es menor a 1 => ‘estudio’\n",
    "    - Si el valor de la columna “dormitorios” es igual a 2 => 'apartamento'\n",
    "    - Si el valor de la columna “dormitorios” es mayor a 2 => 'casa'\n"
   ]
  },
  {
   "cell_type": "code",
   "execution_count": null,
   "metadata": {},
   "outputs": [],
   "source": []
  },
  {
   "cell_type": "markdown",
   "metadata": {
    "ExecuteTime": {
     "end_time": "2022-04-07T23:51:20.953427Z",
     "start_time": "2022-04-07T23:51:20.941426Z"
    }
   },
   "source": [
    "# 2. Haga un gráfico de barras que represente la suma de precios por el número de habitaciones."
   ]
  },
  {
   "cell_type": "code",
   "execution_count": null,
   "metadata": {},
   "outputs": [],
   "source": []
  },
  {
   "cell_type": "markdown",
   "metadata": {
    "ExecuteTime": {
     "end_time": "2022-04-07T23:51:21.329430Z",
     "start_time": "2022-04-07T23:51:21.319430Z"
    }
   },
   "source": [
    "# 3. Haga un gráfico de líneas que represente el promedio de precios para el año de construcción de las propiedades."
   ]
  },
  {
   "cell_type": "code",
   "execution_count": null,
   "metadata": {},
   "outputs": [],
   "source": []
  },
  {
   "cell_type": "markdown",
   "metadata": {
    "ExecuteTime": {
     "end_time": "2022-04-07T23:51:21.605434Z",
     "start_time": "2022-04-07T23:51:21.592420Z"
    }
   },
   "source": [
    "# 4. Haga un gráfico de barras que represente el promedio de precios por tipo de dormitorios."
   ]
  },
  {
   "cell_type": "code",
   "execution_count": null,
   "metadata": {},
   "outputs": [],
   "source": []
  },
  {
   "cell_type": "markdown",
   "metadata": {},
   "source": [
    "# 5. Haga un gráfico de líneas que muestre la evolución del promedio de precios para el año de la reforma de la inmuebles del año 1930."
   ]
  },
  {
   "cell_type": "code",
   "execution_count": null,
   "metadata": {},
   "outputs": [],
   "source": []
  },
  {
   "cell_type": "markdown",
   "metadata": {},
   "source": [
    "# 6. Haga una tabla que muestre los precios promedio por año de construcción y tipo de dormitorio de la propiedades"
   ]
  },
  {
   "cell_type": "code",
   "execution_count": null,
   "metadata": {},
   "outputs": [],
   "source": []
  },
  {
   "cell_type": "markdown",
   "metadata": {},
   "source": [
    "# 7. Crea un Tablero con los gráficos de las preguntas 02, 03, 04 ( Tablero: 1 Fila y 2 Columnas )"
   ]
  },
  {
   "cell_type": "code",
   "execution_count": null,
   "metadata": {},
   "outputs": [],
   "source": []
  },
  {
   "cell_type": "markdown",
   "metadata": {},
   "source": [
    "# 8. Cree un Tablero con los gráficos de las preguntas 02, 04 ( Tablero: 2 columnas )"
   ]
  },
  {
   "cell_type": "code",
   "execution_count": null,
   "metadata": {},
   "outputs": [],
   "source": []
  },
  {
   "cell_type": "markdown",
   "metadata": {},
   "source": [
    "# 9. Crea un Dashboard con las gráficas de las preguntas 03, 05 ( Dashboard: 2 Lines )"
   ]
  },
  {
   "cell_type": "code",
   "execution_count": null,
   "metadata": {},
   "outputs": [],
   "source": []
  },
  {
   "cell_type": "markdown",
   "metadata": {},
   "source": [
    "# 10. Haga un gráfico con el tamaño de los puntos igual al tamaño de la sala de estar"
   ]
  },
  {
   "cell_type": "code",
   "execution_count": null,
   "metadata": {},
   "outputs": [],
   "source": []
  },
  {
   "cell_type": "markdown",
   "metadata": {},
   "source": [
    "# Más preguntas del CEO "
   ]
  },
  {
   "cell_type": "markdown",
   "metadata": {
    "ExecuteTime": {
     "end_time": "2022-04-08T00:55:46.216331Z",
     "start_time": "2022-04-08T00:55:46.185329Z"
    }
   },
   "source": [
    "1. ¿Cuántas propiedades por nivel?\n",
    "    - Nivel 0: Precio entre 0,00 y 321.950\n",
    "    - Nivel 1: Precio entre 321.950 y 450.000\n",
    "    - Nivel 2: Precio entre 450.000 y  645.000\n",
    "    - Nivel 3: Precio superior 645.000\n",
    "\n",
    "2. Adicione la siguiente información a cada inmueble:\n",
    "    - Nombre de la calle\n",
    "\t- Número de la casa\n",
    "    - Nombre del barrio\n",
    "    - Nombre de la ciudad\n",
    "\t- Nombre del estado\n",
    "\n",
    "3. Agregue el nivel de propiedades en el mapa como un color\n",
    "4. Agregue el precio de la propiedad como tamaño de punto en el mapa\n",
    "5. Agregue opciones de filtro para que yo haga mi propio análisis:\n",
    "    - Quiero elegir ver propiedades con vista al agua o no.\n",
    "    - Quiero filtrar propiedades hasta un cierto valor de precio."
   ]
  },
  {
   "cell_type": "markdown",
   "metadata": {
    "ExecuteTime": {
     "end_time": "2022-04-08T00:55:12.013872Z",
     "start_time": "2022-04-08T00:55:11.985874Z"
    }
   },
   "source": [
    "# 1. ¿Cuántas propiedades por nivel?\n",
    "    - Nivel 0: Precio entre 0,00 y 321.950\n",
    "    - Nivel 1: Precio entre 321.950 y 450.000\n",
    "    - Nivel 2: Precio entre 450.000 y  645.000\n",
    "    - Nivel 3: Precio superior 645.000"
   ]
  },
  {
   "cell_type": "markdown",
   "metadata": {},
   "source": [
    "# 2. Adicione la siguiente información a cada inmueble:\n",
    "    - Nombre de la calle\n",
    "\t- Número de la casa\n",
    "    - Nombre del barrio\n",
    "    - Nombre de la ciudad\n",
    "\t- Nombre del estado"
   ]
  },
  {
   "cell_type": "markdown",
   "metadata": {},
   "source": [
    "# 3. Agregue el nivel de propiedades en el mapa como un color"
   ]
  },
  {
   "cell_type": "markdown",
   "metadata": {},
   "source": [
    "# 4. Agregue el precio de la propiedad como tamaño de punto en el mapa\n"
   ]
  },
  {
   "cell_type": "markdown",
   "metadata": {},
   "source": [
    "# 5. Agregue opciones de filtro para que yo haga mi propio análisis:\n",
    "    - Quiero elegir ver propiedades con vista al agua o no.\n",
    "    - Quiero filtrar propiedades hasta un cierto valor de precio.\n"
   ]
  },
  {
   "cell_type": "code",
   "execution_count": null,
   "metadata": {},
   "outputs": [],
   "source": []
  }
 ],
 "metadata": {
  "kernelspec": {
   "display_name": "Python 3 (ipykernel)",
   "language": "python",
   "name": "python3"
  },
  "language_info": {
   "codemirror_mode": {
    "name": "ipython",
    "version": 3
   },
   "file_extension": ".py",
   "mimetype": "text/x-python",
   "name": "python",
   "nbconvert_exporter": "python",
   "pygments_lexer": "ipython3",
   "version": "3.9.7"
  },
  "toc": {
   "base_numbering": 1,
   "nav_menu": {},
   "number_sections": false,
   "sideBar": true,
   "skip_h1_title": false,
   "title_cell": "Table of Contents",
   "title_sidebar": "Contents",
   "toc_cell": false,
   "toc_position": {
    "height": "calc(100% - 180px)",
    "left": "10px",
    "top": "150px",
    "width": "731px"
   },
   "toc_section_display": true,
   "toc_window_display": true
  },
  "varInspector": {
   "cols": {
    "lenName": 16,
    "lenType": 16,
    "lenVar": 40
   },
   "kernels_config": {
    "python": {
     "delete_cmd_postfix": "",
     "delete_cmd_prefix": "del ",
     "library": "var_list.py",
     "varRefreshCmd": "print(var_dic_list())"
    },
    "r": {
     "delete_cmd_postfix": ") ",
     "delete_cmd_prefix": "rm(",
     "library": "var_list.r",
     "varRefreshCmd": "cat(var_dic_list()) "
    }
   },
   "types_to_exclude": [
    "module",
    "function",
    "builtin_function_or_method",
    "instance",
    "_Feature"
   ],
   "window_display": false
  }
 },
 "nbformat": 4,
 "nbformat_minor": 4
}
